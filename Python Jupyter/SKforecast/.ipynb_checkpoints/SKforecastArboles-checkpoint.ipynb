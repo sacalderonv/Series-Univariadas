{
 "cells": [
  {
   "cell_type": "markdown",
   "id": "51e002ea",
   "metadata": {},
   "source": [
    "Librerías"
   ]
  },
  {
   "cell_type": "code",
   "execution_count": null,
   "id": "9c0d60b0-7da4-4b74-9718-e9d8f56baf57",
   "metadata": {},
   "outputs": [],
   "source": [
    "#!pip install skforecast"
   ]
  },
  {
   "cell_type": "code",
   "execution_count": 1,
   "id": "28aa8df1",
   "metadata": {},
   "outputs": [
    {
     "name": "stderr",
     "output_type": "stream",
     "text": [
      "/Users/sergiocalderon/anaconda3/envs/Ambiente39/lib/python3.9/site-packages/tqdm/auto.py:21: TqdmWarning: IProgress not found. Please update jupyter and ipywidgets. See https://ipywidgets.readthedocs.io/en/stable/user_install.html\n",
      "  from .autonotebook import tqdm as notebook_tqdm\n"
     ]
    }
   ],
   "source": [
    "# Data manipulation\n",
    "# ==============================================================================\n",
    "import numpy as np\n",
    "import pandas as pd\n",
    "\n",
    "# Plots\n",
    "# ==============================================================================\n",
    "import matplotlib.pyplot as plt\n",
    "plt.style.use('fivethirtyeight')\n",
    "plt.rcParams['lines.linewidth'] = 1.5\n",
    "plt.rcParams['font.size'] = 10\n",
    "\n",
    "# Modeling and Forecasting\n",
    "# ==============================================================================\n",
    "from sklearn.linear_model import LinearRegression\n",
    "from sklearn.linear_model import Lasso\n",
    "from sklearn.ensemble import RandomForestRegressor\n",
    "from sklearn.metrics import mean_squared_error\n",
    "from sklearn.metrics import mean_absolute_error\n",
    "from sklearn.preprocessing import StandardScaler\n",
    "from sklearn.tree import DecisionTreeRegressor\n",
    "\n",
    "from skforecast.ForecasterAutoreg import ForecasterAutoreg\n",
    "from skforecast.ForecasterAutoregCustom import ForecasterAutoregCustom\n",
    "from skforecast.ForecasterAutoregDirect import ForecasterAutoregDirect\n",
    "from skforecast.model_selection import grid_search_forecaster\n",
    "from skforecast.model_selection import backtesting_forecaster\n",
    "from skforecast.utils import save_forecaster\n",
    "from skforecast.utils import load_forecaster\n",
    "\n",
    "# Warnings configuration\n",
    "# ==============================================================================\n",
    "import warnings\n",
    "# warnings.filterwarnings('ignore')"
   ]
  },
  {
   "cell_type": "markdown",
   "id": "8f749150",
   "metadata": {},
   "source": [
    "Para mas información visitar https://cienciadedatos.net/documentos/py27-forecasting-series-temporales-python-scikitlearn.html"
   ]
  },
  {
   "cell_type": "markdown",
   "id": "e5c2cc0b",
   "metadata": {},
   "source": [
    "Datos"
   ]
  },
  {
   "cell_type": "markdown",
   "id": "453005a6",
   "metadata": {},
   "source": [
    "Vamos a trabajar con los datos de precipitación mensual ponderada de Colombia"
   ]
  },
  {
   "cell_type": "code",
   "execution_count": 2,
   "id": "a61db53d",
   "metadata": {},
   "outputs": [
    {
     "data": {
      "text/html": [
       "<div>\n",
       "<style scoped>\n",
       "    .dataframe tbody tr th:only-of-type {\n",
       "        vertical-align: middle;\n",
       "    }\n",
       "\n",
       "    .dataframe tbody tr th {\n",
       "        vertical-align: top;\n",
       "    }\n",
       "\n",
       "    .dataframe thead th {\n",
       "        text-align: right;\n",
       "    }\n",
       "</style>\n",
       "<table border=\"1\" class=\"dataframe\">\n",
       "  <thead>\n",
       "    <tr style=\"text-align: right;\">\n",
       "      <th></th>\n",
       "      <th>yprecip</th>\n",
       "    </tr>\n",
       "    <tr>\n",
       "      <th>Fecha</th>\n",
       "      <th></th>\n",
       "    </tr>\n",
       "  </thead>\n",
       "  <tbody>\n",
       "    <tr>\n",
       "      <th>2009-01-01</th>\n",
       "      <td>3.758065</td>\n",
       "    </tr>\n",
       "    <tr>\n",
       "      <th>2009-02-01</th>\n",
       "      <td>4.235714</td>\n",
       "    </tr>\n",
       "    <tr>\n",
       "      <th>2009-03-01</th>\n",
       "      <td>4.764516</td>\n",
       "    </tr>\n",
       "    <tr>\n",
       "      <th>2009-04-01</th>\n",
       "      <td>5.400000</td>\n",
       "    </tr>\n",
       "    <tr>\n",
       "      <th>2009-05-01</th>\n",
       "      <td>4.438710</td>\n",
       "    </tr>\n",
       "  </tbody>\n",
       "</table>\n",
       "</div>"
      ],
      "text/plain": [
       "             yprecip\n",
       "Fecha               \n",
       "2009-01-01  3.758065\n",
       "2009-02-01  4.235714\n",
       "2009-03-01  4.764516\n",
       "2009-04-01  5.400000\n",
       "2009-05-01  4.438710"
      ]
     },
     "execution_count": 2,
     "metadata": {},
     "output_type": "execute_result"
    }
   ],
   "source": [
    "Lluvia=pd.read_excel('Lluvia.xlsx')\n",
    "Lluvia=Lluvia.set_index('Fecha')\n",
    "Lluvia=Lluvia.asfreq('MS')\n",
    "Lluvia=Lluvia.rename(columns={'lluvia':'yprecip'})\n",
    "Lluvia.head()"
   ]
  },
  {
   "cell_type": "code",
   "execution_count": 3,
   "id": "5c6694ab",
   "metadata": {},
   "outputs": [
    {
     "name": "stdout",
     "output_type": "stream",
     "text": [
      "Numero de filas con valores faltantes: 0.0\n"
     ]
    }
   ],
   "source": [
    "print(f'Numero de filas con valores faltantes: {Lluvia.isnull().any(axis=1).mean()}')"
   ]
  },
  {
   "cell_type": "markdown",
   "id": "c4043b58",
   "metadata": {},
   "source": [
    "Verificación de que la serie es regularmente espaciada"
   ]
  },
  {
   "cell_type": "code",
   "execution_count": 4,
   "id": "60d6e096",
   "metadata": {},
   "outputs": [
    {
     "data": {
      "text/plain": [
       "True"
      ]
     },
     "execution_count": 4,
     "metadata": {},
     "output_type": "execute_result"
    }
   ],
   "source": [
    "(Lluvia.index == pd.date_range(start=Lluvia.index.min(),\n",
    "                             end=Lluvia.index.max(),\n",
    "                             freq=Lluvia.index.freq)).all()"
   ]
  },
  {
   "cell_type": "code",
   "execution_count": 5,
   "id": "ebb65281",
   "metadata": {},
   "outputs": [
    {
     "data": {
      "text/plain": [
       "(132, 1)"
      ]
     },
     "execution_count": 5,
     "metadata": {},
     "output_type": "execute_result"
    }
   ],
   "source": [
    "Lluvia.shape"
   ]
  },
  {
   "cell_type": "markdown",
   "id": "96d59c94",
   "metadata": {},
   "source": [
    "Vamos a establecer que los últimos 12 meses(periodos) sean usando para medir la capacida predictiva"
   ]
  },
  {
   "cell_type": "code",
   "execution_count": 6,
   "id": "9795da1f",
   "metadata": {},
   "outputs": [
    {
     "name": "stdout",
     "output_type": "stream",
     "text": [
      "Train dates : 2009-01-01 00:00:00 --- 2018-12-01 00:00:00  (n=120)\n",
      "Test dates  : 2019-01-01 00:00:00 --- 2019-12-01 00:00:00  (n=12)\n"
     ]
    },
    {
     "data": {
      "image/png": "[encoded data removed]",
      "text/plain": [
       "<Figure size 504x180 with 1 Axes>"
      ]
     },
     "metadata": {},
     "output_type": "display_data"
    }
   ],
   "source": [
    "steps = 12\n",
    "data_train = Lluvia[:-steps]\n",
    "data_test  = Lluvia[-steps:]\n",
    "\n",
    "print(f\"Train dates : {data_train.index.min()} --- {data_train.index.max()}  (n={len(data_train)})\")\n",
    "print(f\"Test dates  : {data_test.index.min()} --- {data_test.index.max()}  (n={len(data_test)})\")\n",
    "\n",
    "fig, ax = plt.subplots(figsize=(7, 2.5))\n",
    "data_train['yprecip'].plot(ax=ax, label='train')\n",
    "data_test['yprecip'].plot(ax=ax, label='test')\n",
    "ax.legend();"
   ]
  },
  {
   "cell_type": "markdown",
   "id": "d49fcf0f",
   "metadata": {},
   "source": [
    "Vamos a crear un modelos a través de la clase ForecasterAutoreg, el cual es entrenado usando DecisionTreeRegressor"
   ]
  },
  {
   "cell_type": "markdown",
   "id": "85e7a45e",
   "metadata": {},
   "source": [
    "# Clase ForecasterAutoreg \n",
    "\n",
    "Permite crear una ventana de 12 retardos, es decir, se tomarán los últimos doce meses como predictores.Note que acá no se optimiza el número de nodos o particiones. Tenga en cuenta que se usarán las predicciones que se van obteniendo para predecir los pasos adelante que siguen."
   ]
  },
  {
   "cell_type": "code",
   "execution_count": 7,
   "id": "ec2581b1",
   "metadata": {},
   "outputs": [
    {
     "data": {
      "text/plain": [
       "================= \n",
       "ForecasterAutoreg \n",
       "================= \n",
       "Regressor: DecisionTreeRegressor() \n",
       "Lags: [ 1  2  3  4  5  6  7  8  9 10 11 12] \n",
       "Transformer for y: None \n",
       "Transformer for exog: None \n",
       "Window size: 12 \n",
       "Weight function included: False \n",
       "Exogenous included: False \n",
       "Type of exogenous variable: None \n",
       "Exogenous variables names: None \n",
       "Training range: [Timestamp('2009-01-01 00:00:00'), Timestamp('2018-12-01 00:00:00')] \n",
       "Training index type: DatetimeIndex \n",
       "Training index frequency: MS \n",
       "Regressor parameters: {'ccp_alpha': 0.0, 'criterion': 'squared_error', 'max_depth': None, 'max_features': None, 'max_leaf_nodes': None, 'min_impurity_decrease': 0.0, 'min_samples_leaf': 1, 'min_samples_split': 2, 'min_weight_fraction_leaf': 0.0, 'random_state': None, 'splitter': 'best'} \n",
       "fit_kwargs: {} \n",
       "Creation date: 2023-09-23 16:04:57 \n",
       "Last fit date: 2023-09-23 16:04:57 \n",
       "Skforecast version: 0.8.0 \n",
       "Python version: 3.8.8 \n",
       "Forecaster id: None "
      ]
     },
     "execution_count": 7,
     "metadata": {},
     "output_type": "execute_result"
    }
   ],
   "source": [
    "# Create and train forecaster\n",
    "# ==============================================================================\n",
    "\n",
    "forecaster = ForecasterAutoreg(\n",
    "                regressor = DecisionTreeRegressor(random_state= 0),\n",
    "                lags      = 12\n",
    "             )\n",
    "\n",
    "forecaster.fit(y=data_train['yprecip'])\n",
    "forecaster"
   ]
  },
  {
   "cell_type": "markdown",
   "id": "abbfc16c",
   "metadata": {},
   "source": [
    "# Predicciones\n",
    " Una vez ajustado el modelo, se procede a hacer la prediccion de los 12 periodos en el fututo adelante, por supuesto usando las predicciones de forma recurrente."
   ]
  },
  {
   "cell_type": "code",
   "execution_count": 8,
   "id": "27d09e16",
   "metadata": {},
   "outputs": [
    {
     "data": {
      "text/plain": [
       "2019-01-01    5.209677\n",
       "2019-02-01    3.864516\n",
       "2019-03-01    2.003571\n",
       "2019-04-01    7.066667\n",
       "2019-05-01    6.846667\n",
       "Freq: MS, Name: pred, dtype: float64"
      ]
     },
     "execution_count": 8,
     "metadata": {},
     "output_type": "execute_result"
    }
   ],
   "source": [
    "# Predictions\n",
    "# ==============================================================================\n",
    "steps = 12\n",
    "predictions = forecaster.predict(steps=steps)\n",
    "predictions.head(5)"
   ]
  },
  {
   "cell_type": "code",
   "execution_count": 9,
   "id": "7c9540a5",
   "metadata": {},
   "outputs": [
    {
     "data": {
      "image/png": "[encoded data removed]",
      "text/plain": [
       "<Figure size 504x180 with 1 Axes>"
      ]
     },
     "metadata": {},
     "output_type": "display_data"
    }
   ],
   "source": [
    "# Plot\n",
    "# ==============================================================================\n",
    "fig, ax = plt.subplots(figsize=(7, 2.5))\n",
    "data_train['yprecip'].plot(ax=ax, label='train')\n",
    "data_test['yprecip'].plot(ax=ax, label='test')\n",
    "predictions.plot(ax=ax, label='predictions')\n",
    "ax.legend();"
   ]
  },
  {
   "cell_type": "markdown",
   "id": "0fbb95de",
   "metadata": {},
   "source": [
    "# Error de predicción en el conjunto de prueba\n",
    "\n",
    "Acá se usará el conjunto de prueba para cuantificar la capacidad predictiva. Note que esta no es la verdadera capacidad predictiva, Por qué?"
   ]
  },
  {
   "cell_type": "code",
   "execution_count": 10,
   "id": "53112399",
   "metadata": {},
   "outputs": [
    {
     "name": "stdout",
     "output_type": "stream",
     "text": [
      "Test error (mse): 2.2074918034046003\n"
     ]
    }
   ],
   "source": [
    "# Test error\n",
    "# ==============================================================================\n",
    "error_mse = mean_squared_error(\n",
    "                y_true = data_test['yprecip'],\n",
    "                y_pred = predictions\n",
    "            )\n",
    "\n",
    "print(f\"Test error (mse): {error_mse}\")"
   ]
  },
  {
   "cell_type": "markdown",
   "id": "12ebfab4",
   "metadata": {},
   "source": [
    "# Busqueda de los mejores hiperparámetros\n",
    "\n",
    "La idea ahora es buscar la mejor combinación de retardos e hiperparámetros del modelo de árboles por medio de la función grid_search_forecaster. También hace random search y Bayesian search. Se hace Backtesting para validar la capacidad predictiva que tienen los modelos bajo los hiperparámetros propuestos. Se puede hacer validación cruzada o la tradicional entrenamiento y prueba. En este ejemplo se hace validación cruzada secuencial. Vale la pena recordar que validación cruzada se hace sobre el mismo conjunto de entrenamiento, lo cual es diferente al caso de tener un conjunto de validación. Pero en el caso de tener conjunto de validación se debe tener en cuenta, por favor chequear https://skforecast.org/0.4.3/notebooks/prediction-intervals.html y debe incorporarse el conjunto de validación al de entrenamiento."
   ]
  },
  {
   "cell_type": "code",
   "execution_count": 11,
   "id": "d21a857c",
   "metadata": {},
   "outputs": [
    {
     "name": "stdout",
     "output_type": "stream",
     "text": [
      "Number of models compared: 60.\n"
     ]
    },
    {
     "name": "stderr",
     "output_type": "stream",
     "text": [
      "lags grid:   0%|          | 0/6 [00:00<?, ?it/s]\n",
      "params grid:   0%|          | 0/10 [00:00<?, ?it/s]\u001b[A\n",
      "params grid:  30%|███       | 3/10 [00:00<00:00, 28.69it/s]\u001b[A"
     ]
    },
    {
     "name": "stdout",
     "output_type": "stream",
     "text": [
      "Information of backtesting process\n",
      "----------------------------------\n",
      "Number of observations used for initial training: 60\n",
      "Number of observations used for backtesting: 60\n",
      "    Number of folds: 5\n",
      "    Number of steps per fold: 12\n",
      "    Number of steps to exclude from the end of each train set before test (gap): 0\n",
      "\n",
      "Fold: 0\n",
      "    Training:   2009-01-01 00:00:00 -- 2013-12-01 00:00:00  (n=60)\n",
      "    Validation: 2014-01-01 00:00:00 -- 2014-12-01 00:00:00  (n=12)\n",
      "Fold: 1\n",
      "    Training:   2009-01-01 00:00:00 -- 2014-12-01 00:00:00  (n=72)\n",
      "    Validation: 2015-01-01 00:00:00 -- 2015-12-01 00:00:00  (n=12)\n",
      "Fold: 2\n",
      "    Training:   2009-01-01 00:00:00 -- 2015-12-01 00:00:00  (n=84)\n",
      "    Validation: 2016-01-01 00:00:00 -- 2016-12-01 00:00:00  (n=12)\n",
      "Fold: 3\n",
      "    Training:   2009-01-01 00:00:00 -- 2016-12-01 00:00:00  (n=96)\n",
      "    Validation: 2017-01-01 00:00:00 -- 2017-12-01 00:00:00  (n=12)\n",
      "Fold: 4\n",
      "    Training:   2009-01-01 00:00:00 -- 2017-12-01 00:00:00  (n=108)\n",
      "    Validation: 2018-01-01 00:00:00 -- 2018-12-01 00:00:00  (n=12)\n",
      "\n",
      "Information of backtesting process\n",
      "----------------------------------\n",
      "Number of observations used for initial training: 60\n",
      "Number of observations used for backtesting: 60\n",
      "    Number of folds: 5\n",
      "    Number of steps per fold: 12\n",
      "    Number of steps to exclude from the end of each train set before test (gap): 0\n",
      "\n",
      "Fold: 0\n",
      "    Training:   2009-01-01 00:00:00 -- 2013-12-01 00:00:00  (n=60)\n",
      "    Validation: 2014-01-01 00:00:00 -- 2014-12-01 00:00:00  (n=12)\n",
      "Fold: 1\n",
      "    Training:   2009-01-01 00:00:00 -- 2014-12-01 00:00:00  (n=72)\n",
      "    Validation: 2015-01-01 00:00:00 -- 2015-12-01 00:00:00  (n=12)\n",
      "Fold: 2\n",
      "    Training:   2009-01-01 00:00:00 -- 2015-12-01 00:00:00  (n=84)\n",
      "    Validation: 2016-01-01 00:00:00 -- 2016-12-01 00:00:00  (n=12)\n",
      "Fold: 3\n",
      "    Training:   2009-01-01 00:00:00 -- 2016-12-01 00:00:00  (n=96)\n",
      "    Validation: 2017-01-01 00:00:00 -- 2017-12-01 00:00:00  (n=12)\n",
      "Fold: 4\n",
      "    Training:   2009-01-01 00:00:00 -- 2017-12-01 00:00:00  (n=108)\n",
      "    Validation: 2018-01-01 00:00:00 -- 2018-12-01 00:00:00  (n=12)\n",
      "\n",
      "Information of backtesting process\n",
      "----------------------------------\n",
      "Number of observations used for initial training: 60\n",
      "Number of observations used for backtesting: 60\n",
      "    Number of folds: 5\n",
      "    Number of steps per fold: 12\n",
      "    Number of steps to exclude from the end of each train set before test (gap): 0\n",
      "\n",
      "Fold: 0\n",
      "    Training:   2009-01-01 00:00:00 -- 2013-12-01 00:00:00  (n=60)\n",
      "    Validation: 2014-01-01 00:00:00 -- 2014-12-01 00:00:00  (n=12)\n",
      "Fold: 1\n",
      "    Training:   2009-01-01 00:00:00 -- 2014-12-01 00:00:00  (n=72)\n",
      "    Validation: 2015-01-01 00:00:00 -- 2015-12-01 00:00:00  (n=12)\n",
      "Fold: 2\n",
      "    Training:   2009-01-01 00:00:00 -- 2015-12-01 00:00:00  (n=84)\n",
      "    Validation: 2016-01-01 00:00:00 -- 2016-12-01 00:00:00  (n=12)\n",
      "Fold: 3\n",
      "    Training:   2009-01-01 00:00:00 -- 2016-12-01 00:00:00  (n=96)\n",
      "    Validation: 2017-01-01 00:00:00 -- 2017-12-01 00:00:00  (n=12)\n",
      "Fold: 4\n",
      "    Training:   2009-01-01 00:00:00 -- 2017-12-01 00:00:00  (n=108)\n",
      "    Validation: 2018-01-01 00:00:00 -- 2018-12-01 00:00:00  (n=12)\n",
      "\n",
      "Information of backtesting process\n",
      "----------------------------------\n",
      "Number of observations used for initial training: 60\n",
      "Number of observations used for backtesting: 60\n",
      "    Number of folds: 5\n",
      "    Number of steps per fold: 12\n",
      "    Number of steps to exclude from the end of each train set before test (gap): 0\n",
      "\n",
      "Fold: 0\n",
      "    Training:   2009-01-01 00:00:00 -- 2013-12-01 00:00:00  (n=60)\n",
      "    Validation: 2014-01-01 00:00:00 -- 2014-12-01 00:00:00  (n=12)\n",
      "Fold: 1\n",
      "    Training:   2009-01-01 00:00:00 -- 2014-12-01 00:00:00  (n=72)\n",
      "    Validation: 2015-01-01 00:00:00 -- 2015-12-01 00:00:00  (n=12)\n",
      "Fold: 2\n",
      "    Training:   2009-01-01 00:00:00 -- 2015-12-01 00:00:00  (n=84)\n",
      "    Validation: 2016-01-01 00:00:00 -- 2016-12-01 00:00:00  (n=12)\n",
      "Fold: 3\n",
      "    Training:   2009-01-01 00:00:00 -- 2016-12-01 00:00:00  (n=96)\n",
      "    Validation: 2017-01-01 00:00:00 -- 2017-12-01 00:00:00  (n=12)\n",
      "Fold: 4\n",
      "    Training:   2009-01-01 00:00:00 -- 2017-12-01 00:00:00  (n=108)\n",
      "    Validation: 2018-01-01 00:00:00 -- 2018-12-01 00:00:00  (n=12)\n",
      "\n",
      "Information of backtesting process\n",
      "----------------------------------\n",
      "Number of observations used for initial training: 60\n",
      "Number of observations used for backtesting: 60\n",
      "    Number of folds: 5\n",
      "    Number of steps per fold: 12\n",
      "    Number of steps to exclude from the end of each train set before test (gap): 0\n",
      "\n",
      "Fold: 0\n",
      "    Training:   2009-01-01 00:00:00 -- 2013-12-01 00:00:00  (n=60)\n",
      "    Validation: 2014-01-01 00:00:00 -- 2014-12-01 00:00:00  (n=12)\n",
      "Fold: 1\n",
      "    Training:   2009-01-01 00:00:00 -- 2014-12-01 00:00:00  (n=72)\n",
      "    Validation: 2015-01-01 00:00:00 -- 2015-12-01 00:00:00  (n=12)\n",
      "Fold: 2\n",
      "    Training:   2009-01-01 00:00:00 -- 2015-12-01 00:00:00  (n=84)\n",
      "    Validation: 2016-01-01 00:00:00 -- 2016-12-01 00:00:00  (n=12)\n",
      "Fold: 3\n",
      "    Training:   2009-01-01 00:00:00 -- 2016-12-01 00:00:00  (n=96)\n",
      "    Validation: 2017-01-01 00:00:00 -- 2017-12-01 00:00:00  (n=12)\n",
      "Fold: 4\n",
      "    Training:   2009-01-01 00:00:00 -- 2017-12-01 00:00:00  (n=108)\n",
      "    Validation: 2018-01-01 00:00:00 -- 2018-12-01 00:00:00  (n=12)\n",
      "\n",
      "Information of backtesting process\n",
      "----------------------------------\n",
      "Number of observations used for initial training: 60\n",
      "Number of observations used for backtesting: 60\n",
      "    Number of folds: 5\n",
      "    Number of steps per fold: 12\n",
      "    Number of steps to exclude from the end of each train set before test (gap): 0\n",
      "\n",
      "Fold: 0\n",
      "    Training:   2009-01-01 00:00:00 -- 2013-12-01 00:00:00  (n=60)\n",
      "    Validation: 2014-01-01 00:00:00 -- 2014-12-01 00:00:00  (n=12)\n",
      "Fold: 1\n",
      "    Training:   2009-01-01 00:00:00 -- 2014-12-01 00:00:00  (n=72)\n",
      "    Validation: 2015-01-01 00:00:00 -- 2015-12-01 00:00:00  (n=12)\n",
      "Fold: 2\n",
      "    Training:   2009-01-01 00:00:00 -- 2015-12-01 00:00:00  (n=84)\n",
      "    Validation: 2016-01-01 00:00:00 -- 2016-12-01 00:00:00  (n=12)\n",
      "Fold: 3\n",
      "    Training:   2009-01-01 00:00:00 -- 2016-12-01 00:00:00  (n=96)\n",
      "    Validation: 2017-01-01 00:00:00 -- 2017-12-01 00:00:00  (n=12)\n",
      "Fold: 4\n",
      "    Training:   2009-01-01 00:00:00 -- 2017-12-01 00:00:00  (n=108)\n",
      "    Validation: 2018-01-01 00:00:00 -- 2018-12-01 00:00:00  (n=12)\n",
      "\n"
     ]
    },
    {
     "name": "stderr",
     "output_type": "stream",
     "text": [
      "\n",
      "params grid:  60%|██████    | 6/10 [00:00<00:00, 28.02it/s]\u001b[A\n",
      "params grid:  90%|█████████ | 9/10 [00:00<00:00, 27.48it/s]\u001b[A"
     ]
    },
    {
     "name": "stdout",
     "output_type": "stream",
     "text": [
      "Information of backtesting process\n",
      "----------------------------------\n",
      "Number of observations used for initial training: 60\n",
      "Number of observations used for backtesting: 60\n",
      "    Number of folds: 5\n",
      "    Number of steps per fold: 12\n",
      "    Number of steps to exclude from the end of each train set before test (gap): 0\n",
      "\n",
      "Fold: 0\n",
      "    Training:   2009-01-01 00:00:00 -- 2013-12-01 00:00:00  (n=60)\n",
      "    Validation: 2014-01-01 00:00:00 -- 2014-12-01 00:00:00  (n=12)\n",
      "Fold: 1\n",
      "    Training:   2009-01-01 00:00:00 -- 2014-12-01 00:00:00  (n=72)\n",
      "    Validation: 2015-01-01 00:00:00 -- 2015-12-01 00:00:00  (n=12)\n",
      "Fold: 2\n",
      "    Training:   2009-01-01 00:00:00 -- 2015-12-01 00:00:00  (n=84)\n",
      "    Validation: 2016-01-01 00:00:00 -- 2016-12-01 00:00:00  (n=12)\n",
      "Fold: 3\n",
      "    Training:   2009-01-01 00:00:00 -- 2016-12-01 00:00:00  (n=96)\n",
      "    Validation: 2017-01-01 00:00:00 -- 2017-12-01 00:00:00  (n=12)\n",
      "Fold: 4\n",
      "    Training:   2009-01-01 00:00:00 -- 2017-12-01 00:00:00  (n=108)\n",
      "    Validation: 2018-01-01 00:00:00 -- 2018-12-01 00:00:00  (n=12)\n",
      "\n",
      "Information of backtesting process\n",
      "----------------------------------\n",
      "Number of observations used for initial training: 60\n",
      "Number of observations used for backtesting: 60\n",
      "    Number of folds: 5\n",
      "    Number of steps per fold: 12\n",
      "    Number of steps to exclude from the end of each train set before test (gap): 0\n",
      "\n",
      "Fold: 0\n",
      "    Training:   2009-01-01 00:00:00 -- 2013-12-01 00:00:00  (n=60)\n",
      "    Validation: 2014-01-01 00:00:00 -- 2014-12-01 00:00:00  (n=12)\n",
      "Fold: 1\n",
      "    Training:   2009-01-01 00:00:00 -- 2014-12-01 00:00:00  (n=72)\n",
      "    Validation: 2015-01-01 00:00:00 -- 2015-12-01 00:00:00  (n=12)\n",
      "Fold: 2\n",
      "    Training:   2009-01-01 00:00:00 -- 2015-12-01 00:00:00  (n=84)\n",
      "    Validation: 2016-01-01 00:00:00 -- 2016-12-01 00:00:00  (n=12)\n",
      "Fold: 3\n",
      "    Training:   2009-01-01 00:00:00 -- 2016-12-01 00:00:00  (n=96)\n",
      "    Validation: 2017-01-01 00:00:00 -- 2017-12-01 00:00:00  (n=12)\n",
      "Fold: 4\n",
      "    Training:   2009-01-01 00:00:00 -- 2017-12-01 00:00:00  (n=108)\n",
      "    Validation: 2018-01-01 00:00:00 -- 2018-12-01 00:00:00  (n=12)\n",
      "\n",
      "Information of backtesting process\n",
      "----------------------------------\n",
      "Number of observations used for initial training: 60\n",
      "Number of observations used for backtesting: 60\n",
      "    Number of folds: 5\n",
      "    Number of steps per fold: 12\n",
      "    Number of steps to exclude from the end of each train set before test (gap): 0\n",
      "\n",
      "Fold: 0\n",
      "    Training:   2009-01-01 00:00:00 -- 2013-12-01 00:00:00  (n=60)\n",
      "    Validation: 2014-01-01 00:00:00 -- 2014-12-01 00:00:00  (n=12)\n",
      "Fold: 1\n",
      "    Training:   2009-01-01 00:00:00 -- 2014-12-01 00:00:00  (n=72)\n",
      "    Validation: 2015-01-01 00:00:00 -- 2015-12-01 00:00:00  (n=12)\n",
      "Fold: 2\n",
      "    Training:   2009-01-01 00:00:00 -- 2015-12-01 00:00:00  (n=84)\n",
      "    Validation: 2016-01-01 00:00:00 -- 2016-12-01 00:00:00  (n=12)\n",
      "Fold: 3\n",
      "    Training:   2009-01-01 00:00:00 -- 2016-12-01 00:00:00  (n=96)\n",
      "    Validation: 2017-01-01 00:00:00 -- 2017-12-01 00:00:00  (n=12)\n",
      "Fold: 4\n",
      "    Training:   2009-01-01 00:00:00 -- 2017-12-01 00:00:00  (n=108)\n",
      "    Validation: 2018-01-01 00:00:00 -- 2018-12-01 00:00:00  (n=12)\n",
      "\n",
      "Information of backtesting process\n",
      "----------------------------------\n",
      "Number of observations used for initial training: 60\n",
      "Number of observations used for backtesting: 60\n",
      "    Number of folds: 5\n",
      "    Number of steps per fold: 12\n",
      "    Number of steps to exclude from the end of each train set before test (gap): 0\n",
      "\n",
      "Fold: 0\n",
      "    Training:   2009-01-01 00:00:00 -- 2013-12-01 00:00:00  (n=60)\n",
      "    Validation: 2014-01-01 00:00:00 -- 2014-12-01 00:00:00  (n=12)\n",
      "Fold: 1\n",
      "    Training:   2009-01-01 00:00:00 -- 2014-12-01 00:00:00  (n=72)\n",
      "    Validation: 2015-01-01 00:00:00 -- 2015-12-01 00:00:00  (n=12)\n",
      "Fold: 2\n",
      "    Training:   2009-01-01 00:00:00 -- 2015-12-01 00:00:00  (n=84)\n",
      "    Validation: 2016-01-01 00:00:00 -- 2016-12-01 00:00:00  (n=12)\n",
      "Fold: 3\n",
      "    Training:   2009-01-01 00:00:00 -- 2016-12-01 00:00:00  (n=96)\n",
      "    Validation: 2017-01-01 00:00:00 -- 2017-12-01 00:00:00  (n=12)\n",
      "Fold: 4\n",
      "    Training:   2009-01-01 00:00:00 -- 2017-12-01 00:00:00  (n=108)\n",
      "    Validation: 2018-01-01 00:00:00 -- 2018-12-01 00:00:00  (n=12)\n",
      "\n"
     ]
    },
    {
     "name": "stderr",
     "output_type": "stream",
     "text": [
      "\n",
      "lags grid:  17%|█▋        | 1/6 [00:00<00:01,  2.72it/s]   \u001b[A\n",
      "params grid:   0%|          | 0/10 [00:00<?, ?it/s]\u001b[A"
     ]
    },
    {
     "name": "stdout",
     "output_type": "stream",
     "text": [
      "Information of backtesting process\n",
      "----------------------------------\n",
      "Number of observations used for initial training: 60\n",
      "Number of observations used for backtesting: 60\n",
      "    Number of folds: 5\n",
      "    Number of steps per fold: 12\n",
      "    Number of steps to exclude from the end of each train set before test (gap): 0\n",
      "\n",
      "Fold: 0\n",
      "    Training:   2009-01-01 00:00:00 -- 2013-12-01 00:00:00  (n=60)\n",
      "    Validation: 2014-01-01 00:00:00 -- 2014-12-01 00:00:00  (n=12)\n",
      "Fold: 1\n",
      "    Training:   2009-01-01 00:00:00 -- 2014-12-01 00:00:00  (n=72)\n",
      "    Validation: 2015-01-01 00:00:00 -- 2015-12-01 00:00:00  (n=12)\n",
      "Fold: 2\n",
      "    Training:   2009-01-01 00:00:00 -- 2015-12-01 00:00:00  (n=84)\n",
      "    Validation: 2016-01-01 00:00:00 -- 2016-12-01 00:00:00  (n=12)\n",
      "Fold: 3\n",
      "    Training:   2009-01-01 00:00:00 -- 2016-12-01 00:00:00  (n=96)\n",
      "    Validation: 2017-01-01 00:00:00 -- 2017-12-01 00:00:00  (n=12)\n",
      "Fold: 4\n",
      "    Training:   2009-01-01 00:00:00 -- 2017-12-01 00:00:00  (n=108)\n",
      "    Validation: 2018-01-01 00:00:00 -- 2018-12-01 00:00:00  (n=12)\n",
      "\n",
      "Information of backtesting process\n",
      "----------------------------------\n",
      "Number of observations used for initial training: 60\n",
      "Number of observations used for backtesting: 60\n",
      "    Number of folds: 5\n",
      "    Number of steps per fold: 12\n",
      "    Number of steps to exclude from the end of each train set before test (gap): 0\n",
      "\n",
      "Fold: 0\n",
      "    Training:   2009-01-01 00:00:00 -- 2013-12-01 00:00:00  (n=60)\n",
      "    Validation: 2014-01-01 00:00:00 -- 2014-12-01 00:00:00  (n=12)\n",
      "Fold: 1\n",
      "    Training:   2009-01-01 00:00:00 -- 2014-12-01 00:00:00  (n=72)\n",
      "    Validation: 2015-01-01 00:00:00 -- 2015-12-01 00:00:00  (n=12)\n",
      "Fold: 2\n",
      "    Training:   2009-01-01 00:00:00 -- 2015-12-01 00:00:00  (n=84)\n",
      "    Validation: 2016-01-01 00:00:00 -- 2016-12-01 00:00:00  (n=12)\n",
      "Fold: 3\n",
      "    Training:   2009-01-01 00:00:00 -- 2016-12-01 00:00:00  (n=96)\n",
      "    Validation: 2017-01-01 00:00:00 -- 2017-12-01 00:00:00  (n=12)\n",
      "Fold: 4\n",
      "    Training:   2009-01-01 00:00:00 -- 2017-12-01 00:00:00  (n=108)\n",
      "    Validation: 2018-01-01 00:00:00 -- 2018-12-01 00:00:00  (n=12)\n",
      "\n"
     ]
    },
    {
     "name": "stderr",
     "output_type": "stream",
     "text": [
      "\n",
      "params grid:  30%|███       | 3/10 [00:00<00:00, 29.59it/s]\u001b[A"
     ]
    },
    {
     "name": "stdout",
     "output_type": "stream",
     "text": [
      "Information of backtesting process\n",
      "----------------------------------\n",
      "Number of observations used for initial training: 60\n",
      "Number of observations used for backtesting: 60\n",
      "    Number of folds: 5\n",
      "    Number of steps per fold: 12\n",
      "    Number of steps to exclude from the end of each train set before test (gap): 0\n",
      "\n",
      "Fold: 0\n",
      "    Training:   2009-01-01 00:00:00 -- 2013-12-01 00:00:00  (n=60)\n",
      "    Validation: 2014-01-01 00:00:00 -- 2014-12-01 00:00:00  (n=12)\n",
      "Fold: 1\n",
      "    Training:   2009-01-01 00:00:00 -- 2014-12-01 00:00:00  (n=72)\n",
      "    Validation: 2015-01-01 00:00:00 -- 2015-12-01 00:00:00  (n=12)\n",
      "Fold: 2\n",
      "    Training:   2009-01-01 00:00:00 -- 2015-12-01 00:00:00  (n=84)\n",
      "    Validation: 2016-01-01 00:00:00 -- 2016-12-01 00:00:00  (n=12)\n",
      "Fold: 3\n",
      "    Training:   2009-01-01 00:00:00 -- 2016-12-01 00:00:00  (n=96)\n",
      "    Validation: 2017-01-01 00:00:00 -- 2017-12-01 00:00:00  (n=12)\n",
      "Fold: 4\n",
      "    Training:   2009-01-01 00:00:00 -- 2017-12-01 00:00:00  (n=108)\n",
      "    Validation: 2018-01-01 00:00:00 -- 2018-12-01 00:00:00  (n=12)\n",
      "\n",
      "Information of backtesting process\n",
      "----------------------------------\n",
      "Number of observations used for initial training: 60\n",
      "Number of observations used for backtesting: 60\n",
      "    Number of folds: 5\n",
      "    Number of steps per fold: 12\n",
      "    Number of steps to exclude from the end of each train set before test (gap): 0\n",
      "\n",
      "Fold: 0\n",
      "    Training:   2009-01-01 00:00:00 -- 2013-12-01 00:00:00  (n=60)\n",
      "    Validation: 2014-01-01 00:00:00 -- 2014-12-01 00:00:00  (n=12)\n",
      "Fold: 1\n",
      "    Training:   2009-01-01 00:00:00 -- 2014-12-01 00:00:00  (n=72)\n",
      "    Validation: 2015-01-01 00:00:00 -- 2015-12-01 00:00:00  (n=12)\n",
      "Fold: 2\n",
      "    Training:   2009-01-01 00:00:00 -- 2015-12-01 00:00:00  (n=84)\n",
      "    Validation: 2016-01-01 00:00:00 -- 2016-12-01 00:00:00  (n=12)\n",
      "Fold: 3\n",
      "    Training:   2009-01-01 00:00:00 -- 2016-12-01 00:00:00  (n=96)\n",
      "    Validation: 2017-01-01 00:00:00 -- 2017-12-01 00:00:00  (n=12)\n",
      "Fold: 4\n",
      "    Training:   2009-01-01 00:00:00 -- 2017-12-01 00:00:00  (n=108)\n",
      "    Validation: 2018-01-01 00:00:00 -- 2018-12-01 00:00:00  (n=12)\n",
      "\n",
      "Information of backtesting process\n",
      "----------------------------------\n",
      "Number of observations used for initial training: 60\n",
      "Number of observations used for backtesting: 60\n",
      "    Number of folds: 5\n",
      "    Number of steps per fold: 12\n",
      "    Number of steps to exclude from the end of each train set before test (gap): 0\n",
      "\n",
      "Fold: 0\n",
      "    Training:   2009-01-01 00:00:00 -- 2013-12-01 00:00:00  (n=60)\n",
      "    Validation: 2014-01-01 00:00:00 -- 2014-12-01 00:00:00  (n=12)\n",
      "Fold: 1\n",
      "    Training:   2009-01-01 00:00:00 -- 2014-12-01 00:00:00  (n=72)\n",
      "    Validation: 2015-01-01 00:00:00 -- 2015-12-01 00:00:00  (n=12)\n",
      "Fold: 2\n",
      "    Training:   2009-01-01 00:00:00 -- 2015-12-01 00:00:00  (n=84)\n",
      "    Validation: 2016-01-01 00:00:00 -- 2016-12-01 00:00:00  (n=12)\n",
      "Fold: 3\n",
      "    Training:   2009-01-01 00:00:00 -- 2016-12-01 00:00:00  (n=96)\n",
      "    Validation: 2017-01-01 00:00:00 -- 2017-12-01 00:00:00  (n=12)\n",
      "Fold: 4\n",
      "    Training:   2009-01-01 00:00:00 -- 2017-12-01 00:00:00  (n=108)\n",
      "    Validation: 2018-01-01 00:00:00 -- 2018-12-01 00:00:00  (n=12)\n",
      "\n",
      "Information of backtesting process\n",
      "----------------------------------\n",
      "Number of observations used for initial training: 60\n",
      "Number of observations used for backtesting: 60\n",
      "    Number of folds: 5\n",
      "    Number of steps per fold: 12\n",
      "    Number of steps to exclude from the end of each train set before test (gap): 0\n",
      "\n",
      "Fold: 0\n",
      "    Training:   2009-01-01 00:00:00 -- 2013-12-01 00:00:00  (n=60)\n",
      "    Validation: 2014-01-01 00:00:00 -- 2014-12-01 00:00:00  (n=12)\n",
      "Fold: 1\n",
      "    Training:   2009-01-01 00:00:00 -- 2014-12-01 00:00:00  (n=72)\n",
      "    Validation: 2015-01-01 00:00:00 -- 2015-12-01 00:00:00  (n=12)\n",
      "Fold: 2\n",
      "    Training:   2009-01-01 00:00:00 -- 2015-12-01 00:00:00  (n=84)\n",
      "    Validation: 2016-01-01 00:00:00 -- 2016-12-01 00:00:00  (n=12)\n",
      "Fold: 3\n",
      "    Training:   2009-01-01 00:00:00 -- 2016-12-01 00:00:00  (n=96)\n",
      "    Validation: 2017-01-01 00:00:00 -- 2017-12-01 00:00:00  (n=12)\n",
      "Fold: 4\n",
      "    Training:   2009-01-01 00:00:00 -- 2017-12-01 00:00:00  (n=108)\n",
      "    Validation: 2018-01-01 00:00:00 -- 2018-12-01 00:00:00  (n=12)\n",
      "\n"
     ]
    },
    {
     "name": "stderr",
     "output_type": "stream",
     "text": [
      "\n",
      "params grid:  60%|██████    | 6/10 [00:00<00:00, 29.21it/s]\u001b[A"
     ]
    },
    {
     "name": "stdout",
     "output_type": "stream",
     "text": [
      "Information of backtesting process\n",
      "----------------------------------\n",
      "Number of observations used for initial training: 60\n",
      "Number of observations used for backtesting: 60\n",
      "    Number of folds: 5\n",
      "    Number of steps per fold: 12\n",
      "    Number of steps to exclude from the end of each train set before test (gap): 0\n",
      "\n",
      "Fold: 0\n",
      "    Training:   2009-01-01 00:00:00 -- 2013-12-01 00:00:00  (n=60)\n",
      "    Validation: 2014-01-01 00:00:00 -- 2014-12-01 00:00:00  (n=12)\n",
      "Fold: 1\n",
      "    Training:   2009-01-01 00:00:00 -- 2014-12-01 00:00:00  (n=72)\n",
      "    Validation: 2015-01-01 00:00:00 -- 2015-12-01 00:00:00  (n=12)\n",
      "Fold: 2\n",
      "    Training:   2009-01-01 00:00:00 -- 2015-12-01 00:00:00  (n=84)\n",
      "    Validation: 2016-01-01 00:00:00 -- 2016-12-01 00:00:00  (n=12)\n",
      "Fold: 3\n",
      "    Training:   2009-01-01 00:00:00 -- 2016-12-01 00:00:00  (n=96)\n",
      "    Validation: 2017-01-01 00:00:00 -- 2017-12-01 00:00:00  (n=12)\n",
      "Fold: 4\n",
      "    Training:   2009-01-01 00:00:00 -- 2017-12-01 00:00:00  (n=108)\n",
      "    Validation: 2018-01-01 00:00:00 -- 2018-12-01 00:00:00  (n=12)\n",
      "\n",
      "Information of backtesting process\n",
      "----------------------------------\n",
      "Number of observations used for initial training: 60\n",
      "Number of observations used for backtesting: 60\n",
      "    Number of folds: 5\n",
      "    Number of steps per fold: 12\n",
      "    Number of steps to exclude from the end of each train set before test (gap): 0\n",
      "\n",
      "Fold: 0\n",
      "    Training:   2009-01-01 00:00:00 -- 2013-12-01 00:00:00  (n=60)\n",
      "    Validation: 2014-01-01 00:00:00 -- 2014-12-01 00:00:00  (n=12)\n",
      "Fold: 1\n",
      "    Training:   2009-01-01 00:00:00 -- 2014-12-01 00:00:00  (n=72)\n",
      "    Validation: 2015-01-01 00:00:00 -- 2015-12-01 00:00:00  (n=12)\n",
      "Fold: 2\n",
      "    Training:   2009-01-01 00:00:00 -- 2015-12-01 00:00:00  (n=84)\n",
      "    Validation: 2016-01-01 00:00:00 -- 2016-12-01 00:00:00  (n=12)\n",
      "Fold: 3\n",
      "    Training:   2009-01-01 00:00:00 -- 2016-12-01 00:00:00  (n=96)\n",
      "    Validation: 2017-01-01 00:00:00 -- 2017-12-01 00:00:00  (n=12)\n",
      "Fold: 4\n",
      "    Training:   2009-01-01 00:00:00 -- 2017-12-01 00:00:00  (n=108)\n",
      "    Validation: 2018-01-01 00:00:00 -- 2018-12-01 00:00:00  (n=12)\n",
      "\n"
     ]
    },
    {
     "name": "stderr",
     "output_type": "stream",
     "text": [
      "\n",
      "params grid:  90%|█████████ | 9/10 [00:00<00:00, 28.89it/s]\u001b[A\n",
      "lags grid:  33%|███▎      | 2/6 [00:00<00:01,  2.80it/s]   \u001b[A"
     ]
    },
    {
     "name": "stdout",
     "output_type": "stream",
     "text": [
      "Information of backtesting process\n",
      "----------------------------------\n",
      "Number of observations used for initial training: 60\n",
      "Number of observations used for backtesting: 60\n",
      "    Number of folds: 5\n",
      "    Number of steps per fold: 12\n",
      "    Number of steps to exclude from the end of each train set before test (gap): 0\n",
      "\n",
      "Fold: 0\n",
      "    Training:   2009-01-01 00:00:00 -- 2013-12-01 00:00:00  (n=60)\n",
      "    Validation: 2014-01-01 00:00:00 -- 2014-12-01 00:00:00  (n=12)\n",
      "Fold: 1\n",
      "    Training:   2009-01-01 00:00:00 -- 2014-12-01 00:00:00  (n=72)\n",
      "    Validation: 2015-01-01 00:00:00 -- 2015-12-01 00:00:00  (n=12)\n",
      "Fold: 2\n",
      "    Training:   2009-01-01 00:00:00 -- 2015-12-01 00:00:00  (n=84)\n",
      "    Validation: 2016-01-01 00:00:00 -- 2016-12-01 00:00:00  (n=12)\n",
      "Fold: 3\n",
      "    Training:   2009-01-01 00:00:00 -- 2016-12-01 00:00:00  (n=96)\n",
      "    Validation: 2017-01-01 00:00:00 -- 2017-12-01 00:00:00  (n=12)\n",
      "Fold: 4\n",
      "    Training:   2009-01-01 00:00:00 -- 2017-12-01 00:00:00  (n=108)\n",
      "    Validation: 2018-01-01 00:00:00 -- 2018-12-01 00:00:00  (n=12)\n",
      "\n",
      "Information of backtesting process\n",
      "----------------------------------\n",
      "Number of observations used for initial training: 60\n",
      "Number of observations used for backtesting: 60\n",
      "    Number of folds: 5\n",
      "    Number of steps per fold: 12\n",
      "    Number of steps to exclude from the end of each train set before test (gap): 0\n",
      "\n",
      "Fold: 0\n",
      "    Training:   2009-01-01 00:00:00 -- 2013-12-01 00:00:00  (n=60)\n",
      "    Validation: 2014-01-01 00:00:00 -- 2014-12-01 00:00:00  (n=12)\n",
      "Fold: 1\n",
      "    Training:   2009-01-01 00:00:00 -- 2014-12-01 00:00:00  (n=72)\n",
      "    Validation: 2015-01-01 00:00:00 -- 2015-12-01 00:00:00  (n=12)\n",
      "Fold: 2\n",
      "    Training:   2009-01-01 00:00:00 -- 2015-12-01 00:00:00  (n=84)\n",
      "    Validation: 2016-01-01 00:00:00 -- 2016-12-01 00:00:00  (n=12)\n",
      "Fold: 3\n",
      "    Training:   2009-01-01 00:00:00 -- 2016-12-01 00:00:00  (n=96)\n",
      "    Validation: 2017-01-01 00:00:00 -- 2017-12-01 00:00:00  (n=12)\n",
      "Fold: 4\n",
      "    Training:   2009-01-01 00:00:00 -- 2017-12-01 00:00:00  (n=108)\n",
      "    Validation: 2018-01-01 00:00:00 -- 2018-12-01 00:00:00  (n=12)\n",
      "\n"
     ]
    },
    {
     "name": "stderr",
     "output_type": "stream",
     "text": [
      "\n",
      "params grid:   0%|          | 0/10 [00:00<?, ?it/s]\u001b[A"
     ]
    },
    {
     "name": "stdout",
     "output_type": "stream",
     "text": [
      "Information of backtesting process\n",
      "----------------------------------\n",
      "Number of observations used for initial training: 60\n",
      "Number of observations used for backtesting: 60\n",
      "    Number of folds: 5\n",
      "    Number of steps per fold: 12\n",
      "    Number of steps to exclude from the end of each train set before test (gap): 0\n",
      "\n",
      "Fold: 0\n",
      "    Training:   2009-01-01 00:00:00 -- 2013-12-01 00:00:00  (n=60)\n",
      "    Validation: 2014-01-01 00:00:00 -- 2014-12-01 00:00:00  (n=12)\n",
      "Fold: 1\n",
      "    Training:   2009-01-01 00:00:00 -- 2014-12-01 00:00:00  (n=72)\n",
      "    Validation: 2015-01-01 00:00:00 -- 2015-12-01 00:00:00  (n=12)\n",
      "Fold: 2\n",
      "    Training:   2009-01-01 00:00:00 -- 2015-12-01 00:00:00  (n=84)\n",
      "    Validation: 2016-01-01 00:00:00 -- 2016-12-01 00:00:00  (n=12)\n",
      "Fold: 3\n",
      "    Training:   2009-01-01 00:00:00 -- 2016-12-01 00:00:00  (n=96)\n",
      "    Validation: 2017-01-01 00:00:00 -- 2017-12-01 00:00:00  (n=12)\n",
      "Fold: 4\n",
      "    Training:   2009-01-01 00:00:00 -- 2017-12-01 00:00:00  (n=108)\n",
      "    Validation: 2018-01-01 00:00:00 -- 2018-12-01 00:00:00  (n=12)\n",
      "\n",
      "Information of backtesting process\n",
      "----------------------------------\n",
      "Number of observations used for initial training: 60\n",
      "Number of observations used for backtesting: 60\n",
      "    Number of folds: 5\n",
      "    Number of steps per fold: 12\n",
      "    Number of steps to exclude from the end of each train set before test (gap): 0\n",
      "\n",
      "Fold: 0\n",
      "    Training:   2009-01-01 00:00:00 -- 2013-12-01 00:00:00  (n=60)\n",
      "    Validation: 2014-01-01 00:00:00 -- 2014-12-01 00:00:00  (n=12)\n",
      "Fold: 1\n",
      "    Training:   2009-01-01 00:00:00 -- 2014-12-01 00:00:00  (n=72)\n",
      "    Validation: 2015-01-01 00:00:00 -- 2015-12-01 00:00:00  (n=12)\n",
      "Fold: 2\n",
      "    Training:   2009-01-01 00:00:00 -- 2015-12-01 00:00:00  (n=84)\n",
      "    Validation: 2016-01-01 00:00:00 -- 2016-12-01 00:00:00  (n=12)\n",
      "Fold: 3\n",
      "    Training:   2009-01-01 00:00:00 -- 2016-12-01 00:00:00  (n=96)\n",
      "    Validation: 2017-01-01 00:00:00 -- 2017-12-01 00:00:00  (n=12)\n",
      "Fold: 4\n",
      "    Training:   2009-01-01 00:00:00 -- 2017-12-01 00:00:00  (n=108)\n",
      "    Validation: 2018-01-01 00:00:00 -- 2018-12-01 00:00:00  (n=12)\n",
      "\n",
      "Information of backtesting process\n",
      "----------------------------------\n",
      "Number of observations used for initial training: 60\n",
      "Number of observations used for backtesting: 60\n",
      "    Number of folds: 5\n",
      "    Number of steps per fold: 12\n",
      "    Number of steps to exclude from the end of each train set before test (gap): 0\n",
      "\n",
      "Fold: 0\n",
      "    Training:   2009-01-01 00:00:00 -- 2013-12-01 00:00:00  (n=60)\n",
      "    Validation: 2014-01-01 00:00:00 -- 2014-12-01 00:00:00  (n=12)\n",
      "Fold: 1\n",
      "    Training:   2009-01-01 00:00:00 -- 2014-12-01 00:00:00  (n=72)\n",
      "    Validation: 2015-01-01 00:00:00 -- 2015-12-01 00:00:00  (n=12)\n",
      "Fold: 2\n",
      "    Training:   2009-01-01 00:00:00 -- 2015-12-01 00:00:00  (n=84)\n",
      "    Validation: 2016-01-01 00:00:00 -- 2016-12-01 00:00:00  (n=12)\n",
      "Fold: 3\n",
      "    Training:   2009-01-01 00:00:00 -- 2016-12-01 00:00:00  (n=96)\n",
      "    Validation: 2017-01-01 00:00:00 -- 2017-12-01 00:00:00  (n=12)\n",
      "Fold: 4\n",
      "    Training:   2009-01-01 00:00:00 -- 2017-12-01 00:00:00  (n=108)\n",
      "    Validation: 2018-01-01 00:00:00 -- 2018-12-01 00:00:00  (n=12)\n",
      "\n",
      "Information of backtesting process\n",
      "----------------------------------\n",
      "Number of observations used for initial training: 60\n",
      "Number of observations used for backtesting: 60\n",
      "    Number of folds: 5\n",
      "    Number of steps per fold: 12\n",
      "    Number of steps to exclude from the end of each train set before test (gap): 0\n",
      "\n",
      "Fold: 0\n",
      "    Training:   2009-01-01 00:00:00 -- 2013-12-01 00:00:00  (n=60)\n",
      "    Validation: 2014-01-01 00:00:00 -- 2014-12-01 00:00:00  (n=12)\n",
      "Fold: 1\n",
      "    Training:   2009-01-01 00:00:00 -- 2014-12-01 00:00:00  (n=72)\n",
      "    Validation: 2015-01-01 00:00:00 -- 2015-12-01 00:00:00  (n=12)\n",
      "Fold: 2\n",
      "    Training:   2009-01-01 00:00:00 -- 2015-12-01 00:00:00  (n=84)\n",
      "    Validation: 2016-01-01 00:00:00 -- 2016-12-01 00:00:00  (n=12)\n",
      "Fold: 3\n",
      "    Training:   2009-01-01 00:00:00 -- 2016-12-01 00:00:00  (n=96)\n",
      "    Validation: 2017-01-01 00:00:00 -- 2017-12-01 00:00:00  (n=12)\n",
      "Fold: 4\n",
      "    Training:   2009-01-01 00:00:00 -- 2017-12-01 00:00:00  (n=108)\n",
      "    Validation: 2018-01-01 00:00:00 -- 2018-12-01 00:00:00  (n=12)\n",
      "\n"
     ]
    },
    {
     "name": "stderr",
     "output_type": "stream",
     "text": [
      "\n",
      "params grid:  40%|████      | 4/10 [00:00<00:00, 31.18it/s]\u001b[A"
     ]
    },
    {
     "name": "stdout",
     "output_type": "stream",
     "text": [
      "Information of backtesting process\n",
      "----------------------------------\n",
      "Number of observations used for initial training: 60\n",
      "Number of observations used for backtesting: 60\n",
      "    Number of folds: 5\n",
      "    Number of steps per fold: 12\n",
      "    Number of steps to exclude from the end of each train set before test (gap): 0\n",
      "\n",
      "Fold: 0\n",
      "    Training:   2009-01-01 00:00:00 -- 2013-12-01 00:00:00  (n=60)\n",
      "    Validation: 2014-01-01 00:00:00 -- 2014-12-01 00:00:00  (n=12)\n",
      "Fold: 1\n",
      "    Training:   2009-01-01 00:00:00 -- 2014-12-01 00:00:00  (n=72)\n",
      "    Validation: 2015-01-01 00:00:00 -- 2015-12-01 00:00:00  (n=12)\n",
      "Fold: 2\n",
      "    Training:   2009-01-01 00:00:00 -- 2015-12-01 00:00:00  (n=84)\n",
      "    Validation: 2016-01-01 00:00:00 -- 2016-12-01 00:00:00  (n=12)\n",
      "Fold: 3\n",
      "    Training:   2009-01-01 00:00:00 -- 2016-12-01 00:00:00  (n=96)\n",
      "    Validation: 2017-01-01 00:00:00 -- 2017-12-01 00:00:00  (n=12)\n",
      "Fold: 4\n",
      "    Training:   2009-01-01 00:00:00 -- 2017-12-01 00:00:00  (n=108)\n",
      "    Validation: 2018-01-01 00:00:00 -- 2018-12-01 00:00:00  (n=12)\n",
      "\n",
      "Information of backtesting process\n",
      "----------------------------------\n",
      "Number of observations used for initial training: 60\n",
      "Number of observations used for backtesting: 60\n",
      "    Number of folds: 5\n",
      "    Number of steps per fold: 12\n",
      "    Number of steps to exclude from the end of each train set before test (gap): 0\n",
      "\n",
      "Fold: 0\n",
      "    Training:   2009-01-01 00:00:00 -- 2013-12-01 00:00:00  (n=60)\n",
      "    Validation: 2014-01-01 00:00:00 -- 2014-12-01 00:00:00  (n=12)\n",
      "Fold: 1\n",
      "    Training:   2009-01-01 00:00:00 -- 2014-12-01 00:00:00  (n=72)\n",
      "    Validation: 2015-01-01 00:00:00 -- 2015-12-01 00:00:00  (n=12)\n",
      "Fold: 2\n",
      "    Training:   2009-01-01 00:00:00 -- 2015-12-01 00:00:00  (n=84)\n",
      "    Validation: 2016-01-01 00:00:00 -- 2016-12-01 00:00:00  (n=12)\n",
      "Fold: 3\n",
      "    Training:   2009-01-01 00:00:00 -- 2016-12-01 00:00:00  (n=96)\n",
      "    Validation: 2017-01-01 00:00:00 -- 2017-12-01 00:00:00  (n=12)\n",
      "Fold: 4\n",
      "    Training:   2009-01-01 00:00:00 -- 2017-12-01 00:00:00  (n=108)\n",
      "    Validation: 2018-01-01 00:00:00 -- 2018-12-01 00:00:00  (n=12)\n",
      "\n",
      "Information of backtesting process\n",
      "----------------------------------\n",
      "Number of observations used for initial training: 60\n",
      "Number of observations used for backtesting: 60\n",
      "    Number of folds: 5\n",
      "    Number of steps per fold: 12\n",
      "    Number of steps to exclude from the end of each train set before test (gap): 0\n",
      "\n",
      "Fold: 0\n",
      "    Training:   2009-01-01 00:00:00 -- 2013-12-01 00:00:00  (n=60)\n",
      "    Validation: 2014-01-01 00:00:00 -- 2014-12-01 00:00:00  (n=12)\n",
      "Fold: 1\n",
      "    Training:   2009-01-01 00:00:00 -- 2014-12-01 00:00:00  (n=72)\n",
      "    Validation: 2015-01-01 00:00:00 -- 2015-12-01 00:00:00  (n=12)\n",
      "Fold: 2\n",
      "    Training:   2009-01-01 00:00:00 -- 2015-12-01 00:00:00  (n=84)\n",
      "    Validation: 2016-01-01 00:00:00 -- 2016-12-01 00:00:00  (n=12)\n",
      "Fold: 3\n",
      "    Training:   2009-01-01 00:00:00 -- 2016-12-01 00:00:00  (n=96)\n",
      "    Validation: 2017-01-01 00:00:00 -- 2017-12-01 00:00:00  (n=12)\n",
      "Fold: 4\n",
      "    Training:   2009-01-01 00:00:00 -- 2017-12-01 00:00:00  (n=108)\n",
      "    Validation: 2018-01-01 00:00:00 -- 2018-12-01 00:00:00  (n=12)\n",
      "\n",
      "Information of backtesting process\n",
      "----------------------------------\n",
      "Number of observations used for initial training: 60\n",
      "Number of observations used for backtesting: 60\n",
      "    Number of folds: 5\n",
      "    Number of steps per fold: 12\n",
      "    Number of steps to exclude from the end of each train set before test (gap): 0\n",
      "\n",
      "Fold: 0\n",
      "    Training:   2009-01-01 00:00:00 -- 2013-12-01 00:00:00  (n=60)\n",
      "    Validation: 2014-01-01 00:00:00 -- 2014-12-01 00:00:00  (n=12)\n",
      "Fold: 1\n",
      "    Training:   2009-01-01 00:00:00 -- 2014-12-01 00:00:00  (n=72)\n",
      "    Validation: 2015-01-01 00:00:00 -- 2015-12-01 00:00:00  (n=12)\n",
      "Fold: 2\n",
      "    Training:   2009-01-01 00:00:00 -- 2015-12-01 00:00:00  (n=84)\n",
      "    Validation: 2016-01-01 00:00:00 -- 2016-12-01 00:00:00  (n=12)\n",
      "Fold: 3\n",
      "    Training:   2009-01-01 00:00:00 -- 2016-12-01 00:00:00  (n=96)\n",
      "    Validation: 2017-01-01 00:00:00 -- 2017-12-01 00:00:00  (n=12)\n",
      "Fold: 4\n",
      "    Training:   2009-01-01 00:00:00 -- 2017-12-01 00:00:00  (n=108)\n",
      "    Validation: 2018-01-01 00:00:00 -- 2018-12-01 00:00:00  (n=12)\n",
      "\n"
     ]
    },
    {
     "name": "stderr",
     "output_type": "stream",
     "text": [
      "\n",
      "params grid:  80%|████████  | 8/10 [00:00<00:00, 28.95it/s]\u001b[A"
     ]
    },
    {
     "name": "stdout",
     "output_type": "stream",
     "text": [
      "Information of backtesting process\n",
      "----------------------------------\n",
      "Number of observations used for initial training: 60\n",
      "Number of observations used for backtesting: 60\n",
      "    Number of folds: 5\n",
      "    Number of steps per fold: 12\n",
      "    Number of steps to exclude from the end of each train set before test (gap): 0\n",
      "\n",
      "Fold: 0\n",
      "    Training:   2009-01-01 00:00:00 -- 2013-12-01 00:00:00  (n=60)\n",
      "    Validation: 2014-01-01 00:00:00 -- 2014-12-01 00:00:00  (n=12)\n",
      "Fold: 1\n",
      "    Training:   2009-01-01 00:00:00 -- 2014-12-01 00:00:00  (n=72)\n",
      "    Validation: 2015-01-01 00:00:00 -- 2015-12-01 00:00:00  (n=12)\n",
      "Fold: 2\n",
      "    Training:   2009-01-01 00:00:00 -- 2015-12-01 00:00:00  (n=84)\n",
      "    Validation: 2016-01-01 00:00:00 -- 2016-12-01 00:00:00  (n=12)\n",
      "Fold: 3\n",
      "    Training:   2009-01-01 00:00:00 -- 2016-12-01 00:00:00  (n=96)\n",
      "    Validation: 2017-01-01 00:00:00 -- 2017-12-01 00:00:00  (n=12)\n",
      "Fold: 4\n",
      "    Training:   2009-01-01 00:00:00 -- 2017-12-01 00:00:00  (n=108)\n",
      "    Validation: 2018-01-01 00:00:00 -- 2018-12-01 00:00:00  (n=12)\n",
      "\n",
      "Information of backtesting process\n",
      "----------------------------------\n",
      "Number of observations used for initial training: 60\n",
      "Number of observations used for backtesting: 60\n",
      "    Number of folds: 5\n",
      "    Number of steps per fold: 12\n",
      "    Number of steps to exclude from the end of each train set before test (gap): 0\n",
      "\n",
      "Fold: 0\n",
      "    Training:   2009-01-01 00:00:00 -- 2013-12-01 00:00:00  (n=60)\n",
      "    Validation: 2014-01-01 00:00:00 -- 2014-12-01 00:00:00  (n=12)\n",
      "Fold: 1\n",
      "    Training:   2009-01-01 00:00:00 -- 2014-12-01 00:00:00  (n=72)\n",
      "    Validation: 2015-01-01 00:00:00 -- 2015-12-01 00:00:00  (n=12)\n",
      "Fold: 2\n",
      "    Training:   2009-01-01 00:00:00 -- 2015-12-01 00:00:00  (n=84)\n",
      "    Validation: 2016-01-01 00:00:00 -- 2016-12-01 00:00:00  (n=12)\n",
      "Fold: 3\n",
      "    Training:   2009-01-01 00:00:00 -- 2016-12-01 00:00:00  (n=96)\n",
      "    Validation: 2017-01-01 00:00:00 -- 2017-12-01 00:00:00  (n=12)\n",
      "Fold: 4\n",
      "    Training:   2009-01-01 00:00:00 -- 2017-12-01 00:00:00  (n=108)\n",
      "    Validation: 2018-01-01 00:00:00 -- 2018-12-01 00:00:00  (n=12)\n",
      "\n"
     ]
    },
    {
     "name": "stderr",
     "output_type": "stream",
     "text": [
      "\n",
      "lags grid:  50%|█████     | 3/6 [00:01<00:01,  2.84it/s]   \u001b[A\n",
      "params grid:   0%|          | 0/10 [00:00<?, ?it/s]\u001b[A"
     ]
    },
    {
     "name": "stdout",
     "output_type": "stream",
     "text": [
      "Information of backtesting process\n",
      "----------------------------------\n",
      "Number of observations used for initial training: 60\n",
      "Number of observations used for backtesting: 60\n",
      "    Number of folds: 5\n",
      "    Number of steps per fold: 12\n",
      "    Number of steps to exclude from the end of each train set before test (gap): 0\n",
      "\n",
      "Fold: 0\n",
      "    Training:   2009-01-01 00:00:00 -- 2013-12-01 00:00:00  (n=60)\n",
      "    Validation: 2014-01-01 00:00:00 -- 2014-12-01 00:00:00  (n=12)\n",
      "Fold: 1\n",
      "    Training:   2009-01-01 00:00:00 -- 2014-12-01 00:00:00  (n=72)\n",
      "    Validation: 2015-01-01 00:00:00 -- 2015-12-01 00:00:00  (n=12)\n",
      "Fold: 2\n",
      "    Training:   2009-01-01 00:00:00 -- 2015-12-01 00:00:00  (n=84)\n",
      "    Validation: 2016-01-01 00:00:00 -- 2016-12-01 00:00:00  (n=12)\n",
      "Fold: 3\n",
      "    Training:   2009-01-01 00:00:00 -- 2016-12-01 00:00:00  (n=96)\n",
      "    Validation: 2017-01-01 00:00:00 -- 2017-12-01 00:00:00  (n=12)\n",
      "Fold: 4\n",
      "    Training:   2009-01-01 00:00:00 -- 2017-12-01 00:00:00  (n=108)\n",
      "    Validation: 2018-01-01 00:00:00 -- 2018-12-01 00:00:00  (n=12)\n",
      "\n",
      "Information of backtesting process\n",
      "----------------------------------\n",
      "Number of observations used for initial training: 60\n",
      "Number of observations used for backtesting: 60\n",
      "    Number of folds: 5\n",
      "    Number of steps per fold: 12\n",
      "    Number of steps to exclude from the end of each train set before test (gap): 0\n",
      "\n",
      "Fold: 0\n",
      "    Training:   2009-01-01 00:00:00 -- 2013-12-01 00:00:00  (n=60)\n",
      "    Validation: 2014-01-01 00:00:00 -- 2014-12-01 00:00:00  (n=12)\n",
      "Fold: 1\n",
      "    Training:   2009-01-01 00:00:00 -- 2014-12-01 00:00:00  (n=72)\n",
      "    Validation: 2015-01-01 00:00:00 -- 2015-12-01 00:00:00  (n=12)\n",
      "Fold: 2\n",
      "    Training:   2009-01-01 00:00:00 -- 2015-12-01 00:00:00  (n=84)\n",
      "    Validation: 2016-01-01 00:00:00 -- 2016-12-01 00:00:00  (n=12)\n",
      "Fold: 3\n",
      "    Training:   2009-01-01 00:00:00 -- 2016-12-01 00:00:00  (n=96)\n",
      "    Validation: 2017-01-01 00:00:00 -- 2017-12-01 00:00:00  (n=12)\n",
      "Fold: 4\n",
      "    Training:   2009-01-01 00:00:00 -- 2017-12-01 00:00:00  (n=108)\n",
      "    Validation: 2018-01-01 00:00:00 -- 2018-12-01 00:00:00  (n=12)\n",
      "\n",
      "Information of backtesting process\n",
      "----------------------------------\n",
      "Number of observations used for initial training: 60\n",
      "Number of observations used for backtesting: 60\n",
      "    Number of folds: 5\n",
      "    Number of steps per fold: 12\n",
      "    Number of steps to exclude from the end of each train set before test (gap): 0\n",
      "\n",
      "Fold: 0\n",
      "    Training:   2009-01-01 00:00:00 -- 2013-12-01 00:00:00  (n=60)\n",
      "    Validation: 2014-01-01 00:00:00 -- 2014-12-01 00:00:00  (n=12)\n",
      "Fold: 1\n",
      "    Training:   2009-01-01 00:00:00 -- 2014-12-01 00:00:00  (n=72)\n",
      "    Validation: 2015-01-01 00:00:00 -- 2015-12-01 00:00:00  (n=12)\n",
      "Fold: 2\n",
      "    Training:   2009-01-01 00:00:00 -- 2015-12-01 00:00:00  (n=84)\n",
      "    Validation: 2016-01-01 00:00:00 -- 2016-12-01 00:00:00  (n=12)\n",
      "Fold: 3\n",
      "    Training:   2009-01-01 00:00:00 -- 2016-12-01 00:00:00  (n=96)\n",
      "    Validation: 2017-01-01 00:00:00 -- 2017-12-01 00:00:00  (n=12)\n",
      "Fold: 4\n",
      "    Training:   2009-01-01 00:00:00 -- 2017-12-01 00:00:00  (n=108)\n",
      "    Validation: 2018-01-01 00:00:00 -- 2018-12-01 00:00:00  (n=12)\n",
      "\n",
      "Information of backtesting process\n",
      "----------------------------------\n",
      "Number of observations used for initial training: 60\n",
      "Number of observations used for backtesting: 60\n",
      "    Number of folds: 5\n",
      "    Number of steps per fold: 12\n",
      "    Number of steps to exclude from the end of each train set before test (gap): 0\n",
      "\n",
      "Fold: 0\n",
      "    Training:   2009-01-01 00:00:00 -- 2013-12-01 00:00:00  (n=60)\n",
      "    Validation: 2014-01-01 00:00:00 -- 2014-12-01 00:00:00  (n=12)\n",
      "Fold: 1\n",
      "    Training:   2009-01-01 00:00:00 -- 2014-12-01 00:00:00  (n=72)\n",
      "    Validation: 2015-01-01 00:00:00 -- 2015-12-01 00:00:00  (n=12)\n",
      "Fold: 2\n",
      "    Training:   2009-01-01 00:00:00 -- 2015-12-01 00:00:00  (n=84)\n",
      "    Validation: 2016-01-01 00:00:00 -- 2016-12-01 00:00:00  (n=12)\n",
      "Fold: 3\n",
      "    Training:   2009-01-01 00:00:00 -- 2016-12-01 00:00:00  (n=96)\n",
      "    Validation: 2017-01-01 00:00:00 -- 2017-12-01 00:00:00  (n=12)\n",
      "Fold: 4\n",
      "    Training:   2009-01-01 00:00:00 -- 2017-12-01 00:00:00  (n=108)\n",
      "    Validation: 2018-01-01 00:00:00 -- 2018-12-01 00:00:00  (n=12)\n",
      "\n"
     ]
    },
    {
     "name": "stderr",
     "output_type": "stream",
     "text": [
      "\n",
      "params grid:  40%|████      | 4/10 [00:00<00:00, 30.07it/s]\u001b[A"
     ]
    },
    {
     "name": "stdout",
     "output_type": "stream",
     "text": [
      "Information of backtesting process\n",
      "----------------------------------\n",
      "Number of observations used for initial training: 60\n",
      "Number of observations used for backtesting: 60\n",
      "    Number of folds: 5\n",
      "    Number of steps per fold: 12\n",
      "    Number of steps to exclude from the end of each train set before test (gap): 0\n",
      "\n",
      "Fold: 0\n",
      "    Training:   2009-01-01 00:00:00 -- 2013-12-01 00:00:00  (n=60)\n",
      "    Validation: 2014-01-01 00:00:00 -- 2014-12-01 00:00:00  (n=12)\n",
      "Fold: 1\n",
      "    Training:   2009-01-01 00:00:00 -- 2014-12-01 00:00:00  (n=72)\n",
      "    Validation: 2015-01-01 00:00:00 -- 2015-12-01 00:00:00  (n=12)\n",
      "Fold: 2\n",
      "    Training:   2009-01-01 00:00:00 -- 2015-12-01 00:00:00  (n=84)\n",
      "    Validation: 2016-01-01 00:00:00 -- 2016-12-01 00:00:00  (n=12)\n",
      "Fold: 3\n",
      "    Training:   2009-01-01 00:00:00 -- 2016-12-01 00:00:00  (n=96)\n",
      "    Validation: 2017-01-01 00:00:00 -- 2017-12-01 00:00:00  (n=12)\n",
      "Fold: 4\n",
      "    Training:   2009-01-01 00:00:00 -- 2017-12-01 00:00:00  (n=108)\n",
      "    Validation: 2018-01-01 00:00:00 -- 2018-12-01 00:00:00  (n=12)\n",
      "\n",
      "Information of backtesting process\n",
      "----------------------------------\n",
      "Number of observations used for initial training: 60\n",
      "Number of observations used for backtesting: 60\n",
      "    Number of folds: 5\n",
      "    Number of steps per fold: 12\n",
      "    Number of steps to exclude from the end of each train set before test (gap): 0\n",
      "\n",
      "Fold: 0\n",
      "    Training:   2009-01-01 00:00:00 -- 2013-12-01 00:00:00  (n=60)\n",
      "    Validation: 2014-01-01 00:00:00 -- 2014-12-01 00:00:00  (n=12)\n",
      "Fold: 1\n",
      "    Training:   2009-01-01 00:00:00 -- 2014-12-01 00:00:00  (n=72)\n",
      "    Validation: 2015-01-01 00:00:00 -- 2015-12-01 00:00:00  (n=12)\n",
      "Fold: 2\n",
      "    Training:   2009-01-01 00:00:00 -- 2015-12-01 00:00:00  (n=84)\n",
      "    Validation: 2016-01-01 00:00:00 -- 2016-12-01 00:00:00  (n=12)\n",
      "Fold: 3\n",
      "    Training:   2009-01-01 00:00:00 -- 2016-12-01 00:00:00  (n=96)\n",
      "    Validation: 2017-01-01 00:00:00 -- 2017-12-01 00:00:00  (n=12)\n",
      "Fold: 4\n",
      "    Training:   2009-01-01 00:00:00 -- 2017-12-01 00:00:00  (n=108)\n",
      "    Validation: 2018-01-01 00:00:00 -- 2018-12-01 00:00:00  (n=12)\n",
      "\n"
     ]
    },
    {
     "name": "stderr",
     "output_type": "stream",
     "text": [
      "\n",
      "params grid:  80%|████████  | 8/10 [00:00<00:00, 28.63it/s]\u001b[A"
     ]
    },
    {
     "name": "stdout",
     "output_type": "stream",
     "text": [
      "Information of backtesting process\n",
      "----------------------------------\n",
      "Number of observations used for initial training: 60\n",
      "Number of observations used for backtesting: 60\n",
      "    Number of folds: 5\n",
      "    Number of steps per fold: 12\n",
      "    Number of steps to exclude from the end of each train set before test (gap): 0\n",
      "\n",
      "Fold: 0\n",
      "    Training:   2009-01-01 00:00:00 -- 2013-12-01 00:00:00  (n=60)\n",
      "    Validation: 2014-01-01 00:00:00 -- 2014-12-01 00:00:00  (n=12)\n",
      "Fold: 1\n",
      "    Training:   2009-01-01 00:00:00 -- 2014-12-01 00:00:00  (n=72)\n",
      "    Validation: 2015-01-01 00:00:00 -- 2015-12-01 00:00:00  (n=12)\n",
      "Fold: 2\n",
      "    Training:   2009-01-01 00:00:00 -- 2015-12-01 00:00:00  (n=84)\n",
      "    Validation: 2016-01-01 00:00:00 -- 2016-12-01 00:00:00  (n=12)\n",
      "Fold: 3\n",
      "    Training:   2009-01-01 00:00:00 -- 2016-12-01 00:00:00  (n=96)\n",
      "    Validation: 2017-01-01 00:00:00 -- 2017-12-01 00:00:00  (n=12)\n",
      "Fold: 4\n",
      "    Training:   2009-01-01 00:00:00 -- 2017-12-01 00:00:00  (n=108)\n",
      "    Validation: 2018-01-01 00:00:00 -- 2018-12-01 00:00:00  (n=12)\n",
      "\n",
      "Information of backtesting process\n",
      "----------------------------------\n",
      "Number of observations used for initial training: 60\n",
      "Number of observations used for backtesting: 60\n",
      "    Number of folds: 5\n",
      "    Number of steps per fold: 12\n",
      "    Number of steps to exclude from the end of each train set before test (gap): 0\n",
      "\n",
      "Fold: 0\n",
      "    Training:   2009-01-01 00:00:00 -- 2013-12-01 00:00:00  (n=60)\n",
      "    Validation: 2014-01-01 00:00:00 -- 2014-12-01 00:00:00  (n=12)\n",
      "Fold: 1\n",
      "    Training:   2009-01-01 00:00:00 -- 2014-12-01 00:00:00  (n=72)\n",
      "    Validation: 2015-01-01 00:00:00 -- 2015-12-01 00:00:00  (n=12)\n",
      "Fold: 2\n",
      "    Training:   2009-01-01 00:00:00 -- 2015-12-01 00:00:00  (n=84)\n",
      "    Validation: 2016-01-01 00:00:00 -- 2016-12-01 00:00:00  (n=12)\n",
      "Fold: 3\n",
      "    Training:   2009-01-01 00:00:00 -- 2016-12-01 00:00:00  (n=96)\n",
      "    Validation: 2017-01-01 00:00:00 -- 2017-12-01 00:00:00  (n=12)\n",
      "Fold: 4\n",
      "    Training:   2009-01-01 00:00:00 -- 2017-12-01 00:00:00  (n=108)\n",
      "    Validation: 2018-01-01 00:00:00 -- 2018-12-01 00:00:00  (n=12)\n",
      "\n",
      "Information of backtesting process\n",
      "----------------------------------\n",
      "Number of observations used for initial training: 60\n",
      "Number of observations used for backtesting: 60\n",
      "    Number of folds: 5\n",
      "    Number of steps per fold: 12\n",
      "    Number of steps to exclude from the end of each train set before test (gap): 0\n",
      "\n",
      "Fold: 0\n",
      "    Training:   2009-01-01 00:00:00 -- 2013-12-01 00:00:00  (n=60)\n",
      "    Validation: 2014-01-01 00:00:00 -- 2014-12-01 00:00:00  (n=12)\n",
      "Fold: 1\n",
      "    Training:   2009-01-01 00:00:00 -- 2014-12-01 00:00:00  (n=72)\n",
      "    Validation: 2015-01-01 00:00:00 -- 2015-12-01 00:00:00  (n=12)\n",
      "Fold: 2\n",
      "    Training:   2009-01-01 00:00:00 -- 2015-12-01 00:00:00  (n=84)\n",
      "    Validation: 2016-01-01 00:00:00 -- 2016-12-01 00:00:00  (n=12)\n",
      "Fold: 3\n",
      "    Training:   2009-01-01 00:00:00 -- 2016-12-01 00:00:00  (n=96)\n",
      "    Validation: 2017-01-01 00:00:00 -- 2017-12-01 00:00:00  (n=12)\n",
      "Fold: 4\n",
      "    Training:   2009-01-01 00:00:00 -- 2017-12-01 00:00:00  (n=108)\n",
      "    Validation: 2018-01-01 00:00:00 -- 2018-12-01 00:00:00  (n=12)\n",
      "\n",
      "Information of backtesting process\n",
      "----------------------------------\n",
      "Number of observations used for initial training: 60\n",
      "Number of observations used for backtesting: 60\n",
      "    Number of folds: 5\n",
      "    Number of steps per fold: 12\n",
      "    Number of steps to exclude from the end of each train set before test (gap): 0\n",
      "\n",
      "Fold: 0\n",
      "    Training:   2009-01-01 00:00:00 -- 2013-12-01 00:00:00  (n=60)\n",
      "    Validation: 2014-01-01 00:00:00 -- 2014-12-01 00:00:00  (n=12)\n",
      "Fold: 1\n",
      "    Training:   2009-01-01 00:00:00 -- 2014-12-01 00:00:00  (n=72)\n",
      "    Validation: 2015-01-01 00:00:00 -- 2015-12-01 00:00:00  (n=12)\n",
      "Fold: 2\n",
      "    Training:   2009-01-01 00:00:00 -- 2015-12-01 00:00:00  (n=84)\n",
      "    Validation: 2016-01-01 00:00:00 -- 2016-12-01 00:00:00  (n=12)\n",
      "Fold: 3\n",
      "    Training:   2009-01-01 00:00:00 -- 2016-12-01 00:00:00  (n=96)\n",
      "    Validation: 2017-01-01 00:00:00 -- 2017-12-01 00:00:00  (n=12)\n",
      "Fold: 4\n",
      "    Training:   2009-01-01 00:00:00 -- 2017-12-01 00:00:00  (n=108)\n",
      "    Validation: 2018-01-01 00:00:00 -- 2018-12-01 00:00:00  (n=12)\n",
      "\n"
     ]
    },
    {
     "name": "stderr",
     "output_type": "stream",
     "text": [
      "\n",
      "lags grid:  67%|██████▋   | 4/6 [00:01<00:00,  2.83it/s]   \u001b[A\n",
      "params grid:   0%|          | 0/10 [00:00<?, ?it/s]\u001b[A"
     ]
    },
    {
     "name": "stdout",
     "output_type": "stream",
     "text": [
      "Information of backtesting process\n",
      "----------------------------------\n",
      "Number of observations used for initial training: 60\n",
      "Number of observations used for backtesting: 60\n",
      "    Number of folds: 5\n",
      "    Number of steps per fold: 12\n",
      "    Number of steps to exclude from the end of each train set before test (gap): 0\n",
      "\n",
      "Fold: 0\n",
      "    Training:   2009-01-01 00:00:00 -- 2013-12-01 00:00:00  (n=60)\n",
      "    Validation: 2014-01-01 00:00:00 -- 2014-12-01 00:00:00  (n=12)\n",
      "Fold: 1\n",
      "    Training:   2009-01-01 00:00:00 -- 2014-12-01 00:00:00  (n=72)\n",
      "    Validation: 2015-01-01 00:00:00 -- 2015-12-01 00:00:00  (n=12)\n",
      "Fold: 2\n",
      "    Training:   2009-01-01 00:00:00 -- 2015-12-01 00:00:00  (n=84)\n",
      "    Validation: 2016-01-01 00:00:00 -- 2016-12-01 00:00:00  (n=12)\n",
      "Fold: 3\n",
      "    Training:   2009-01-01 00:00:00 -- 2016-12-01 00:00:00  (n=96)\n",
      "    Validation: 2017-01-01 00:00:00 -- 2017-12-01 00:00:00  (n=12)\n",
      "Fold: 4\n",
      "    Training:   2009-01-01 00:00:00 -- 2017-12-01 00:00:00  (n=108)\n",
      "    Validation: 2018-01-01 00:00:00 -- 2018-12-01 00:00:00  (n=12)\n",
      "\n",
      "Information of backtesting process\n",
      "----------------------------------\n",
      "Number of observations used for initial training: 60\n",
      "Number of observations used for backtesting: 60\n",
      "    Number of folds: 5\n",
      "    Number of steps per fold: 12\n",
      "    Number of steps to exclude from the end of each train set before test (gap): 0\n",
      "\n",
      "Fold: 0\n",
      "    Training:   2009-01-01 00:00:00 -- 2013-12-01 00:00:00  (n=60)\n",
      "    Validation: 2014-01-01 00:00:00 -- 2014-12-01 00:00:00  (n=12)\n",
      "Fold: 1\n",
      "    Training:   2009-01-01 00:00:00 -- 2014-12-01 00:00:00  (n=72)\n",
      "    Validation: 2015-01-01 00:00:00 -- 2015-12-01 00:00:00  (n=12)\n",
      "Fold: 2\n",
      "    Training:   2009-01-01 00:00:00 -- 2015-12-01 00:00:00  (n=84)\n",
      "    Validation: 2016-01-01 00:00:00 -- 2016-12-01 00:00:00  (n=12)\n",
      "Fold: 3\n",
      "    Training:   2009-01-01 00:00:00 -- 2016-12-01 00:00:00  (n=96)\n",
      "    Validation: 2017-01-01 00:00:00 -- 2017-12-01 00:00:00  (n=12)\n",
      "Fold: 4\n",
      "    Training:   2009-01-01 00:00:00 -- 2017-12-01 00:00:00  (n=108)\n",
      "    Validation: 2018-01-01 00:00:00 -- 2018-12-01 00:00:00  (n=12)\n",
      "\n"
     ]
    },
    {
     "name": "stderr",
     "output_type": "stream",
     "text": [
      "\n",
      "params grid:  40%|████      | 4/10 [00:00<00:00, 30.78it/s]\u001b[A"
     ]
    },
    {
     "name": "stdout",
     "output_type": "stream",
     "text": [
      "Information of backtesting process\n",
      "----------------------------------\n",
      "Number of observations used for initial training: 60\n",
      "Number of observations used for backtesting: 60\n",
      "    Number of folds: 5\n",
      "    Number of steps per fold: 12\n",
      "    Number of steps to exclude from the end of each train set before test (gap): 0\n",
      "\n",
      "Fold: 0\n",
      "    Training:   2009-01-01 00:00:00 -- 2013-12-01 00:00:00  (n=60)\n",
      "    Validation: 2014-01-01 00:00:00 -- 2014-12-01 00:00:00  (n=12)\n",
      "Fold: 1\n",
      "    Training:   2009-01-01 00:00:00 -- 2014-12-01 00:00:00  (n=72)\n",
      "    Validation: 2015-01-01 00:00:00 -- 2015-12-01 00:00:00  (n=12)\n",
      "Fold: 2\n",
      "    Training:   2009-01-01 00:00:00 -- 2015-12-01 00:00:00  (n=84)\n",
      "    Validation: 2016-01-01 00:00:00 -- 2016-12-01 00:00:00  (n=12)\n",
      "Fold: 3\n",
      "    Training:   2009-01-01 00:00:00 -- 2016-12-01 00:00:00  (n=96)\n",
      "    Validation: 2017-01-01 00:00:00 -- 2017-12-01 00:00:00  (n=12)\n",
      "Fold: 4\n",
      "    Training:   2009-01-01 00:00:00 -- 2017-12-01 00:00:00  (n=108)\n",
      "    Validation: 2018-01-01 00:00:00 -- 2018-12-01 00:00:00  (n=12)\n",
      "\n",
      "Information of backtesting process\n",
      "----------------------------------\n",
      "Number of observations used for initial training: 60\n",
      "Number of observations used for backtesting: 60\n",
      "    Number of folds: 5\n",
      "    Number of steps per fold: 12\n",
      "    Number of steps to exclude from the end of each train set before test (gap): 0\n",
      "\n",
      "Fold: 0\n",
      "    Training:   2009-01-01 00:00:00 -- 2013-12-01 00:00:00  (n=60)\n",
      "    Validation: 2014-01-01 00:00:00 -- 2014-12-01 00:00:00  (n=12)\n",
      "Fold: 1\n",
      "    Training:   2009-01-01 00:00:00 -- 2014-12-01 00:00:00  (n=72)\n",
      "    Validation: 2015-01-01 00:00:00 -- 2015-12-01 00:00:00  (n=12)\n",
      "Fold: 2\n",
      "    Training:   2009-01-01 00:00:00 -- 2015-12-01 00:00:00  (n=84)\n",
      "    Validation: 2016-01-01 00:00:00 -- 2016-12-01 00:00:00  (n=12)\n",
      "Fold: 3\n",
      "    Training:   2009-01-01 00:00:00 -- 2016-12-01 00:00:00  (n=96)\n",
      "    Validation: 2017-01-01 00:00:00 -- 2017-12-01 00:00:00  (n=12)\n",
      "Fold: 4\n",
      "    Training:   2009-01-01 00:00:00 -- 2017-12-01 00:00:00  (n=108)\n",
      "    Validation: 2018-01-01 00:00:00 -- 2018-12-01 00:00:00  (n=12)\n",
      "\n",
      "Information of backtesting process\n",
      "----------------------------------\n",
      "Number of observations used for initial training: 60\n",
      "Number of observations used for backtesting: 60\n",
      "    Number of folds: 5\n",
      "    Number of steps per fold: 12\n",
      "    Number of steps to exclude from the end of each train set before test (gap): 0\n",
      "\n",
      "Fold: 0\n",
      "    Training:   2009-01-01 00:00:00 -- 2013-12-01 00:00:00  (n=60)\n",
      "    Validation: 2014-01-01 00:00:00 -- 2014-12-01 00:00:00  (n=12)\n",
      "Fold: 1\n",
      "    Training:   2009-01-01 00:00:00 -- 2014-12-01 00:00:00  (n=72)\n",
      "    Validation: 2015-01-01 00:00:00 -- 2015-12-01 00:00:00  (n=12)\n",
      "Fold: 2\n",
      "    Training:   2009-01-01 00:00:00 -- 2015-12-01 00:00:00  (n=84)\n",
      "    Validation: 2016-01-01 00:00:00 -- 2016-12-01 00:00:00  (n=12)\n",
      "Fold: 3\n",
      "    Training:   2009-01-01 00:00:00 -- 2016-12-01 00:00:00  (n=96)\n",
      "    Validation: 2017-01-01 00:00:00 -- 2017-12-01 00:00:00  (n=12)\n",
      "Fold: 4\n",
      "    Training:   2009-01-01 00:00:00 -- 2017-12-01 00:00:00  (n=108)\n",
      "    Validation: 2018-01-01 00:00:00 -- 2018-12-01 00:00:00  (n=12)\n",
      "\n",
      "Information of backtesting process\n",
      "----------------------------------\n",
      "Number of observations used for initial training: 60\n",
      "Number of observations used for backtesting: 60\n",
      "    Number of folds: 5\n",
      "    Number of steps per fold: 12\n",
      "    Number of steps to exclude from the end of each train set before test (gap): 0\n",
      "\n",
      "Fold: 0\n",
      "    Training:   2009-01-01 00:00:00 -- 2013-12-01 00:00:00  (n=60)\n",
      "    Validation: 2014-01-01 00:00:00 -- 2014-12-01 00:00:00  (n=12)\n",
      "Fold: 1\n",
      "    Training:   2009-01-01 00:00:00 -- 2014-12-01 00:00:00  (n=72)\n",
      "    Validation: 2015-01-01 00:00:00 -- 2015-12-01 00:00:00  (n=12)\n",
      "Fold: 2\n",
      "    Training:   2009-01-01 00:00:00 -- 2015-12-01 00:00:00  (n=84)\n",
      "    Validation: 2016-01-01 00:00:00 -- 2016-12-01 00:00:00  (n=12)\n",
      "Fold: 3\n",
      "    Training:   2009-01-01 00:00:00 -- 2016-12-01 00:00:00  (n=96)\n",
      "    Validation: 2017-01-01 00:00:00 -- 2017-12-01 00:00:00  (n=12)\n",
      "Fold: 4\n",
      "    Training:   2009-01-01 00:00:00 -- 2017-12-01 00:00:00  (n=108)\n",
      "    Validation: 2018-01-01 00:00:00 -- 2018-12-01 00:00:00  (n=12)\n",
      "\n",
      "Information of backtesting process\n",
      "----------------------------------\n",
      "Number of observations used for initial training: 60\n",
      "Number of observations used for backtesting: 60\n",
      "    Number of folds: 5\n",
      "    Number of steps per fold: 12\n",
      "    Number of steps to exclude from the end of each train set before test (gap): 0\n",
      "\n",
      "Fold: 0\n",
      "    Training:   2009-01-01 00:00:00 -- 2013-12-01 00:00:00  (n=60)\n",
      "    Validation: 2014-01-01 00:00:00 -- 2014-12-01 00:00:00  (n=12)\n",
      "Fold: 1\n",
      "    Training:   2009-01-01 00:00:00 -- 2014-12-01 00:00:00  (n=72)\n",
      "    Validation: 2015-01-01 00:00:00 -- 2015-12-01 00:00:00  (n=12)\n",
      "Fold: 2\n",
      "    Training:   2009-01-01 00:00:00 -- 2015-12-01 00:00:00  (n=84)\n",
      "    Validation: 2016-01-01 00:00:00 -- 2016-12-01 00:00:00  (n=12)\n",
      "Fold: 3\n",
      "    Training:   2009-01-01 00:00:00 -- 2016-12-01 00:00:00  (n=96)\n",
      "    Validation: 2017-01-01 00:00:00 -- 2017-12-01 00:00:00  (n=12)\n",
      "Fold: 4\n",
      "    Training:   2009-01-01 00:00:00 -- 2017-12-01 00:00:00  (n=108)\n",
      "    Validation: 2018-01-01 00:00:00 -- 2018-12-01 00:00:00  (n=12)\n",
      "\n",
      "Information of backtesting process\n",
      "----------------------------------\n",
      "Number of observations used for initial training: 60\n",
      "Number of observations used for backtesting: 60\n",
      "    Number of folds: 5\n",
      "    Number of steps per fold: 12\n",
      "    Number of steps to exclude from the end of each train set before test (gap): 0\n",
      "\n",
      "Fold: 0\n",
      "    Training:   2009-01-01 00:00:00 -- 2013-12-01 00:00:00  (n=60)\n",
      "    Validation: 2014-01-01 00:00:00 -- 2014-12-01 00:00:00  (n=12)\n",
      "Fold: 1\n",
      "    Training:   2009-01-01 00:00:00 -- 2014-12-01 00:00:00  (n=72)\n",
      "    Validation: 2015-01-01 00:00:00 -- 2015-12-01 00:00:00  (n=12)\n",
      "Fold: 2\n",
      "    Training:   2009-01-01 00:00:00 -- 2015-12-01 00:00:00  (n=84)\n",
      "    Validation: 2016-01-01 00:00:00 -- 2016-12-01 00:00:00  (n=12)\n",
      "Fold: 3\n",
      "    Training:   2009-01-01 00:00:00 -- 2016-12-01 00:00:00  (n=96)\n",
      "    Validation: 2017-01-01 00:00:00 -- 2017-12-01 00:00:00  (n=12)\n",
      "Fold: 4\n",
      "    Training:   2009-01-01 00:00:00 -- 2017-12-01 00:00:00  (n=108)\n",
      "    Validation: 2018-01-01 00:00:00 -- 2018-12-01 00:00:00  (n=12)\n",
      "\n"
     ]
    },
    {
     "name": "stderr",
     "output_type": "stream",
     "text": [
      "\n",
      "params grid:  80%|████████  | 8/10 [00:00<00:00, 28.61it/s]\u001b[A\n",
      "lags grid:  83%|████████▎ | 5/6 [00:01<00:00,  2.83it/s]   \u001b[A"
     ]
    },
    {
     "name": "stdout",
     "output_type": "stream",
     "text": [
      "Information of backtesting process\n",
      "----------------------------------\n",
      "Number of observations used for initial training: 60\n",
      "Number of observations used for backtesting: 60\n",
      "    Number of folds: 5\n",
      "    Number of steps per fold: 12\n",
      "    Number of steps to exclude from the end of each train set before test (gap): 0\n",
      "\n",
      "Fold: 0\n",
      "    Training:   2009-01-01 00:00:00 -- 2013-12-01 00:00:00  (n=60)\n",
      "    Validation: 2014-01-01 00:00:00 -- 2014-12-01 00:00:00  (n=12)\n",
      "Fold: 1\n",
      "    Training:   2009-01-01 00:00:00 -- 2014-12-01 00:00:00  (n=72)\n",
      "    Validation: 2015-01-01 00:00:00 -- 2015-12-01 00:00:00  (n=12)\n",
      "Fold: 2\n",
      "    Training:   2009-01-01 00:00:00 -- 2015-12-01 00:00:00  (n=84)\n",
      "    Validation: 2016-01-01 00:00:00 -- 2016-12-01 00:00:00  (n=12)\n",
      "Fold: 3\n",
      "    Training:   2009-01-01 00:00:00 -- 2016-12-01 00:00:00  (n=96)\n",
      "    Validation: 2017-01-01 00:00:00 -- 2017-12-01 00:00:00  (n=12)\n",
      "Fold: 4\n",
      "    Training:   2009-01-01 00:00:00 -- 2017-12-01 00:00:00  (n=108)\n",
      "    Validation: 2018-01-01 00:00:00 -- 2018-12-01 00:00:00  (n=12)\n",
      "\n",
      "Information of backtesting process\n",
      "----------------------------------\n",
      "Number of observations used for initial training: 60\n",
      "Number of observations used for backtesting: 60\n",
      "    Number of folds: 5\n",
      "    Number of steps per fold: 12\n",
      "    Number of steps to exclude from the end of each train set before test (gap): 0\n",
      "\n",
      "Fold: 0\n",
      "    Training:   2009-01-01 00:00:00 -- 2013-12-01 00:00:00  (n=60)\n",
      "    Validation: 2014-01-01 00:00:00 -- 2014-12-01 00:00:00  (n=12)\n",
      "Fold: 1\n",
      "    Training:   2009-01-01 00:00:00 -- 2014-12-01 00:00:00  (n=72)\n",
      "    Validation: 2015-01-01 00:00:00 -- 2015-12-01 00:00:00  (n=12)\n",
      "Fold: 2\n",
      "    Training:   2009-01-01 00:00:00 -- 2015-12-01 00:00:00  (n=84)\n",
      "    Validation: 2016-01-01 00:00:00 -- 2016-12-01 00:00:00  (n=12)\n",
      "Fold: 3\n",
      "    Training:   2009-01-01 00:00:00 -- 2016-12-01 00:00:00  (n=96)\n",
      "    Validation: 2017-01-01 00:00:00 -- 2017-12-01 00:00:00  (n=12)\n",
      "Fold: 4\n",
      "    Training:   2009-01-01 00:00:00 -- 2017-12-01 00:00:00  (n=108)\n",
      "    Validation: 2018-01-01 00:00:00 -- 2018-12-01 00:00:00  (n=12)\n",
      "\n"
     ]
    },
    {
     "name": "stderr",
     "output_type": "stream",
     "text": [
      "\n",
      "params grid:   0%|          | 0/10 [00:00<?, ?it/s]\u001b[A"
     ]
    },
    {
     "name": "stdout",
     "output_type": "stream",
     "text": [
      "Information of backtesting process\n",
      "----------------------------------\n",
      "Number of observations used for initial training: 60\n",
      "Number of observations used for backtesting: 60\n",
      "    Number of folds: 5\n",
      "    Number of steps per fold: 12\n",
      "    Number of steps to exclude from the end of each train set before test (gap): 0\n",
      "\n",
      "Fold: 0\n",
      "    Training:   2009-01-01 00:00:00 -- 2013-12-01 00:00:00  (n=60)\n",
      "    Validation: 2014-01-01 00:00:00 -- 2014-12-01 00:00:00  (n=12)\n",
      "Fold: 1\n",
      "    Training:   2009-01-01 00:00:00 -- 2014-12-01 00:00:00  (n=72)\n",
      "    Validation: 2015-01-01 00:00:00 -- 2015-12-01 00:00:00  (n=12)\n",
      "Fold: 2\n",
      "    Training:   2009-01-01 00:00:00 -- 2015-12-01 00:00:00  (n=84)\n",
      "    Validation: 2016-01-01 00:00:00 -- 2016-12-01 00:00:00  (n=12)\n",
      "Fold: 3\n",
      "    Training:   2009-01-01 00:00:00 -- 2016-12-01 00:00:00  (n=96)\n",
      "    Validation: 2017-01-01 00:00:00 -- 2017-12-01 00:00:00  (n=12)\n",
      "Fold: 4\n",
      "    Training:   2009-01-01 00:00:00 -- 2017-12-01 00:00:00  (n=108)\n",
      "    Validation: 2018-01-01 00:00:00 -- 2018-12-01 00:00:00  (n=12)\n",
      "\n",
      "Information of backtesting process\n",
      "----------------------------------\n",
      "Number of observations used for initial training: 60\n",
      "Number of observations used for backtesting: 60\n",
      "    Number of folds: 5\n",
      "    Number of steps per fold: 12\n",
      "    Number of steps to exclude from the end of each train set before test (gap): 0\n",
      "\n",
      "Fold: 0\n",
      "    Training:   2009-01-01 00:00:00 -- 2013-12-01 00:00:00  (n=60)\n",
      "    Validation: 2014-01-01 00:00:00 -- 2014-12-01 00:00:00  (n=12)\n",
      "Fold: 1\n",
      "    Training:   2009-01-01 00:00:00 -- 2014-12-01 00:00:00  (n=72)\n",
      "    Validation: 2015-01-01 00:00:00 -- 2015-12-01 00:00:00  (n=12)\n",
      "Fold: 2\n",
      "    Training:   2009-01-01 00:00:00 -- 2015-12-01 00:00:00  (n=84)\n",
      "    Validation: 2016-01-01 00:00:00 -- 2016-12-01 00:00:00  (n=12)\n",
      "Fold: 3\n",
      "    Training:   2009-01-01 00:00:00 -- 2016-12-01 00:00:00  (n=96)\n",
      "    Validation: 2017-01-01 00:00:00 -- 2017-12-01 00:00:00  (n=12)\n",
      "Fold: 4\n",
      "    Training:   2009-01-01 00:00:00 -- 2017-12-01 00:00:00  (n=108)\n",
      "    Validation: 2018-01-01 00:00:00 -- 2018-12-01 00:00:00  (n=12)\n",
      "\n"
     ]
    },
    {
     "name": "stderr",
     "output_type": "stream",
     "text": [
      "\n",
      "params grid:  30%|███       | 3/10 [00:00<00:00, 29.40it/s]\u001b[A"
     ]
    },
    {
     "name": "stdout",
     "output_type": "stream",
     "text": [
      "Information of backtesting process\n",
      "----------------------------------\n",
      "Number of observations used for initial training: 60\n",
      "Number of observations used for backtesting: 60\n",
      "    Number of folds: 5\n",
      "    Number of steps per fold: 12\n",
      "    Number of steps to exclude from the end of each train set before test (gap): 0\n",
      "\n",
      "Fold: 0\n",
      "    Training:   2009-01-01 00:00:00 -- 2013-12-01 00:00:00  (n=60)\n",
      "    Validation: 2014-01-01 00:00:00 -- 2014-12-01 00:00:00  (n=12)\n",
      "Fold: 1\n",
      "    Training:   2009-01-01 00:00:00 -- 2014-12-01 00:00:00  (n=72)\n",
      "    Validation: 2015-01-01 00:00:00 -- 2015-12-01 00:00:00  (n=12)\n",
      "Fold: 2\n",
      "    Training:   2009-01-01 00:00:00 -- 2015-12-01 00:00:00  (n=84)\n",
      "    Validation: 2016-01-01 00:00:00 -- 2016-12-01 00:00:00  (n=12)\n",
      "Fold: 3\n",
      "    Training:   2009-01-01 00:00:00 -- 2016-12-01 00:00:00  (n=96)\n",
      "    Validation: 2017-01-01 00:00:00 -- 2017-12-01 00:00:00  (n=12)\n",
      "Fold: 4\n",
      "    Training:   2009-01-01 00:00:00 -- 2017-12-01 00:00:00  (n=108)\n",
      "    Validation: 2018-01-01 00:00:00 -- 2018-12-01 00:00:00  (n=12)\n",
      "\n",
      "Information of backtesting process\n",
      "----------------------------------\n",
      "Number of observations used for initial training: 60\n",
      "Number of observations used for backtesting: 60\n",
      "    Number of folds: 5\n",
      "    Number of steps per fold: 12\n",
      "    Number of steps to exclude from the end of each train set before test (gap): 0\n",
      "\n",
      "Fold: 0\n",
      "    Training:   2009-01-01 00:00:00 -- 2013-12-01 00:00:00  (n=60)\n",
      "    Validation: 2014-01-01 00:00:00 -- 2014-12-01 00:00:00  (n=12)\n",
      "Fold: 1\n",
      "    Training:   2009-01-01 00:00:00 -- 2014-12-01 00:00:00  (n=72)\n",
      "    Validation: 2015-01-01 00:00:00 -- 2015-12-01 00:00:00  (n=12)\n",
      "Fold: 2\n",
      "    Training:   2009-01-01 00:00:00 -- 2015-12-01 00:00:00  (n=84)\n",
      "    Validation: 2016-01-01 00:00:00 -- 2016-12-01 00:00:00  (n=12)\n",
      "Fold: 3\n",
      "    Training:   2009-01-01 00:00:00 -- 2016-12-01 00:00:00  (n=96)\n",
      "    Validation: 2017-01-01 00:00:00 -- 2017-12-01 00:00:00  (n=12)\n",
      "Fold: 4\n",
      "    Training:   2009-01-01 00:00:00 -- 2017-12-01 00:00:00  (n=108)\n",
      "    Validation: 2018-01-01 00:00:00 -- 2018-12-01 00:00:00  (n=12)\n",
      "\n",
      "Information of backtesting process\n",
      "----------------------------------\n",
      "Number of observations used for initial training: 60\n",
      "Number of observations used for backtesting: 60\n",
      "    Number of folds: 5\n",
      "    Number of steps per fold: 12\n",
      "    Number of steps to exclude from the end of each train set before test (gap): 0\n",
      "\n",
      "Fold: 0\n",
      "    Training:   2009-01-01 00:00:00 -- 2013-12-01 00:00:00  (n=60)\n",
      "    Validation: 2014-01-01 00:00:00 -- 2014-12-01 00:00:00  (n=12)\n",
      "Fold: 1\n",
      "    Training:   2009-01-01 00:00:00 -- 2014-12-01 00:00:00  (n=72)\n",
      "    Validation: 2015-01-01 00:00:00 -- 2015-12-01 00:00:00  (n=12)\n",
      "Fold: 2\n",
      "    Training:   2009-01-01 00:00:00 -- 2015-12-01 00:00:00  (n=84)\n",
      "    Validation: 2016-01-01 00:00:00 -- 2016-12-01 00:00:00  (n=12)\n",
      "Fold: 3\n",
      "    Training:   2009-01-01 00:00:00 -- 2016-12-01 00:00:00  (n=96)\n",
      "    Validation: 2017-01-01 00:00:00 -- 2017-12-01 00:00:00  (n=12)\n",
      "Fold: 4\n",
      "    Training:   2009-01-01 00:00:00 -- 2017-12-01 00:00:00  (n=108)\n",
      "    Validation: 2018-01-01 00:00:00 -- 2018-12-01 00:00:00  (n=12)\n",
      "\n",
      "Information of backtesting process\n",
      "----------------------------------\n",
      "Number of observations used for initial training: 60\n",
      "Number of observations used for backtesting: 60\n",
      "    Number of folds: 5\n",
      "    Number of steps per fold: 12\n",
      "    Number of steps to exclude from the end of each train set before test (gap): 0\n",
      "\n",
      "Fold: 0\n",
      "    Training:   2009-01-01 00:00:00 -- 2013-12-01 00:00:00  (n=60)\n",
      "    Validation: 2014-01-01 00:00:00 -- 2014-12-01 00:00:00  (n=12)\n",
      "Fold: 1\n",
      "    Training:   2009-01-01 00:00:00 -- 2014-12-01 00:00:00  (n=72)\n",
      "    Validation: 2015-01-01 00:00:00 -- 2015-12-01 00:00:00  (n=12)\n",
      "Fold: 2\n",
      "    Training:   2009-01-01 00:00:00 -- 2015-12-01 00:00:00  (n=84)\n",
      "    Validation: 2016-01-01 00:00:00 -- 2016-12-01 00:00:00  (n=12)\n",
      "Fold: 3\n",
      "    Training:   2009-01-01 00:00:00 -- 2016-12-01 00:00:00  (n=96)\n",
      "    Validation: 2017-01-01 00:00:00 -- 2017-12-01 00:00:00  (n=12)\n",
      "Fold: 4\n",
      "    Training:   2009-01-01 00:00:00 -- 2017-12-01 00:00:00  (n=108)\n",
      "    Validation: 2018-01-01 00:00:00 -- 2018-12-01 00:00:00  (n=12)\n",
      "\n"
     ]
    },
    {
     "name": "stderr",
     "output_type": "stream",
     "text": [
      "\n",
      "params grid:  60%|██████    | 6/10 [00:00<00:00, 27.14it/s]\u001b[A"
     ]
    },
    {
     "name": "stdout",
     "output_type": "stream",
     "text": [
      "Information of backtesting process\n",
      "----------------------------------\n",
      "Number of observations used for initial training: 60\n",
      "Number of observations used for backtesting: 60\n",
      "    Number of folds: 5\n",
      "    Number of steps per fold: 12\n",
      "    Number of steps to exclude from the end of each train set before test (gap): 0\n",
      "\n",
      "Fold: 0\n",
      "    Training:   2009-01-01 00:00:00 -- 2013-12-01 00:00:00  (n=60)\n",
      "    Validation: 2014-01-01 00:00:00 -- 2014-12-01 00:00:00  (n=12)\n",
      "Fold: 1\n",
      "    Training:   2009-01-01 00:00:00 -- 2014-12-01 00:00:00  (n=72)\n",
      "    Validation: 2015-01-01 00:00:00 -- 2015-12-01 00:00:00  (n=12)\n",
      "Fold: 2\n",
      "    Training:   2009-01-01 00:00:00 -- 2015-12-01 00:00:00  (n=84)\n",
      "    Validation: 2016-01-01 00:00:00 -- 2016-12-01 00:00:00  (n=12)\n",
      "Fold: 3\n",
      "    Training:   2009-01-01 00:00:00 -- 2016-12-01 00:00:00  (n=96)\n",
      "    Validation: 2017-01-01 00:00:00 -- 2017-12-01 00:00:00  (n=12)\n",
      "Fold: 4\n",
      "    Training:   2009-01-01 00:00:00 -- 2017-12-01 00:00:00  (n=108)\n",
      "    Validation: 2018-01-01 00:00:00 -- 2018-12-01 00:00:00  (n=12)\n",
      "\n",
      "Information of backtesting process\n",
      "----------------------------------\n",
      "Number of observations used for initial training: 60\n",
      "Number of observations used for backtesting: 60\n",
      "    Number of folds: 5\n",
      "    Number of steps per fold: 12\n",
      "    Number of steps to exclude from the end of each train set before test (gap): 0\n",
      "\n",
      "Fold: 0\n",
      "    Training:   2009-01-01 00:00:00 -- 2013-12-01 00:00:00  (n=60)\n",
      "    Validation: 2014-01-01 00:00:00 -- 2014-12-01 00:00:00  (n=12)\n",
      "Fold: 1\n",
      "    Training:   2009-01-01 00:00:00 -- 2014-12-01 00:00:00  (n=72)\n",
      "    Validation: 2015-01-01 00:00:00 -- 2015-12-01 00:00:00  (n=12)\n",
      "Fold: 2\n",
      "    Training:   2009-01-01 00:00:00 -- 2015-12-01 00:00:00  (n=84)\n",
      "    Validation: 2016-01-01 00:00:00 -- 2016-12-01 00:00:00  (n=12)\n",
      "Fold: 3\n",
      "    Training:   2009-01-01 00:00:00 -- 2016-12-01 00:00:00  (n=96)\n",
      "    Validation: 2017-01-01 00:00:00 -- 2017-12-01 00:00:00  (n=12)\n",
      "Fold: 4\n",
      "    Training:   2009-01-01 00:00:00 -- 2017-12-01 00:00:00  (n=108)\n",
      "    Validation: 2018-01-01 00:00:00 -- 2018-12-01 00:00:00  (n=12)\n",
      "\n"
     ]
    },
    {
     "name": "stderr",
     "output_type": "stream",
     "text": [
      "\n",
      "params grid:  90%|█████████ | 9/10 [00:00<00:00, 27.19it/s]\u001b[A"
     ]
    },
    {
     "name": "stdout",
     "output_type": "stream",
     "text": [
      "Information of backtesting process\n",
      "----------------------------------\n",
      "Number of observations used for initial training: 60\n",
      "Number of observations used for backtesting: 60\n",
      "    Number of folds: 5\n",
      "    Number of steps per fold: 12\n",
      "    Number of steps to exclude from the end of each train set before test (gap): 0\n",
      "\n",
      "Fold: 0\n",
      "    Training:   2009-01-01 00:00:00 -- 2013-12-01 00:00:00  (n=60)\n",
      "    Validation: 2014-01-01 00:00:00 -- 2014-12-01 00:00:00  (n=12)\n",
      "Fold: 1\n",
      "    Training:   2009-01-01 00:00:00 -- 2014-12-01 00:00:00  (n=72)\n",
      "    Validation: 2015-01-01 00:00:00 -- 2015-12-01 00:00:00  (n=12)\n",
      "Fold: 2\n",
      "    Training:   2009-01-01 00:00:00 -- 2015-12-01 00:00:00  (n=84)\n",
      "    Validation: 2016-01-01 00:00:00 -- 2016-12-01 00:00:00  (n=12)\n",
      "Fold: 3\n",
      "    Training:   2009-01-01 00:00:00 -- 2016-12-01 00:00:00  (n=96)\n",
      "    Validation: 2017-01-01 00:00:00 -- 2017-12-01 00:00:00  (n=12)\n",
      "Fold: 4\n",
      "    Training:   2009-01-01 00:00:00 -- 2017-12-01 00:00:00  (n=108)\n",
      "    Validation: 2018-01-01 00:00:00 -- 2018-12-01 00:00:00  (n=12)\n",
      "\n",
      "Information of backtesting process\n",
      "----------------------------------\n",
      "Number of observations used for initial training: 60\n",
      "Number of observations used for backtesting: 60\n",
      "    Number of folds: 5\n",
      "    Number of steps per fold: 12\n",
      "    Number of steps to exclude from the end of each train set before test (gap): 0\n",
      "\n",
      "Fold: 0\n",
      "    Training:   2009-01-01 00:00:00 -- 2013-12-01 00:00:00  (n=60)\n",
      "    Validation: 2014-01-01 00:00:00 -- 2014-12-01 00:00:00  (n=12)\n",
      "Fold: 1\n",
      "    Training:   2009-01-01 00:00:00 -- 2014-12-01 00:00:00  (n=72)\n",
      "    Validation: 2015-01-01 00:00:00 -- 2015-12-01 00:00:00  (n=12)\n",
      "Fold: 2\n",
      "    Training:   2009-01-01 00:00:00 -- 2015-12-01 00:00:00  (n=84)\n",
      "    Validation: 2016-01-01 00:00:00 -- 2016-12-01 00:00:00  (n=12)\n",
      "Fold: 3\n",
      "    Training:   2009-01-01 00:00:00 -- 2016-12-01 00:00:00  (n=96)\n",
      "    Validation: 2017-01-01 00:00:00 -- 2017-12-01 00:00:00  (n=12)\n",
      "Fold: 4\n",
      "    Training:   2009-01-01 00:00:00 -- 2017-12-01 00:00:00  (n=108)\n",
      "    Validation: 2018-01-01 00:00:00 -- 2018-12-01 00:00:00  (n=12)\n",
      "\n"
     ]
    },
    {
     "name": "stderr",
     "output_type": "stream",
     "text": [
      "\n",
      "lags grid: 100%|██████████| 6/6 [00:02<00:00,  2.80it/s]   \u001b[A"
     ]
    },
    {
     "name": "stdout",
     "output_type": "stream",
     "text": [
      "`Forecaster` refitted using the best-found lags and parameters, and the whole data set: \n",
      "  Lags: [ 1  2  3  4  5  6  7  8  9 10] \n",
      "  Parameters: {'max_depth': 10}\n",
      "  Backtesting metric: 1.5625980129565606\n",
      "\n"
     ]
    },
    {
     "name": "stderr",
     "output_type": "stream",
     "text": [
      "\n"
     ]
    }
   ],
   "source": [
    "# Hyperparameter Grid search\n",
    "# ==============================================================================\n",
    "steps = 12\n",
    "forecaster = ForecasterAutoreg(\n",
    "                regressor = DecisionTreeRegressor(random_state= 0),\n",
    "                lags      = 2 # This value will be replaced in the grid search\n",
    "             )\n",
    "\n",
    "# Lags used as predictors\n",
    "lags_grid = [3,5,10,12,15, 20]\n",
    "\n",
    "# Regressor's hyperparameters\n",
    "param_grid = { 'max_depth': [1,2,3,4,5,6,7,8,9,10]}\n",
    "\n",
    "results_grid = grid_search_forecaster(\n",
    "                        forecaster         = forecaster,\n",
    "                        y                  = data_train['yprecip'],\n",
    "                        param_grid         = param_grid,\n",
    "                        lags_grid          = lags_grid,\n",
    "                        steps              = steps,\n",
    "                        refit              = True,\n",
    "                        metric             = 'mean_squared_error',\n",
    "                        initial_train_size = int(len(data_train)*0.5),\n",
    "                        fixed_train_size   = False,\n",
    "                        return_best        = True,\n",
    "                        verbose            = True\n",
    "               )"
   ]
  },
  {
   "cell_type": "code",
   "execution_count": 12,
   "id": "28fa8435",
   "metadata": {},
   "outputs": [
    {
     "data": {
      "text/html": [
       "<div>\n",
       "<style scoped>\n",
       "    .dataframe tbody tr th:only-of-type {\n",
       "        vertical-align: middle;\n",
       "    }\n",
       "\n",
       "    .dataframe tbody tr th {\n",
       "        vertical-align: top;\n",
       "    }\n",
       "\n",
       "    .dataframe thead th {\n",
       "        text-align: right;\n",
       "    }\n",
       "</style>\n",
       "<table border=\"1\" class=\"dataframe\">\n",
       "  <thead>\n",
       "    <tr style=\"text-align: right;\">\n",
       "      <th></th>\n",
       "      <th>lags</th>\n",
       "      <th>params</th>\n",
       "      <th>mean_squared_error</th>\n",
       "      <th>max_depth</th>\n",
       "    </tr>\n",
       "  </thead>\n",
       "  <tbody>\n",
       "    <tr>\n",
       "      <th>29</th>\n",
       "      <td>[1, 2, 3, 4, 5, 6, 7, 8, 9, 10]</td>\n",
       "      <td>{'max_depth': 10}</td>\n",
       "      <td>1.562598</td>\n",
       "      <td>10</td>\n",
       "    </tr>\n",
       "    <tr>\n",
       "      <th>27</th>\n",
       "      <td>[1, 2, 3, 4, 5, 6, 7, 8, 9, 10]</td>\n",
       "      <td>{'max_depth': 8}</td>\n",
       "      <td>1.863724</td>\n",
       "      <td>8</td>\n",
       "    </tr>\n",
       "    <tr>\n",
       "      <th>26</th>\n",
       "      <td>[1, 2, 3, 4, 5, 6, 7, 8, 9, 10]</td>\n",
       "      <td>{'max_depth': 7}</td>\n",
       "      <td>1.881522</td>\n",
       "      <td>7</td>\n",
       "    </tr>\n",
       "    <tr>\n",
       "      <th>31</th>\n",
       "      <td>[1, 2, 3, 4, 5, 6, 7, 8, 9, 10, 11, 12]</td>\n",
       "      <td>{'max_depth': 2}</td>\n",
       "      <td>1.951654</td>\n",
       "      <td>2</td>\n",
       "    </tr>\n",
       "    <tr>\n",
       "      <th>33</th>\n",
       "      <td>[1, 2, 3, 4, 5, 6, 7, 8, 9, 10, 11, 12]</td>\n",
       "      <td>{'max_depth': 4}</td>\n",
       "      <td>2.067690</td>\n",
       "      <td>4</td>\n",
       "    </tr>\n",
       "    <tr>\n",
       "      <th>30</th>\n",
       "      <td>[1, 2, 3, 4, 5, 6, 7, 8, 9, 10, 11, 12]</td>\n",
       "      <td>{'max_depth': 1}</td>\n",
       "      <td>2.069260</td>\n",
       "      <td>1</td>\n",
       "    </tr>\n",
       "    <tr>\n",
       "      <th>28</th>\n",
       "      <td>[1, 2, 3, 4, 5, 6, 7, 8, 9, 10]</td>\n",
       "      <td>{'max_depth': 9}</td>\n",
       "      <td>2.102679</td>\n",
       "      <td>9</td>\n",
       "    </tr>\n",
       "    <tr>\n",
       "      <th>11</th>\n",
       "      <td>[1, 2, 3, 4, 5]</td>\n",
       "      <td>{'max_depth': 2}</td>\n",
       "      <td>2.152084</td>\n",
       "      <td>2</td>\n",
       "    </tr>\n",
       "    <tr>\n",
       "      <th>23</th>\n",
       "      <td>[1, 2, 3, 4, 5, 6, 7, 8, 9, 10]</td>\n",
       "      <td>{'max_depth': 4}</td>\n",
       "      <td>2.293611</td>\n",
       "      <td>4</td>\n",
       "    </tr>\n",
       "    <tr>\n",
       "      <th>32</th>\n",
       "      <td>[1, 2, 3, 4, 5, 6, 7, 8, 9, 10, 11, 12]</td>\n",
       "      <td>{'max_depth': 3}</td>\n",
       "      <td>2.305430</td>\n",
       "      <td>3</td>\n",
       "    </tr>\n",
       "    <tr>\n",
       "      <th>21</th>\n",
       "      <td>[1, 2, 3, 4, 5, 6, 7, 8, 9, 10]</td>\n",
       "      <td>{'max_depth': 2}</td>\n",
       "      <td>2.310307</td>\n",
       "      <td>2</td>\n",
       "    </tr>\n",
       "    <tr>\n",
       "      <th>50</th>\n",
       "      <td>[1, 2, 3, 4, 5, 6, 7, 8, 9, 10, 11, 12, 13, 14...</td>\n",
       "      <td>{'max_depth': 1}</td>\n",
       "      <td>2.452132</td>\n",
       "      <td>1</td>\n",
       "    </tr>\n",
       "    <tr>\n",
       "      <th>40</th>\n",
       "      <td>[1, 2, 3, 4, 5, 6, 7, 8, 9, 10, 11, 12, 13, 14...</td>\n",
       "      <td>{'max_depth': 1}</td>\n",
       "      <td>2.493161</td>\n",
       "      <td>1</td>\n",
       "    </tr>\n",
       "    <tr>\n",
       "      <th>2</th>\n",
       "      <td>[1, 2, 3]</td>\n",
       "      <td>{'max_depth': 3}</td>\n",
       "      <td>2.505318</td>\n",
       "      <td>3</td>\n",
       "    </tr>\n",
       "    <tr>\n",
       "      <th>34</th>\n",
       "      <td>[1, 2, 3, 4, 5, 6, 7, 8, 9, 10, 11, 12]</td>\n",
       "      <td>{'max_depth': 5}</td>\n",
       "      <td>2.511875</td>\n",
       "      <td>5</td>\n",
       "    </tr>\n",
       "    <tr>\n",
       "      <th>4</th>\n",
       "      <td>[1, 2, 3]</td>\n",
       "      <td>{'max_depth': 5}</td>\n",
       "      <td>2.516893</td>\n",
       "      <td>5</td>\n",
       "    </tr>\n",
       "    <tr>\n",
       "      <th>41</th>\n",
       "      <td>[1, 2, 3, 4, 5, 6, 7, 8, 9, 10, 11, 12, 13, 14...</td>\n",
       "      <td>{'max_depth': 2}</td>\n",
       "      <td>2.518560</td>\n",
       "      <td>2</td>\n",
       "    </tr>\n",
       "    <tr>\n",
       "      <th>42</th>\n",
       "      <td>[1, 2, 3, 4, 5, 6, 7, 8, 9, 10, 11, 12, 13, 14...</td>\n",
       "      <td>{'max_depth': 3}</td>\n",
       "      <td>2.604460</td>\n",
       "      <td>3</td>\n",
       "    </tr>\n",
       "    <tr>\n",
       "      <th>43</th>\n",
       "      <td>[1, 2, 3, 4, 5, 6, 7, 8, 9, 10, 11, 12, 13, 14...</td>\n",
       "      <td>{'max_depth': 4}</td>\n",
       "      <td>2.609743</td>\n",
       "      <td>4</td>\n",
       "    </tr>\n",
       "    <tr>\n",
       "      <th>51</th>\n",
       "      <td>[1, 2, 3, 4, 5, 6, 7, 8, 9, 10, 11, 12, 13, 14...</td>\n",
       "      <td>{'max_depth': 2}</td>\n",
       "      <td>2.670927</td>\n",
       "      <td>2</td>\n",
       "    </tr>\n",
       "    <tr>\n",
       "      <th>3</th>\n",
       "      <td>[1, 2, 3]</td>\n",
       "      <td>{'max_depth': 4}</td>\n",
       "      <td>2.704901</td>\n",
       "      <td>4</td>\n",
       "    </tr>\n",
       "    <tr>\n",
       "      <th>36</th>\n",
       "      <td>[1, 2, 3, 4, 5, 6, 7, 8, 9, 10, 11, 12]</td>\n",
       "      <td>{'max_depth': 7}</td>\n",
       "      <td>2.726530</td>\n",
       "      <td>7</td>\n",
       "    </tr>\n",
       "    <tr>\n",
       "      <th>46</th>\n",
       "      <td>[1, 2, 3, 4, 5, 6, 7, 8, 9, 10, 11, 12, 13, 14...</td>\n",
       "      <td>{'max_depth': 7}</td>\n",
       "      <td>2.756749</td>\n",
       "      <td>7</td>\n",
       "    </tr>\n",
       "    <tr>\n",
       "      <th>39</th>\n",
       "      <td>[1, 2, 3, 4, 5, 6, 7, 8, 9, 10, 11, 12]</td>\n",
       "      <td>{'max_depth': 10}</td>\n",
       "      <td>2.763431</td>\n",
       "      <td>10</td>\n",
       "    </tr>\n",
       "    <tr>\n",
       "      <th>35</th>\n",
       "      <td>[1, 2, 3, 4, 5, 6, 7, 8, 9, 10, 11, 12]</td>\n",
       "      <td>{'max_depth': 6}</td>\n",
       "      <td>2.765719</td>\n",
       "      <td>6</td>\n",
       "    </tr>\n",
       "    <tr>\n",
       "      <th>25</th>\n",
       "      <td>[1, 2, 3, 4, 5, 6, 7, 8, 9, 10]</td>\n",
       "      <td>{'max_depth': 6}</td>\n",
       "      <td>2.845201</td>\n",
       "      <td>6</td>\n",
       "    </tr>\n",
       "    <tr>\n",
       "      <th>16</th>\n",
       "      <td>[1, 2, 3, 4, 5]</td>\n",
       "      <td>{'max_depth': 7}</td>\n",
       "      <td>2.857206</td>\n",
       "      <td>7</td>\n",
       "    </tr>\n",
       "    <tr>\n",
       "      <th>1</th>\n",
       "      <td>[1, 2, 3]</td>\n",
       "      <td>{'max_depth': 2}</td>\n",
       "      <td>2.860514</td>\n",
       "      <td>2</td>\n",
       "    </tr>\n",
       "    <tr>\n",
       "      <th>37</th>\n",
       "      <td>[1, 2, 3, 4, 5, 6, 7, 8, 9, 10, 11, 12]</td>\n",
       "      <td>{'max_depth': 8}</td>\n",
       "      <td>2.882728</td>\n",
       "      <td>8</td>\n",
       "    </tr>\n",
       "    <tr>\n",
       "      <th>47</th>\n",
       "      <td>[1, 2, 3, 4, 5, 6, 7, 8, 9, 10, 11, 12, 13, 14...</td>\n",
       "      <td>{'max_depth': 8}</td>\n",
       "      <td>2.905239</td>\n",
       "      <td>8</td>\n",
       "    </tr>\n",
       "    <tr>\n",
       "      <th>45</th>\n",
       "      <td>[1, 2, 3, 4, 5, 6, 7, 8, 9, 10, 11, 12, 13, 14...</td>\n",
       "      <td>{'max_depth': 6}</td>\n",
       "      <td>2.928603</td>\n",
       "      <td>6</td>\n",
       "    </tr>\n",
       "    <tr>\n",
       "      <th>52</th>\n",
       "      <td>[1, 2, 3, 4, 5, 6, 7, 8, 9, 10, 11, 12, 13, 14...</td>\n",
       "      <td>{'max_depth': 3}</td>\n",
       "      <td>2.938157</td>\n",
       "      <td>3</td>\n",
       "    </tr>\n",
       "    <tr>\n",
       "      <th>24</th>\n",
       "      <td>[1, 2, 3, 4, 5, 6, 7, 8, 9, 10]</td>\n",
       "      <td>{'max_depth': 5}</td>\n",
       "      <td>2.999903</td>\n",
       "      <td>5</td>\n",
       "    </tr>\n",
       "    <tr>\n",
       "      <th>22</th>\n",
       "      <td>[1, 2, 3, 4, 5, 6, 7, 8, 9, 10]</td>\n",
       "      <td>{'max_depth': 3}</td>\n",
       "      <td>3.016890</td>\n",
       "      <td>3</td>\n",
       "    </tr>\n",
       "    <tr>\n",
       "      <th>38</th>\n",
       "      <td>[1, 2, 3, 4, 5, 6, 7, 8, 9, 10, 11, 12]</td>\n",
       "      <td>{'max_depth': 9}</td>\n",
       "      <td>3.021739</td>\n",
       "      <td>9</td>\n",
       "    </tr>\n",
       "    <tr>\n",
       "      <th>19</th>\n",
       "      <td>[1, 2, 3, 4, 5]</td>\n",
       "      <td>{'max_depth': 10}</td>\n",
       "      <td>3.036018</td>\n",
       "      <td>10</td>\n",
       "    </tr>\n",
       "    <tr>\n",
       "      <th>6</th>\n",
       "      <td>[1, 2, 3]</td>\n",
       "      <td>{'max_depth': 7}</td>\n",
       "      <td>3.203887</td>\n",
       "      <td>7</td>\n",
       "    </tr>\n",
       "    <tr>\n",
       "      <th>49</th>\n",
       "      <td>[1, 2, 3, 4, 5, 6, 7, 8, 9, 10, 11, 12, 13, 14...</td>\n",
       "      <td>{'max_depth': 10}</td>\n",
       "      <td>3.262575</td>\n",
       "      <td>10</td>\n",
       "    </tr>\n",
       "    <tr>\n",
       "      <th>5</th>\n",
       "      <td>[1, 2, 3]</td>\n",
       "      <td>{'max_depth': 6}</td>\n",
       "      <td>3.269777</td>\n",
       "      <td>6</td>\n",
       "    </tr>\n",
       "    <tr>\n",
       "      <th>48</th>\n",
       "      <td>[1, 2, 3, 4, 5, 6, 7, 8, 9, 10, 11, 12, 13, 14...</td>\n",
       "      <td>{'max_depth': 9}</td>\n",
       "      <td>3.317327</td>\n",
       "      <td>9</td>\n",
       "    </tr>\n",
       "    <tr>\n",
       "      <th>44</th>\n",
       "      <td>[1, 2, 3, 4, 5, 6, 7, 8, 9, 10, 11, 12, 13, 14...</td>\n",
       "      <td>{'max_depth': 5}</td>\n",
       "      <td>3.354087</td>\n",
       "      <td>5</td>\n",
       "    </tr>\n",
       "    <tr>\n",
       "      <th>17</th>\n",
       "      <td>[1, 2, 3, 4, 5]</td>\n",
       "      <td>{'max_depth': 8}</td>\n",
       "      <td>3.579458</td>\n",
       "      <td>8</td>\n",
       "    </tr>\n",
       "    <tr>\n",
       "      <th>12</th>\n",
       "      <td>[1, 2, 3, 4, 5]</td>\n",
       "      <td>{'max_depth': 3}</td>\n",
       "      <td>3.636224</td>\n",
       "      <td>3</td>\n",
       "    </tr>\n",
       "    <tr>\n",
       "      <th>18</th>\n",
       "      <td>[1, 2, 3, 4, 5]</td>\n",
       "      <td>{'max_depth': 9}</td>\n",
       "      <td>3.643598</td>\n",
       "      <td>9</td>\n",
       "    </tr>\n",
       "    <tr>\n",
       "      <th>10</th>\n",
       "      <td>[1, 2, 3, 4, 5]</td>\n",
       "      <td>{'max_depth': 1}</td>\n",
       "      <td>3.701347</td>\n",
       "      <td>1</td>\n",
       "    </tr>\n",
       "    <tr>\n",
       "      <th>0</th>\n",
       "      <td>[1, 2, 3]</td>\n",
       "      <td>{'max_depth': 1}</td>\n",
       "      <td>3.703238</td>\n",
       "      <td>1</td>\n",
       "    </tr>\n",
       "    <tr>\n",
       "      <th>7</th>\n",
       "      <td>[1, 2, 3]</td>\n",
       "      <td>{'max_depth': 8}</td>\n",
       "      <td>3.784283</td>\n",
       "      <td>8</td>\n",
       "    </tr>\n",
       "    <tr>\n",
       "      <th>55</th>\n",
       "      <td>[1, 2, 3, 4, 5, 6, 7, 8, 9, 10, 11, 12, 13, 14...</td>\n",
       "      <td>{'max_depth': 6}</td>\n",
       "      <td>3.811364</td>\n",
       "      <td>6</td>\n",
       "    </tr>\n",
       "    <tr>\n",
       "      <th>13</th>\n",
       "      <td>[1, 2, 3, 4, 5]</td>\n",
       "      <td>{'max_depth': 4}</td>\n",
       "      <td>3.845076</td>\n",
       "      <td>4</td>\n",
       "    </tr>\n",
       "    <tr>\n",
       "      <th>20</th>\n",
       "      <td>[1, 2, 3, 4, 5, 6, 7, 8, 9, 10]</td>\n",
       "      <td>{'max_depth': 1}</td>\n",
       "      <td>3.985279</td>\n",
       "      <td>1</td>\n",
       "    </tr>\n",
       "    <tr>\n",
       "      <th>57</th>\n",
       "      <td>[1, 2, 3, 4, 5, 6, 7, 8, 9, 10, 11, 12, 13, 14...</td>\n",
       "      <td>{'max_depth': 8}</td>\n",
       "      <td>4.016361</td>\n",
       "      <td>8</td>\n",
       "    </tr>\n",
       "    <tr>\n",
       "      <th>8</th>\n",
       "      <td>[1, 2, 3]</td>\n",
       "      <td>{'max_depth': 9}</td>\n",
       "      <td>4.149539</td>\n",
       "      <td>9</td>\n",
       "    </tr>\n",
       "    <tr>\n",
       "      <th>53</th>\n",
       "      <td>[1, 2, 3, 4, 5, 6, 7, 8, 9, 10, 11, 12, 13, 14...</td>\n",
       "      <td>{'max_depth': 4}</td>\n",
       "      <td>4.150164</td>\n",
       "      <td>4</td>\n",
       "    </tr>\n",
       "    <tr>\n",
       "      <th>54</th>\n",
       "      <td>[1, 2, 3, 4, 5, 6, 7, 8, 9, 10, 11, 12, 13, 14...</td>\n",
       "      <td>{'max_depth': 5}</td>\n",
       "      <td>4.412427</td>\n",
       "      <td>5</td>\n",
       "    </tr>\n",
       "    <tr>\n",
       "      <th>59</th>\n",
       "      <td>[1, 2, 3, 4, 5, 6, 7, 8, 9, 10, 11, 12, 13, 14...</td>\n",
       "      <td>{'max_depth': 10}</td>\n",
       "      <td>4.435413</td>\n",
       "      <td>10</td>\n",
       "    </tr>\n",
       "    <tr>\n",
       "      <th>56</th>\n",
       "      <td>[1, 2, 3, 4, 5, 6, 7, 8, 9, 10, 11, 12, 13, 14...</td>\n",
       "      <td>{'max_depth': 7}</td>\n",
       "      <td>4.554394</td>\n",
       "      <td>7</td>\n",
       "    </tr>\n",
       "    <tr>\n",
       "      <th>58</th>\n",
       "      <td>[1, 2, 3, 4, 5, 6, 7, 8, 9, 10, 11, 12, 13, 14...</td>\n",
       "      <td>{'max_depth': 9}</td>\n",
       "      <td>4.601114</td>\n",
       "      <td>9</td>\n",
       "    </tr>\n",
       "    <tr>\n",
       "      <th>9</th>\n",
       "      <td>[1, 2, 3]</td>\n",
       "      <td>{'max_depth': 10}</td>\n",
       "      <td>4.984825</td>\n",
       "      <td>10</td>\n",
       "    </tr>\n",
       "    <tr>\n",
       "      <th>14</th>\n",
       "      <td>[1, 2, 3, 4, 5]</td>\n",
       "      <td>{'max_depth': 5}</td>\n",
       "      <td>5.002918</td>\n",
       "      <td>5</td>\n",
       "    </tr>\n",
       "    <tr>\n",
       "      <th>15</th>\n",
       "      <td>[1, 2, 3, 4, 5]</td>\n",
       "      <td>{'max_depth': 6}</td>\n",
       "      <td>6.419250</td>\n",
       "      <td>6</td>\n",
       "    </tr>\n",
       "  </tbody>\n",
       "</table>\n",
       "</div>"
      ],
      "text/plain": [
       "                                                 lags             params  \\\n",
       "29                    [1, 2, 3, 4, 5, 6, 7, 8, 9, 10]  {'max_depth': 10}   \n",
       "27                    [1, 2, 3, 4, 5, 6, 7, 8, 9, 10]   {'max_depth': 8}   \n",
       "26                    [1, 2, 3, 4, 5, 6, 7, 8, 9, 10]   {'max_depth': 7}   \n",
       "31            [1, 2, 3, 4, 5, 6, 7, 8, 9, 10, 11, 12]   {'max_depth': 2}   \n",
       "33            [1, 2, 3, 4, 5, 6, 7, 8, 9, 10, 11, 12]   {'max_depth': 4}   \n",
       "30            [1, 2, 3, 4, 5, 6, 7, 8, 9, 10, 11, 12]   {'max_depth': 1}   \n",
       "28                    [1, 2, 3, 4, 5, 6, 7, 8, 9, 10]   {'max_depth': 9}   \n",
       "11                                    [1, 2, 3, 4, 5]   {'max_depth': 2}   \n",
       "23                    [1, 2, 3, 4, 5, 6, 7, 8, 9, 10]   {'max_depth': 4}   \n",
       "32            [1, 2, 3, 4, 5, 6, 7, 8, 9, 10, 11, 12]   {'max_depth': 3}   \n",
       "21                    [1, 2, 3, 4, 5, 6, 7, 8, 9, 10]   {'max_depth': 2}   \n",
       "50  [1, 2, 3, 4, 5, 6, 7, 8, 9, 10, 11, 12, 13, 14...   {'max_depth': 1}   \n",
       "40  [1, 2, 3, 4, 5, 6, 7, 8, 9, 10, 11, 12, 13, 14...   {'max_depth': 1}   \n",
       "2                                           [1, 2, 3]   {'max_depth': 3}   \n",
       "34            [1, 2, 3, 4, 5, 6, 7, 8, 9, 10, 11, 12]   {'max_depth': 5}   \n",
       "4                                           [1, 2, 3]   {'max_depth': 5}   \n",
       "41  [1, 2, 3, 4, 5, 6, 7, 8, 9, 10, 11, 12, 13, 14...   {'max_depth': 2}   \n",
       "42  [1, 2, 3, 4, 5, 6, 7, 8, 9, 10, 11, 12, 13, 14...   {'max_depth': 3}   \n",
       "43  [1, 2, 3, 4, 5, 6, 7, 8, 9, 10, 11, 12, 13, 14...   {'max_depth': 4}   \n",
       "51  [1, 2, 3, 4, 5, 6, 7, 8, 9, 10, 11, 12, 13, 14...   {'max_depth': 2}   \n",
       "3                                           [1, 2, 3]   {'max_depth': 4}   \n",
       "36            [1, 2, 3, 4, 5, 6, 7, 8, 9, 10, 11, 12]   {'max_depth': 7}   \n",
       "46  [1, 2, 3, 4, 5, 6, 7, 8, 9, 10, 11, 12, 13, 14...   {'max_depth': 7}   \n",
       "39            [1, 2, 3, 4, 5, 6, 7, 8, 9, 10, 11, 12]  {'max_depth': 10}   \n",
       "35            [1, 2, 3, 4, 5, 6, 7, 8, 9, 10, 11, 12]   {'max_depth': 6}   \n",
       "25                    [1, 2, 3, 4, 5, 6, 7, 8, 9, 10]   {'max_depth': 6}   \n",
       "16                                    [1, 2, 3, 4, 5]   {'max_depth': 7}   \n",
       "1                                           [1, 2, 3]   {'max_depth': 2}   \n",
       "37            [1, 2, 3, 4, 5, 6, 7, 8, 9, 10, 11, 12]   {'max_depth': 8}   \n",
       "47  [1, 2, 3, 4, 5, 6, 7, 8, 9, 10, 11, 12, 13, 14...   {'max_depth': 8}   \n",
       "45  [1, 2, 3, 4, 5, 6, 7, 8, 9, 10, 11, 12, 13, 14...   {'max_depth': 6}   \n",
       "52  [1, 2, 3, 4, 5, 6, 7, 8, 9, 10, 11, 12, 13, 14...   {'max_depth': 3}   \n",
       "24                    [1, 2, 3, 4, 5, 6, 7, 8, 9, 10]   {'max_depth': 5}   \n",
       "22                    [1, 2, 3, 4, 5, 6, 7, 8, 9, 10]   {'max_depth': 3}   \n",
       "38            [1, 2, 3, 4, 5, 6, 7, 8, 9, 10, 11, 12]   {'max_depth': 9}   \n",
       "19                                    [1, 2, 3, 4, 5]  {'max_depth': 10}   \n",
       "6                                           [1, 2, 3]   {'max_depth': 7}   \n",
       "49  [1, 2, 3, 4, 5, 6, 7, 8, 9, 10, 11, 12, 13, 14...  {'max_depth': 10}   \n",
       "5                                           [1, 2, 3]   {'max_depth': 6}   \n",
       "48  [1, 2, 3, 4, 5, 6, 7, 8, 9, 10, 11, 12, 13, 14...   {'max_depth': 9}   \n",
       "44  [1, 2, 3, 4, 5, 6, 7, 8, 9, 10, 11, 12, 13, 14...   {'max_depth': 5}   \n",
       "17                                    [1, 2, 3, 4, 5]   {'max_depth': 8}   \n",
       "12                                    [1, 2, 3, 4, 5]   {'max_depth': 3}   \n",
       "18                                    [1, 2, 3, 4, 5]   {'max_depth': 9}   \n",
       "10                                    [1, 2, 3, 4, 5]   {'max_depth': 1}   \n",
       "0                                           [1, 2, 3]   {'max_depth': 1}   \n",
       "7                                           [1, 2, 3]   {'max_depth': 8}   \n",
       "55  [1, 2, 3, 4, 5, 6, 7, 8, 9, 10, 11, 12, 13, 14...   {'max_depth': 6}   \n",
       "13                                    [1, 2, 3, 4, 5]   {'max_depth': 4}   \n",
       "20                    [1, 2, 3, 4, 5, 6, 7, 8, 9, 10]   {'max_depth': 1}   \n",
       "57  [1, 2, 3, 4, 5, 6, 7, 8, 9, 10, 11, 12, 13, 14...   {'max_depth': 8}   \n",
       "8                                           [1, 2, 3]   {'max_depth': 9}   \n",
       "53  [1, 2, 3, 4, 5, 6, 7, 8, 9, 10, 11, 12, 13, 14...   {'max_depth': 4}   \n",
       "54  [1, 2, 3, 4, 5, 6, 7, 8, 9, 10, 11, 12, 13, 14...   {'max_depth': 5}   \n",
       "59  [1, 2, 3, 4, 5, 6, 7, 8, 9, 10, 11, 12, 13, 14...  {'max_depth': 10}   \n",
       "56  [1, 2, 3, 4, 5, 6, 7, 8, 9, 10, 11, 12, 13, 14...   {'max_depth': 7}   \n",
       "58  [1, 2, 3, 4, 5, 6, 7, 8, 9, 10, 11, 12, 13, 14...   {'max_depth': 9}   \n",
       "9                                           [1, 2, 3]  {'max_depth': 10}   \n",
       "14                                    [1, 2, 3, 4, 5]   {'max_depth': 5}   \n",
       "15                                    [1, 2, 3, 4, 5]   {'max_depth': 6}   \n",
       "\n",
       "    mean_squared_error  max_depth  \n",
       "29            1.562598         10  \n",
       "27            1.863724          8  \n",
       "26            1.881522          7  \n",
       "31            1.951654          2  \n",
       "33            2.067690          4  \n",
       "30            2.069260          1  \n",
       "28            2.102679          9  \n",
       "11            2.152084          2  \n",
       "23            2.293611          4  \n",
       "32            2.305430          3  \n",
       "21            2.310307          2  \n",
       "50            2.452132          1  \n",
       "40            2.493161          1  \n",
       "2             2.505318          3  \n",
       "34            2.511875          5  \n",
       "4             2.516893          5  \n",
       "41            2.518560          2  \n",
       "42            2.604460          3  \n",
       "43            2.609743          4  \n",
       "51            2.670927          2  \n",
       "3             2.704901          4  \n",
       "36            2.726530          7  \n",
       "46            2.756749          7  \n",
       "39            2.763431         10  \n",
       "35            2.765719          6  \n",
       "25            2.845201          6  \n",
       "16            2.857206          7  \n",
       "1             2.860514          2  \n",
       "37            2.882728          8  \n",
       "47            2.905239          8  \n",
       "45            2.928603          6  \n",
       "52            2.938157          3  \n",
       "24            2.999903          5  \n",
       "22            3.016890          3  \n",
       "38            3.021739          9  \n",
       "19            3.036018         10  \n",
       "6             3.203887          7  \n",
       "49            3.262575         10  \n",
       "5             3.269777          6  \n",
       "48            3.317327          9  \n",
       "44            3.354087          5  \n",
       "17            3.579458          8  \n",
       "12            3.636224          3  \n",
       "18            3.643598          9  \n",
       "10            3.701347          1  \n",
       "0             3.703238          1  \n",
       "7             3.784283          8  \n",
       "55            3.811364          6  \n",
       "13            3.845076          4  \n",
       "20            3.985279          1  \n",
       "57            4.016361          8  \n",
       "8             4.149539          9  \n",
       "53            4.150164          4  \n",
       "54            4.412427          5  \n",
       "59            4.435413         10  \n",
       "56            4.554394          7  \n",
       "58            4.601114          9  \n",
       "9             4.984825         10  \n",
       "14            5.002918          5  \n",
       "15            6.419250          6  "
      ]
     },
     "execution_count": 12,
     "metadata": {},
     "output_type": "execute_result"
    }
   ],
   "source": [
    "# Grid Search results\n",
    "# ==============================================================================\n",
    "results_grid"
   ]
  },
  {
   "cell_type": "markdown",
   "id": "b8c7978b",
   "metadata": {},
   "source": [
    "# Modelo final\n",
    "\n",
    "En la búsqueda hecha anteriormente se encontró la combinación óptima de los hiperparámetros por medio de validación cruzada secuencial para la predicción 12 pasos adelante por ejemplo."
   ]
  },
  {
   "cell_type": "code",
   "execution_count": 13,
   "id": "9e71002b",
   "metadata": {},
   "outputs": [],
   "source": [
    "# Create and train forecaster with the best hyperparameters\n",
    "# ==============================================================================\n",
    "regressor = DecisionTreeRegressor(max_depth=6)\n",
    "                \n",
    "\n",
    "forecaster = ForecasterAutoreg(\n",
    "                regressor = regressor,\n",
    "                lags      = 10\n",
    "             )\n",
    "\n",
    "forecaster.fit(y=data_train['yprecip'])\n",
    "\n",
    "Final_Forecaster=forecaster"
   ]
  },
  {
   "cell_type": "code",
   "execution_count": 14,
   "id": "bcdf1076",
   "metadata": {},
   "outputs": [],
   "source": [
    "# Predictions\n",
    "# ==============================================================================\n",
    "predictions = forecaster.predict(steps=steps)"
   ]
  },
  {
   "cell_type": "code",
   "execution_count": 15,
   "id": "fd207480",
   "metadata": {},
   "outputs": [
    {
     "data": {
      "image/png": "[encoded data removed]",
      "text/plain": [
       "<Figure size 504x180 with 1 Axes>"
      ]
     },
     "metadata": {},
     "output_type": "display_data"
    }
   ],
   "source": [
    "# Plot\n",
    "# ==============================================================================\n",
    "fig, ax = plt.subplots(figsize=(7, 2.5))\n",
    "data_train['yprecip'].plot(ax=ax, label='train')\n",
    "data_test['yprecip'].plot(ax=ax, label='test')\n",
    "predictions.plot(ax=ax, label='predictions')\n",
    "ax.legend();\n"
   ]
  },
  {
   "cell_type": "code",
   "execution_count": 16,
   "id": "73990aee",
   "metadata": {},
   "outputs": [
    {
     "name": "stdout",
     "output_type": "stream",
     "text": [
      "Test error (mse): 3.8642741838572268\n"
     ]
    }
   ],
   "source": [
    "# Test error\n",
    "# ==============================================================================\n",
    "error_mse = mean_squared_error(\n",
    "                y_true = data_test['yprecip'],\n",
    "                y_pred = predictions\n",
    "            )\n",
    "\n",
    "print(f\"Test error (mse): {error_mse}\")\n",
    "# note que gaora se ha reducido el error."
   ]
  },
  {
   "cell_type": "markdown",
   "id": "8d361aaa",
   "metadata": {},
   "source": [
    "# Intervalos de Predicción"
   ]
  },
  {
   "cell_type": "markdown",
   "id": "2809dc32",
   "metadata": {},
   "source": [
    "Una vez se tiene el modelo final, podemos ver como quedan los intervalos de predicción sobre el conjunto de prueba.\n"
   ]
  },
  {
   "cell_type": "code",
   "execution_count": 17,
   "id": "51125866",
   "metadata": {},
   "outputs": [
    {
     "data": {
      "text/html": [
       "<div>\n",
       "<style scoped>\n",
       "    .dataframe tbody tr th:only-of-type {\n",
       "        vertical-align: middle;\n",
       "    }\n",
       "\n",
       "    .dataframe tbody tr th {\n",
       "        vertical-align: top;\n",
       "    }\n",
       "\n",
       "    .dataframe thead th {\n",
       "        text-align: right;\n",
       "    }\n",
       "</style>\n",
       "<table border=\"1\" class=\"dataframe\">\n",
       "  <thead>\n",
       "    <tr style=\"text-align: right;\">\n",
       "      <th></th>\n",
       "      <th>pred</th>\n",
       "      <th>lower_bound</th>\n",
       "      <th>upper_bound</th>\n",
       "    </tr>\n",
       "  </thead>\n",
       "  <tbody>\n",
       "    <tr>\n",
       "      <th>2019-01-01</th>\n",
       "      <td>2.958860</td>\n",
       "      <td>2.014666</td>\n",
       "      <td>4.202074</td>\n",
       "    </tr>\n",
       "    <tr>\n",
       "      <th>2019-02-01</th>\n",
       "      <td>7.490323</td>\n",
       "      <td>4.680900</td>\n",
       "      <td>8.759032</td>\n",
       "    </tr>\n",
       "    <tr>\n",
       "      <th>2019-03-01</th>\n",
       "      <td>6.714247</td>\n",
       "      <td>5.365206</td>\n",
       "      <td>8.304792</td>\n",
       "    </tr>\n",
       "    <tr>\n",
       "      <th>2019-04-01</th>\n",
       "      <td>8.833011</td>\n",
       "      <td>7.910852</td>\n",
       "      <td>10.101720</td>\n",
       "    </tr>\n",
       "    <tr>\n",
       "      <th>2019-05-01</th>\n",
       "      <td>8.833011</td>\n",
       "      <td>7.888817</td>\n",
       "      <td>10.101720</td>\n",
       "    </tr>\n",
       "    <tr>\n",
       "      <th>2019-06-01</th>\n",
       "      <td>6.825806</td>\n",
       "      <td>5.881612</td>\n",
       "      <td>8.094516</td>\n",
       "    </tr>\n",
       "    <tr>\n",
       "      <th>2019-07-01</th>\n",
       "      <td>5.130968</td>\n",
       "      <td>4.186774</td>\n",
       "      <td>7.416973</td>\n",
       "    </tr>\n",
       "    <tr>\n",
       "      <th>2019-08-01</th>\n",
       "      <td>6.633649</td>\n",
       "      <td>5.689455</td>\n",
       "      <td>7.902358</td>\n",
       "    </tr>\n",
       "    <tr>\n",
       "      <th>2019-09-01</th>\n",
       "      <td>6.633649</td>\n",
       "      <td>5.376289</td>\n",
       "      <td>7.876863</td>\n",
       "    </tr>\n",
       "    <tr>\n",
       "      <th>2019-10-01</th>\n",
       "      <td>6.119355</td>\n",
       "      <td>4.849179</td>\n",
       "      <td>7.388064</td>\n",
       "    </tr>\n",
       "    <tr>\n",
       "      <th>2019-11-01</th>\n",
       "      <td>3.940968</td>\n",
       "      <td>3.018810</td>\n",
       "      <td>6.856492</td>\n",
       "    </tr>\n",
       "    <tr>\n",
       "      <th>2019-12-01</th>\n",
       "      <td>3.396429</td>\n",
       "      <td>2.036702</td>\n",
       "      <td>6.751548</td>\n",
       "    </tr>\n",
       "  </tbody>\n",
       "</table>\n",
       "</div>"
      ],
      "text/plain": [
       "                pred  lower_bound  upper_bound\n",
       "2019-01-01  2.958860     2.014666     4.202074\n",
       "2019-02-01  7.490323     4.680900     8.759032\n",
       "2019-03-01  6.714247     5.365206     8.304792\n",
       "2019-04-01  8.833011     7.910852    10.101720\n",
       "2019-05-01  8.833011     7.888817    10.101720\n",
       "2019-06-01  6.825806     5.881612     8.094516\n",
       "2019-07-01  5.130968     4.186774     7.416973\n",
       "2019-08-01  6.633649     5.689455     7.902358\n",
       "2019-09-01  6.633649     5.376289     7.876863\n",
       "2019-10-01  6.119355     4.849179     7.388064\n",
       "2019-11-01  3.940968     3.018810     6.856492\n",
       "2019-12-01  3.396429     2.036702     6.751548"
      ]
     },
     "execution_count": 17,
     "metadata": {},
     "output_type": "execute_result"
    }
   ],
   "source": [
    "steps=12\n",
    "Final_Forecaster.fit(y=data_train['yprecip'])\n",
    "\n",
    "predictions = Final_Forecaster.predict_interval(\n",
    "                    steps    = steps,\n",
    "                    interval = [0.25, 99.75],\n",
    "                    n_boot   = 500\n",
    "              )\n",
    "\n",
    "predictions.head(12)"
   ]
  },
  {
   "cell_type": "code",
   "execution_count": 18,
   "id": "0907f436",
   "metadata": {},
   "outputs": [
    {
     "name": "stdout",
     "output_type": "stream",
     "text": [
      "Test error (mse): 3.9529592912199987\n"
     ]
    },
    {
     "data": {
      "image/png": "[encoded data removed]",
      "text/plain": [
       "<Figure size 504x180 with 1 Axes>"
      ]
     },
     "metadata": {},
     "output_type": "display_data"
    }
   ],
   "source": [
    "# Prediction error\n",
    "# ==============================================================================\n",
    "error_mse = mean_squared_error(\n",
    "                y_true = data_test['yprecip'],\n",
    "                y_pred = predictions.iloc[:, 0]\n",
    "            )\n",
    "\n",
    "print(f\"Test error (mse): {error_mse}\")\n",
    "\n",
    "# Plot\n",
    "# ==============================================================================\n",
    "fig, ax = plt.subplots(figsize=(7, 2.5))\n",
    "data_test['yprecip'].plot(ax=ax, label='test')\n",
    "predictions['pred'].plot(ax=ax, label='prediction')\n",
    "ax.fill_between(\n",
    "    predictions.index,\n",
    "    predictions['lower_bound'],\n",
    "    predictions['upper_bound'],\n",
    "    color = 'green',\n",
    "    alpha = 0.2\n",
    ")\n",
    "ax.legend();"
   ]
  },
  {
   "cell_type": "markdown",
   "id": "4c9f271a",
   "metadata": {},
   "source": [
    "# Backtesting\n",
    "\n",
    "La idea del backtesting consiste en probar la capacidad predictiva de un modelo sobre el histórico de datos. Este es un caso especial de validación cruzada, acá si se considera conjunto de validación. Existen algunas variantes del backtesting.Para detalles ver https://www.cienciadedatos.net/documentos/py27-time-series-forecasting-python-scikitlearn.html.\n",
    "* Backtesting con reajuste e incremento del tamaño de entranamineto(origen fijo)\n",
    "* Backtesting con reajuste  tamaño de entranamiento fijo(origen rodante)\n",
    "* Backtesting sin reajuste\n",
    "\n",
    "Atención: Independientemente de cuál se utilice, es importante no incluir datos de prueba(por ejemplo de hiperparámetros) en el proceso de búsqueda para evitar problemas de sobreajuste."
   ]
  },
  {
   "cell_type": "code",
   "execution_count": 19,
   "id": "bd369f01",
   "metadata": {},
   "outputs": [],
   "source": [
    "# Create and train forecaster with the best hyperparameters\n",
    "# ==============================================================================\n",
    "regressor_back = DecisionTreeRegressor(max_depth=10) ####Acá podemos mover tanto la profundidad como el número de lags.\n",
    "                \n",
    "\n",
    "forecaster_back = ForecasterAutoreg(\n",
    "                regressor = regressor_back,\n",
    "                lags      = 12\n",
    "             )\n",
    "\n"
   ]
  },
  {
   "cell_type": "code",
   "execution_count": 20,
   "id": "75dd3944",
   "metadata": {},
   "outputs": [
    {
     "data": {
      "text/html": [
       "<div>\n",
       "<style scoped>\n",
       "    .dataframe tbody tr th:only-of-type {\n",
       "        vertical-align: middle;\n",
       "    }\n",
       "\n",
       "    .dataframe tbody tr th {\n",
       "        vertical-align: top;\n",
       "    }\n",
       "\n",
       "    .dataframe thead th {\n",
       "        text-align: right;\n",
       "    }\n",
       "</style>\n",
       "<table border=\"1\" class=\"dataframe\">\n",
       "  <thead>\n",
       "    <tr style=\"text-align: right;\">\n",
       "      <th></th>\n",
       "      <th>yprecip</th>\n",
       "    </tr>\n",
       "    <tr>\n",
       "      <th>Fecha</th>\n",
       "      <th></th>\n",
       "    </tr>\n",
       "  </thead>\n",
       "  <tbody>\n",
       "    <tr>\n",
       "      <th>2009-01-01</th>\n",
       "      <td>3.758065</td>\n",
       "    </tr>\n",
       "    <tr>\n",
       "      <th>2009-02-01</th>\n",
       "      <td>4.235714</td>\n",
       "    </tr>\n",
       "    <tr>\n",
       "      <th>2009-03-01</th>\n",
       "      <td>4.764516</td>\n",
       "    </tr>\n",
       "    <tr>\n",
       "      <th>2009-04-01</th>\n",
       "      <td>5.400000</td>\n",
       "    </tr>\n",
       "    <tr>\n",
       "      <th>2009-05-01</th>\n",
       "      <td>4.438710</td>\n",
       "    </tr>\n",
       "    <tr>\n",
       "      <th>...</th>\n",
       "      <td>...</td>\n",
       "    </tr>\n",
       "    <tr>\n",
       "      <th>2018-08-01</th>\n",
       "      <td>5.548387</td>\n",
       "    </tr>\n",
       "    <tr>\n",
       "      <th>2018-09-01</th>\n",
       "      <td>6.490000</td>\n",
       "    </tr>\n",
       "    <tr>\n",
       "      <th>2018-10-01</th>\n",
       "      <td>6.890323</td>\n",
       "    </tr>\n",
       "    <tr>\n",
       "      <th>2018-11-01</th>\n",
       "      <td>6.276667</td>\n",
       "    </tr>\n",
       "    <tr>\n",
       "      <th>2018-12-01</th>\n",
       "      <td>3.667742</td>\n",
       "    </tr>\n",
       "  </tbody>\n",
       "</table>\n",
       "<p>120 rows × 1 columns</p>\n",
       "</div>"
      ],
      "text/plain": [
       "             yprecip\n",
       "Fecha               \n",
       "2009-01-01  3.758065\n",
       "2009-02-01  4.235714\n",
       "2009-03-01  4.764516\n",
       "2009-04-01  5.400000\n",
       "2009-05-01  4.438710\n",
       "...              ...\n",
       "2018-08-01  5.548387\n",
       "2018-09-01  6.490000\n",
       "2018-10-01  6.890323\n",
       "2018-11-01  6.276667\n",
       "2018-12-01  3.667742\n",
       "\n",
       "[120 rows x 1 columns]"
      ]
     },
     "execution_count": 20,
     "metadata": {},
     "output_type": "execute_result"
    }
   ],
   "source": [
    "data_train"
   ]
  },
  {
   "cell_type": "code",
   "execution_count": 21,
   "id": "5d04b89c",
   "metadata": {},
   "outputs": [
    {
     "name": "stdout",
     "output_type": "stream",
     "text": [
      "Information of backtesting process\n",
      "----------------------------------\n",
      "Number of observations used for initial training: 96\n",
      "Number of observations used for backtesting: 24\n",
      "    Number of folds: 2\n",
      "    Number of steps per fold: 12\n",
      "    Number of steps to exclude from the end of each train set before test (gap): 0\n",
      "\n",
      "Fold: 0\n",
      "    Training:   2009-01-01 00:00:00 -- 2016-12-01 00:00:00  (n=96)\n",
      "    Validation: 2017-01-01 00:00:00 -- 2017-12-01 00:00:00  (n=12)\n",
      "Fold: 1\n",
      "    Training:   2009-01-01 00:00:00 -- 2017-12-01 00:00:00  (n=108)\n",
      "    Validation: 2018-01-01 00:00:00 -- 2018-12-01 00:00:00  (n=12)\n",
      "\n"
     ]
    },
    {
     "name": "stderr",
     "output_type": "stream",
     "text": [
      "100%|██████████| 2/2 [00:00<00:00, 133.74it/s]"
     ]
    },
    {
     "name": "stdout",
     "output_type": "stream",
     "text": [
      "Backtest error: 2.1296657147141667\n"
     ]
    },
    {
     "name": "stderr",
     "output_type": "stream",
     "text": [
      "\n"
     ]
    }
   ],
   "source": [
    "# Backtesting con reajuste\n",
    "# ==============================================================================\n",
    "steps = 12\n",
    "n_backtesting = 12*2 # The last 2 years are separated for the backtest\n",
    "\n",
    "metric, predictions_backtest = backtesting_forecaster(\n",
    "                                    forecaster         = forecaster_back,\n",
    "                                    y                  = data_train['yprecip'],\n",
    "                                    initial_train_size = len(data_train) - n_backtesting,\n",
    "                                    fixed_train_size   = False,\n",
    "                                    steps              = steps,\n",
    "                                    metric             = 'mean_squared_error',\n",
    "                                    refit              = True,\n",
    "                                    verbose            = True,\n",
    "                                    show_progress      = True\n",
    "                                )\n",
    "\n",
    "print(f\"Backtest error: {metric}\")"
   ]
  },
  {
   "cell_type": "code",
   "execution_count": 22,
   "id": "fe5900bd",
   "metadata": {},
   "outputs": [
    {
     "data": {
      "image/png": "[encoded data removed]",
      "text/plain": [
       "<Figure size 504x180 with 1 Axes>"
      ]
     },
     "metadata": {},
     "output_type": "display_data"
    }
   ],
   "source": [
    "# Plot backtest predictions vs real values\n",
    "# ==============================================================================\n",
    "fig, ax = plt.subplots(figsize=(7, 2.5))\n",
    "Lluvia.loc[predictions_backtest.index, 'yprecip'].plot(ax=ax, label='test')\n",
    "predictions_backtest.plot(ax=ax, label='predictions')\n",
    "ax.legend();"
   ]
  },
  {
   "cell_type": "code",
   "execution_count": 23,
   "id": "279e9d92",
   "metadata": {},
   "outputs": [
    {
     "name": "stdout",
     "output_type": "stream",
     "text": [
      "Information of backtesting process\n",
      "----------------------------------\n",
      "Number of observations used for initial training: 96\n",
      "Number of observations used for backtesting: 24\n",
      "    Number of folds: 2\n",
      "    Number of steps per fold: 12\n",
      "    Number of steps to exclude from the end of each train set before test (gap): 0\n",
      "\n",
      "Fold: 0\n",
      "    Training:   2009-01-01 00:00:00 -- 2016-12-01 00:00:00  (n=96)\n",
      "    Validation: 2017-01-01 00:00:00 -- 2017-12-01 00:00:00  (n=12)\n",
      "Fold: 1\n",
      "    Training:   2009-01-01 00:00:00 -- 2017-12-01 00:00:00  (n=108)\n",
      "    Validation: 2018-01-01 00:00:00 -- 2018-12-01 00:00:00  (n=12)\n",
      "\n"
     ]
    },
    {
     "name": "stderr",
     "output_type": "stream",
     "text": [
      "100%|██████████| 2/2 [00:00<00:00, 174.64it/s]\n"
     ]
    },
    {
     "name": "stdout",
     "output_type": "stream",
     "text": [
      "Backtest error: 3.17684369407752\n",
      "max_depth= 1\n",
      "lags= 1\n",
      "[1, 1, 3.17684369407752]\n",
      "Information of backtesting process\n",
      "----------------------------------\n",
      "Number of observations used for initial training: 96\n",
      "Number of observations used for backtesting: 24\n",
      "    Number of folds: 2\n",
      "    Number of steps per fold: 12\n",
      "    Number of steps to exclude from the end of each train set before test (gap): 0\n",
      "\n",
      "Fold: 0\n",
      "    Training:   2009-01-01 00:00:00 -- 2016-12-01 00:00:00  (n=96)\n",
      "    Validation: 2017-01-01 00:00:00 -- 2017-12-01 00:00:00  (n=12)\n",
      "Fold: 1\n",
      "    Training:   2009-01-01 00:00:00 -- 2017-12-01 00:00:00  (n=108)\n",
      "    Validation: 2018-01-01 00:00:00 -- 2018-12-01 00:00:00  (n=12)\n",
      "\n"
     ]
    },
    {
     "name": "stderr",
     "output_type": "stream",
     "text": [
      "100%|██████████| 2/2 [00:00<00:00, 182.43it/s]\n"
     ]
    },
    {
     "name": "stdout",
     "output_type": "stream",
     "text": [
      "Backtest error: 3.176845572199621\n",
      "max_depth= 1\n",
      "lags= 2\n",
      "[1, 2, 3.176845572199621]\n",
      "Information of backtesting process\n",
      "----------------------------------\n",
      "Number of observations used for initial training: 96\n",
      "Number of observations used for backtesting: 24\n",
      "    Number of folds: 2\n",
      "    Number of steps per fold: 12\n",
      "    Number of steps to exclude from the end of each train set before test (gap): 0\n",
      "\n",
      "Fold: 0\n",
      "    Training:   2009-01-01 00:00:00 -- 2016-12-01 00:00:00  (n=96)\n",
      "    Validation: 2017-01-01 00:00:00 -- 2017-12-01 00:00:00  (n=12)\n",
      "Fold: 1\n",
      "    Training:   2009-01-01 00:00:00 -- 2017-12-01 00:00:00  (n=108)\n",
      "    Validation: 2018-01-01 00:00:00 -- 2018-12-01 00:00:00  (n=12)\n",
      "\n"
     ]
    },
    {
     "name": "stderr",
     "output_type": "stream",
     "text": [
      "100%|██████████| 2/2 [00:00<00:00, 180.59it/s]\n"
     ]
    },
    {
     "name": "stdout",
     "output_type": "stream",
     "text": [
      "Backtest error: 3.1779559983081236\n",
      "max_depth= 1\n",
      "lags= 3\n",
      "[1, 3, 3.1779559983081236]\n",
      "Information of backtesting process\n",
      "----------------------------------\n",
      "Number of observations used for initial training: 96\n",
      "Number of observations used for backtesting: 24\n",
      "    Number of folds: 2\n",
      "    Number of steps per fold: 12\n",
      "    Number of steps to exclude from the end of each train set before test (gap): 0\n",
      "\n",
      "Fold: 0\n",
      "    Training:   2009-01-01 00:00:00 -- 2016-12-01 00:00:00  (n=96)\n",
      "    Validation: 2017-01-01 00:00:00 -- 2017-12-01 00:00:00  (n=12)\n",
      "Fold: 1\n",
      "    Training:   2009-01-01 00:00:00 -- 2017-12-01 00:00:00  (n=108)\n",
      "    Validation: 2018-01-01 00:00:00 -- 2018-12-01 00:00:00  (n=12)\n",
      "\n"
     ]
    },
    {
     "name": "stderr",
     "output_type": "stream",
     "text": [
      "100%|██████████| 2/2 [00:00<00:00, 174.22it/s]\n"
     ]
    },
    {
     "name": "stdout",
     "output_type": "stream",
     "text": [
      "Backtest error: 3.1788229269900037\n",
      "max_depth= 1\n",
      "lags= 4\n",
      "[1, 4, 3.1788229269900037]\n",
      "Information of backtesting process\n",
      "----------------------------------\n",
      "Number of observations used for initial training: 96\n",
      "Number of observations used for backtesting: 24\n",
      "    Number of folds: 2\n",
      "    Number of steps per fold: 12\n",
      "    Number of steps to exclude from the end of each train set before test (gap): 0\n",
      "\n",
      "Fold: 0\n",
      "    Training:   2009-01-01 00:00:00 -- 2016-12-01 00:00:00  (n=96)\n",
      "    Validation: 2017-01-01 00:00:00 -- 2017-12-01 00:00:00  (n=12)\n",
      "Fold: 1\n",
      "    Training:   2009-01-01 00:00:00 -- 2017-12-01 00:00:00  (n=108)\n",
      "    Validation: 2018-01-01 00:00:00 -- 2018-12-01 00:00:00  (n=12)\n",
      "\n"
     ]
    },
    {
     "name": "stderr",
     "output_type": "stream",
     "text": [
      "100%|██████████| 2/2 [00:00<00:00, 166.72it/s]\n"
     ]
    },
    {
     "name": "stdout",
     "output_type": "stream",
     "text": [
      "Backtest error: 3.1815161190343786\n",
      "max_depth= 1\n",
      "lags= 5\n",
      "[1, 5, 3.1815161190343786]\n",
      "Information of backtesting process\n",
      "----------------------------------\n",
      "Number of observations used for initial training: 96\n",
      "Number of observations used for backtesting: 24\n",
      "    Number of folds: 2\n",
      "    Number of steps per fold: 12\n",
      "    Number of steps to exclude from the end of each train set before test (gap): 0\n",
      "\n",
      "Fold: 0\n",
      "    Training:   2009-01-01 00:00:00 -- 2016-12-01 00:00:00  (n=96)\n",
      "    Validation: 2017-01-01 00:00:00 -- 2017-12-01 00:00:00  (n=12)\n",
      "Fold: 1\n",
      "    Training:   2009-01-01 00:00:00 -- 2017-12-01 00:00:00  (n=108)\n",
      "    Validation: 2018-01-01 00:00:00 -- 2018-12-01 00:00:00  (n=12)\n",
      "\n"
     ]
    },
    {
     "name": "stderr",
     "output_type": "stream",
     "text": [
      "100%|██████████| 2/2 [00:00<00:00, 172.16it/s]\n"
     ]
    },
    {
     "name": "stdout",
     "output_type": "stream",
     "text": [
      "Backtest error: 3.180168772586667\n",
      "max_depth= 1\n",
      "lags= 6\n",
      "[1, 6, 3.180168772586667]\n",
      "Information of backtesting process\n",
      "----------------------------------\n",
      "Number of observations used for initial training: 96\n",
      "Number of observations used for backtesting: 24\n",
      "    Number of folds: 2\n",
      "    Number of steps per fold: 12\n",
      "    Number of steps to exclude from the end of each train set before test (gap): 0\n",
      "\n",
      "Fold: 0\n",
      "    Training:   2009-01-01 00:00:00 -- 2016-12-01 00:00:00  (n=96)\n",
      "    Validation: 2017-01-01 00:00:00 -- 2017-12-01 00:00:00  (n=12)\n",
      "Fold: 1\n",
      "    Training:   2009-01-01 00:00:00 -- 2017-12-01 00:00:00  (n=108)\n",
      "    Validation: 2018-01-01 00:00:00 -- 2018-12-01 00:00:00  (n=12)\n",
      "\n"
     ]
    },
    {
     "name": "stderr",
     "output_type": "stream",
     "text": [
      "100%|██████████| 2/2 [00:00<00:00, 170.81it/s]\n"
     ]
    },
    {
     "name": "stdout",
     "output_type": "stream",
     "text": [
      "Backtest error: 3.1802299758889454\n",
      "max_depth= 1\n",
      "lags= 7\n",
      "[1, 7, 3.1802299758889454]\n",
      "Information of backtesting process\n",
      "----------------------------------\n",
      "Number of observations used for initial training: 96\n",
      "Number of observations used for backtesting: 24\n",
      "    Number of folds: 2\n",
      "    Number of steps per fold: 12\n",
      "    Number of steps to exclude from the end of each train set before test (gap): 0\n",
      "\n",
      "Fold: 0\n",
      "    Training:   2009-01-01 00:00:00 -- 2016-12-01 00:00:00  (n=96)\n",
      "    Validation: 2017-01-01 00:00:00 -- 2017-12-01 00:00:00  (n=12)\n",
      "Fold: 1\n",
      "    Training:   2009-01-01 00:00:00 -- 2017-12-01 00:00:00  (n=108)\n",
      "    Validation: 2018-01-01 00:00:00 -- 2018-12-01 00:00:00  (n=12)\n",
      "\n"
     ]
    },
    {
     "name": "stderr",
     "output_type": "stream",
     "text": [
      "100%|██████████| 2/2 [00:00<00:00, 169.98it/s]\n"
     ]
    },
    {
     "name": "stdout",
     "output_type": "stream",
     "text": [
      "Backtest error: 3.1817710308339855\n",
      "max_depth= 1\n",
      "lags= 8\n",
      "[1, 8, 3.1817710308339855]\n",
      "Information of backtesting process\n",
      "----------------------------------\n",
      "Number of observations used for initial training: 96\n",
      "Number of observations used for backtesting: 24\n",
      "    Number of folds: 2\n",
      "    Number of steps per fold: 12\n",
      "    Number of steps to exclude from the end of each train set before test (gap): 0\n",
      "\n",
      "Fold: 0\n",
      "    Training:   2009-01-01 00:00:00 -- 2016-12-01 00:00:00  (n=96)\n",
      "    Validation: 2017-01-01 00:00:00 -- 2017-12-01 00:00:00  (n=12)\n",
      "Fold: 1\n",
      "    Training:   2009-01-01 00:00:00 -- 2017-12-01 00:00:00  (n=108)\n",
      "    Validation: 2018-01-01 00:00:00 -- 2018-12-01 00:00:00  (n=12)\n",
      "\n"
     ]
    },
    {
     "name": "stderr",
     "output_type": "stream",
     "text": [
      "100%|██████████| 2/2 [00:00<00:00, 168.70it/s]\n"
     ]
    },
    {
     "name": "stdout",
     "output_type": "stream",
     "text": [
      "Backtest error: 3.18901633710233\n",
      "max_depth= 1\n",
      "lags= 9\n",
      "[1, 9, 3.18901633710233]\n",
      "Information of backtesting process\n",
      "----------------------------------\n",
      "Number of observations used for initial training: 96\n",
      "Number of observations used for backtesting: 24\n",
      "    Number of folds: 2\n",
      "    Number of steps per fold: 12\n",
      "    Number of steps to exclude from the end of each train set before test (gap): 0\n",
      "\n",
      "Fold: 0\n",
      "    Training:   2009-01-01 00:00:00 -- 2016-12-01 00:00:00  (n=96)\n",
      "    Validation: 2017-01-01 00:00:00 -- 2017-12-01 00:00:00  (n=12)\n",
      "Fold: 1\n",
      "    Training:   2009-01-01 00:00:00 -- 2017-12-01 00:00:00  (n=108)\n",
      "    Validation: 2018-01-01 00:00:00 -- 2018-12-01 00:00:00  (n=12)\n",
      "\n"
     ]
    },
    {
     "name": "stderr",
     "output_type": "stream",
     "text": [
      "100%|██████████| 2/2 [00:00<00:00, 167.57it/s]\n"
     ]
    },
    {
     "name": "stdout",
     "output_type": "stream",
     "text": [
      "Backtest error: 3.1889431894102453\n",
      "max_depth= 1\n",
      "lags= 10\n",
      "[1, 10, 3.1889431894102453]\n",
      "Information of backtesting process\n",
      "----------------------------------\n",
      "Number of observations used for initial training: 96\n",
      "Number of observations used for backtesting: 24\n",
      "    Number of folds: 2\n",
      "    Number of steps per fold: 12\n",
      "    Number of steps to exclude from the end of each train set before test (gap): 0\n",
      "\n",
      "Fold: 0\n",
      "    Training:   2009-01-01 00:00:00 -- 2016-12-01 00:00:00  (n=96)\n",
      "    Validation: 2017-01-01 00:00:00 -- 2017-12-01 00:00:00  (n=12)\n",
      "Fold: 1\n",
      "    Training:   2009-01-01 00:00:00 -- 2017-12-01 00:00:00  (n=108)\n",
      "    Validation: 2018-01-01 00:00:00 -- 2018-12-01 00:00:00  (n=12)\n",
      "\n"
     ]
    },
    {
     "name": "stderr",
     "output_type": "stream",
     "text": [
      "100%|██████████| 2/2 [00:00<00:00, 173.06it/s]\n"
     ]
    },
    {
     "name": "stdout",
     "output_type": "stream",
     "text": [
      "Backtest error: 2.965844428163333\n",
      "max_depth= 1\n",
      "lags= 11\n",
      "[1, 11, 2.965844428163333]\n",
      "Information of backtesting process\n",
      "----------------------------------\n",
      "Number of observations used for initial training: 96\n",
      "Number of observations used for backtesting: 24\n",
      "    Number of folds: 2\n",
      "    Number of steps per fold: 12\n",
      "    Number of steps to exclude from the end of each train set before test (gap): 0\n",
      "\n",
      "Fold: 0\n",
      "    Training:   2009-01-01 00:00:00 -- 2016-12-01 00:00:00  (n=96)\n",
      "    Validation: 2017-01-01 00:00:00 -- 2017-12-01 00:00:00  (n=12)\n",
      "Fold: 1\n",
      "    Training:   2009-01-01 00:00:00 -- 2017-12-01 00:00:00  (n=108)\n",
      "    Validation: 2018-01-01 00:00:00 -- 2018-12-01 00:00:00  (n=12)\n",
      "\n"
     ]
    },
    {
     "name": "stderr",
     "output_type": "stream",
     "text": [
      "100%|██████████| 2/2 [00:00<00:00, 144.97it/s]\n"
     ]
    },
    {
     "name": "stdout",
     "output_type": "stream",
     "text": [
      "Backtest error: 2.1243925433107322\n",
      "max_depth= 1\n",
      "lags= 12\n",
      "[1, 12, 2.1243925433107322]\n",
      "Information of backtesting process\n",
      "----------------------------------\n",
      "Number of observations used for initial training: 96\n",
      "Number of observations used for backtesting: 24\n",
      "    Number of folds: 2\n",
      "    Number of steps per fold: 12\n",
      "    Number of steps to exclude from the end of each train set before test (gap): 0\n",
      "\n",
      "Fold: 0\n",
      "    Training:   2009-01-01 00:00:00 -- 2016-12-01 00:00:00  (n=96)\n",
      "    Validation: 2017-01-01 00:00:00 -- 2017-12-01 00:00:00  (n=12)\n",
      "Fold: 1\n",
      "    Training:   2009-01-01 00:00:00 -- 2017-12-01 00:00:00  (n=108)\n",
      "    Validation: 2018-01-01 00:00:00 -- 2018-12-01 00:00:00  (n=12)\n",
      "\n"
     ]
    },
    {
     "name": "stderr",
     "output_type": "stream",
     "text": [
      "100%|██████████| 2/2 [00:00<00:00, 172.74it/s]\n"
     ]
    },
    {
     "name": "stdout",
     "output_type": "stream",
     "text": [
      "Backtest error: 3.3135672216537917\n",
      "max_depth= 2\n",
      "lags= 1\n",
      "[2, 1, 3.3135672216537917]\n",
      "Information of backtesting process\n",
      "----------------------------------\n",
      "Number of observations used for initial training: 96\n",
      "Number of observations used for backtesting: 24\n",
      "    Number of folds: 2\n",
      "    Number of steps per fold: 12\n",
      "    Number of steps to exclude from the end of each train set before test (gap): 0\n",
      "\n",
      "Fold: 0\n",
      "    Training:   2009-01-01 00:00:00 -- 2016-12-01 00:00:00  (n=96)\n",
      "    Validation: 2017-01-01 00:00:00 -- 2017-12-01 00:00:00  (n=12)\n",
      "Fold: 1\n",
      "    Training:   2009-01-01 00:00:00 -- 2017-12-01 00:00:00  (n=108)\n",
      "    Validation: 2018-01-01 00:00:00 -- 2018-12-01 00:00:00  (n=12)\n",
      "\n"
     ]
    },
    {
     "name": "stderr",
     "output_type": "stream",
     "text": [
      "100%|██████████| 2/2 [00:00<00:00, 171.78it/s]\n"
     ]
    },
    {
     "name": "stdout",
     "output_type": "stream",
     "text": [
      "Backtest error: 3.0576150515440808\n",
      "max_depth= 2\n",
      "lags= 2\n",
      "[2, 2, 3.0576150515440808]\n",
      "Information of backtesting process\n",
      "----------------------------------\n",
      "Number of observations used for initial training: 96\n",
      "Number of observations used for backtesting: 24\n",
      "    Number of folds: 2\n",
      "    Number of steps per fold: 12\n",
      "    Number of steps to exclude from the end of each train set before test (gap): 0\n",
      "\n",
      "Fold: 0\n",
      "    Training:   2009-01-01 00:00:00 -- 2016-12-01 00:00:00  (n=96)\n",
      "    Validation: 2017-01-01 00:00:00 -- 2017-12-01 00:00:00  (n=12)\n",
      "Fold: 1\n",
      "    Training:   2009-01-01 00:00:00 -- 2017-12-01 00:00:00  (n=108)\n",
      "    Validation: 2018-01-01 00:00:00 -- 2018-12-01 00:00:00  (n=12)\n",
      "\n"
     ]
    },
    {
     "name": "stderr",
     "output_type": "stream",
     "text": [
      "100%|██████████| 2/2 [00:00<00:00, 176.23it/s]\n"
     ]
    },
    {
     "name": "stdout",
     "output_type": "stream",
     "text": [
      "Backtest error: 3.3914162510208965\n",
      "max_depth= 2\n",
      "lags= 3\n",
      "[2, 3, 3.3914162510208965]\n",
      "Information of backtesting process\n",
      "----------------------------------\n",
      "Number of observations used for initial training: 96\n",
      "Number of observations used for backtesting: 24\n",
      "    Number of folds: 2\n",
      "    Number of steps per fold: 12\n",
      "    Number of steps to exclude from the end of each train set before test (gap): 0\n",
      "\n",
      "Fold: 0\n",
      "    Training:   2009-01-01 00:00:00 -- 2016-12-01 00:00:00  (n=96)\n",
      "    Validation: 2017-01-01 00:00:00 -- 2017-12-01 00:00:00  (n=12)\n",
      "Fold: 1\n",
      "    Training:   2009-01-01 00:00:00 -- 2017-12-01 00:00:00  (n=108)\n",
      "    Validation: 2018-01-01 00:00:00 -- 2018-12-01 00:00:00  (n=12)\n",
      "\n"
     ]
    },
    {
     "name": "stderr",
     "output_type": "stream",
     "text": [
      "100%|██████████| 2/2 [00:00<00:00, 172.63it/s]\n"
     ]
    },
    {
     "name": "stdout",
     "output_type": "stream",
     "text": [
      "Backtest error: 3.311825579364967\n",
      "max_depth= 2\n",
      "lags= 4\n",
      "[2, 4, 3.311825579364967]\n",
      "Information of backtesting process\n",
      "----------------------------------\n",
      "Number of observations used for initial training: 96\n",
      "Number of observations used for backtesting: 24\n",
      "    Number of folds: 2\n",
      "    Number of steps per fold: 12\n",
      "    Number of steps to exclude from the end of each train set before test (gap): 0\n",
      "\n",
      "Fold: 0\n",
      "    Training:   2009-01-01 00:00:00 -- 2016-12-01 00:00:00  (n=96)\n",
      "    Validation: 2017-01-01 00:00:00 -- 2017-12-01 00:00:00  (n=12)\n",
      "Fold: 1\n",
      "    Training:   2009-01-01 00:00:00 -- 2017-12-01 00:00:00  (n=108)\n",
      "    Validation: 2018-01-01 00:00:00 -- 2018-12-01 00:00:00  (n=12)\n",
      "\n"
     ]
    },
    {
     "name": "stderr",
     "output_type": "stream",
     "text": [
      "100%|██████████| 2/2 [00:00<00:00, 151.98it/s]\n"
     ]
    },
    {
     "name": "stdout",
     "output_type": "stream",
     "text": [
      "Backtest error: 2.2237581298168094\n",
      "max_depth= 2\n",
      "lags= 5\n",
      "[2, 5, 2.2237581298168094]\n",
      "Information of backtesting process\n",
      "----------------------------------\n",
      "Number of observations used for initial training: 96\n",
      "Number of observations used for backtesting: 24\n",
      "    Number of folds: 2\n",
      "    Number of steps per fold: 12\n",
      "    Number of steps to exclude from the end of each train set before test (gap): 0\n",
      "\n",
      "Fold: 0\n",
      "    Training:   2009-01-01 00:00:00 -- 2016-12-01 00:00:00  (n=96)\n",
      "    Validation: 2017-01-01 00:00:00 -- 2017-12-01 00:00:00  (n=12)\n",
      "Fold: 1\n",
      "    Training:   2009-01-01 00:00:00 -- 2017-12-01 00:00:00  (n=108)\n",
      "    Validation: 2018-01-01 00:00:00 -- 2018-12-01 00:00:00  (n=12)\n",
      "\n"
     ]
    },
    {
     "name": "stderr",
     "output_type": "stream",
     "text": [
      "100%|██████████| 2/2 [00:00<00:00, 165.36it/s]\n"
     ]
    },
    {
     "name": "stdout",
     "output_type": "stream",
     "text": [
      "Backtest error: 2.2185983496893686\n",
      "max_depth= 2\n",
      "lags= 6\n",
      "[2, 6, 2.2185983496893686]\n",
      "Information of backtesting process\n",
      "----------------------------------\n",
      "Number of observations used for initial training: 96\n",
      "Number of observations used for backtesting: 24\n",
      "    Number of folds: 2\n",
      "    Number of steps per fold: 12\n",
      "    Number of steps to exclude from the end of each train set before test (gap): 0\n",
      "\n",
      "Fold: 0\n",
      "    Training:   2009-01-01 00:00:00 -- 2016-12-01 00:00:00  (n=96)\n",
      "    Validation: 2017-01-01 00:00:00 -- 2017-12-01 00:00:00  (n=12)\n",
      "Fold: 1\n",
      "    Training:   2009-01-01 00:00:00 -- 2017-12-01 00:00:00  (n=108)\n",
      "    Validation: 2018-01-01 00:00:00 -- 2018-12-01 00:00:00  (n=12)\n",
      "\n"
     ]
    },
    {
     "name": "stderr",
     "output_type": "stream",
     "text": [
      "100%|██████████| 2/2 [00:00<00:00, 134.62it/s]\n"
     ]
    },
    {
     "name": "stdout",
     "output_type": "stream",
     "text": [
      "Backtest error: 2.2233365461380226\n",
      "max_depth= 2\n",
      "lags= 7\n",
      "[2, 7, 2.2233365461380226]\n",
      "Information of backtesting process\n",
      "----------------------------------\n",
      "Number of observations used for initial training: 96\n",
      "Number of observations used for backtesting: 24\n",
      "    Number of folds: 2\n",
      "    Number of steps per fold: 12\n",
      "    Number of steps to exclude from the end of each train set before test (gap): 0\n",
      "\n",
      "Fold: 0\n",
      "    Training:   2009-01-01 00:00:00 -- 2016-12-01 00:00:00  (n=96)\n",
      "    Validation: 2017-01-01 00:00:00 -- 2017-12-01 00:00:00  (n=12)\n",
      "Fold: 1\n",
      "    Training:   2009-01-01 00:00:00 -- 2017-12-01 00:00:00  (n=108)\n",
      "    Validation: 2018-01-01 00:00:00 -- 2018-12-01 00:00:00  (n=12)\n",
      "\n"
     ]
    },
    {
     "name": "stderr",
     "output_type": "stream",
     "text": [
      "100%|██████████| 2/2 [00:00<00:00, 154.18it/s]\n"
     ]
    },
    {
     "name": "stdout",
     "output_type": "stream",
     "text": [
      "Backtest error: 2.2195600925991603\n",
      "max_depth= 2\n",
      "lags= 8\n",
      "[2, 8, 2.2195600925991603]\n",
      "Information of backtesting process\n",
      "----------------------------------\n",
      "Number of observations used for initial training: 96\n",
      "Number of observations used for backtesting: 24\n",
      "    Number of folds: 2\n",
      "    Number of steps per fold: 12\n",
      "    Number of steps to exclude from the end of each train set before test (gap): 0\n",
      "\n",
      "Fold: 0\n",
      "    Training:   2009-01-01 00:00:00 -- 2016-12-01 00:00:00  (n=96)\n",
      "    Validation: 2017-01-01 00:00:00 -- 2017-12-01 00:00:00  (n=12)\n",
      "Fold: 1\n",
      "    Training:   2009-01-01 00:00:00 -- 2017-12-01 00:00:00  (n=108)\n",
      "    Validation: 2018-01-01 00:00:00 -- 2018-12-01 00:00:00  (n=12)\n",
      "\n"
     ]
    },
    {
     "name": "stderr",
     "output_type": "stream",
     "text": [
      "100%|██████████| 2/2 [00:00<00:00, 160.27it/s]\n"
     ]
    },
    {
     "name": "stdout",
     "output_type": "stream",
     "text": [
      "Backtest error: 2.2688202829600823\n",
      "max_depth= 2\n",
      "lags= 9\n",
      "[2, 9, 2.2688202829600823]\n",
      "Information of backtesting process\n",
      "----------------------------------\n",
      "Number of observations used for initial training: 96\n",
      "Number of observations used for backtesting: 24\n",
      "    Number of folds: 2\n",
      "    Number of steps per fold: 12\n",
      "    Number of steps to exclude from the end of each train set before test (gap): 0\n",
      "\n",
      "Fold: 0\n",
      "    Training:   2009-01-01 00:00:00 -- 2016-12-01 00:00:00  (n=96)\n",
      "    Validation: 2017-01-01 00:00:00 -- 2017-12-01 00:00:00  (n=12)\n",
      "Fold: 1\n",
      "    Training:   2009-01-01 00:00:00 -- 2017-12-01 00:00:00  (n=108)\n",
      "    Validation: 2018-01-01 00:00:00 -- 2018-12-01 00:00:00  (n=12)\n",
      "\n"
     ]
    },
    {
     "name": "stderr",
     "output_type": "stream",
     "text": [
      "100%|██████████| 2/2 [00:00<00:00, 152.98it/s]\n"
     ]
    },
    {
     "name": "stdout",
     "output_type": "stream",
     "text": [
      "Backtest error: 2.2583001884432394\n",
      "max_depth= 2\n",
      "lags= 10\n",
      "[2, 10, 2.2583001884432394]\n",
      "Information of backtesting process\n",
      "----------------------------------\n",
      "Number of observations used for initial training: 96\n",
      "Number of observations used for backtesting: 24\n",
      "    Number of folds: 2\n",
      "    Number of steps per fold: 12\n",
      "    Number of steps to exclude from the end of each train set before test (gap): 0\n",
      "\n",
      "Fold: 0\n",
      "    Training:   2009-01-01 00:00:00 -- 2016-12-01 00:00:00  (n=96)\n",
      "    Validation: 2017-01-01 00:00:00 -- 2017-12-01 00:00:00  (n=12)\n",
      "Fold: 1\n",
      "    Training:   2009-01-01 00:00:00 -- 2017-12-01 00:00:00  (n=108)\n",
      "    Validation: 2018-01-01 00:00:00 -- 2018-12-01 00:00:00  (n=12)\n",
      "\n"
     ]
    },
    {
     "name": "stderr",
     "output_type": "stream",
     "text": [
      "100%|██████████| 2/2 [00:00<00:00, 144.68it/s]\n"
     ]
    },
    {
     "name": "stdout",
     "output_type": "stream",
     "text": [
      "Backtest error: 2.8047126243876828\n",
      "max_depth= 2\n",
      "lags= 11\n",
      "[2, 11, 2.8047126243876828]\n",
      "Information of backtesting process\n",
      "----------------------------------\n",
      "Number of observations used for initial training: 96\n",
      "Number of observations used for backtesting: 24\n",
      "    Number of folds: 2\n",
      "    Number of steps per fold: 12\n",
      "    Number of steps to exclude from the end of each train set before test (gap): 0\n",
      "\n",
      "Fold: 0\n",
      "    Training:   2009-01-01 00:00:00 -- 2016-12-01 00:00:00  (n=96)\n",
      "    Validation: 2017-01-01 00:00:00 -- 2017-12-01 00:00:00  (n=12)\n",
      "Fold: 1\n",
      "    Training:   2009-01-01 00:00:00 -- 2017-12-01 00:00:00  (n=108)\n",
      "    Validation: 2018-01-01 00:00:00 -- 2018-12-01 00:00:00  (n=12)\n",
      "\n"
     ]
    },
    {
     "name": "stderr",
     "output_type": "stream",
     "text": [
      "100%|██████████| 2/2 [00:00<00:00, 157.32it/s]\n"
     ]
    },
    {
     "name": "stdout",
     "output_type": "stream",
     "text": [
      "Backtest error: 1.6175381116924854\n",
      "max_depth= 2\n",
      "lags= 12\n",
      "[2, 12, 1.6175381116924854]\n",
      "Information of backtesting process\n",
      "----------------------------------\n",
      "Number of observations used for initial training: 96\n",
      "Number of observations used for backtesting: 24\n",
      "    Number of folds: 2\n",
      "    Number of steps per fold: 12\n",
      "    Number of steps to exclude from the end of each train set before test (gap): 0\n",
      "\n",
      "Fold: 0\n",
      "    Training:   2009-01-01 00:00:00 -- 2016-12-01 00:00:00  (n=96)\n",
      "    Validation: 2017-01-01 00:00:00 -- 2017-12-01 00:00:00  (n=12)\n",
      "Fold: 1\n",
      "    Training:   2009-01-01 00:00:00 -- 2017-12-01 00:00:00  (n=108)\n",
      "    Validation: 2018-01-01 00:00:00 -- 2018-12-01 00:00:00  (n=12)\n",
      "\n"
     ]
    },
    {
     "name": "stderr",
     "output_type": "stream",
     "text": [
      "100%|██████████| 2/2 [00:00<00:00, 174.69it/s]\n"
     ]
    },
    {
     "name": "stdout",
     "output_type": "stream",
     "text": [
      "Backtest error: 3.4435700741914914\n",
      "max_depth= 3\n",
      "lags= 1\n",
      "[3, 1, 3.4435700741914914]\n",
      "Information of backtesting process\n",
      "----------------------------------\n",
      "Number of observations used for initial training: 96\n",
      "Number of observations used for backtesting: 24\n",
      "    Number of folds: 2\n",
      "    Number of steps per fold: 12\n",
      "    Number of steps to exclude from the end of each train set before test (gap): 0\n",
      "\n",
      "Fold: 0\n",
      "    Training:   2009-01-01 00:00:00 -- 2016-12-01 00:00:00  (n=96)\n",
      "    Validation: 2017-01-01 00:00:00 -- 2017-12-01 00:00:00  (n=12)\n",
      "Fold: 1\n",
      "    Training:   2009-01-01 00:00:00 -- 2017-12-01 00:00:00  (n=108)\n",
      "    Validation: 2018-01-01 00:00:00 -- 2018-12-01 00:00:00  (n=12)\n",
      "\n"
     ]
    },
    {
     "name": "stderr",
     "output_type": "stream",
     "text": [
      "100%|██████████| 2/2 [00:00<00:00, 149.39it/s]\n"
     ]
    },
    {
     "name": "stdout",
     "output_type": "stream",
     "text": [
      "Backtest error: 3.3799320083986717\n",
      "max_depth= 3\n",
      "lags= 2\n",
      "[3, 2, 3.3799320083986717]\n",
      "Information of backtesting process\n",
      "----------------------------------\n",
      "Number of observations used for initial training: 96\n",
      "Number of observations used for backtesting: 24\n",
      "    Number of folds: 2\n",
      "    Number of steps per fold: 12\n",
      "    Number of steps to exclude from the end of each train set before test (gap): 0\n",
      "\n",
      "Fold: 0\n",
      "    Training:   2009-01-01 00:00:00 -- 2016-12-01 00:00:00  (n=96)\n",
      "    Validation: 2017-01-01 00:00:00 -- 2017-12-01 00:00:00  (n=12)\n",
      "Fold: 1\n",
      "    Training:   2009-01-01 00:00:00 -- 2017-12-01 00:00:00  (n=108)\n",
      "    Validation: 2018-01-01 00:00:00 -- 2018-12-01 00:00:00  (n=12)\n",
      "\n"
     ]
    },
    {
     "name": "stderr",
     "output_type": "stream",
     "text": [
      "100%|██████████| 2/2 [00:00<00:00, 157.78it/s]\n"
     ]
    },
    {
     "name": "stdout",
     "output_type": "stream",
     "text": [
      "Backtest error: 2.6487436278872742\n",
      "max_depth= 3\n",
      "lags= 3\n",
      "[3, 3, 2.6487436278872742]\n",
      "Information of backtesting process\n",
      "----------------------------------\n",
      "Number of observations used for initial training: 96\n",
      "Number of observations used for backtesting: 24\n",
      "    Number of folds: 2\n",
      "    Number of steps per fold: 12\n",
      "    Number of steps to exclude from the end of each train set before test (gap): 0\n",
      "\n",
      "Fold: 0\n",
      "    Training:   2009-01-01 00:00:00 -- 2016-12-01 00:00:00  (n=96)\n",
      "    Validation: 2017-01-01 00:00:00 -- 2017-12-01 00:00:00  (n=12)\n",
      "Fold: 1\n",
      "    Training:   2009-01-01 00:00:00 -- 2017-12-01 00:00:00  (n=108)\n",
      "    Validation: 2018-01-01 00:00:00 -- 2018-12-01 00:00:00  (n=12)\n",
      "\n"
     ]
    },
    {
     "name": "stderr",
     "output_type": "stream",
     "text": [
      "100%|██████████| 2/2 [00:00<00:00, 157.46it/s]\n"
     ]
    },
    {
     "name": "stdout",
     "output_type": "stream",
     "text": [
      "Backtest error: 3.860980639507352\n",
      "max_depth= 3\n",
      "lags= 4\n",
      "[3, 4, 3.860980639507352]\n",
      "Information of backtesting process\n",
      "----------------------------------\n",
      "Number of observations used for initial training: 96\n",
      "Number of observations used for backtesting: 24\n",
      "    Number of folds: 2\n",
      "    Number of steps per fold: 12\n",
      "    Number of steps to exclude from the end of each train set before test (gap): 0\n",
      "\n",
      "Fold: 0\n",
      "    Training:   2009-01-01 00:00:00 -- 2016-12-01 00:00:00  (n=96)\n",
      "    Validation: 2017-01-01 00:00:00 -- 2017-12-01 00:00:00  (n=12)\n",
      "Fold: 1\n",
      "    Training:   2009-01-01 00:00:00 -- 2017-12-01 00:00:00  (n=108)\n",
      "    Validation: 2018-01-01 00:00:00 -- 2018-12-01 00:00:00  (n=12)\n",
      "\n"
     ]
    },
    {
     "name": "stderr",
     "output_type": "stream",
     "text": [
      "100%|██████████| 2/2 [00:00<00:00, 140.82it/s]\n"
     ]
    },
    {
     "name": "stdout",
     "output_type": "stream",
     "text": [
      "Backtest error: 3.7356000401767013\n",
      "max_depth= 3\n",
      "lags= 5\n",
      "[3, 5, 3.7356000401767013]\n",
      "Information of backtesting process\n",
      "----------------------------------\n",
      "Number of observations used for initial training: 96\n",
      "Number of observations used for backtesting: 24\n",
      "    Number of folds: 2\n",
      "    Number of steps per fold: 12\n",
      "    Number of steps to exclude from the end of each train set before test (gap): 0\n",
      "\n",
      "Fold: 0\n",
      "    Training:   2009-01-01 00:00:00 -- 2016-12-01 00:00:00  (n=96)\n",
      "    Validation: 2017-01-01 00:00:00 -- 2017-12-01 00:00:00  (n=12)\n",
      "Fold: 1\n",
      "    Training:   2009-01-01 00:00:00 -- 2017-12-01 00:00:00  (n=108)\n",
      "    Validation: 2018-01-01 00:00:00 -- 2018-12-01 00:00:00  (n=12)\n",
      "\n"
     ]
    },
    {
     "name": "stderr",
     "output_type": "stream",
     "text": [
      "100%|██████████| 2/2 [00:00<00:00, 154.23it/s]\n"
     ]
    },
    {
     "name": "stdout",
     "output_type": "stream",
     "text": [
      "Backtest error: 3.757977167662725\n",
      "max_depth= 3\n",
      "lags= 6\n",
      "[3, 6, 3.757977167662725]\n",
      "Information of backtesting process\n",
      "----------------------------------\n",
      "Number of observations used for initial training: 96\n",
      "Number of observations used for backtesting: 24\n",
      "    Number of folds: 2\n",
      "    Number of steps per fold: 12\n",
      "    Number of steps to exclude from the end of each train set before test (gap): 0\n",
      "\n",
      "Fold: 0\n",
      "    Training:   2009-01-01 00:00:00 -- 2016-12-01 00:00:00  (n=96)\n",
      "    Validation: 2017-01-01 00:00:00 -- 2017-12-01 00:00:00  (n=12)\n",
      "Fold: 1\n",
      "    Training:   2009-01-01 00:00:00 -- 2017-12-01 00:00:00  (n=108)\n",
      "    Validation: 2018-01-01 00:00:00 -- 2018-12-01 00:00:00  (n=12)\n",
      "\n"
     ]
    },
    {
     "name": "stderr",
     "output_type": "stream",
     "text": [
      "100%|██████████| 2/2 [00:00<00:00, 141.12it/s]\n"
     ]
    },
    {
     "name": "stdout",
     "output_type": "stream",
     "text": [
      "Backtest error: 3.7906688538998465\n",
      "max_depth= 3\n",
      "lags= 7\n",
      "[3, 7, 3.7906688538998465]\n",
      "Information of backtesting process\n",
      "----------------------------------\n",
      "Number of observations used for initial training: 96\n",
      "Number of observations used for backtesting: 24\n",
      "    Number of folds: 2\n",
      "    Number of steps per fold: 12\n",
      "    Number of steps to exclude from the end of each train set before test (gap): 0\n",
      "\n",
      "Fold: 0\n",
      "    Training:   2009-01-01 00:00:00 -- 2016-12-01 00:00:00  (n=96)\n",
      "    Validation: 2017-01-01 00:00:00 -- 2017-12-01 00:00:00  (n=12)\n",
      "Fold: 1\n",
      "    Training:   2009-01-01 00:00:00 -- 2017-12-01 00:00:00  (n=108)\n",
      "    Validation: 2018-01-01 00:00:00 -- 2018-12-01 00:00:00  (n=12)\n",
      "\n"
     ]
    },
    {
     "name": "stderr",
     "output_type": "stream",
     "text": [
      "100%|██████████| 2/2 [00:00<00:00, 137.91it/s]\n"
     ]
    },
    {
     "name": "stdout",
     "output_type": "stream",
     "text": [
      "Backtest error: 3.6892664099815033\n",
      "max_depth= 3\n",
      "lags= 8\n",
      "[3, 8, 3.6892664099815033]\n",
      "Information of backtesting process\n",
      "----------------------------------\n",
      "Number of observations used for initial training: 96\n",
      "Number of observations used for backtesting: 24\n",
      "    Number of folds: 2\n",
      "    Number of steps per fold: 12\n",
      "    Number of steps to exclude from the end of each train set before test (gap): 0\n",
      "\n",
      "Fold: 0\n",
      "    Training:   2009-01-01 00:00:00 -- 2016-12-01 00:00:00  (n=96)\n",
      "    Validation: 2017-01-01 00:00:00 -- 2017-12-01 00:00:00  (n=12)\n",
      "Fold: 1\n",
      "    Training:   2009-01-01 00:00:00 -- 2017-12-01 00:00:00  (n=108)\n",
      "    Validation: 2018-01-01 00:00:00 -- 2018-12-01 00:00:00  (n=12)\n",
      "\n"
     ]
    },
    {
     "name": "stderr",
     "output_type": "stream",
     "text": [
      "100%|██████████| 2/2 [00:00<00:00, 131.58it/s]\n"
     ]
    },
    {
     "name": "stdout",
     "output_type": "stream",
     "text": [
      "Backtest error: 2.565624616627706\n",
      "max_depth= 3\n",
      "lags= 9\n",
      "[3, 9, 2.565624616627706]\n",
      "Information of backtesting process\n",
      "----------------------------------\n",
      "Number of observations used for initial training: 96\n",
      "Number of observations used for backtesting: 24\n",
      "    Number of folds: 2\n",
      "    Number of steps per fold: 12\n",
      "    Number of steps to exclude from the end of each train set before test (gap): 0\n",
      "\n",
      "Fold: 0\n",
      "    Training:   2009-01-01 00:00:00 -- 2016-12-01 00:00:00  (n=96)\n",
      "    Validation: 2017-01-01 00:00:00 -- 2017-12-01 00:00:00  (n=12)\n",
      "Fold: 1\n",
      "    Training:   2009-01-01 00:00:00 -- 2017-12-01 00:00:00  (n=108)\n",
      "    Validation: 2018-01-01 00:00:00 -- 2018-12-01 00:00:00  (n=12)\n",
      "\n"
     ]
    },
    {
     "name": "stderr",
     "output_type": "stream",
     "text": [
      "100%|██████████| 2/2 [00:00<00:00, 134.90it/s]\n"
     ]
    },
    {
     "name": "stdout",
     "output_type": "stream",
     "text": [
      "Backtest error: 1.7330905414685223\n",
      "max_depth= 3\n",
      "lags= 10\n",
      "[3, 10, 1.7330905414685223]\n",
      "Information of backtesting process\n",
      "----------------------------------\n",
      "Number of observations used for initial training: 96\n",
      "Number of observations used for backtesting: 24\n",
      "    Number of folds: 2\n",
      "    Number of steps per fold: 12\n",
      "    Number of steps to exclude from the end of each train set before test (gap): 0\n",
      "\n",
      "Fold: 0\n",
      "    Training:   2009-01-01 00:00:00 -- 2016-12-01 00:00:00  (n=96)\n",
      "    Validation: 2017-01-01 00:00:00 -- 2017-12-01 00:00:00  (n=12)\n",
      "Fold: 1\n",
      "    Training:   2009-01-01 00:00:00 -- 2017-12-01 00:00:00  (n=108)\n",
      "    Validation: 2018-01-01 00:00:00 -- 2018-12-01 00:00:00  (n=12)\n",
      "\n"
     ]
    },
    {
     "name": "stderr",
     "output_type": "stream",
     "text": [
      "100%|██████████| 2/2 [00:00<00:00, 125.33it/s]\n"
     ]
    },
    {
     "name": "stdout",
     "output_type": "stream",
     "text": [
      "Backtest error: 2.1836741178513783\n",
      "max_depth= 3\n",
      "lags= 11\n",
      "[3, 11, 2.1836741178513783]\n",
      "Information of backtesting process\n",
      "----------------------------------\n",
      "Number of observations used for initial training: 96\n",
      "Number of observations used for backtesting: 24\n",
      "    Number of folds: 2\n",
      "    Number of steps per fold: 12\n",
      "    Number of steps to exclude from the end of each train set before test (gap): 0\n",
      "\n",
      "Fold: 0\n",
      "    Training:   2009-01-01 00:00:00 -- 2016-12-01 00:00:00  (n=96)\n",
      "    Validation: 2017-01-01 00:00:00 -- 2017-12-01 00:00:00  (n=12)\n",
      "Fold: 1\n",
      "    Training:   2009-01-01 00:00:00 -- 2017-12-01 00:00:00  (n=108)\n",
      "    Validation: 2018-01-01 00:00:00 -- 2018-12-01 00:00:00  (n=12)\n",
      "\n"
     ]
    },
    {
     "name": "stderr",
     "output_type": "stream",
     "text": [
      "100%|██████████| 2/2 [00:00<00:00, 129.17it/s]\n"
     ]
    },
    {
     "name": "stdout",
     "output_type": "stream",
     "text": [
      "Backtest error: 1.9961137619726703\n",
      "max_depth= 3\n",
      "lags= 12\n",
      "[3, 12, 1.9961137619726703]\n",
      "Information of backtesting process\n",
      "----------------------------------\n",
      "Number of observations used for initial training: 96\n",
      "Number of observations used for backtesting: 24\n",
      "    Number of folds: 2\n",
      "    Number of steps per fold: 12\n",
      "    Number of steps to exclude from the end of each train set before test (gap): 0\n",
      "\n",
      "Fold: 0\n",
      "    Training:   2009-01-01 00:00:00 -- 2016-12-01 00:00:00  (n=96)\n",
      "    Validation: 2017-01-01 00:00:00 -- 2017-12-01 00:00:00  (n=12)\n",
      "Fold: 1\n",
      "    Training:   2009-01-01 00:00:00 -- 2017-12-01 00:00:00  (n=108)\n",
      "    Validation: 2018-01-01 00:00:00 -- 2018-12-01 00:00:00  (n=12)\n",
      "\n"
     ]
    },
    {
     "name": "stderr",
     "output_type": "stream",
     "text": [
      "100%|██████████| 2/2 [00:00<00:00, 144.33it/s]\n"
     ]
    },
    {
     "name": "stdout",
     "output_type": "stream",
     "text": [
      "Backtest error: 3.790891523155272\n",
      "max_depth= 4\n",
      "lags= 1\n",
      "[4, 1, 3.790891523155272]\n",
      "Information of backtesting process\n",
      "----------------------------------\n",
      "Number of observations used for initial training: 96\n",
      "Number of observations used for backtesting: 24\n",
      "    Number of folds: 2\n",
      "    Number of steps per fold: 12\n",
      "    Number of steps to exclude from the end of each train set before test (gap): 0\n",
      "\n",
      "Fold: 0\n",
      "    Training:   2009-01-01 00:00:00 -- 2016-12-01 00:00:00  (n=96)\n",
      "    Validation: 2017-01-01 00:00:00 -- 2017-12-01 00:00:00  (n=12)\n",
      "Fold: 1\n",
      "    Training:   2009-01-01 00:00:00 -- 2017-12-01 00:00:00  (n=108)\n",
      "    Validation: 2018-01-01 00:00:00 -- 2018-12-01 00:00:00  (n=12)\n",
      "\n"
     ]
    },
    {
     "name": "stderr",
     "output_type": "stream",
     "text": [
      "100%|██████████| 2/2 [00:00<00:00, 142.17it/s]\n"
     ]
    },
    {
     "name": "stdout",
     "output_type": "stream",
     "text": [
      "Backtest error: 5.026714229295945\n",
      "max_depth= 4\n",
      "lags= 2\n",
      "[4, 2, 5.026714229295945]\n",
      "Information of backtesting process\n",
      "----------------------------------\n",
      "Number of observations used for initial training: 96\n",
      "Number of observations used for backtesting: 24\n",
      "    Number of folds: 2\n",
      "    Number of steps per fold: 12\n",
      "    Number of steps to exclude from the end of each train set before test (gap): 0\n",
      "\n",
      "Fold: 0\n",
      "    Training:   2009-01-01 00:00:00 -- 2016-12-01 00:00:00  (n=96)\n",
      "    Validation: 2017-01-01 00:00:00 -- 2017-12-01 00:00:00  (n=12)\n",
      "Fold: 1\n",
      "    Training:   2009-01-01 00:00:00 -- 2017-12-01 00:00:00  (n=108)\n",
      "    Validation: 2018-01-01 00:00:00 -- 2018-12-01 00:00:00  (n=12)\n",
      "\n"
     ]
    },
    {
     "name": "stderr",
     "output_type": "stream",
     "text": [
      "100%|██████████| 2/2 [00:00<00:00, 138.36it/s]\n"
     ]
    },
    {
     "name": "stdout",
     "output_type": "stream",
     "text": [
      "Backtest error: 3.2253843111953686\n",
      "max_depth= 4\n",
      "lags= 3\n",
      "[4, 3, 3.2253843111953686]\n",
      "Information of backtesting process\n",
      "----------------------------------\n",
      "Number of observations used for initial training: 96\n",
      "Number of observations used for backtesting: 24\n",
      "    Number of folds: 2\n",
      "    Number of steps per fold: 12\n",
      "    Number of steps to exclude from the end of each train set before test (gap): 0\n",
      "\n",
      "Fold: 0\n",
      "    Training:   2009-01-01 00:00:00 -- 2016-12-01 00:00:00  (n=96)\n",
      "    Validation: 2017-01-01 00:00:00 -- 2017-12-01 00:00:00  (n=12)\n",
      "Fold: 1\n",
      "    Training:   2009-01-01 00:00:00 -- 2017-12-01 00:00:00  (n=108)\n",
      "    Validation: 2018-01-01 00:00:00 -- 2018-12-01 00:00:00  (n=12)\n",
      "\n"
     ]
    },
    {
     "name": "stderr",
     "output_type": "stream",
     "text": [
      "100%|██████████| 2/2 [00:00<00:00, 131.29it/s]\n"
     ]
    },
    {
     "name": "stdout",
     "output_type": "stream",
     "text": [
      "Backtest error: 4.192062287640905\n",
      "max_depth= 4\n",
      "lags= 4\n",
      "[4, 4, 4.192062287640905]\n",
      "Information of backtesting process\n",
      "----------------------------------\n",
      "Number of observations used for initial training: 96\n",
      "Number of observations used for backtesting: 24\n",
      "    Number of folds: 2\n",
      "    Number of steps per fold: 12\n",
      "    Number of steps to exclude from the end of each train set before test (gap): 0\n",
      "\n",
      "Fold: 0\n",
      "    Training:   2009-01-01 00:00:00 -- 2016-12-01 00:00:00  (n=96)\n",
      "    Validation: 2017-01-01 00:00:00 -- 2017-12-01 00:00:00  (n=12)\n",
      "Fold: 1\n",
      "    Training:   2009-01-01 00:00:00 -- 2017-12-01 00:00:00  (n=108)\n",
      "    Validation: 2018-01-01 00:00:00 -- 2018-12-01 00:00:00  (n=12)\n",
      "\n"
     ]
    },
    {
     "name": "stderr",
     "output_type": "stream",
     "text": [
      "100%|██████████| 2/2 [00:00<00:00, 132.04it/s]\n"
     ]
    },
    {
     "name": "stdout",
     "output_type": "stream",
     "text": [
      "Backtest error: 2.642052265185523\n",
      "max_depth= 4\n",
      "lags= 5\n",
      "[4, 5, 2.642052265185523]\n",
      "Information of backtesting process\n",
      "----------------------------------\n",
      "Number of observations used for initial training: 96\n",
      "Number of observations used for backtesting: 24\n",
      "    Number of folds: 2\n",
      "    Number of steps per fold: 12\n",
      "    Number of steps to exclude from the end of each train set before test (gap): 0\n",
      "\n",
      "Fold: 0\n",
      "    Training:   2009-01-01 00:00:00 -- 2016-12-01 00:00:00  (n=96)\n",
      "    Validation: 2017-01-01 00:00:00 -- 2017-12-01 00:00:00  (n=12)\n",
      "Fold: 1\n",
      "    Training:   2009-01-01 00:00:00 -- 2017-12-01 00:00:00  (n=108)\n",
      "    Validation: 2018-01-01 00:00:00 -- 2018-12-01 00:00:00  (n=12)\n",
      "\n"
     ]
    },
    {
     "name": "stderr",
     "output_type": "stream",
     "text": [
      "100%|██████████| 2/2 [00:00<00:00, 122.06it/s]\n"
     ]
    },
    {
     "name": "stdout",
     "output_type": "stream",
     "text": [
      "Backtest error: 2.9544145789060985\n",
      "max_depth= 4\n",
      "lags= 6\n",
      "[4, 6, 2.9544145789060985]\n",
      "Information of backtesting process\n",
      "----------------------------------\n",
      "Number of observations used for initial training: 96\n",
      "Number of observations used for backtesting: 24\n",
      "    Number of folds: 2\n",
      "    Number of steps per fold: 12\n",
      "    Number of steps to exclude from the end of each train set before test (gap): 0\n",
      "\n",
      "Fold: 0\n",
      "    Training:   2009-01-01 00:00:00 -- 2016-12-01 00:00:00  (n=96)\n",
      "    Validation: 2017-01-01 00:00:00 -- 2017-12-01 00:00:00  (n=12)\n",
      "Fold: 1\n",
      "    Training:   2009-01-01 00:00:00 -- 2017-12-01 00:00:00  (n=108)\n",
      "    Validation: 2018-01-01 00:00:00 -- 2018-12-01 00:00:00  (n=12)\n",
      "\n"
     ]
    },
    {
     "name": "stderr",
     "output_type": "stream",
     "text": [
      "100%|██████████| 2/2 [00:00<00:00, 115.37it/s]\n"
     ]
    },
    {
     "name": "stdout",
     "output_type": "stream",
     "text": [
      "Backtest error: 3.0405931210427735\n",
      "max_depth= 4\n",
      "lags= 7\n",
      "[4, 7, 3.0405931210427735]\n",
      "Information of backtesting process\n",
      "----------------------------------\n",
      "Number of observations used for initial training: 96\n",
      "Number of observations used for backtesting: 24\n",
      "    Number of folds: 2\n",
      "    Number of steps per fold: 12\n",
      "    Number of steps to exclude from the end of each train set before test (gap): 0\n",
      "\n",
      "Fold: 0\n",
      "    Training:   2009-01-01 00:00:00 -- 2016-12-01 00:00:00  (n=96)\n",
      "    Validation: 2017-01-01 00:00:00 -- 2017-12-01 00:00:00  (n=12)\n",
      "Fold: 1\n",
      "    Training:   2009-01-01 00:00:00 -- 2017-12-01 00:00:00  (n=108)\n",
      "    Validation: 2018-01-01 00:00:00 -- 2018-12-01 00:00:00  (n=12)\n",
      "\n"
     ]
    },
    {
     "name": "stderr",
     "output_type": "stream",
     "text": [
      "100%|██████████| 2/2 [00:00<00:00, 115.49it/s]\n"
     ]
    },
    {
     "name": "stdout",
     "output_type": "stream",
     "text": [
      "Backtest error: 2.400267894952348\n",
      "max_depth= 4\n",
      "lags= 8\n",
      "[4, 8, 2.400267894952348]\n",
      "Information of backtesting process\n",
      "----------------------------------\n",
      "Number of observations used for initial training: 96\n",
      "Number of observations used for backtesting: 24\n",
      "    Number of folds: 2\n",
      "    Number of steps per fold: 12\n",
      "    Number of steps to exclude from the end of each train set before test (gap): 0\n",
      "\n",
      "Fold: 0\n",
      "    Training:   2009-01-01 00:00:00 -- 2016-12-01 00:00:00  (n=96)\n",
      "    Validation: 2017-01-01 00:00:00 -- 2017-12-01 00:00:00  (n=12)\n",
      "Fold: 1\n",
      "    Training:   2009-01-01 00:00:00 -- 2017-12-01 00:00:00  (n=108)\n",
      "    Validation: 2018-01-01 00:00:00 -- 2018-12-01 00:00:00  (n=12)\n",
      "\n"
     ]
    },
    {
     "name": "stderr",
     "output_type": "stream",
     "text": [
      "100%|██████████| 2/2 [00:00<00:00, 118.98it/s]\n"
     ]
    },
    {
     "name": "stdout",
     "output_type": "stream",
     "text": [
      "Backtest error: 1.9189500173119314\n",
      "max_depth= 4\n",
      "lags= 9\n",
      "[4, 9, 1.9189500173119314]\n",
      "Information of backtesting process\n",
      "----------------------------------\n",
      "Number of observations used for initial training: 96\n",
      "Number of observations used for backtesting: 24\n",
      "    Number of folds: 2\n",
      "    Number of steps per fold: 12\n",
      "    Number of steps to exclude from the end of each train set before test (gap): 0\n",
      "\n",
      "Fold: 0\n",
      "    Training:   2009-01-01 00:00:00 -- 2016-12-01 00:00:00  (n=96)\n",
      "    Validation: 2017-01-01 00:00:00 -- 2017-12-01 00:00:00  (n=12)\n",
      "Fold: 1\n",
      "    Training:   2009-01-01 00:00:00 -- 2017-12-01 00:00:00  (n=108)\n",
      "    Validation: 2018-01-01 00:00:00 -- 2018-12-01 00:00:00  (n=12)\n",
      "\n"
     ]
    },
    {
     "name": "stderr",
     "output_type": "stream",
     "text": [
      "100%|██████████| 2/2 [00:00<00:00, 111.00it/s]\n"
     ]
    },
    {
     "name": "stdout",
     "output_type": "stream",
     "text": [
      "Backtest error: 2.0140772512677274\n",
      "max_depth= 4\n",
      "lags= 10\n",
      "[4, 10, 2.0140772512677274]\n",
      "Information of backtesting process\n",
      "----------------------------------\n",
      "Number of observations used for initial training: 96\n",
      "Number of observations used for backtesting: 24\n",
      "    Number of folds: 2\n",
      "    Number of steps per fold: 12\n",
      "    Number of steps to exclude from the end of each train set before test (gap): 0\n",
      "\n",
      "Fold: 0\n",
      "    Training:   2009-01-01 00:00:00 -- 2016-12-01 00:00:00  (n=96)\n",
      "    Validation: 2017-01-01 00:00:00 -- 2017-12-01 00:00:00  (n=12)\n",
      "Fold: 1\n",
      "    Training:   2009-01-01 00:00:00 -- 2017-12-01 00:00:00  (n=108)\n",
      "    Validation: 2018-01-01 00:00:00 -- 2018-12-01 00:00:00  (n=12)\n",
      "\n"
     ]
    },
    {
     "name": "stderr",
     "output_type": "stream",
     "text": [
      "100%|██████████| 2/2 [00:00<00:00, 95.01it/s]\n"
     ]
    },
    {
     "name": "stdout",
     "output_type": "stream",
     "text": [
      "Backtest error: 1.7848223026178236\n",
      "max_depth= 4\n",
      "lags= 11\n",
      "[4, 11, 1.7848223026178236]\n",
      "Information of backtesting process\n",
      "----------------------------------\n",
      "Number of observations used for initial training: 96\n",
      "Number of observations used for backtesting: 24\n",
      "    Number of folds: 2\n",
      "    Number of steps per fold: 12\n",
      "    Number of steps to exclude from the end of each train set before test (gap): 0\n",
      "\n",
      "Fold: 0\n",
      "    Training:   2009-01-01 00:00:00 -- 2016-12-01 00:00:00  (n=96)\n",
      "    Validation: 2017-01-01 00:00:00 -- 2017-12-01 00:00:00  (n=12)\n",
      "Fold: 1\n",
      "    Training:   2009-01-01 00:00:00 -- 2017-12-01 00:00:00  (n=108)\n",
      "    Validation: 2018-01-01 00:00:00 -- 2018-12-01 00:00:00  (n=12)\n",
      "\n"
     ]
    },
    {
     "name": "stderr",
     "output_type": "stream",
     "text": [
      "100%|██████████| 2/2 [00:00<00:00, 93.19it/s]\n"
     ]
    },
    {
     "name": "stdout",
     "output_type": "stream",
     "text": [
      "Backtest error: 2.1244808123336854\n",
      "max_depth= 4\n",
      "lags= 12\n",
      "[4, 12, 2.1244808123336854]\n",
      "Information of backtesting process\n",
      "----------------------------------\n",
      "Number of observations used for initial training: 96\n",
      "Number of observations used for backtesting: 24\n",
      "    Number of folds: 2\n",
      "    Number of steps per fold: 12\n",
      "    Number of steps to exclude from the end of each train set before test (gap): 0\n",
      "\n",
      "Fold: 0\n",
      "    Training:   2009-01-01 00:00:00 -- 2016-12-01 00:00:00  (n=96)\n",
      "    Validation: 2017-01-01 00:00:00 -- 2017-12-01 00:00:00  (n=12)\n",
      "Fold: 1\n",
      "    Training:   2009-01-01 00:00:00 -- 2017-12-01 00:00:00  (n=108)\n",
      "    Validation: 2018-01-01 00:00:00 -- 2018-12-01 00:00:00  (n=12)\n",
      "\n"
     ]
    },
    {
     "name": "stderr",
     "output_type": "stream",
     "text": [
      "100%|██████████| 2/2 [00:00<00:00, 123.40it/s]\n"
     ]
    },
    {
     "name": "stdout",
     "output_type": "stream",
     "text": [
      "Backtest error: 4.222851617721179\n",
      "max_depth= 5\n",
      "lags= 1\n",
      "[5, 1, 4.222851617721179]\n",
      "Information of backtesting process\n",
      "----------------------------------\n",
      "Number of observations used for initial training: 96\n",
      "Number of observations used for backtesting: 24\n",
      "    Number of folds: 2\n",
      "    Number of steps per fold: 12\n",
      "    Number of steps to exclude from the end of each train set before test (gap): 0\n",
      "\n",
      "Fold: 0\n",
      "    Training:   2009-01-01 00:00:00 -- 2016-12-01 00:00:00  (n=96)\n",
      "    Validation: 2017-01-01 00:00:00 -- 2017-12-01 00:00:00  (n=12)\n",
      "Fold: 1\n",
      "    Training:   2009-01-01 00:00:00 -- 2017-12-01 00:00:00  (n=108)\n",
      "    Validation: 2018-01-01 00:00:00 -- 2018-12-01 00:00:00  (n=12)\n",
      "\n"
     ]
    },
    {
     "name": "stderr",
     "output_type": "stream",
     "text": [
      "100%|██████████| 2/2 [00:00<00:00, 129.42it/s]\n"
     ]
    },
    {
     "name": "stdout",
     "output_type": "stream",
     "text": [
      "Backtest error: 4.614439553789204\n",
      "max_depth= 5\n",
      "lags= 2\n",
      "[5, 2, 4.614439553789204]\n",
      "Information of backtesting process\n",
      "----------------------------------\n",
      "Number of observations used for initial training: 96\n",
      "Number of observations used for backtesting: 24\n",
      "    Number of folds: 2\n",
      "    Number of steps per fold: 12\n",
      "    Number of steps to exclude from the end of each train set before test (gap): 0\n",
      "\n",
      "Fold: 0\n",
      "    Training:   2009-01-01 00:00:00 -- 2016-12-01 00:00:00  (n=96)\n",
      "    Validation: 2017-01-01 00:00:00 -- 2017-12-01 00:00:00  (n=12)\n",
      "Fold: 1\n",
      "    Training:   2009-01-01 00:00:00 -- 2017-12-01 00:00:00  (n=108)\n",
      "    Validation: 2018-01-01 00:00:00 -- 2018-12-01 00:00:00  (n=12)\n",
      "\n"
     ]
    },
    {
     "name": "stderr",
     "output_type": "stream",
     "text": [
      "100%|██████████| 2/2 [00:00<00:00, 111.73it/s]\n"
     ]
    },
    {
     "name": "stdout",
     "output_type": "stream",
     "text": [
      "Backtest error: 3.1238602379054634\n",
      "max_depth= 5\n",
      "lags= 3\n",
      "[5, 3, 3.1238602379054634]\n",
      "Information of backtesting process\n",
      "----------------------------------\n",
      "Number of observations used for initial training: 96\n",
      "Number of observations used for backtesting: 24\n",
      "    Number of folds: 2\n",
      "    Number of steps per fold: 12\n",
      "    Number of steps to exclude from the end of each train set before test (gap): 0\n",
      "\n",
      "Fold: 0\n",
      "    Training:   2009-01-01 00:00:00 -- 2016-12-01 00:00:00  (n=96)\n",
      "    Validation: 2017-01-01 00:00:00 -- 2017-12-01 00:00:00  (n=12)\n",
      "Fold: 1\n",
      "    Training:   2009-01-01 00:00:00 -- 2017-12-01 00:00:00  (n=108)\n",
      "    Validation: 2018-01-01 00:00:00 -- 2018-12-01 00:00:00  (n=12)\n",
      "\n"
     ]
    },
    {
     "name": "stderr",
     "output_type": "stream",
     "text": [
      "100%|██████████| 2/2 [00:00<00:00, 146.26it/s]\n"
     ]
    },
    {
     "name": "stdout",
     "output_type": "stream",
     "text": [
      "Backtest error: 3.7695121835360816\n",
      "max_depth= 5\n",
      "lags= 4\n",
      "[5, 4, 3.7695121835360816]\n",
      "Information of backtesting process\n",
      "----------------------------------\n",
      "Number of observations used for initial training: 96\n",
      "Number of observations used for backtesting: 24\n",
      "    Number of folds: 2\n",
      "    Number of steps per fold: 12\n",
      "    Number of steps to exclude from the end of each train set before test (gap): 0\n",
      "\n",
      "Fold: 0\n",
      "    Training:   2009-01-01 00:00:00 -- 2016-12-01 00:00:00  (n=96)\n",
      "    Validation: 2017-01-01 00:00:00 -- 2017-12-01 00:00:00  (n=12)\n",
      "Fold: 1\n",
      "    Training:   2009-01-01 00:00:00 -- 2017-12-01 00:00:00  (n=108)\n",
      "    Validation: 2018-01-01 00:00:00 -- 2018-12-01 00:00:00  (n=12)\n",
      "\n"
     ]
    },
    {
     "name": "stderr",
     "output_type": "stream",
     "text": [
      "100%|██████████| 2/2 [00:00<00:00, 154.73it/s]\n"
     ]
    },
    {
     "name": "stdout",
     "output_type": "stream",
     "text": [
      "Backtest error: 3.1296128913645433\n",
      "max_depth= 5\n",
      "lags= 5\n",
      "[5, 5, 3.1296128913645433]\n",
      "Information of backtesting process\n",
      "----------------------------------\n",
      "Number of observations used for initial training: 96\n",
      "Number of observations used for backtesting: 24\n",
      "    Number of folds: 2\n",
      "    Number of steps per fold: 12\n",
      "    Number of steps to exclude from the end of each train set before test (gap): 0\n",
      "\n",
      "Fold: 0\n",
      "    Training:   2009-01-01 00:00:00 -- 2016-12-01 00:00:00  (n=96)\n",
      "    Validation: 2017-01-01 00:00:00 -- 2017-12-01 00:00:00  (n=12)\n",
      "Fold: 1\n",
      "    Training:   2009-01-01 00:00:00 -- 2017-12-01 00:00:00  (n=108)\n",
      "    Validation: 2018-01-01 00:00:00 -- 2018-12-01 00:00:00  (n=12)\n",
      "\n"
     ]
    },
    {
     "name": "stderr",
     "output_type": "stream",
     "text": [
      "100%|██████████| 2/2 [00:00<00:00, 145.24it/s]\n"
     ]
    },
    {
     "name": "stdout",
     "output_type": "stream",
     "text": [
      "Backtest error: 4.179718093462239\n",
      "max_depth= 5\n",
      "lags= 6\n",
      "[5, 6, 4.179718093462239]\n",
      "Information of backtesting process\n",
      "----------------------------------\n",
      "Number of observations used for initial training: 96\n",
      "Number of observations used for backtesting: 24\n",
      "    Number of folds: 2\n",
      "    Number of steps per fold: 12\n",
      "    Number of steps to exclude from the end of each train set before test (gap): 0\n",
      "\n",
      "Fold: 0\n",
      "    Training:   2009-01-01 00:00:00 -- 2016-12-01 00:00:00  (n=96)\n",
      "    Validation: 2017-01-01 00:00:00 -- 2017-12-01 00:00:00  (n=12)\n",
      "Fold: 1\n",
      "    Training:   2009-01-01 00:00:00 -- 2017-12-01 00:00:00  (n=108)\n",
      "    Validation: 2018-01-01 00:00:00 -- 2018-12-01 00:00:00  (n=12)\n",
      "\n"
     ]
    },
    {
     "name": "stderr",
     "output_type": "stream",
     "text": [
      "100%|██████████| 2/2 [00:00<00:00, 148.68it/s]\n"
     ]
    },
    {
     "name": "stdout",
     "output_type": "stream",
     "text": [
      "Backtest error: 4.158964569137646\n",
      "max_depth= 5\n",
      "lags= 7\n",
      "[5, 7, 4.158964569137646]\n",
      "Information of backtesting process\n",
      "----------------------------------\n",
      "Number of observations used for initial training: 96\n",
      "Number of observations used for backtesting: 24\n",
      "    Number of folds: 2\n",
      "    Number of steps per fold: 12\n",
      "    Number of steps to exclude from the end of each train set before test (gap): 0\n",
      "\n",
      "Fold: 0\n",
      "    Training:   2009-01-01 00:00:00 -- 2016-12-01 00:00:00  (n=96)\n",
      "    Validation: 2017-01-01 00:00:00 -- 2017-12-01 00:00:00  (n=12)\n",
      "Fold: 1\n",
      "    Training:   2009-01-01 00:00:00 -- 2017-12-01 00:00:00  (n=108)\n",
      "    Validation: 2018-01-01 00:00:00 -- 2018-12-01 00:00:00  (n=12)\n",
      "\n"
     ]
    },
    {
     "name": "stderr",
     "output_type": "stream",
     "text": [
      "100%|██████████| 2/2 [00:00<00:00, 151.84it/s]\n"
     ]
    },
    {
     "name": "stdout",
     "output_type": "stream",
     "text": [
      "Backtest error: 5.103646103045109\n",
      "max_depth= 5\n",
      "lags= 8\n",
      "[5, 8, 5.103646103045109]\n",
      "Information of backtesting process\n",
      "----------------------------------\n",
      "Number of observations used for initial training: 96\n",
      "Number of observations used for backtesting: 24\n",
      "    Number of folds: 2\n",
      "    Number of steps per fold: 12\n",
      "    Number of steps to exclude from the end of each train set before test (gap): 0\n",
      "\n",
      "Fold: 0\n",
      "    Training:   2009-01-01 00:00:00 -- 2016-12-01 00:00:00  (n=96)\n",
      "    Validation: 2017-01-01 00:00:00 -- 2017-12-01 00:00:00  (n=12)\n",
      "Fold: 1\n",
      "    Training:   2009-01-01 00:00:00 -- 2017-12-01 00:00:00  (n=108)\n",
      "    Validation: 2018-01-01 00:00:00 -- 2018-12-01 00:00:00  (n=12)\n",
      "\n"
     ]
    },
    {
     "name": "stderr",
     "output_type": "stream",
     "text": [
      "100%|██████████| 2/2 [00:00<00:00, 146.81it/s]\n"
     ]
    },
    {
     "name": "stdout",
     "output_type": "stream",
     "text": [
      "Backtest error: 3.2376869196716584\n",
      "max_depth= 5\n",
      "lags= 9\n",
      "[5, 9, 3.2376869196716584]\n",
      "Information of backtesting process\n",
      "----------------------------------\n",
      "Number of observations used for initial training: 96\n",
      "Number of observations used for backtesting: 24\n",
      "    Number of folds: 2\n",
      "    Number of steps per fold: 12\n",
      "    Number of steps to exclude from the end of each train set before test (gap): 0\n",
      "\n",
      "Fold: 0\n",
      "    Training:   2009-01-01 00:00:00 -- 2016-12-01 00:00:00  (n=96)\n",
      "    Validation: 2017-01-01 00:00:00 -- 2017-12-01 00:00:00  (n=12)\n",
      "Fold: 1\n",
      "    Training:   2009-01-01 00:00:00 -- 2017-12-01 00:00:00  (n=108)\n",
      "    Validation: 2018-01-01 00:00:00 -- 2018-12-01 00:00:00  (n=12)\n",
      "\n"
     ]
    },
    {
     "name": "stderr",
     "output_type": "stream",
     "text": [
      "100%|██████████| 2/2 [00:00<00:00, 153.92it/s]\n"
     ]
    },
    {
     "name": "stdout",
     "output_type": "stream",
     "text": [
      "Backtest error: 1.9871079117527897\n",
      "max_depth= 5\n",
      "lags= 10\n",
      "[5, 10, 1.9871079117527897]\n",
      "Information of backtesting process\n",
      "----------------------------------\n",
      "Number of observations used for initial training: 96\n",
      "Number of observations used for backtesting: 24\n",
      "    Number of folds: 2\n",
      "    Number of steps per fold: 12\n",
      "    Number of steps to exclude from the end of each train set before test (gap): 0\n",
      "\n",
      "Fold: 0\n",
      "    Training:   2009-01-01 00:00:00 -- 2016-12-01 00:00:00  (n=96)\n",
      "    Validation: 2017-01-01 00:00:00 -- 2017-12-01 00:00:00  (n=12)\n",
      "Fold: 1\n",
      "    Training:   2009-01-01 00:00:00 -- 2017-12-01 00:00:00  (n=108)\n",
      "    Validation: 2018-01-01 00:00:00 -- 2018-12-01 00:00:00  (n=12)\n",
      "\n"
     ]
    },
    {
     "name": "stderr",
     "output_type": "stream",
     "text": [
      "100%|██████████| 2/2 [00:00<00:00, 151.08it/s]\n"
     ]
    },
    {
     "name": "stdout",
     "output_type": "stream",
     "text": [
      "Backtest error: 3.231786363083584\n",
      "max_depth= 5\n",
      "lags= 11\n",
      "[5, 11, 3.231786363083584]\n",
      "Information of backtesting process\n",
      "----------------------------------\n",
      "Number of observations used for initial training: 96\n",
      "Number of observations used for backtesting: 24\n",
      "    Number of folds: 2\n",
      "    Number of steps per fold: 12\n",
      "    Number of steps to exclude from the end of each train set before test (gap): 0\n",
      "\n",
      "Fold: 0\n",
      "    Training:   2009-01-01 00:00:00 -- 2016-12-01 00:00:00  (n=96)\n",
      "    Validation: 2017-01-01 00:00:00 -- 2017-12-01 00:00:00  (n=12)\n",
      "Fold: 1\n",
      "    Training:   2009-01-01 00:00:00 -- 2017-12-01 00:00:00  (n=108)\n",
      "    Validation: 2018-01-01 00:00:00 -- 2018-12-01 00:00:00  (n=12)\n",
      "\n"
     ]
    },
    {
     "name": "stderr",
     "output_type": "stream",
     "text": [
      "100%|██████████| 2/2 [00:00<00:00, 148.07it/s]\n"
     ]
    },
    {
     "name": "stdout",
     "output_type": "stream",
     "text": [
      "Backtest error: 2.32365354659547\n",
      "max_depth= 5\n",
      "lags= 12\n",
      "[5, 12, 2.32365354659547]\n",
      "Information of backtesting process\n",
      "----------------------------------\n",
      "Number of observations used for initial training: 96\n",
      "Number of observations used for backtesting: 24\n",
      "    Number of folds: 2\n",
      "    Number of steps per fold: 12\n",
      "    Number of steps to exclude from the end of each train set before test (gap): 0\n",
      "\n",
      "Fold: 0\n",
      "    Training:   2009-01-01 00:00:00 -- 2016-12-01 00:00:00  (n=96)\n",
      "    Validation: 2017-01-01 00:00:00 -- 2017-12-01 00:00:00  (n=12)\n",
      "Fold: 1\n",
      "    Training:   2009-01-01 00:00:00 -- 2017-12-01 00:00:00  (n=108)\n",
      "    Validation: 2018-01-01 00:00:00 -- 2018-12-01 00:00:00  (n=12)\n",
      "\n"
     ]
    },
    {
     "name": "stderr",
     "output_type": "stream",
     "text": [
      "100%|██████████| 2/2 [00:00<00:00, 162.93it/s]"
     ]
    },
    {
     "name": "stdout",
     "output_type": "stream",
     "text": [
      "Backtest error: 4.087378289626755"
     ]
    },
    {
     "name": "stderr",
     "output_type": "stream",
     "text": [
      "\n"
     ]
    },
    {
     "name": "stdout",
     "output_type": "stream",
     "text": [
      "\n",
      "max_depth= 6\n",
      "lags= 1\n",
      "[6, 1, 4.087378289626755]\n",
      "Information of backtesting process\n",
      "----------------------------------\n",
      "Number of observations used for initial training: 96\n",
      "Number of observations used for backtesting: 24\n",
      "    Number of folds: 2\n",
      "    Number of steps per fold: 12\n",
      "    Number of steps to exclude from the end of each train set before test (gap): 0\n",
      "\n",
      "Fold: 0\n",
      "    Training:   2009-01-01 00:00:00 -- 2016-12-01 00:00:00  (n=96)\n",
      "    Validation: 2017-01-01 00:00:00 -- 2017-12-01 00:00:00  (n=12)\n",
      "Fold: 1\n",
      "    Training:   2009-01-01 00:00:00 -- 2017-12-01 00:00:00  (n=108)\n",
      "    Validation: 2018-01-01 00:00:00 -- 2018-12-01 00:00:00  (n=12)\n",
      "\n"
     ]
    },
    {
     "name": "stderr",
     "output_type": "stream",
     "text": [
      "100%|██████████| 2/2 [00:00<00:00, 156.83it/s]\n"
     ]
    },
    {
     "name": "stdout",
     "output_type": "stream",
     "text": [
      "Backtest error: 2.624845133771626\n",
      "max_depth= 6\n",
      "lags= 2\n",
      "[6, 2, 2.624845133771626]\n",
      "Information of backtesting process\n",
      "----------------------------------\n",
      "Number of observations used for initial training: 96\n",
      "Number of observations used for backtesting: 24\n",
      "    Number of folds: 2\n",
      "    Number of steps per fold: 12\n",
      "    Number of steps to exclude from the end of each train set before test (gap): 0\n",
      "\n",
      "Fold: 0\n",
      "    Training:   2009-01-01 00:00:00 -- 2016-12-01 00:00:00  (n=96)\n",
      "    Validation: 2017-01-01 00:00:00 -- 2017-12-01 00:00:00  (n=12)\n",
      "Fold: 1\n",
      "    Training:   2009-01-01 00:00:00 -- 2017-12-01 00:00:00  (n=108)\n",
      "    Validation: 2018-01-01 00:00:00 -- 2018-12-01 00:00:00  (n=12)\n",
      "\n"
     ]
    },
    {
     "name": "stderr",
     "output_type": "stream",
     "text": [
      "100%|██████████| 2/2 [00:00<00:00, 157.02it/s]\n"
     ]
    },
    {
     "name": "stdout",
     "output_type": "stream",
     "text": [
      "Backtest error: 3.881299662540272\n",
      "max_depth= 6\n",
      "lags= 3\n",
      "[6, 3, 3.881299662540272]\n",
      "Information of backtesting process\n",
      "----------------------------------\n",
      "Number of observations used for initial training: 96\n",
      "Number of observations used for backtesting: 24\n",
      "    Number of folds: 2\n",
      "    Number of steps per fold: 12\n",
      "    Number of steps to exclude from the end of each train set before test (gap): 0\n",
      "\n",
      "Fold: 0\n",
      "    Training:   2009-01-01 00:00:00 -- 2016-12-01 00:00:00  (n=96)\n",
      "    Validation: 2017-01-01 00:00:00 -- 2017-12-01 00:00:00  (n=12)\n",
      "Fold: 1\n",
      "    Training:   2009-01-01 00:00:00 -- 2017-12-01 00:00:00  (n=108)\n",
      "    Validation: 2018-01-01 00:00:00 -- 2018-12-01 00:00:00  (n=12)\n",
      "\n"
     ]
    },
    {
     "name": "stderr",
     "output_type": "stream",
     "text": [
      "100%|██████████| 2/2 [00:00<00:00, 159.06it/s]\n"
     ]
    },
    {
     "name": "stdout",
     "output_type": "stream",
     "text": [
      "Backtest error: 4.029836221426592\n",
      "max_depth= 6\n",
      "lags= 4\n",
      "[6, 4, 4.029836221426592]\n",
      "Information of backtesting process\n",
      "----------------------------------\n",
      "Number of observations used for initial training: 96\n",
      "Number of observations used for backtesting: 24\n",
      "    Number of folds: 2\n",
      "    Number of steps per fold: 12\n",
      "    Number of steps to exclude from the end of each train set before test (gap): 0\n",
      "\n",
      "Fold: 0\n",
      "    Training:   2009-01-01 00:00:00 -- 2016-12-01 00:00:00  (n=96)\n",
      "    Validation: 2017-01-01 00:00:00 -- 2017-12-01 00:00:00  (n=12)\n",
      "Fold: 1\n",
      "    Training:   2009-01-01 00:00:00 -- 2017-12-01 00:00:00  (n=108)\n",
      "    Validation: 2018-01-01 00:00:00 -- 2018-12-01 00:00:00  (n=12)\n",
      "\n"
     ]
    },
    {
     "name": "stderr",
     "output_type": "stream",
     "text": [
      "100%|██████████| 2/2 [00:00<00:00, 152.83it/s]\n"
     ]
    },
    {
     "name": "stdout",
     "output_type": "stream",
     "text": [
      "Backtest error: 3.6531996840853913\n",
      "max_depth= 6\n",
      "lags= 5\n",
      "[6, 5, 3.6531996840853913]\n",
      "Information of backtesting process\n",
      "----------------------------------\n",
      "Number of observations used for initial training: 96\n",
      "Number of observations used for backtesting: 24\n",
      "    Number of folds: 2\n",
      "    Number of steps per fold: 12\n",
      "    Number of steps to exclude from the end of each train set before test (gap): 0\n",
      "\n",
      "Fold: 0\n",
      "    Training:   2009-01-01 00:00:00 -- 2016-12-01 00:00:00  (n=96)\n",
      "    Validation: 2017-01-01 00:00:00 -- 2017-12-01 00:00:00  (n=12)\n",
      "Fold: 1\n",
      "    Training:   2009-01-01 00:00:00 -- 2017-12-01 00:00:00  (n=108)\n",
      "    Validation: 2018-01-01 00:00:00 -- 2018-12-01 00:00:00  (n=12)\n",
      "\n"
     ]
    },
    {
     "name": "stderr",
     "output_type": "stream",
     "text": [
      "100%|██████████| 2/2 [00:00<00:00, 161.09it/s]\n"
     ]
    },
    {
     "name": "stdout",
     "output_type": "stream",
     "text": [
      "Backtest error: 2.21294091315262\n",
      "max_depth= 6\n",
      "lags= 6\n",
      "[6, 6, 2.21294091315262]\n",
      "Information of backtesting process\n",
      "----------------------------------\n",
      "Number of observations used for initial training: 96\n",
      "Number of observations used for backtesting: 24\n",
      "    Number of folds: 2\n",
      "    Number of steps per fold: 12\n",
      "    Number of steps to exclude from the end of each train set before test (gap): 0\n",
      "\n",
      "Fold: 0\n",
      "    Training:   2009-01-01 00:00:00 -- 2016-12-01 00:00:00  (n=96)\n",
      "    Validation: 2017-01-01 00:00:00 -- 2017-12-01 00:00:00  (n=12)\n",
      "Fold: 1\n",
      "    Training:   2009-01-01 00:00:00 -- 2017-12-01 00:00:00  (n=108)\n",
      "    Validation: 2018-01-01 00:00:00 -- 2018-12-01 00:00:00  (n=12)\n",
      "\n"
     ]
    },
    {
     "name": "stderr",
     "output_type": "stream",
     "text": [
      "100%|██████████| 2/2 [00:00<00:00, 152.14it/s]\n"
     ]
    },
    {
     "name": "stdout",
     "output_type": "stream",
     "text": [
      "Backtest error: 2.6448261193034033\n",
      "max_depth= 6\n",
      "lags= 7\n",
      "[6, 7, 2.6448261193034033]\n",
      "Information of backtesting process\n",
      "----------------------------------\n",
      "Number of observations used for initial training: 96\n",
      "Number of observations used for backtesting: 24\n",
      "    Number of folds: 2\n",
      "    Number of steps per fold: 12\n",
      "    Number of steps to exclude from the end of each train set before test (gap): 0\n",
      "\n",
      "Fold: 0\n",
      "    Training:   2009-01-01 00:00:00 -- 2016-12-01 00:00:00  (n=96)\n",
      "    Validation: 2017-01-01 00:00:00 -- 2017-12-01 00:00:00  (n=12)\n",
      "Fold: 1\n",
      "    Training:   2009-01-01 00:00:00 -- 2017-12-01 00:00:00  (n=108)\n",
      "    Validation: 2018-01-01 00:00:00 -- 2018-12-01 00:00:00  (n=12)\n",
      "\n"
     ]
    },
    {
     "name": "stderr",
     "output_type": "stream",
     "text": [
      "100%|██████████| 2/2 [00:00<00:00, 159.59it/s]\n"
     ]
    },
    {
     "name": "stdout",
     "output_type": "stream",
     "text": [
      "Backtest error: 5.225347924512767\n",
      "max_depth= 6\n",
      "lags= 8\n",
      "[6, 8, 5.225347924512767]\n",
      "Information of backtesting process\n",
      "----------------------------------\n",
      "Number of observations used for initial training: 96\n",
      "Number of observations used for backtesting: 24\n",
      "    Number of folds: 2\n",
      "    Number of steps per fold: 12\n",
      "    Number of steps to exclude from the end of each train set before test (gap): 0\n",
      "\n",
      "Fold: 0\n",
      "    Training:   2009-01-01 00:00:00 -- 2016-12-01 00:00:00  (n=96)\n",
      "    Validation: 2017-01-01 00:00:00 -- 2017-12-01 00:00:00  (n=12)\n",
      "Fold: 1\n",
      "    Training:   2009-01-01 00:00:00 -- 2017-12-01 00:00:00  (n=108)\n",
      "    Validation: 2018-01-01 00:00:00 -- 2018-12-01 00:00:00  (n=12)\n",
      "\n"
     ]
    },
    {
     "name": "stderr",
     "output_type": "stream",
     "text": [
      "100%|██████████| 2/2 [00:00<00:00, 149.45it/s]\n"
     ]
    },
    {
     "name": "stdout",
     "output_type": "stream",
     "text": [
      "Backtest error: 2.6088155476587214\n",
      "max_depth= 6\n",
      "lags= 9\n",
      "[6, 9, 2.6088155476587214]\n",
      "Information of backtesting process\n",
      "----------------------------------\n",
      "Number of observations used for initial training: 96\n",
      "Number of observations used for backtesting: 24\n",
      "    Number of folds: 2\n",
      "    Number of steps per fold: 12\n",
      "    Number of steps to exclude from the end of each train set before test (gap): 0\n",
      "\n",
      "Fold: 0\n",
      "    Training:   2009-01-01 00:00:00 -- 2016-12-01 00:00:00  (n=96)\n",
      "    Validation: 2017-01-01 00:00:00 -- 2017-12-01 00:00:00  (n=12)\n",
      "Fold: 1\n",
      "    Training:   2009-01-01 00:00:00 -- 2017-12-01 00:00:00  (n=108)\n",
      "    Validation: 2018-01-01 00:00:00 -- 2018-12-01 00:00:00  (n=12)\n",
      "\n"
     ]
    },
    {
     "name": "stderr",
     "output_type": "stream",
     "text": [
      "100%|██████████| 2/2 [00:00<00:00, 154.44it/s]\n"
     ]
    },
    {
     "name": "stdout",
     "output_type": "stream",
     "text": [
      "Backtest error: 2.3331735266800098\n",
      "max_depth= 6\n",
      "lags= 10\n",
      "[6, 10, 2.3331735266800098]\n",
      "Information of backtesting process\n",
      "----------------------------------\n",
      "Number of observations used for initial training: 96\n",
      "Number of observations used for backtesting: 24\n",
      "    Number of folds: 2\n",
      "    Number of steps per fold: 12\n",
      "    Number of steps to exclude from the end of each train set before test (gap): 0\n",
      "\n",
      "Fold: 0\n",
      "    Training:   2009-01-01 00:00:00 -- 2016-12-01 00:00:00  (n=96)\n",
      "    Validation: 2017-01-01 00:00:00 -- 2017-12-01 00:00:00  (n=12)\n",
      "Fold: 1\n",
      "    Training:   2009-01-01 00:00:00 -- 2017-12-01 00:00:00  (n=108)\n",
      "    Validation: 2018-01-01 00:00:00 -- 2018-12-01 00:00:00  (n=12)\n",
      "\n"
     ]
    },
    {
     "name": "stderr",
     "output_type": "stream",
     "text": [
      "100%|██████████| 2/2 [00:00<00:00, 150.34it/s]\n"
     ]
    },
    {
     "name": "stdout",
     "output_type": "stream",
     "text": [
      "Backtest error: 3.1414495846365713\n",
      "max_depth= 6\n",
      "lags= 11\n",
      "[6, 11, 3.1414495846365713]\n",
      "Information of backtesting process\n",
      "----------------------------------\n",
      "Number of observations used for initial training: 96\n",
      "Number of observations used for backtesting: 24\n",
      "    Number of folds: 2\n",
      "    Number of steps per fold: 12\n",
      "    Number of steps to exclude from the end of each train set before test (gap): 0\n",
      "\n",
      "Fold: 0\n",
      "    Training:   2009-01-01 00:00:00 -- 2016-12-01 00:00:00  (n=96)\n",
      "    Validation: 2017-01-01 00:00:00 -- 2017-12-01 00:00:00  (n=12)\n",
      "Fold: 1\n",
      "    Training:   2009-01-01 00:00:00 -- 2017-12-01 00:00:00  (n=108)\n",
      "    Validation: 2018-01-01 00:00:00 -- 2018-12-01 00:00:00  (n=12)\n",
      "\n"
     ]
    },
    {
     "name": "stderr",
     "output_type": "stream",
     "text": [
      "100%|██████████| 2/2 [00:00<00:00, 146.23it/s]\n"
     ]
    },
    {
     "name": "stdout",
     "output_type": "stream",
     "text": [
      "Backtest error: 2.687486294694311\n",
      "max_depth= 6\n",
      "lags= 12\n",
      "[6, 12, 2.687486294694311]\n",
      "Information of backtesting process\n",
      "----------------------------------\n",
      "Number of observations used for initial training: 96\n",
      "Number of observations used for backtesting: 24\n",
      "    Number of folds: 2\n",
      "    Number of steps per fold: 12\n",
      "    Number of steps to exclude from the end of each train set before test (gap): 0\n",
      "\n",
      "Fold: 0\n",
      "    Training:   2009-01-01 00:00:00 -- 2016-12-01 00:00:00  (n=96)\n",
      "    Validation: 2017-01-01 00:00:00 -- 2017-12-01 00:00:00  (n=12)\n",
      "Fold: 1\n",
      "    Training:   2009-01-01 00:00:00 -- 2017-12-01 00:00:00  (n=108)\n",
      "    Validation: 2018-01-01 00:00:00 -- 2018-12-01 00:00:00  (n=12)\n",
      "\n"
     ]
    },
    {
     "name": "stderr",
     "output_type": "stream",
     "text": [
      "100%|██████████| 2/2 [00:00<00:00, 160.66it/s]\n"
     ]
    },
    {
     "name": "stdout",
     "output_type": "stream",
     "text": [
      "Backtest error: 5.276797962050132\n",
      "max_depth= 7\n",
      "lags= 1\n",
      "[7, 1, 5.276797962050132]\n",
      "Information of backtesting process\n",
      "----------------------------------\n",
      "Number of observations used for initial training: 96\n",
      "Number of observations used for backtesting: 24\n",
      "    Number of folds: 2\n",
      "    Number of steps per fold: 12\n",
      "    Number of steps to exclude from the end of each train set before test (gap): 0\n",
      "\n",
      "Fold: 0\n",
      "    Training:   2009-01-01 00:00:00 -- 2016-12-01 00:00:00  (n=96)\n",
      "    Validation: 2017-01-01 00:00:00 -- 2017-12-01 00:00:00  (n=12)\n",
      "Fold: 1\n",
      "    Training:   2009-01-01 00:00:00 -- 2017-12-01 00:00:00  (n=108)\n",
      "    Validation: 2018-01-01 00:00:00 -- 2018-12-01 00:00:00  (n=12)\n",
      "\n"
     ]
    },
    {
     "name": "stderr",
     "output_type": "stream",
     "text": [
      "100%|██████████| 2/2 [00:00<00:00, 163.12it/s]\n"
     ]
    },
    {
     "name": "stdout",
     "output_type": "stream",
     "text": [
      "Backtest error: 6.536865409802396\n",
      "max_depth= 7\n",
      "lags= 2\n",
      "[7, 2, 6.536865409802396]\n",
      "Information of backtesting process\n",
      "----------------------------------\n",
      "Number of observations used for initial training: 96\n",
      "Number of observations used for backtesting: 24\n",
      "    Number of folds: 2\n",
      "    Number of steps per fold: 12\n",
      "    Number of steps to exclude from the end of each train set before test (gap): 0\n",
      "\n",
      "Fold: 0\n",
      "    Training:   2009-01-01 00:00:00 -- 2016-12-01 00:00:00  (n=96)\n",
      "    Validation: 2017-01-01 00:00:00 -- 2017-12-01 00:00:00  (n=12)\n",
      "Fold: 1\n",
      "    Training:   2009-01-01 00:00:00 -- 2017-12-01 00:00:00  (n=108)\n",
      "    Validation: 2018-01-01 00:00:00 -- 2018-12-01 00:00:00  (n=12)\n",
      "\n"
     ]
    },
    {
     "name": "stderr",
     "output_type": "stream",
     "text": [
      "100%|██████████| 2/2 [00:00<00:00, 148.29it/s]\n"
     ]
    },
    {
     "name": "stdout",
     "output_type": "stream",
     "text": [
      "Backtest error: 3.740763780204537\n",
      "max_depth= 7\n",
      "lags= 3\n",
      "[7, 3, 3.740763780204537]\n",
      "Information of backtesting process\n",
      "----------------------------------\n",
      "Number of observations used for initial training: 96\n",
      "Number of observations used for backtesting: 24\n",
      "    Number of folds: 2\n",
      "    Number of steps per fold: 12\n",
      "    Number of steps to exclude from the end of each train set before test (gap): 0\n",
      "\n",
      "Fold: 0\n",
      "    Training:   2009-01-01 00:00:00 -- 2016-12-01 00:00:00  (n=96)\n",
      "    Validation: 2017-01-01 00:00:00 -- 2017-12-01 00:00:00  (n=12)\n",
      "Fold: 1\n",
      "    Training:   2009-01-01 00:00:00 -- 2017-12-01 00:00:00  (n=108)\n",
      "    Validation: 2018-01-01 00:00:00 -- 2018-12-01 00:00:00  (n=12)\n",
      "\n"
     ]
    },
    {
     "name": "stderr",
     "output_type": "stream",
     "text": [
      "100%|██████████| 2/2 [00:00<00:00, 168.37it/s]\n"
     ]
    },
    {
     "name": "stdout",
     "output_type": "stream",
     "text": [
      "Backtest error: 3.153541244790123\n",
      "max_depth= 7\n",
      "lags= 4\n",
      "[7, 4, 3.153541244790123]\n",
      "Information of backtesting process\n",
      "----------------------------------\n",
      "Number of observations used for initial training: 96\n",
      "Number of observations used for backtesting: 24\n",
      "    Number of folds: 2\n",
      "    Number of steps per fold: 12\n",
      "    Number of steps to exclude from the end of each train set before test (gap): 0\n",
      "\n",
      "Fold: 0\n",
      "    Training:   2009-01-01 00:00:00 -- 2016-12-01 00:00:00  (n=96)\n",
      "    Validation: 2017-01-01 00:00:00 -- 2017-12-01 00:00:00  (n=12)\n",
      "Fold: 1\n",
      "    Training:   2009-01-01 00:00:00 -- 2017-12-01 00:00:00  (n=108)\n",
      "    Validation: 2018-01-01 00:00:00 -- 2018-12-01 00:00:00  (n=12)\n",
      "\n"
     ]
    },
    {
     "name": "stderr",
     "output_type": "stream",
     "text": [
      "100%|██████████| 2/2 [00:00<00:00, 153.03it/s]\n"
     ]
    },
    {
     "name": "stdout",
     "output_type": "stream",
     "text": [
      "Backtest error: 4.171242322357327\n",
      "max_depth= 7\n",
      "lags= 5\n",
      "[7, 5, 4.171242322357327]\n",
      "Information of backtesting process\n",
      "----------------------------------\n",
      "Number of observations used for initial training: 96\n",
      "Number of observations used for backtesting: 24\n",
      "    Number of folds: 2\n",
      "    Number of steps per fold: 12\n",
      "    Number of steps to exclude from the end of each train set before test (gap): 0\n",
      "\n",
      "Fold: 0\n",
      "    Training:   2009-01-01 00:00:00 -- 2016-12-01 00:00:00  (n=96)\n",
      "    Validation: 2017-01-01 00:00:00 -- 2017-12-01 00:00:00  (n=12)\n",
      "Fold: 1\n",
      "    Training:   2009-01-01 00:00:00 -- 2017-12-01 00:00:00  (n=108)\n",
      "    Validation: 2018-01-01 00:00:00 -- 2018-12-01 00:00:00  (n=12)\n",
      "\n"
     ]
    },
    {
     "name": "stderr",
     "output_type": "stream",
     "text": [
      "100%|██████████| 2/2 [00:00<00:00, 149.39it/s]\n"
     ]
    },
    {
     "name": "stdout",
     "output_type": "stream",
     "text": [
      "Backtest error: 5.461136933687602\n",
      "max_depth= 7\n",
      "lags= 6\n",
      "[7, 6, 5.461136933687602]\n",
      "Information of backtesting process\n",
      "----------------------------------\n",
      "Number of observations used for initial training: 96\n",
      "Number of observations used for backtesting: 24\n",
      "    Number of folds: 2\n",
      "    Number of steps per fold: 12\n",
      "    Number of steps to exclude from the end of each train set before test (gap): 0\n",
      "\n",
      "Fold: 0\n",
      "    Training:   2009-01-01 00:00:00 -- 2016-12-01 00:00:00  (n=96)\n",
      "    Validation: 2017-01-01 00:00:00 -- 2017-12-01 00:00:00  (n=12)\n",
      "Fold: 1\n",
      "    Training:   2009-01-01 00:00:00 -- 2017-12-01 00:00:00  (n=108)\n",
      "    Validation: 2018-01-01 00:00:00 -- 2018-12-01 00:00:00  (n=12)\n",
      "\n"
     ]
    },
    {
     "name": "stderr",
     "output_type": "stream",
     "text": [
      "100%|██████████| 2/2 [00:00<00:00, 152.56it/s]\n"
     ]
    },
    {
     "name": "stdout",
     "output_type": "stream",
     "text": [
      "Backtest error: 5.752521915193281\n",
      "max_depth= 7\n",
      "lags= 7\n",
      "[7, 7, 5.752521915193281]\n",
      "Information of backtesting process\n",
      "----------------------------------\n",
      "Number of observations used for initial training: 96\n",
      "Number of observations used for backtesting: 24\n",
      "    Number of folds: 2\n",
      "    Number of steps per fold: 12\n",
      "    Number of steps to exclude from the end of each train set before test (gap): 0\n",
      "\n",
      "Fold: 0\n",
      "    Training:   2009-01-01 00:00:00 -- 2016-12-01 00:00:00  (n=96)\n",
      "    Validation: 2017-01-01 00:00:00 -- 2017-12-01 00:00:00  (n=12)\n",
      "Fold: 1\n",
      "    Training:   2009-01-01 00:00:00 -- 2017-12-01 00:00:00  (n=108)\n",
      "    Validation: 2018-01-01 00:00:00 -- 2018-12-01 00:00:00  (n=12)\n",
      "\n"
     ]
    },
    {
     "name": "stderr",
     "output_type": "stream",
     "text": [
      "100%|██████████| 2/2 [00:00<00:00, 147.20it/s]\n"
     ]
    },
    {
     "name": "stdout",
     "output_type": "stream",
     "text": [
      "Backtest error: 2.325996793043132\n",
      "max_depth= 7\n",
      "lags= 8\n",
      "[7, 8, 2.325996793043132]\n",
      "Information of backtesting process\n",
      "----------------------------------\n",
      "Number of observations used for initial training: 96\n",
      "Number of observations used for backtesting: 24\n",
      "    Number of folds: 2\n",
      "    Number of steps per fold: 12\n",
      "    Number of steps to exclude from the end of each train set before test (gap): 0\n",
      "\n",
      "Fold: 0\n",
      "    Training:   2009-01-01 00:00:00 -- 2016-12-01 00:00:00  (n=96)\n",
      "    Validation: 2017-01-01 00:00:00 -- 2017-12-01 00:00:00  (n=12)\n",
      "Fold: 1\n",
      "    Training:   2009-01-01 00:00:00 -- 2017-12-01 00:00:00  (n=108)\n",
      "    Validation: 2018-01-01 00:00:00 -- 2018-12-01 00:00:00  (n=12)\n",
      "\n"
     ]
    },
    {
     "name": "stderr",
     "output_type": "stream",
     "text": [
      "100%|██████████| 2/2 [00:00<00:00, 144.79it/s]\n"
     ]
    },
    {
     "name": "stdout",
     "output_type": "stream",
     "text": [
      "Backtest error: 3.3564637151134655\n",
      "max_depth= 7\n",
      "lags= 9\n",
      "[7, 9, 3.3564637151134655]\n",
      "Information of backtesting process\n",
      "----------------------------------\n",
      "Number of observations used for initial training: 96\n",
      "Number of observations used for backtesting: 24\n",
      "    Number of folds: 2\n",
      "    Number of steps per fold: 12\n",
      "    Number of steps to exclude from the end of each train set before test (gap): 0\n",
      "\n",
      "Fold: 0\n",
      "    Training:   2009-01-01 00:00:00 -- 2016-12-01 00:00:00  (n=96)\n",
      "    Validation: 2017-01-01 00:00:00 -- 2017-12-01 00:00:00  (n=12)\n",
      "Fold: 1\n",
      "    Training:   2009-01-01 00:00:00 -- 2017-12-01 00:00:00  (n=108)\n",
      "    Validation: 2018-01-01 00:00:00 -- 2018-12-01 00:00:00  (n=12)\n",
      "\n"
     ]
    },
    {
     "name": "stderr",
     "output_type": "stream",
     "text": [
      "100%|██████████| 2/2 [00:00<00:00, 150.65it/s]\n"
     ]
    },
    {
     "name": "stdout",
     "output_type": "stream",
     "text": [
      "Backtest error: 3.3336119808010687\n",
      "max_depth= 7\n",
      "lags= 10\n",
      "[7, 10, 3.3336119808010687]\n",
      "Information of backtesting process\n",
      "----------------------------------\n",
      "Number of observations used for initial training: 96\n",
      "Number of observations used for backtesting: 24\n",
      "    Number of folds: 2\n",
      "    Number of steps per fold: 12\n",
      "    Number of steps to exclude from the end of each train set before test (gap): 0\n",
      "\n",
      "Fold: 0\n",
      "    Training:   2009-01-01 00:00:00 -- 2016-12-01 00:00:00  (n=96)\n",
      "    Validation: 2017-01-01 00:00:00 -- 2017-12-01 00:00:00  (n=12)\n",
      "Fold: 1\n",
      "    Training:   2009-01-01 00:00:00 -- 2017-12-01 00:00:00  (n=108)\n",
      "    Validation: 2018-01-01 00:00:00 -- 2018-12-01 00:00:00  (n=12)\n",
      "\n"
     ]
    },
    {
     "name": "stderr",
     "output_type": "stream",
     "text": [
      "100%|██████████| 2/2 [00:00<00:00, 148.93it/s]\n"
     ]
    },
    {
     "name": "stdout",
     "output_type": "stream",
     "text": [
      "Backtest error: 3.998853023593238\n",
      "max_depth= 7\n",
      "lags= 11\n",
      "[7, 11, 3.998853023593238]\n",
      "Information of backtesting process\n",
      "----------------------------------\n",
      "Number of observations used for initial training: 96\n",
      "Number of observations used for backtesting: 24\n",
      "    Number of folds: 2\n",
      "    Number of steps per fold: 12\n",
      "    Number of steps to exclude from the end of each train set before test (gap): 0\n",
      "\n",
      "Fold: 0\n",
      "    Training:   2009-01-01 00:00:00 -- 2016-12-01 00:00:00  (n=96)\n",
      "    Validation: 2017-01-01 00:00:00 -- 2017-12-01 00:00:00  (n=12)\n",
      "Fold: 1\n",
      "    Training:   2009-01-01 00:00:00 -- 2017-12-01 00:00:00  (n=108)\n",
      "    Validation: 2018-01-01 00:00:00 -- 2018-12-01 00:00:00  (n=12)\n",
      "\n"
     ]
    },
    {
     "name": "stderr",
     "output_type": "stream",
     "text": [
      "100%|██████████| 2/2 [00:00<00:00, 142.62it/s]\n"
     ]
    },
    {
     "name": "stdout",
     "output_type": "stream",
     "text": [
      "Backtest error: 2.193397998475813\n",
      "max_depth= 7\n",
      "lags= 12\n",
      "[7, 12, 2.193397998475813]\n",
      "Information of backtesting process\n",
      "----------------------------------\n",
      "Number of observations used for initial training: 96\n",
      "Number of observations used for backtesting: 24\n",
      "    Number of folds: 2\n",
      "    Number of steps per fold: 12\n",
      "    Number of steps to exclude from the end of each train set before test (gap): 0\n",
      "\n",
      "Fold: 0\n",
      "    Training:   2009-01-01 00:00:00 -- 2016-12-01 00:00:00  (n=96)\n",
      "    Validation: 2017-01-01 00:00:00 -- 2017-12-01 00:00:00  (n=12)\n",
      "Fold: 1\n",
      "    Training:   2009-01-01 00:00:00 -- 2017-12-01 00:00:00  (n=108)\n",
      "    Validation: 2018-01-01 00:00:00 -- 2018-12-01 00:00:00  (n=12)\n",
      "\n"
     ]
    },
    {
     "name": "stderr",
     "output_type": "stream",
     "text": [
      "100%|██████████| 2/2 [00:00<00:00, 158.88it/s]\n"
     ]
    },
    {
     "name": "stdout",
     "output_type": "stream",
     "text": [
      "Backtest error: 5.064119051456224\n",
      "max_depth= 8\n",
      "lags= 1\n",
      "[8, 1, 5.064119051456224]\n",
      "Information of backtesting process\n",
      "----------------------------------\n",
      "Number of observations used for initial training: 96\n",
      "Number of observations used for backtesting: 24\n",
      "    Number of folds: 2\n",
      "    Number of steps per fold: 12\n",
      "    Number of steps to exclude from the end of each train set before test (gap): 0\n",
      "\n",
      "Fold: 0\n",
      "    Training:   2009-01-01 00:00:00 -- 2016-12-01 00:00:00  (n=96)\n",
      "    Validation: 2017-01-01 00:00:00 -- 2017-12-01 00:00:00  (n=12)\n",
      "Fold: 1\n",
      "    Training:   2009-01-01 00:00:00 -- 2017-12-01 00:00:00  (n=108)\n",
      "    Validation: 2018-01-01 00:00:00 -- 2018-12-01 00:00:00  (n=12)\n",
      "\n"
     ]
    },
    {
     "name": "stderr",
     "output_type": "stream",
     "text": [
      "100%|██████████| 2/2 [00:00<00:00, 143.50it/s]\n"
     ]
    },
    {
     "name": "stdout",
     "output_type": "stream",
     "text": [
      "Backtest error: 3.368173087680017\n",
      "max_depth= 8\n",
      "lags= 2\n",
      "[8, 2, 3.368173087680017]\n",
      "Information of backtesting process\n",
      "----------------------------------\n",
      "Number of observations used for initial training: 96\n",
      "Number of observations used for backtesting: 24\n",
      "    Number of folds: 2\n",
      "    Number of steps per fold: 12\n",
      "    Number of steps to exclude from the end of each train set before test (gap): 0\n",
      "\n",
      "Fold: 0\n",
      "    Training:   2009-01-01 00:00:00 -- 2016-12-01 00:00:00  (n=96)\n",
      "    Validation: 2017-01-01 00:00:00 -- 2017-12-01 00:00:00  (n=12)\n",
      "Fold: 1\n",
      "    Training:   2009-01-01 00:00:00 -- 2017-12-01 00:00:00  (n=108)\n",
      "    Validation: 2018-01-01 00:00:00 -- 2018-12-01 00:00:00  (n=12)\n",
      "\n"
     ]
    },
    {
     "name": "stderr",
     "output_type": "stream",
     "text": [
      "100%|██████████| 2/2 [00:00<00:00, 149.18it/s]\n"
     ]
    },
    {
     "name": "stdout",
     "output_type": "stream",
     "text": [
      "Backtest error: 3.8001630220653113\n",
      "max_depth= 8\n",
      "lags= 3\n",
      "[8, 3, 3.8001630220653113]\n",
      "Information of backtesting process\n",
      "----------------------------------\n",
      "Number of observations used for initial training: 96\n",
      "Number of observations used for backtesting: 24\n",
      "    Number of folds: 2\n",
      "    Number of steps per fold: 12\n",
      "    Number of steps to exclude from the end of each train set before test (gap): 0\n",
      "\n",
      "Fold: 0\n",
      "    Training:   2009-01-01 00:00:00 -- 2016-12-01 00:00:00  (n=96)\n",
      "    Validation: 2017-01-01 00:00:00 -- 2017-12-01 00:00:00  (n=12)\n",
      "Fold: 1\n",
      "    Training:   2009-01-01 00:00:00 -- 2017-12-01 00:00:00  (n=108)\n",
      "    Validation: 2018-01-01 00:00:00 -- 2018-12-01 00:00:00  (n=12)\n",
      "\n"
     ]
    },
    {
     "name": "stderr",
     "output_type": "stream",
     "text": [
      "100%|██████████| 2/2 [00:00<00:00, 143.46it/s]\n"
     ]
    },
    {
     "name": "stdout",
     "output_type": "stream",
     "text": [
      "Backtest error: 2.2855092333238605\n",
      "max_depth= 8\n",
      "lags= 4\n",
      "[8, 4, 2.2855092333238605]\n",
      "Information of backtesting process\n",
      "----------------------------------\n",
      "Number of observations used for initial training: 96\n",
      "Number of observations used for backtesting: 24\n",
      "    Number of folds: 2\n",
      "    Number of steps per fold: 12\n",
      "    Number of steps to exclude from the end of each train set before test (gap): 0\n",
      "\n",
      "Fold: 0\n",
      "    Training:   2009-01-01 00:00:00 -- 2016-12-01 00:00:00  (n=96)\n",
      "    Validation: 2017-01-01 00:00:00 -- 2017-12-01 00:00:00  (n=12)\n",
      "Fold: 1\n",
      "    Training:   2009-01-01 00:00:00 -- 2017-12-01 00:00:00  (n=108)\n",
      "    Validation: 2018-01-01 00:00:00 -- 2018-12-01 00:00:00  (n=12)\n",
      "\n"
     ]
    },
    {
     "name": "stderr",
     "output_type": "stream",
     "text": [
      "100%|██████████| 2/2 [00:00<00:00, 160.89it/s]\n"
     ]
    },
    {
     "name": "stdout",
     "output_type": "stream",
     "text": [
      "Backtest error: 5.517281204204146\n",
      "max_depth= 8\n",
      "lags= 5\n",
      "[8, 5, 5.517281204204146]\n",
      "Information of backtesting process\n",
      "----------------------------------\n",
      "Number of observations used for initial training: 96\n",
      "Number of observations used for backtesting: 24\n",
      "    Number of folds: 2\n",
      "    Number of steps per fold: 12\n",
      "    Number of steps to exclude from the end of each train set before test (gap): 0\n",
      "\n",
      "Fold: 0\n",
      "    Training:   2009-01-01 00:00:00 -- 2016-12-01 00:00:00  (n=96)\n",
      "    Validation: 2017-01-01 00:00:00 -- 2017-12-01 00:00:00  (n=12)\n",
      "Fold: 1\n",
      "    Training:   2009-01-01 00:00:00 -- 2017-12-01 00:00:00  (n=108)\n",
      "    Validation: 2018-01-01 00:00:00 -- 2018-12-01 00:00:00  (n=12)\n",
      "\n"
     ]
    },
    {
     "name": "stderr",
     "output_type": "stream",
     "text": [
      "100%|██████████| 2/2 [00:00<00:00, 158.05it/s]\n"
     ]
    },
    {
     "name": "stdout",
     "output_type": "stream",
     "text": [
      "Backtest error: 6.053882082996431\n",
      "max_depth= 8\n",
      "lags= 6\n",
      "[8, 6, 6.053882082996431]\n",
      "Information of backtesting process\n",
      "----------------------------------\n",
      "Number of observations used for initial training: 96\n",
      "Number of observations used for backtesting: 24\n",
      "    Number of folds: 2\n",
      "    Number of steps per fold: 12\n",
      "    Number of steps to exclude from the end of each train set before test (gap): 0\n",
      "\n",
      "Fold: 0\n",
      "    Training:   2009-01-01 00:00:00 -- 2016-12-01 00:00:00  (n=96)\n",
      "    Validation: 2017-01-01 00:00:00 -- 2017-12-01 00:00:00  (n=12)\n",
      "Fold: 1\n",
      "    Training:   2009-01-01 00:00:00 -- 2017-12-01 00:00:00  (n=108)\n",
      "    Validation: 2018-01-01 00:00:00 -- 2018-12-01 00:00:00  (n=12)\n",
      "\n"
     ]
    },
    {
     "name": "stderr",
     "output_type": "stream",
     "text": [
      "100%|██████████| 2/2 [00:00<00:00, 144.39it/s]\n"
     ]
    },
    {
     "name": "stdout",
     "output_type": "stream",
     "text": [
      "Backtest error: 7.580282941861543\n",
      "max_depth= 8\n",
      "lags= 7\n",
      "[8, 7, 7.580282941861543]\n",
      "Information of backtesting process\n",
      "----------------------------------\n",
      "Number of observations used for initial training: 96\n",
      "Number of observations used for backtesting: 24\n",
      "    Number of folds: 2\n",
      "    Number of steps per fold: 12\n",
      "    Number of steps to exclude from the end of each train set before test (gap): 0\n",
      "\n",
      "Fold: 0\n",
      "    Training:   2009-01-01 00:00:00 -- 2016-12-01 00:00:00  (n=96)\n",
      "    Validation: 2017-01-01 00:00:00 -- 2017-12-01 00:00:00  (n=12)\n",
      "Fold: 1\n",
      "    Training:   2009-01-01 00:00:00 -- 2017-12-01 00:00:00  (n=108)\n",
      "    Validation: 2018-01-01 00:00:00 -- 2018-12-01 00:00:00  (n=12)\n",
      "\n"
     ]
    },
    {
     "name": "stderr",
     "output_type": "stream",
     "text": [
      "100%|██████████| 2/2 [00:00<00:00, 144.72it/s]\n"
     ]
    },
    {
     "name": "stdout",
     "output_type": "stream",
     "text": [
      "Backtest error: 3.024451682498126\n",
      "max_depth= 8\n",
      "lags= 8\n",
      "[8, 8, 3.024451682498126]\n",
      "Information of backtesting process\n",
      "----------------------------------\n",
      "Number of observations used for initial training: 96\n",
      "Number of observations used for backtesting: 24\n",
      "    Number of folds: 2\n",
      "    Number of steps per fold: 12\n",
      "    Number of steps to exclude from the end of each train set before test (gap): 0\n",
      "\n",
      "Fold: 0\n",
      "    Training:   2009-01-01 00:00:00 -- 2016-12-01 00:00:00  (n=96)\n",
      "    Validation: 2017-01-01 00:00:00 -- 2017-12-01 00:00:00  (n=12)\n",
      "Fold: 1\n",
      "    Training:   2009-01-01 00:00:00 -- 2017-12-01 00:00:00  (n=108)\n",
      "    Validation: 2018-01-01 00:00:00 -- 2018-12-01 00:00:00  (n=12)\n",
      "\n"
     ]
    },
    {
     "name": "stderr",
     "output_type": "stream",
     "text": [
      "100%|██████████| 2/2 [00:00<00:00, 138.19it/s]\n"
     ]
    },
    {
     "name": "stdout",
     "output_type": "stream",
     "text": [
      "Backtest error: 3.3094399796391176\n",
      "max_depth= 8\n",
      "lags= 9\n",
      "[8, 9, 3.3094399796391176]\n",
      "Information of backtesting process\n",
      "----------------------------------\n",
      "Number of observations used for initial training: 96\n",
      "Number of observations used for backtesting: 24\n",
      "    Number of folds: 2\n",
      "    Number of steps per fold: 12\n",
      "    Number of steps to exclude from the end of each train set before test (gap): 0\n",
      "\n",
      "Fold: 0\n",
      "    Training:   2009-01-01 00:00:00 -- 2016-12-01 00:00:00  (n=96)\n",
      "    Validation: 2017-01-01 00:00:00 -- 2017-12-01 00:00:00  (n=12)\n",
      "Fold: 1\n",
      "    Training:   2009-01-01 00:00:00 -- 2017-12-01 00:00:00  (n=108)\n",
      "    Validation: 2018-01-01 00:00:00 -- 2018-12-01 00:00:00  (n=12)\n",
      "\n"
     ]
    },
    {
     "name": "stderr",
     "output_type": "stream",
     "text": [
      "100%|██████████| 2/2 [00:00<00:00, 142.37it/s]\n"
     ]
    },
    {
     "name": "stdout",
     "output_type": "stream",
     "text": [
      "Backtest error: 3.345959132463326\n",
      "max_depth= 8\n",
      "lags= 10\n",
      "[8, 10, 3.345959132463326]\n",
      "Information of backtesting process\n",
      "----------------------------------\n",
      "Number of observations used for initial training: 96\n",
      "Number of observations used for backtesting: 24\n",
      "    Number of folds: 2\n",
      "    Number of steps per fold: 12\n",
      "    Number of steps to exclude from the end of each train set before test (gap): 0\n",
      "\n",
      "Fold: 0\n",
      "    Training:   2009-01-01 00:00:00 -- 2016-12-01 00:00:00  (n=96)\n",
      "    Validation: 2017-01-01 00:00:00 -- 2017-12-01 00:00:00  (n=12)\n",
      "Fold: 1\n",
      "    Training:   2009-01-01 00:00:00 -- 2017-12-01 00:00:00  (n=108)\n",
      "    Validation: 2018-01-01 00:00:00 -- 2018-12-01 00:00:00  (n=12)\n",
      "\n"
     ]
    },
    {
     "name": "stderr",
     "output_type": "stream",
     "text": [
      "100%|██████████| 2/2 [00:00<00:00, 136.42it/s]\n"
     ]
    },
    {
     "name": "stdout",
     "output_type": "stream",
     "text": [
      "Backtest error: 3.756678448786179\n",
      "max_depth= 8\n",
      "lags= 11\n",
      "[8, 11, 3.756678448786179]\n",
      "Information of backtesting process\n",
      "----------------------------------\n",
      "Number of observations used for initial training: 96\n",
      "Number of observations used for backtesting: 24\n",
      "    Number of folds: 2\n",
      "    Number of steps per fold: 12\n",
      "    Number of steps to exclude from the end of each train set before test (gap): 0\n",
      "\n",
      "Fold: 0\n",
      "    Training:   2009-01-01 00:00:00 -- 2016-12-01 00:00:00  (n=96)\n",
      "    Validation: 2017-01-01 00:00:00 -- 2017-12-01 00:00:00  (n=12)\n",
      "Fold: 1\n",
      "    Training:   2009-01-01 00:00:00 -- 2017-12-01 00:00:00  (n=108)\n",
      "    Validation: 2018-01-01 00:00:00 -- 2018-12-01 00:00:00  (n=12)\n",
      "\n"
     ]
    },
    {
     "name": "stderr",
     "output_type": "stream",
     "text": [
      "100%|██████████| 2/2 [00:00<00:00, 135.60it/s]\n"
     ]
    },
    {
     "name": "stdout",
     "output_type": "stream",
     "text": [
      "Backtest error: 2.775185417749274\n",
      "max_depth= 8\n",
      "lags= 12\n",
      "[8, 12, 2.775185417749274]\n",
      "Information of backtesting process\n",
      "----------------------------------\n",
      "Number of observations used for initial training: 96\n",
      "Number of observations used for backtesting: 24\n",
      "    Number of folds: 2\n",
      "    Number of steps per fold: 12\n",
      "    Number of steps to exclude from the end of each train set before test (gap): 0\n",
      "\n",
      "Fold: 0\n",
      "    Training:   2009-01-01 00:00:00 -- 2016-12-01 00:00:00  (n=96)\n",
      "    Validation: 2017-01-01 00:00:00 -- 2017-12-01 00:00:00  (n=12)\n",
      "Fold: 1\n",
      "    Training:   2009-01-01 00:00:00 -- 2017-12-01 00:00:00  (n=108)\n",
      "    Validation: 2018-01-01 00:00:00 -- 2018-12-01 00:00:00  (n=12)\n",
      "\n"
     ]
    },
    {
     "name": "stderr",
     "output_type": "stream",
     "text": [
      "100%|██████████| 2/2 [00:00<00:00, 150.96it/s]\n"
     ]
    },
    {
     "name": "stdout",
     "output_type": "stream",
     "text": [
      "Backtest error: 10.115396380098957\n",
      "max_depth= 9\n",
      "lags= 1\n",
      "[9, 1, 10.115396380098957]\n",
      "Information of backtesting process\n",
      "----------------------------------\n",
      "Number of observations used for initial training: 96\n",
      "Number of observations used for backtesting: 24\n",
      "    Number of folds: 2\n",
      "    Number of steps per fold: 12\n",
      "    Number of steps to exclude from the end of each train set before test (gap): 0\n",
      "\n",
      "Fold: 0\n",
      "    Training:   2009-01-01 00:00:00 -- 2016-12-01 00:00:00  (n=96)\n",
      "    Validation: 2017-01-01 00:00:00 -- 2017-12-01 00:00:00  (n=12)\n",
      "Fold: 1\n",
      "    Training:   2009-01-01 00:00:00 -- 2017-12-01 00:00:00  (n=108)\n",
      "    Validation: 2018-01-01 00:00:00 -- 2018-12-01 00:00:00  (n=12)\n",
      "\n"
     ]
    },
    {
     "name": "stderr",
     "output_type": "stream",
     "text": [
      "100%|██████████| 2/2 [00:00<00:00, 160.98it/s]\n"
     ]
    },
    {
     "name": "stdout",
     "output_type": "stream",
     "text": [
      "Backtest error: 6.543166605026379\n",
      "max_depth= 9\n",
      "lags= 2\n",
      "[9, 2, 6.543166605026379]\n",
      "Information of backtesting process\n",
      "----------------------------------\n",
      "Number of observations used for initial training: 96\n",
      "Number of observations used for backtesting: 24\n",
      "    Number of folds: 2\n",
      "    Number of steps per fold: 12\n",
      "    Number of steps to exclude from the end of each train set before test (gap): 0\n",
      "\n",
      "Fold: 0\n",
      "    Training:   2009-01-01 00:00:00 -- 2016-12-01 00:00:00  (n=96)\n",
      "    Validation: 2017-01-01 00:00:00 -- 2017-12-01 00:00:00  (n=12)\n",
      "Fold: 1\n",
      "    Training:   2009-01-01 00:00:00 -- 2017-12-01 00:00:00  (n=108)\n",
      "    Validation: 2018-01-01 00:00:00 -- 2018-12-01 00:00:00  (n=12)\n",
      "\n"
     ]
    },
    {
     "name": "stderr",
     "output_type": "stream",
     "text": [
      "100%|██████████| 2/2 [00:00<00:00, 150.45it/s]\n"
     ]
    },
    {
     "name": "stdout",
     "output_type": "stream",
     "text": [
      "Backtest error: 5.199762239998242\n",
      "max_depth= 9\n",
      "lags= 3\n",
      "[9, 3, 5.199762239998242]\n",
      "Information of backtesting process\n",
      "----------------------------------\n",
      "Number of observations used for initial training: 96\n",
      "Number of observations used for backtesting: 24\n",
      "    Number of folds: 2\n",
      "    Number of steps per fold: 12\n",
      "    Number of steps to exclude from the end of each train set before test (gap): 0\n",
      "\n",
      "Fold: 0\n",
      "    Training:   2009-01-01 00:00:00 -- 2016-12-01 00:00:00  (n=96)\n",
      "    Validation: 2017-01-01 00:00:00 -- 2017-12-01 00:00:00  (n=12)\n",
      "Fold: 1\n",
      "    Training:   2009-01-01 00:00:00 -- 2017-12-01 00:00:00  (n=108)\n",
      "    Validation: 2018-01-01 00:00:00 -- 2018-12-01 00:00:00  (n=12)\n",
      "\n"
     ]
    },
    {
     "name": "stderr",
     "output_type": "stream",
     "text": [
      "100%|██████████| 2/2 [00:00<00:00, 142.21it/s]\n"
     ]
    },
    {
     "name": "stdout",
     "output_type": "stream",
     "text": [
      "Backtest error: 6.093693719816514\n",
      "max_depth= 9\n",
      "lags= 4\n",
      "[9, 4, 6.093693719816514]\n",
      "Information of backtesting process\n",
      "----------------------------------\n",
      "Number of observations used for initial training: 96\n",
      "Number of observations used for backtesting: 24\n",
      "    Number of folds: 2\n",
      "    Number of steps per fold: 12\n",
      "    Number of steps to exclude from the end of each train set before test (gap): 0\n",
      "\n",
      "Fold: 0\n",
      "    Training:   2009-01-01 00:00:00 -- 2016-12-01 00:00:00  (n=96)\n",
      "    Validation: 2017-01-01 00:00:00 -- 2017-12-01 00:00:00  (n=12)\n",
      "Fold: 1\n",
      "    Training:   2009-01-01 00:00:00 -- 2017-12-01 00:00:00  (n=108)\n",
      "    Validation: 2018-01-01 00:00:00 -- 2018-12-01 00:00:00  (n=12)\n",
      "\n"
     ]
    },
    {
     "name": "stderr",
     "output_type": "stream",
     "text": [
      "100%|██████████| 2/2 [00:00<00:00, 139.43it/s]\n"
     ]
    },
    {
     "name": "stdout",
     "output_type": "stream",
     "text": [
      "Backtest error: 5.006353563266383\n",
      "max_depth= 9\n",
      "lags= 5\n",
      "[9, 5, 5.006353563266383]\n",
      "Information of backtesting process\n",
      "----------------------------------\n",
      "Number of observations used for initial training: 96\n",
      "Number of observations used for backtesting: 24\n",
      "    Number of folds: 2\n",
      "    Number of steps per fold: 12\n",
      "    Number of steps to exclude from the end of each train set before test (gap): 0\n",
      "\n",
      "Fold: 0\n",
      "    Training:   2009-01-01 00:00:00 -- 2016-12-01 00:00:00  (n=96)\n",
      "    Validation: 2017-01-01 00:00:00 -- 2017-12-01 00:00:00  (n=12)\n",
      "Fold: 1\n",
      "    Training:   2009-01-01 00:00:00 -- 2017-12-01 00:00:00  (n=108)\n",
      "    Validation: 2018-01-01 00:00:00 -- 2018-12-01 00:00:00  (n=12)\n",
      "\n"
     ]
    },
    {
     "name": "stderr",
     "output_type": "stream",
     "text": [
      "100%|██████████| 2/2 [00:00<00:00, 134.26it/s]\n"
     ]
    },
    {
     "name": "stdout",
     "output_type": "stream",
     "text": [
      "Backtest error: 7.679938417766588\n",
      "max_depth= 9\n",
      "lags= 6\n",
      "[9, 6, 7.679938417766588]\n",
      "Information of backtesting process\n",
      "----------------------------------\n",
      "Number of observations used for initial training: 96\n",
      "Number of observations used for backtesting: 24\n",
      "    Number of folds: 2\n",
      "    Number of steps per fold: 12\n",
      "    Number of steps to exclude from the end of each train set before test (gap): 0\n",
      "\n",
      "Fold: 0\n",
      "    Training:   2009-01-01 00:00:00 -- 2016-12-01 00:00:00  (n=96)\n",
      "    Validation: 2017-01-01 00:00:00 -- 2017-12-01 00:00:00  (n=12)\n",
      "Fold: 1\n",
      "    Training:   2009-01-01 00:00:00 -- 2017-12-01 00:00:00  (n=108)\n",
      "    Validation: 2018-01-01 00:00:00 -- 2018-12-01 00:00:00  (n=12)\n",
      "\n"
     ]
    },
    {
     "name": "stderr",
     "output_type": "stream",
     "text": [
      "100%|██████████| 2/2 [00:00<00:00, 123.41it/s]\n"
     ]
    },
    {
     "name": "stdout",
     "output_type": "stream",
     "text": [
      "Backtest error: 4.812564292562702\n",
      "max_depth= 9\n",
      "lags= 7\n",
      "[9, 7, 4.812564292562702]\n",
      "Information of backtesting process\n",
      "----------------------------------\n",
      "Number of observations used for initial training: 96\n",
      "Number of observations used for backtesting: 24\n",
      "    Number of folds: 2\n",
      "    Number of steps per fold: 12\n",
      "    Number of steps to exclude from the end of each train set before test (gap): 0\n",
      "\n",
      "Fold: 0\n",
      "    Training:   2009-01-01 00:00:00 -- 2016-12-01 00:00:00  (n=96)\n",
      "    Validation: 2017-01-01 00:00:00 -- 2017-12-01 00:00:00  (n=12)\n",
      "Fold: 1\n",
      "    Training:   2009-01-01 00:00:00 -- 2017-12-01 00:00:00  (n=108)\n",
      "    Validation: 2018-01-01 00:00:00 -- 2018-12-01 00:00:00  (n=12)\n",
      "\n"
     ]
    },
    {
     "name": "stderr",
     "output_type": "stream",
     "text": [
      "100%|██████████| 2/2 [00:00<00:00, 118.29it/s]\n"
     ]
    },
    {
     "name": "stdout",
     "output_type": "stream",
     "text": [
      "Backtest error: 3.391617951275118\n",
      "max_depth= 9\n",
      "lags= 8\n",
      "[9, 8, 3.391617951275118]\n",
      "Information of backtesting process\n",
      "----------------------------------\n",
      "Number of observations used for initial training: 96\n",
      "Number of observations used for backtesting: 24\n",
      "    Number of folds: 2\n",
      "    Number of steps per fold: 12\n",
      "    Number of steps to exclude from the end of each train set before test (gap): 0\n",
      "\n",
      "Fold: 0\n",
      "    Training:   2009-01-01 00:00:00 -- 2016-12-01 00:00:00  (n=96)\n",
      "    Validation: 2017-01-01 00:00:00 -- 2017-12-01 00:00:00  (n=12)\n",
      "Fold: 1\n",
      "    Training:   2009-01-01 00:00:00 -- 2017-12-01 00:00:00  (n=108)\n",
      "    Validation: 2018-01-01 00:00:00 -- 2018-12-01 00:00:00  (n=12)\n",
      "\n"
     ]
    },
    {
     "name": "stderr",
     "output_type": "stream",
     "text": [
      "100%|██████████| 2/2 [00:00<00:00, 122.24it/s]\n"
     ]
    },
    {
     "name": "stdout",
     "output_type": "stream",
     "text": [
      "Backtest error: 2.9751857373946033\n",
      "max_depth= 9\n",
      "lags= 9\n",
      "[9, 9, 2.9751857373946033]\n",
      "Information of backtesting process\n",
      "----------------------------------\n",
      "Number of observations used for initial training: 96\n",
      "Number of observations used for backtesting: 24\n",
      "    Number of folds: 2\n",
      "    Number of steps per fold: 12\n",
      "    Number of steps to exclude from the end of each train set before test (gap): 0\n",
      "\n",
      "Fold: 0\n",
      "    Training:   2009-01-01 00:00:00 -- 2016-12-01 00:00:00  (n=96)\n",
      "    Validation: 2017-01-01 00:00:00 -- 2017-12-01 00:00:00  (n=12)\n",
      "Fold: 1\n",
      "    Training:   2009-01-01 00:00:00 -- 2017-12-01 00:00:00  (n=108)\n",
      "    Validation: 2018-01-01 00:00:00 -- 2018-12-01 00:00:00  (n=12)\n",
      "\n"
     ]
    },
    {
     "name": "stderr",
     "output_type": "stream",
     "text": [
      "100%|██████████| 2/2 [00:00<00:00, 112.81it/s]\n"
     ]
    },
    {
     "name": "stdout",
     "output_type": "stream",
     "text": [
      "Backtest error: 2.862552825992845\n",
      "max_depth= 9\n",
      "lags= 10\n",
      "[9, 10, 2.862552825992845]\n",
      "Information of backtesting process\n",
      "----------------------------------\n",
      "Number of observations used for initial training: 96\n",
      "Number of observations used for backtesting: 24\n",
      "    Number of folds: 2\n",
      "    Number of steps per fold: 12\n",
      "    Number of steps to exclude from the end of each train set before test (gap): 0\n",
      "\n",
      "Fold: 0\n",
      "    Training:   2009-01-01 00:00:00 -- 2016-12-01 00:00:00  (n=96)\n",
      "    Validation: 2017-01-01 00:00:00 -- 2017-12-01 00:00:00  (n=12)\n",
      "Fold: 1\n",
      "    Training:   2009-01-01 00:00:00 -- 2017-12-01 00:00:00  (n=108)\n",
      "    Validation: 2018-01-01 00:00:00 -- 2018-12-01 00:00:00  (n=12)\n",
      "\n"
     ]
    },
    {
     "name": "stderr",
     "output_type": "stream",
     "text": [
      "100%|██████████| 2/2 [00:00<00:00, 112.48it/s]\n"
     ]
    },
    {
     "name": "stdout",
     "output_type": "stream",
     "text": [
      "Backtest error: 4.394361310317556\n",
      "max_depth= 9\n",
      "lags= 11\n",
      "[9, 11, 4.394361310317556]\n",
      "Information of backtesting process\n",
      "----------------------------------\n",
      "Number of observations used for initial training: 96\n",
      "Number of observations used for backtesting: 24\n",
      "    Number of folds: 2\n",
      "    Number of steps per fold: 12\n",
      "    Number of steps to exclude from the end of each train set before test (gap): 0\n",
      "\n",
      "Fold: 0\n",
      "    Training:   2009-01-01 00:00:00 -- 2016-12-01 00:00:00  (n=96)\n",
      "    Validation: 2017-01-01 00:00:00 -- 2017-12-01 00:00:00  (n=12)\n",
      "Fold: 1\n",
      "    Training:   2009-01-01 00:00:00 -- 2017-12-01 00:00:00  (n=108)\n",
      "    Validation: 2018-01-01 00:00:00 -- 2018-12-01 00:00:00  (n=12)\n",
      "\n"
     ]
    },
    {
     "name": "stderr",
     "output_type": "stream",
     "text": [
      "100%|██████████| 2/2 [00:00<00:00, 101.22it/s]\n"
     ]
    },
    {
     "name": "stdout",
     "output_type": "stream",
     "text": [
      "Backtest error: 2.3550542452483714\n",
      "max_depth= 9\n",
      "lags= 12\n",
      "[9, 12, 2.3550542452483714]\n",
      "Information of backtesting process\n",
      "----------------------------------\n",
      "Number of observations used for initial training: 96\n",
      "Number of observations used for backtesting: 24\n",
      "    Number of folds: 2\n",
      "    Number of steps per fold: 12\n",
      "    Number of steps to exclude from the end of each train set before test (gap): 0\n",
      "\n",
      "Fold: 0\n",
      "    Training:   2009-01-01 00:00:00 -- 2016-12-01 00:00:00  (n=96)\n",
      "    Validation: 2017-01-01 00:00:00 -- 2017-12-01 00:00:00  (n=12)\n",
      "Fold: 1\n",
      "    Training:   2009-01-01 00:00:00 -- 2017-12-01 00:00:00  (n=108)\n",
      "    Validation: 2018-01-01 00:00:00 -- 2018-12-01 00:00:00  (n=12)\n",
      "\n"
     ]
    },
    {
     "name": "stderr",
     "output_type": "stream",
     "text": [
      "100%|██████████| 2/2 [00:00<00:00, 143.63it/s]\n"
     ]
    },
    {
     "name": "stdout",
     "output_type": "stream",
     "text": [
      "Backtest error: 9.95684182690056\n",
      "max_depth= 10\n",
      "lags= 1\n",
      "[10, 1, 9.95684182690056]\n",
      "Information of backtesting process\n",
      "----------------------------------\n",
      "Number of observations used for initial training: 96\n",
      "Number of observations used for backtesting: 24\n",
      "    Number of folds: 2\n",
      "    Number of steps per fold: 12\n",
      "    Number of steps to exclude from the end of each train set before test (gap): 0\n",
      "\n",
      "Fold: 0\n",
      "    Training:   2009-01-01 00:00:00 -- 2016-12-01 00:00:00  (n=96)\n",
      "    Validation: 2017-01-01 00:00:00 -- 2017-12-01 00:00:00  (n=12)\n",
      "Fold: 1\n",
      "    Training:   2009-01-01 00:00:00 -- 2017-12-01 00:00:00  (n=108)\n",
      "    Validation: 2018-01-01 00:00:00 -- 2018-12-01 00:00:00  (n=12)\n",
      "\n"
     ]
    },
    {
     "name": "stderr",
     "output_type": "stream",
     "text": [
      "100%|██████████| 2/2 [00:00<00:00, 125.98it/s]\n"
     ]
    },
    {
     "name": "stdout",
     "output_type": "stream",
     "text": [
      "Backtest error: 5.789349727918533\n",
      "max_depth= 10\n",
      "lags= 2\n",
      "[10, 2, 5.789349727918533]\n",
      "Information of backtesting process\n",
      "----------------------------------\n",
      "Number of observations used for initial training: 96\n",
      "Number of observations used for backtesting: 24\n",
      "    Number of folds: 2\n",
      "    Number of steps per fold: 12\n",
      "    Number of steps to exclude from the end of each train set before test (gap): 0\n",
      "\n",
      "Fold: 0\n",
      "    Training:   2009-01-01 00:00:00 -- 2016-12-01 00:00:00  (n=96)\n",
      "    Validation: 2017-01-01 00:00:00 -- 2017-12-01 00:00:00  (n=12)\n",
      "Fold: 1\n",
      "    Training:   2009-01-01 00:00:00 -- 2017-12-01 00:00:00  (n=108)\n",
      "    Validation: 2018-01-01 00:00:00 -- 2018-12-01 00:00:00  (n=12)\n",
      "\n"
     ]
    },
    {
     "name": "stderr",
     "output_type": "stream",
     "text": [
      "100%|██████████| 2/2 [00:00<00:00, 112.70it/s]\n"
     ]
    },
    {
     "name": "stdout",
     "output_type": "stream",
     "text": [
      "Backtest error: 5.193621951148105\n",
      "max_depth= 10\n",
      "lags= 3\n",
      "[10, 3, 5.193621951148105]\n",
      "Information of backtesting process\n",
      "----------------------------------\n",
      "Number of observations used for initial training: 96\n",
      "Number of observations used for backtesting: 24\n",
      "    Number of folds: 2\n",
      "    Number of steps per fold: 12\n",
      "    Number of steps to exclude from the end of each train set before test (gap): 0\n",
      "\n",
      "Fold: 0\n",
      "    Training:   2009-01-01 00:00:00 -- 2016-12-01 00:00:00  (n=96)\n",
      "    Validation: 2017-01-01 00:00:00 -- 2017-12-01 00:00:00  (n=12)\n",
      "Fold: 1\n",
      "    Training:   2009-01-01 00:00:00 -- 2017-12-01 00:00:00  (n=108)\n",
      "    Validation: 2018-01-01 00:00:00 -- 2018-12-01 00:00:00  (n=12)\n",
      "\n"
     ]
    },
    {
     "name": "stderr",
     "output_type": "stream",
     "text": [
      "100%|██████████| 2/2 [00:00<00:00, 108.62it/s]\n"
     ]
    },
    {
     "name": "stdout",
     "output_type": "stream",
     "text": [
      "Backtest error: 5.726039663065488\n",
      "max_depth= 10\n",
      "lags= 4\n",
      "[10, 4, 5.726039663065488]\n",
      "Information of backtesting process\n",
      "----------------------------------\n",
      "Number of observations used for initial training: 96\n",
      "Number of observations used for backtesting: 24\n",
      "    Number of folds: 2\n",
      "    Number of steps per fold: 12\n",
      "    Number of steps to exclude from the end of each train set before test (gap): 0\n",
      "\n",
      "Fold: 0\n",
      "    Training:   2009-01-01 00:00:00 -- 2016-12-01 00:00:00  (n=96)\n",
      "    Validation: 2017-01-01 00:00:00 -- 2017-12-01 00:00:00  (n=12)\n",
      "Fold: 1\n",
      "    Training:   2009-01-01 00:00:00 -- 2017-12-01 00:00:00  (n=108)\n",
      "    Validation: 2018-01-01 00:00:00 -- 2018-12-01 00:00:00  (n=12)\n",
      "\n"
     ]
    },
    {
     "name": "stderr",
     "output_type": "stream",
     "text": [
      "100%|██████████| 2/2 [00:00<00:00, 105.18it/s]\n"
     ]
    },
    {
     "name": "stdout",
     "output_type": "stream",
     "text": [
      "Backtest error: 4.593208622229787\n",
      "max_depth= 10\n",
      "lags= 5\n",
      "[10, 5, 4.593208622229787]\n",
      "Information of backtesting process\n",
      "----------------------------------\n",
      "Number of observations used for initial training: 96\n",
      "Number of observations used for backtesting: 24\n",
      "    Number of folds: 2\n",
      "    Number of steps per fold: 12\n",
      "    Number of steps to exclude from the end of each train set before test (gap): 0\n",
      "\n",
      "Fold: 0\n",
      "    Training:   2009-01-01 00:00:00 -- 2016-12-01 00:00:00  (n=96)\n",
      "    Validation: 2017-01-01 00:00:00 -- 2017-12-01 00:00:00  (n=12)\n",
      "Fold: 1\n",
      "    Training:   2009-01-01 00:00:00 -- 2017-12-01 00:00:00  (n=108)\n",
      "    Validation: 2018-01-01 00:00:00 -- 2018-12-01 00:00:00  (n=12)\n",
      "\n"
     ]
    },
    {
     "name": "stderr",
     "output_type": "stream",
     "text": [
      "100%|██████████| 2/2 [00:00<00:00, 104.83it/s]\n"
     ]
    },
    {
     "name": "stdout",
     "output_type": "stream",
     "text": [
      "Backtest error: 6.918407751322369\n",
      "max_depth= 10\n",
      "lags= 6\n",
      "[10, 6, 6.918407751322369]\n",
      "Information of backtesting process\n",
      "----------------------------------\n",
      "Number of observations used for initial training: 96\n",
      "Number of observations used for backtesting: 24\n",
      "    Number of folds: 2\n",
      "    Number of steps per fold: 12\n",
      "    Number of steps to exclude from the end of each train set before test (gap): 0\n",
      "\n",
      "Fold: 0\n",
      "    Training:   2009-01-01 00:00:00 -- 2016-12-01 00:00:00  (n=96)\n",
      "    Validation: 2017-01-01 00:00:00 -- 2017-12-01 00:00:00  (n=12)\n",
      "Fold: 1\n",
      "    Training:   2009-01-01 00:00:00 -- 2017-12-01 00:00:00  (n=108)\n",
      "    Validation: 2018-01-01 00:00:00 -- 2018-12-01 00:00:00  (n=12)\n",
      "\n"
     ]
    },
    {
     "name": "stderr",
     "output_type": "stream",
     "text": [
      "100%|██████████| 2/2 [00:00<00:00, 106.76it/s]\n"
     ]
    },
    {
     "name": "stdout",
     "output_type": "stream",
     "text": [
      "Backtest error: 5.204657807995871\n",
      "max_depth= 10\n",
      "lags= 7\n",
      "[10, 7, 5.204657807995871]\n",
      "Information of backtesting process\n",
      "----------------------------------\n",
      "Number of observations used for initial training: 96\n",
      "Number of observations used for backtesting: 24\n",
      "    Number of folds: 2\n",
      "    Number of steps per fold: 12\n",
      "    Number of steps to exclude from the end of each train set before test (gap): 0\n",
      "\n",
      "Fold: 0\n",
      "    Training:   2009-01-01 00:00:00 -- 2016-12-01 00:00:00  (n=96)\n",
      "    Validation: 2017-01-01 00:00:00 -- 2017-12-01 00:00:00  (n=12)\n",
      "Fold: 1\n",
      "    Training:   2009-01-01 00:00:00 -- 2017-12-01 00:00:00  (n=108)\n",
      "    Validation: 2018-01-01 00:00:00 -- 2018-12-01 00:00:00  (n=12)\n",
      "\n"
     ]
    },
    {
     "name": "stderr",
     "output_type": "stream",
     "text": [
      "100%|██████████| 2/2 [00:00<00:00, 106.18it/s]\n"
     ]
    },
    {
     "name": "stdout",
     "output_type": "stream",
     "text": [
      "Backtest error: 2.3859463919860335\n",
      "max_depth= 10\n",
      "lags= 8\n",
      "[10, 8, 2.3859463919860335]\n",
      "Information of backtesting process\n",
      "----------------------------------\n",
      "Number of observations used for initial training: 96\n",
      "Number of observations used for backtesting: 24\n",
      "    Number of folds: 2\n",
      "    Number of steps per fold: 12\n",
      "    Number of steps to exclude from the end of each train set before test (gap): 0\n",
      "\n",
      "Fold: 0\n",
      "    Training:   2009-01-01 00:00:00 -- 2016-12-01 00:00:00  (n=96)\n",
      "    Validation: 2017-01-01 00:00:00 -- 2017-12-01 00:00:00  (n=12)\n",
      "Fold: 1\n",
      "    Training:   2009-01-01 00:00:00 -- 2017-12-01 00:00:00  (n=108)\n",
      "    Validation: 2018-01-01 00:00:00 -- 2018-12-01 00:00:00  (n=12)\n",
      "\n"
     ]
    },
    {
     "name": "stderr",
     "output_type": "stream",
     "text": [
      "100%|██████████| 2/2 [00:00<00:00, 103.83it/s]\n"
     ]
    },
    {
     "name": "stdout",
     "output_type": "stream",
     "text": [
      "Backtest error: 3.9070980210149053\n",
      "max_depth= 10\n",
      "lags= 9\n",
      "[10, 9, 3.9070980210149053]\n",
      "Information of backtesting process\n",
      "----------------------------------\n",
      "Number of observations used for initial training: 96\n",
      "Number of observations used for backtesting: 24\n",
      "    Number of folds: 2\n",
      "    Number of steps per fold: 12\n",
      "    Number of steps to exclude from the end of each train set before test (gap): 0\n",
      "\n",
      "Fold: 0\n",
      "    Training:   2009-01-01 00:00:00 -- 2016-12-01 00:00:00  (n=96)\n",
      "    Validation: 2017-01-01 00:00:00 -- 2017-12-01 00:00:00  (n=12)\n",
      "Fold: 1\n",
      "    Training:   2009-01-01 00:00:00 -- 2017-12-01 00:00:00  (n=108)\n",
      "    Validation: 2018-01-01 00:00:00 -- 2018-12-01 00:00:00  (n=12)\n",
      "\n"
     ]
    },
    {
     "name": "stderr",
     "output_type": "stream",
     "text": [
      "100%|██████████| 2/2 [00:00<00:00, 106.47it/s]\n"
     ]
    },
    {
     "name": "stdout",
     "output_type": "stream",
     "text": [
      "Backtest error: 2.2152151600593037\n",
      "max_depth= 10\n",
      "lags= 10\n",
      "[10, 10, 2.2152151600593037]\n",
      "Information of backtesting process\n",
      "----------------------------------\n",
      "Number of observations used for initial training: 96\n",
      "Number of observations used for backtesting: 24\n",
      "    Number of folds: 2\n",
      "    Number of steps per fold: 12\n",
      "    Number of steps to exclude from the end of each train set before test (gap): 0\n",
      "\n",
      "Fold: 0\n",
      "    Training:   2009-01-01 00:00:00 -- 2016-12-01 00:00:00  (n=96)\n",
      "    Validation: 2017-01-01 00:00:00 -- 2017-12-01 00:00:00  (n=12)\n",
      "Fold: 1\n",
      "    Training:   2009-01-01 00:00:00 -- 2017-12-01 00:00:00  (n=108)\n",
      "    Validation: 2018-01-01 00:00:00 -- 2018-12-01 00:00:00  (n=12)\n",
      "\n"
     ]
    },
    {
     "name": "stderr",
     "output_type": "stream",
     "text": [
      "100%|██████████| 2/2 [00:00<00:00, 100.41it/s]\n"
     ]
    },
    {
     "name": "stdout",
     "output_type": "stream",
     "text": [
      "Backtest error: 3.816442379271836\n",
      "max_depth= 10\n",
      "lags= 11\n",
      "[10, 11, 3.816442379271836]\n",
      "Information of backtesting process\n",
      "----------------------------------\n",
      "Number of observations used for initial training: 96\n",
      "Number of observations used for backtesting: 24\n",
      "    Number of folds: 2\n",
      "    Number of steps per fold: 12\n",
      "    Number of steps to exclude from the end of each train set before test (gap): 0\n",
      "\n",
      "Fold: 0\n",
      "    Training:   2009-01-01 00:00:00 -- 2016-12-01 00:00:00  (n=96)\n",
      "    Validation: 2017-01-01 00:00:00 -- 2017-12-01 00:00:00  (n=12)\n",
      "Fold: 1\n",
      "    Training:   2009-01-01 00:00:00 -- 2017-12-01 00:00:00  (n=108)\n",
      "    Validation: 2018-01-01 00:00:00 -- 2018-12-01 00:00:00  (n=12)\n",
      "\n"
     ]
    },
    {
     "name": "stderr",
     "output_type": "stream",
     "text": [
      "100%|██████████| 2/2 [00:00<00:00, 88.66it/s]\n"
     ]
    },
    {
     "name": "stdout",
     "output_type": "stream",
     "text": [
      "Backtest error: 2.5769772997600877\n",
      "max_depth= 10\n",
      "lags= 12\n",
      "[10, 12, 2.5769772997600877]\n",
      "Information of backtesting process\n",
      "----------------------------------\n",
      "Number of observations used for initial training: 96\n",
      "Number of observations used for backtesting: 24\n",
      "    Number of folds: 2\n",
      "    Number of steps per fold: 12\n",
      "    Number of steps to exclude from the end of each train set before test (gap): 0\n",
      "\n",
      "Fold: 0\n",
      "    Training:   2009-01-01 00:00:00 -- 2016-12-01 00:00:00  (n=96)\n",
      "    Validation: 2017-01-01 00:00:00 -- 2017-12-01 00:00:00  (n=12)\n",
      "Fold: 1\n",
      "    Training:   2009-01-01 00:00:00 -- 2017-12-01 00:00:00  (n=108)\n",
      "    Validation: 2018-01-01 00:00:00 -- 2018-12-01 00:00:00  (n=12)\n",
      "\n"
     ]
    },
    {
     "name": "stderr",
     "output_type": "stream",
     "text": [
      "100%|██████████| 2/2 [00:00<00:00, 132.12it/s]\n"
     ]
    },
    {
     "name": "stdout",
     "output_type": "stream",
     "text": [
      "Backtest error: 9.986316556972652\n",
      "max_depth= 11\n",
      "lags= 1\n",
      "[11, 1, 9.986316556972652]\n",
      "Information of backtesting process\n",
      "----------------------------------\n",
      "Number of observations used for initial training: 96\n",
      "Number of observations used for backtesting: 24\n",
      "    Number of folds: 2\n",
      "    Number of steps per fold: 12\n",
      "    Number of steps to exclude from the end of each train set before test (gap): 0\n",
      "\n",
      "Fold: 0\n",
      "    Training:   2009-01-01 00:00:00 -- 2016-12-01 00:00:00  (n=96)\n",
      "    Validation: 2017-01-01 00:00:00 -- 2017-12-01 00:00:00  (n=12)\n",
      "Fold: 1\n",
      "    Training:   2009-01-01 00:00:00 -- 2017-12-01 00:00:00  (n=108)\n",
      "    Validation: 2018-01-01 00:00:00 -- 2018-12-01 00:00:00  (n=12)\n",
      "\n"
     ]
    },
    {
     "name": "stderr",
     "output_type": "stream",
     "text": [
      "100%|██████████| 2/2 [00:00<00:00, 115.66it/s]\n"
     ]
    },
    {
     "name": "stdout",
     "output_type": "stream",
     "text": [
      "Backtest error: 4.130024297819163\n",
      "max_depth= 11\n",
      "lags= 2\n",
      "[11, 2, 4.130024297819163]\n",
      "Information of backtesting process\n",
      "----------------------------------\n",
      "Number of observations used for initial training: 96\n",
      "Number of observations used for backtesting: 24\n",
      "    Number of folds: 2\n",
      "    Number of steps per fold: 12\n",
      "    Number of steps to exclude from the end of each train set before test (gap): 0\n",
      "\n",
      "Fold: 0\n",
      "    Training:   2009-01-01 00:00:00 -- 2016-12-01 00:00:00  (n=96)\n",
      "    Validation: 2017-01-01 00:00:00 -- 2017-12-01 00:00:00  (n=12)\n",
      "Fold: 1\n",
      "    Training:   2009-01-01 00:00:00 -- 2017-12-01 00:00:00  (n=108)\n",
      "    Validation: 2018-01-01 00:00:00 -- 2018-12-01 00:00:00  (n=12)\n",
      "\n"
     ]
    },
    {
     "name": "stderr",
     "output_type": "stream",
     "text": [
      "100%|██████████| 2/2 [00:00<00:00, 156.03it/s]\n"
     ]
    },
    {
     "name": "stdout",
     "output_type": "stream",
     "text": [
      "Backtest error: 5.788003980013724\n",
      "max_depth= 11\n",
      "lags= 3\n",
      "[11, 3, 5.788003980013724]\n",
      "Information of backtesting process\n",
      "----------------------------------\n",
      "Number of observations used for initial training: 96\n",
      "Number of observations used for backtesting: 24\n",
      "    Number of folds: 2\n",
      "    Number of steps per fold: 12\n",
      "    Number of steps to exclude from the end of each train set before test (gap): 0\n",
      "\n",
      "Fold: 0\n",
      "    Training:   2009-01-01 00:00:00 -- 2016-12-01 00:00:00  (n=96)\n",
      "    Validation: 2017-01-01 00:00:00 -- 2017-12-01 00:00:00  (n=12)\n",
      "Fold: 1\n",
      "    Training:   2009-01-01 00:00:00 -- 2017-12-01 00:00:00  (n=108)\n",
      "    Validation: 2018-01-01 00:00:00 -- 2018-12-01 00:00:00  (n=12)\n",
      "\n"
     ]
    },
    {
     "name": "stderr",
     "output_type": "stream",
     "text": [
      "100%|██████████| 2/2 [00:00<00:00, 155.33it/s]\n"
     ]
    },
    {
     "name": "stdout",
     "output_type": "stream",
     "text": [
      "Backtest error: 5.072210199273951\n",
      "max_depth= 11\n",
      "lags= 4\n",
      "[11, 4, 5.072210199273951]\n",
      "Information of backtesting process\n",
      "----------------------------------\n",
      "Number of observations used for initial training: 96\n",
      "Number of observations used for backtesting: 24\n",
      "    Number of folds: 2\n",
      "    Number of steps per fold: 12\n",
      "    Number of steps to exclude from the end of each train set before test (gap): 0\n",
      "\n",
      "Fold: 0\n",
      "    Training:   2009-01-01 00:00:00 -- 2016-12-01 00:00:00  (n=96)\n",
      "    Validation: 2017-01-01 00:00:00 -- 2017-12-01 00:00:00  (n=12)\n",
      "Fold: 1\n",
      "    Training:   2009-01-01 00:00:00 -- 2017-12-01 00:00:00  (n=108)\n",
      "    Validation: 2018-01-01 00:00:00 -- 2018-12-01 00:00:00  (n=12)\n",
      "\n"
     ]
    },
    {
     "name": "stderr",
     "output_type": "stream",
     "text": [
      "100%|██████████| 2/2 [00:00<00:00, 148.73it/s]\n"
     ]
    },
    {
     "name": "stdout",
     "output_type": "stream",
     "text": [
      "Backtest error: 2.8305693946962527\n",
      "max_depth= 11\n",
      "lags= 5\n",
      "[11, 5, 2.8305693946962527]\n",
      "Information of backtesting process\n",
      "----------------------------------\n",
      "Number of observations used for initial training: 96\n",
      "Number of observations used for backtesting: 24\n",
      "    Number of folds: 2\n",
      "    Number of steps per fold: 12\n",
      "    Number of steps to exclude from the end of each train set before test (gap): 0\n",
      "\n",
      "Fold: 0\n",
      "    Training:   2009-01-01 00:00:00 -- 2016-12-01 00:00:00  (n=96)\n",
      "    Validation: 2017-01-01 00:00:00 -- 2017-12-01 00:00:00  (n=12)\n",
      "Fold: 1\n",
      "    Training:   2009-01-01 00:00:00 -- 2017-12-01 00:00:00  (n=108)\n",
      "    Validation: 2018-01-01 00:00:00 -- 2018-12-01 00:00:00  (n=12)\n",
      "\n"
     ]
    },
    {
     "name": "stderr",
     "output_type": "stream",
     "text": [
      "100%|██████████| 2/2 [00:00<00:00, 146.66it/s]\n"
     ]
    },
    {
     "name": "stdout",
     "output_type": "stream",
     "text": [
      "Backtest error: 5.312818300910962\n",
      "max_depth= 11\n",
      "lags= 6\n",
      "[11, 6, 5.312818300910962]\n",
      "Information of backtesting process\n",
      "----------------------------------\n",
      "Number of observations used for initial training: 96\n",
      "Number of observations used for backtesting: 24\n",
      "    Number of folds: 2\n",
      "    Number of steps per fold: 12\n",
      "    Number of steps to exclude from the end of each train set before test (gap): 0\n",
      "\n",
      "Fold: 0\n",
      "    Training:   2009-01-01 00:00:00 -- 2016-12-01 00:00:00  (n=96)\n",
      "    Validation: 2017-01-01 00:00:00 -- 2017-12-01 00:00:00  (n=12)\n",
      "Fold: 1\n",
      "    Training:   2009-01-01 00:00:00 -- 2017-12-01 00:00:00  (n=108)\n",
      "    Validation: 2018-01-01 00:00:00 -- 2018-12-01 00:00:00  (n=12)\n",
      "\n"
     ]
    },
    {
     "name": "stderr",
     "output_type": "stream",
     "text": [
      "100%|██████████| 2/2 [00:00<00:00, 147.82it/s]\n"
     ]
    },
    {
     "name": "stdout",
     "output_type": "stream",
     "text": [
      "Backtest error: 4.547530531845507\n",
      "max_depth= 11\n",
      "lags= 7\n",
      "[11, 7, 4.547530531845507]\n",
      "Information of backtesting process\n",
      "----------------------------------\n",
      "Number of observations used for initial training: 96\n",
      "Number of observations used for backtesting: 24\n",
      "    Number of folds: 2\n",
      "    Number of steps per fold: 12\n",
      "    Number of steps to exclude from the end of each train set before test (gap): 0\n",
      "\n",
      "Fold: 0\n",
      "    Training:   2009-01-01 00:00:00 -- 2016-12-01 00:00:00  (n=96)\n",
      "    Validation: 2017-01-01 00:00:00 -- 2017-12-01 00:00:00  (n=12)\n",
      "Fold: 1\n",
      "    Training:   2009-01-01 00:00:00 -- 2017-12-01 00:00:00  (n=108)\n",
      "    Validation: 2018-01-01 00:00:00 -- 2018-12-01 00:00:00  (n=12)\n",
      "\n"
     ]
    },
    {
     "name": "stderr",
     "output_type": "stream",
     "text": [
      "100%|██████████| 2/2 [00:00<00:00, 144.93it/s]\n"
     ]
    },
    {
     "name": "stdout",
     "output_type": "stream",
     "text": [
      "Backtest error: 2.2625771540651214\n",
      "max_depth= 11\n",
      "lags= 8\n",
      "[11, 8, 2.2625771540651214]\n",
      "Information of backtesting process\n",
      "----------------------------------\n",
      "Number of observations used for initial training: 96\n",
      "Number of observations used for backtesting: 24\n",
      "    Number of folds: 2\n",
      "    Number of steps per fold: 12\n",
      "    Number of steps to exclude from the end of each train set before test (gap): 0\n",
      "\n",
      "Fold: 0\n",
      "    Training:   2009-01-01 00:00:00 -- 2016-12-01 00:00:00  (n=96)\n",
      "    Validation: 2017-01-01 00:00:00 -- 2017-12-01 00:00:00  (n=12)\n",
      "Fold: 1\n",
      "    Training:   2009-01-01 00:00:00 -- 2017-12-01 00:00:00  (n=108)\n",
      "    Validation: 2018-01-01 00:00:00 -- 2018-12-01 00:00:00  (n=12)\n",
      "\n"
     ]
    },
    {
     "name": "stderr",
     "output_type": "stream",
     "text": [
      "100%|██████████| 2/2 [00:00<00:00, 147.22it/s]\n"
     ]
    },
    {
     "name": "stdout",
     "output_type": "stream",
     "text": [
      "Backtest error: 3.7892259621977655\n",
      "max_depth= 11\n",
      "lags= 9\n",
      "[11, 9, 3.7892259621977655]\n",
      "Information of backtesting process\n",
      "----------------------------------\n",
      "Number of observations used for initial training: 96\n",
      "Number of observations used for backtesting: 24\n",
      "    Number of folds: 2\n",
      "    Number of steps per fold: 12\n",
      "    Number of steps to exclude from the end of each train set before test (gap): 0\n",
      "\n",
      "Fold: 0\n",
      "    Training:   2009-01-01 00:00:00 -- 2016-12-01 00:00:00  (n=96)\n",
      "    Validation: 2017-01-01 00:00:00 -- 2017-12-01 00:00:00  (n=12)\n",
      "Fold: 1\n",
      "    Training:   2009-01-01 00:00:00 -- 2017-12-01 00:00:00  (n=108)\n",
      "    Validation: 2018-01-01 00:00:00 -- 2018-12-01 00:00:00  (n=12)\n",
      "\n"
     ]
    },
    {
     "name": "stderr",
     "output_type": "stream",
     "text": [
      "100%|██████████| 2/2 [00:00<00:00, 149.30it/s]\n"
     ]
    },
    {
     "name": "stdout",
     "output_type": "stream",
     "text": [
      "Backtest error: 2.8276158133217346\n",
      "max_depth= 11\n",
      "lags= 10\n",
      "[11, 10, 2.8276158133217346]\n",
      "Information of backtesting process\n",
      "----------------------------------\n",
      "Number of observations used for initial training: 96\n",
      "Number of observations used for backtesting: 24\n",
      "    Number of folds: 2\n",
      "    Number of steps per fold: 12\n",
      "    Number of steps to exclude from the end of each train set before test (gap): 0\n",
      "\n",
      "Fold: 0\n",
      "    Training:   2009-01-01 00:00:00 -- 2016-12-01 00:00:00  (n=96)\n",
      "    Validation: 2017-01-01 00:00:00 -- 2017-12-01 00:00:00  (n=12)\n",
      "Fold: 1\n",
      "    Training:   2009-01-01 00:00:00 -- 2017-12-01 00:00:00  (n=108)\n",
      "    Validation: 2018-01-01 00:00:00 -- 2018-12-01 00:00:00  (n=12)\n",
      "\n"
     ]
    },
    {
     "name": "stderr",
     "output_type": "stream",
     "text": [
      "100%|██████████| 2/2 [00:00<00:00, 143.23it/s]\n"
     ]
    },
    {
     "name": "stdout",
     "output_type": "stream",
     "text": [
      "Backtest error: 4.712222264520475\n",
      "max_depth= 11\n",
      "lags= 11\n",
      "[11, 11, 4.712222264520475]\n",
      "Information of backtesting process\n",
      "----------------------------------\n",
      "Number of observations used for initial training: 96\n",
      "Number of observations used for backtesting: 24\n",
      "    Number of folds: 2\n",
      "    Number of steps per fold: 12\n",
      "    Number of steps to exclude from the end of each train set before test (gap): 0\n",
      "\n",
      "Fold: 0\n",
      "    Training:   2009-01-01 00:00:00 -- 2016-12-01 00:00:00  (n=96)\n",
      "    Validation: 2017-01-01 00:00:00 -- 2017-12-01 00:00:00  (n=12)\n",
      "Fold: 1\n",
      "    Training:   2009-01-01 00:00:00 -- 2017-12-01 00:00:00  (n=108)\n",
      "    Validation: 2018-01-01 00:00:00 -- 2018-12-01 00:00:00  (n=12)\n",
      "\n"
     ]
    },
    {
     "name": "stderr",
     "output_type": "stream",
     "text": [
      "100%|██████████| 2/2 [00:00<00:00, 139.75it/s]\n"
     ]
    },
    {
     "name": "stdout",
     "output_type": "stream",
     "text": [
      "Backtest error: 2.5312445430816495\n",
      "max_depth= 11\n",
      "lags= 12\n",
      "[11, 12, 2.5312445430816495]\n",
      "Information of backtesting process\n",
      "----------------------------------\n",
      "Number of observations used for initial training: 96\n",
      "Number of observations used for backtesting: 24\n",
      "    Number of folds: 2\n",
      "    Number of steps per fold: 12\n",
      "    Number of steps to exclude from the end of each train set before test (gap): 0\n",
      "\n",
      "Fold: 0\n",
      "    Training:   2009-01-01 00:00:00 -- 2016-12-01 00:00:00  (n=96)\n",
      "    Validation: 2017-01-01 00:00:00 -- 2017-12-01 00:00:00  (n=12)\n",
      "Fold: 1\n",
      "    Training:   2009-01-01 00:00:00 -- 2017-12-01 00:00:00  (n=108)\n",
      "    Validation: 2018-01-01 00:00:00 -- 2018-12-01 00:00:00  (n=12)\n",
      "\n"
     ]
    },
    {
     "name": "stderr",
     "output_type": "stream",
     "text": [
      "100%|██████████| 2/2 [00:00<00:00, 163.12it/s]\n"
     ]
    },
    {
     "name": "stdout",
     "output_type": "stream",
     "text": [
      "Backtest error: 9.638932986283146\n",
      "max_depth= 12\n",
      "lags= 1\n",
      "[12, 1, 9.638932986283146]\n",
      "Information of backtesting process\n",
      "----------------------------------\n",
      "Number of observations used for initial training: 96\n",
      "Number of observations used for backtesting: 24\n",
      "    Number of folds: 2\n",
      "    Number of steps per fold: 12\n",
      "    Number of steps to exclude from the end of each train set before test (gap): 0\n",
      "\n",
      "Fold: 0\n",
      "    Training:   2009-01-01 00:00:00 -- 2016-12-01 00:00:00  (n=96)\n",
      "    Validation: 2017-01-01 00:00:00 -- 2017-12-01 00:00:00  (n=12)\n",
      "Fold: 1\n",
      "    Training:   2009-01-01 00:00:00 -- 2017-12-01 00:00:00  (n=108)\n",
      "    Validation: 2018-01-01 00:00:00 -- 2018-12-01 00:00:00  (n=12)\n",
      "\n"
     ]
    },
    {
     "name": "stderr",
     "output_type": "stream",
     "text": [
      "100%|██████████| 2/2 [00:00<00:00, 148.32it/s]\n"
     ]
    },
    {
     "name": "stdout",
     "output_type": "stream",
     "text": [
      "Backtest error: 6.557520550694508\n",
      "max_depth= 12\n",
      "lags= 2\n",
      "[12, 2, 6.557520550694508]\n",
      "Information of backtesting process\n",
      "----------------------------------\n",
      "Number of observations used for initial training: 96\n",
      "Number of observations used for backtesting: 24\n",
      "    Number of folds: 2\n",
      "    Number of steps per fold: 12\n",
      "    Number of steps to exclude from the end of each train set before test (gap): 0\n",
      "\n",
      "Fold: 0\n",
      "    Training:   2009-01-01 00:00:00 -- 2016-12-01 00:00:00  (n=96)\n",
      "    Validation: 2017-01-01 00:00:00 -- 2017-12-01 00:00:00  (n=12)\n",
      "Fold: 1\n",
      "    Training:   2009-01-01 00:00:00 -- 2017-12-01 00:00:00  (n=108)\n",
      "    Validation: 2018-01-01 00:00:00 -- 2018-12-01 00:00:00  (n=12)\n",
      "\n"
     ]
    },
    {
     "name": "stderr",
     "output_type": "stream",
     "text": [
      "100%|██████████| 2/2 [00:00<00:00, 157.45it/s]\n"
     ]
    },
    {
     "name": "stdout",
     "output_type": "stream",
     "text": [
      "Backtest error: 3.7848904773405727\n",
      "max_depth= 12\n",
      "lags= 3\n",
      "[12, 3, 3.7848904773405727]\n",
      "Information of backtesting process\n",
      "----------------------------------\n",
      "Number of observations used for initial training: 96\n",
      "Number of observations used for backtesting: 24\n",
      "    Number of folds: 2\n",
      "    Number of steps per fold: 12\n",
      "    Number of steps to exclude from the end of each train set before test (gap): 0\n",
      "\n",
      "Fold: 0\n",
      "    Training:   2009-01-01 00:00:00 -- 2016-12-01 00:00:00  (n=96)\n",
      "    Validation: 2017-01-01 00:00:00 -- 2017-12-01 00:00:00  (n=12)\n",
      "Fold: 1\n",
      "    Training:   2009-01-01 00:00:00 -- 2017-12-01 00:00:00  (n=108)\n",
      "    Validation: 2018-01-01 00:00:00 -- 2018-12-01 00:00:00  (n=12)\n",
      "\n"
     ]
    },
    {
     "name": "stderr",
     "output_type": "stream",
     "text": [
      "100%|██████████| 2/2 [00:00<00:00, 154.64it/s]\n"
     ]
    },
    {
     "name": "stdout",
     "output_type": "stream",
     "text": [
      "Backtest error: 4.789685749795207\n",
      "max_depth= 12\n",
      "lags= 4\n",
      "[12, 4, 4.789685749795207]\n",
      "Information of backtesting process\n",
      "----------------------------------\n",
      "Number of observations used for initial training: 96\n",
      "Number of observations used for backtesting: 24\n",
      "    Number of folds: 2\n",
      "    Number of steps per fold: 12\n",
      "    Number of steps to exclude from the end of each train set before test (gap): 0\n",
      "\n",
      "Fold: 0\n",
      "    Training:   2009-01-01 00:00:00 -- 2016-12-01 00:00:00  (n=96)\n",
      "    Validation: 2017-01-01 00:00:00 -- 2017-12-01 00:00:00  (n=12)\n",
      "Fold: 1\n",
      "    Training:   2009-01-01 00:00:00 -- 2017-12-01 00:00:00  (n=108)\n",
      "    Validation: 2018-01-01 00:00:00 -- 2018-12-01 00:00:00  (n=12)\n",
      "\n"
     ]
    },
    {
     "name": "stderr",
     "output_type": "stream",
     "text": [
      "100%|██████████| 2/2 [00:00<00:00, 145.02it/s]\n"
     ]
    },
    {
     "name": "stdout",
     "output_type": "stream",
     "text": [
      "Backtest error: 2.7497285984336792\n",
      "max_depth= 12\n",
      "lags= 5\n",
      "[12, 5, 2.7497285984336792]\n",
      "Information of backtesting process\n",
      "----------------------------------\n",
      "Number of observations used for initial training: 96\n",
      "Number of observations used for backtesting: 24\n",
      "    Number of folds: 2\n",
      "    Number of steps per fold: 12\n",
      "    Number of steps to exclude from the end of each train set before test (gap): 0\n",
      "\n",
      "Fold: 0\n",
      "    Training:   2009-01-01 00:00:00 -- 2016-12-01 00:00:00  (n=96)\n",
      "    Validation: 2017-01-01 00:00:00 -- 2017-12-01 00:00:00  (n=12)\n",
      "Fold: 1\n",
      "    Training:   2009-01-01 00:00:00 -- 2017-12-01 00:00:00  (n=108)\n",
      "    Validation: 2018-01-01 00:00:00 -- 2018-12-01 00:00:00  (n=12)\n",
      "\n"
     ]
    },
    {
     "name": "stderr",
     "output_type": "stream",
     "text": [
      "100%|██████████| 2/2 [00:00<00:00, 151.12it/s]\n"
     ]
    },
    {
     "name": "stdout",
     "output_type": "stream",
     "text": [
      "Backtest error: 5.164077832717084\n",
      "max_depth= 12\n",
      "lags= 6\n",
      "[12, 6, 5.164077832717084]\n",
      "Information of backtesting process\n",
      "----------------------------------\n",
      "Number of observations used for initial training: 96\n",
      "Number of observations used for backtesting: 24\n",
      "    Number of folds: 2\n",
      "    Number of steps per fold: 12\n",
      "    Number of steps to exclude from the end of each train set before test (gap): 0\n",
      "\n",
      "Fold: 0\n",
      "    Training:   2009-01-01 00:00:00 -- 2016-12-01 00:00:00  (n=96)\n",
      "    Validation: 2017-01-01 00:00:00 -- 2017-12-01 00:00:00  (n=12)\n",
      "Fold: 1\n",
      "    Training:   2009-01-01 00:00:00 -- 2017-12-01 00:00:00  (n=108)\n",
      "    Validation: 2018-01-01 00:00:00 -- 2018-12-01 00:00:00  (n=12)\n",
      "\n"
     ]
    },
    {
     "name": "stderr",
     "output_type": "stream",
     "text": [
      "100%|██████████| 2/2 [00:00<00:00, 146.52it/s]\n"
     ]
    },
    {
     "name": "stdout",
     "output_type": "stream",
     "text": [
      "Backtest error: 6.0539494222336465\n",
      "max_depth= 12\n",
      "lags= 7\n",
      "[12, 7, 6.0539494222336465]\n",
      "Information of backtesting process\n",
      "----------------------------------\n",
      "Number of observations used for initial training: 96\n",
      "Number of observations used for backtesting: 24\n",
      "    Number of folds: 2\n",
      "    Number of steps per fold: 12\n",
      "    Number of steps to exclude from the end of each train set before test (gap): 0\n",
      "\n",
      "Fold: 0\n",
      "    Training:   2009-01-01 00:00:00 -- 2016-12-01 00:00:00  (n=96)\n",
      "    Validation: 2017-01-01 00:00:00 -- 2017-12-01 00:00:00  (n=12)\n",
      "Fold: 1\n",
      "    Training:   2009-01-01 00:00:00 -- 2017-12-01 00:00:00  (n=108)\n",
      "    Validation: 2018-01-01 00:00:00 -- 2018-12-01 00:00:00  (n=12)\n",
      "\n"
     ]
    },
    {
     "name": "stderr",
     "output_type": "stream",
     "text": [
      "100%|██████████| 2/2 [00:00<00:00, 142.85it/s]\n"
     ]
    },
    {
     "name": "stdout",
     "output_type": "stream",
     "text": [
      "Backtest error: 3.3667958589039038\n",
      "max_depth= 12\n",
      "lags= 8\n",
      "[12, 8, 3.3667958589039038]\n",
      "Information of backtesting process\n",
      "----------------------------------\n",
      "Number of observations used for initial training: 96\n",
      "Number of observations used for backtesting: 24\n",
      "    Number of folds: 2\n",
      "    Number of steps per fold: 12\n",
      "    Number of steps to exclude from the end of each train set before test (gap): 0\n",
      "\n",
      "Fold: 0\n",
      "    Training:   2009-01-01 00:00:00 -- 2016-12-01 00:00:00  (n=96)\n",
      "    Validation: 2017-01-01 00:00:00 -- 2017-12-01 00:00:00  (n=12)\n",
      "Fold: 1\n",
      "    Training:   2009-01-01 00:00:00 -- 2017-12-01 00:00:00  (n=108)\n",
      "    Validation: 2018-01-01 00:00:00 -- 2018-12-01 00:00:00  (n=12)\n",
      "\n"
     ]
    },
    {
     "name": "stderr",
     "output_type": "stream",
     "text": [
      "100%|██████████| 2/2 [00:00<00:00, 152.28it/s]\n"
     ]
    },
    {
     "name": "stdout",
     "output_type": "stream",
     "text": [
      "Backtest error: 3.5457052303906593\n",
      "max_depth= 12\n",
      "lags= 9\n",
      "[12, 9, 3.5457052303906593]\n",
      "Information of backtesting process\n",
      "----------------------------------\n",
      "Number of observations used for initial training: 96\n",
      "Number of observations used for backtesting: 24\n",
      "    Number of folds: 2\n",
      "    Number of steps per fold: 12\n",
      "    Number of steps to exclude from the end of each train set before test (gap): 0\n",
      "\n",
      "Fold: 0\n",
      "    Training:   2009-01-01 00:00:00 -- 2016-12-01 00:00:00  (n=96)\n",
      "    Validation: 2017-01-01 00:00:00 -- 2017-12-01 00:00:00  (n=12)\n",
      "Fold: 1\n",
      "    Training:   2009-01-01 00:00:00 -- 2017-12-01 00:00:00  (n=108)\n",
      "    Validation: 2018-01-01 00:00:00 -- 2018-12-01 00:00:00  (n=12)\n",
      "\n"
     ]
    },
    {
     "name": "stderr",
     "output_type": "stream",
     "text": [
      "100%|██████████| 2/2 [00:00<00:00, 143.39it/s]\n"
     ]
    },
    {
     "name": "stdout",
     "output_type": "stream",
     "text": [
      "Backtest error: 2.1700091697772503\n",
      "max_depth= 12\n",
      "lags= 10\n",
      "[12, 10, 2.1700091697772503]\n",
      "Information of backtesting process\n",
      "----------------------------------\n",
      "Number of observations used for initial training: 96\n",
      "Number of observations used for backtesting: 24\n",
      "    Number of folds: 2\n",
      "    Number of steps per fold: 12\n",
      "    Number of steps to exclude from the end of each train set before test (gap): 0\n",
      "\n",
      "Fold: 0\n",
      "    Training:   2009-01-01 00:00:00 -- 2016-12-01 00:00:00  (n=96)\n",
      "    Validation: 2017-01-01 00:00:00 -- 2017-12-01 00:00:00  (n=12)\n",
      "Fold: 1\n",
      "    Training:   2009-01-01 00:00:00 -- 2017-12-01 00:00:00  (n=108)\n",
      "    Validation: 2018-01-01 00:00:00 -- 2018-12-01 00:00:00  (n=12)\n",
      "\n"
     ]
    },
    {
     "name": "stderr",
     "output_type": "stream",
     "text": [
      "100%|██████████| 2/2 [00:00<00:00, 145.53it/s]\n"
     ]
    },
    {
     "name": "stdout",
     "output_type": "stream",
     "text": [
      "Backtest error: 4.1499026702803565\n",
      "max_depth= 12\n",
      "lags= 11\n",
      "[12, 11, 4.1499026702803565]\n",
      "Information of backtesting process\n",
      "----------------------------------\n",
      "Number of observations used for initial training: 96\n",
      "Number of observations used for backtesting: 24\n",
      "    Number of folds: 2\n",
      "    Number of steps per fold: 12\n",
      "    Number of steps to exclude from the end of each train set before test (gap): 0\n",
      "\n",
      "Fold: 0\n",
      "    Training:   2009-01-01 00:00:00 -- 2016-12-01 00:00:00  (n=96)\n",
      "    Validation: 2017-01-01 00:00:00 -- 2017-12-01 00:00:00  (n=12)\n",
      "Fold: 1\n",
      "    Training:   2009-01-01 00:00:00 -- 2017-12-01 00:00:00  (n=108)\n",
      "    Validation: 2018-01-01 00:00:00 -- 2018-12-01 00:00:00  (n=12)\n",
      "\n"
     ]
    },
    {
     "name": "stderr",
     "output_type": "stream",
     "text": [
      "100%|██████████| 2/2 [00:00<00:00, 138.59it/s]\n"
     ]
    },
    {
     "name": "stdout",
     "output_type": "stream",
     "text": [
      "Backtest error: 2.589110316582842\n",
      "max_depth= 12\n",
      "lags= 12\n",
      "[12, 12, 2.589110316582842]\n",
      "Information of backtesting process\n",
      "----------------------------------\n",
      "Number of observations used for initial training: 96\n",
      "Number of observations used for backtesting: 24\n",
      "    Number of folds: 2\n",
      "    Number of steps per fold: 12\n",
      "    Number of steps to exclude from the end of each train set before test (gap): 0\n",
      "\n",
      "Fold: 0\n",
      "    Training:   2009-01-01 00:00:00 -- 2016-12-01 00:00:00  (n=96)\n",
      "    Validation: 2017-01-01 00:00:00 -- 2017-12-01 00:00:00  (n=12)\n",
      "Fold: 1\n",
      "    Training:   2009-01-01 00:00:00 -- 2017-12-01 00:00:00  (n=108)\n",
      "    Validation: 2018-01-01 00:00:00 -- 2018-12-01 00:00:00  (n=12)\n",
      "\n"
     ]
    },
    {
     "name": "stderr",
     "output_type": "stream",
     "text": [
      "100%|██████████| 2/2 [00:00<00:00, 158.65it/s]\n"
     ]
    },
    {
     "name": "stdout",
     "output_type": "stream",
     "text": [
      "Backtest error: 9.921400310570396\n",
      "max_depth= 13\n",
      "lags= 1\n",
      "[13, 1, 9.921400310570396]\n",
      "Information of backtesting process\n",
      "----------------------------------\n",
      "Number of observations used for initial training: 96\n",
      "Number of observations used for backtesting: 24\n",
      "    Number of folds: 2\n",
      "    Number of steps per fold: 12\n",
      "    Number of steps to exclude from the end of each train set before test (gap): 0\n",
      "\n",
      "Fold: 0\n",
      "    Training:   2009-01-01 00:00:00 -- 2016-12-01 00:00:00  (n=96)\n",
      "    Validation: 2017-01-01 00:00:00 -- 2017-12-01 00:00:00  (n=12)\n",
      "Fold: 1\n",
      "    Training:   2009-01-01 00:00:00 -- 2017-12-01 00:00:00  (n=108)\n",
      "    Validation: 2018-01-01 00:00:00 -- 2018-12-01 00:00:00  (n=12)\n",
      "\n"
     ]
    },
    {
     "name": "stderr",
     "output_type": "stream",
     "text": [
      "100%|██████████| 2/2 [00:00<00:00, 159.41it/s]\n"
     ]
    },
    {
     "name": "stdout",
     "output_type": "stream",
     "text": [
      "Backtest error: 5.235980847298343\n",
      "max_depth= 13\n",
      "lags= 2\n",
      "[13, 2, 5.235980847298343]\n",
      "Information of backtesting process\n",
      "----------------------------------\n",
      "Number of observations used for initial training: 96\n",
      "Number of observations used for backtesting: 24\n",
      "    Number of folds: 2\n",
      "    Number of steps per fold: 12\n",
      "    Number of steps to exclude from the end of each train set before test (gap): 0\n",
      "\n",
      "Fold: 0\n",
      "    Training:   2009-01-01 00:00:00 -- 2016-12-01 00:00:00  (n=96)\n",
      "    Validation: 2017-01-01 00:00:00 -- 2017-12-01 00:00:00  (n=12)\n",
      "Fold: 1\n",
      "    Training:   2009-01-01 00:00:00 -- 2017-12-01 00:00:00  (n=108)\n",
      "    Validation: 2018-01-01 00:00:00 -- 2018-12-01 00:00:00  (n=12)\n",
      "\n"
     ]
    },
    {
     "name": "stderr",
     "output_type": "stream",
     "text": [
      "100%|██████████| 2/2 [00:00<00:00, 149.58it/s]\n"
     ]
    },
    {
     "name": "stdout",
     "output_type": "stream",
     "text": [
      "Backtest error: 5.204597478405746\n",
      "max_depth= 13\n",
      "lags= 3\n",
      "[13, 3, 5.204597478405746]\n",
      "Information of backtesting process\n",
      "----------------------------------\n",
      "Number of observations used for initial training: 96\n",
      "Number of observations used for backtesting: 24\n",
      "    Number of folds: 2\n",
      "    Number of steps per fold: 12\n",
      "    Number of steps to exclude from the end of each train set before test (gap): 0\n",
      "\n",
      "Fold: 0\n",
      "    Training:   2009-01-01 00:00:00 -- 2016-12-01 00:00:00  (n=96)\n",
      "    Validation: 2017-01-01 00:00:00 -- 2017-12-01 00:00:00  (n=12)\n",
      "Fold: 1\n",
      "    Training:   2009-01-01 00:00:00 -- 2017-12-01 00:00:00  (n=108)\n",
      "    Validation: 2018-01-01 00:00:00 -- 2018-12-01 00:00:00  (n=12)\n",
      "\n"
     ]
    },
    {
     "name": "stderr",
     "output_type": "stream",
     "text": [
      "100%|██████████| 2/2 [00:00<00:00, 152.88it/s]\n"
     ]
    },
    {
     "name": "stdout",
     "output_type": "stream",
     "text": [
      "Backtest error: 5.763513239006436\n",
      "max_depth= 13\n",
      "lags= 4\n",
      "[13, 4, 5.763513239006436]\n",
      "Information of backtesting process\n",
      "----------------------------------\n",
      "Number of observations used for initial training: 96\n",
      "Number of observations used for backtesting: 24\n",
      "    Number of folds: 2\n",
      "    Number of steps per fold: 12\n",
      "    Number of steps to exclude from the end of each train set before test (gap): 0\n",
      "\n",
      "Fold: 0\n",
      "    Training:   2009-01-01 00:00:00 -- 2016-12-01 00:00:00  (n=96)\n",
      "    Validation: 2017-01-01 00:00:00 -- 2017-12-01 00:00:00  (n=12)\n",
      "Fold: 1\n",
      "    Training:   2009-01-01 00:00:00 -- 2017-12-01 00:00:00  (n=108)\n",
      "    Validation: 2018-01-01 00:00:00 -- 2018-12-01 00:00:00  (n=12)\n",
      "\n"
     ]
    },
    {
     "name": "stderr",
     "output_type": "stream",
     "text": [
      "100%|██████████| 2/2 [00:00<00:00, 155.03it/s]\n"
     ]
    },
    {
     "name": "stdout",
     "output_type": "stream",
     "text": [
      "Backtest error: 2.7384927946798734\n",
      "max_depth= 13\n",
      "lags= 5\n",
      "[13, 5, 2.7384927946798734]\n",
      "Information of backtesting process\n",
      "----------------------------------\n",
      "Number of observations used for initial training: 96\n",
      "Number of observations used for backtesting: 24\n",
      "    Number of folds: 2\n",
      "    Number of steps per fold: 12\n",
      "    Number of steps to exclude from the end of each train set before test (gap): 0\n",
      "\n",
      "Fold: 0\n",
      "    Training:   2009-01-01 00:00:00 -- 2016-12-01 00:00:00  (n=96)\n",
      "    Validation: 2017-01-01 00:00:00 -- 2017-12-01 00:00:00  (n=12)\n",
      "Fold: 1\n",
      "    Training:   2009-01-01 00:00:00 -- 2017-12-01 00:00:00  (n=108)\n",
      "    Validation: 2018-01-01 00:00:00 -- 2018-12-01 00:00:00  (n=12)\n",
      "\n"
     ]
    },
    {
     "name": "stderr",
     "output_type": "stream",
     "text": [
      "100%|██████████| 2/2 [00:00<00:00, 155.10it/s]\n"
     ]
    },
    {
     "name": "stdout",
     "output_type": "stream",
     "text": [
      "Backtest error: 7.344212328147527\n",
      "max_depth= 13\n",
      "lags= 6\n",
      "[13, 6, 7.344212328147527]\n",
      "Information of backtesting process\n",
      "----------------------------------\n",
      "Number of observations used for initial training: 96\n",
      "Number of observations used for backtesting: 24\n",
      "    Number of folds: 2\n",
      "    Number of steps per fold: 12\n",
      "    Number of steps to exclude from the end of each train set before test (gap): 0\n",
      "\n",
      "Fold: 0\n",
      "    Training:   2009-01-01 00:00:00 -- 2016-12-01 00:00:00  (n=96)\n",
      "    Validation: 2017-01-01 00:00:00 -- 2017-12-01 00:00:00  (n=12)\n",
      "Fold: 1\n",
      "    Training:   2009-01-01 00:00:00 -- 2017-12-01 00:00:00  (n=108)\n",
      "    Validation: 2018-01-01 00:00:00 -- 2018-12-01 00:00:00  (n=12)\n",
      "\n"
     ]
    },
    {
     "name": "stderr",
     "output_type": "stream",
     "text": [
      "100%|██████████| 2/2 [00:00<00:00, 155.80it/s]\n"
     ]
    },
    {
     "name": "stdout",
     "output_type": "stream",
     "text": [
      "Backtest error: 6.415766544191239\n",
      "max_depth= 13\n",
      "lags= 7\n",
      "[13, 7, 6.415766544191239]\n",
      "Information of backtesting process\n",
      "----------------------------------\n",
      "Number of observations used for initial training: 96\n",
      "Number of observations used for backtesting: 24\n",
      "    Number of folds: 2\n",
      "    Number of steps per fold: 12\n",
      "    Number of steps to exclude from the end of each train set before test (gap): 0\n",
      "\n",
      "Fold: 0\n",
      "    Training:   2009-01-01 00:00:00 -- 2016-12-01 00:00:00  (n=96)\n",
      "    Validation: 2017-01-01 00:00:00 -- 2017-12-01 00:00:00  (n=12)\n",
      "Fold: 1\n",
      "    Training:   2009-01-01 00:00:00 -- 2017-12-01 00:00:00  (n=108)\n",
      "    Validation: 2018-01-01 00:00:00 -- 2018-12-01 00:00:00  (n=12)\n",
      "\n"
     ]
    },
    {
     "name": "stderr",
     "output_type": "stream",
     "text": [
      "100%|██████████| 2/2 [00:00<00:00, 154.13it/s]\n"
     ]
    },
    {
     "name": "stdout",
     "output_type": "stream",
     "text": [
      "Backtest error: 2.401871385280179\n",
      "max_depth= 13\n",
      "lags= 8\n",
      "[13, 8, 2.401871385280179]\n",
      "Information of backtesting process\n",
      "----------------------------------\n",
      "Number of observations used for initial training: 96\n",
      "Number of observations used for backtesting: 24\n",
      "    Number of folds: 2\n",
      "    Number of steps per fold: 12\n",
      "    Number of steps to exclude from the end of each train set before test (gap): 0\n",
      "\n",
      "Fold: 0\n",
      "    Training:   2009-01-01 00:00:00 -- 2016-12-01 00:00:00  (n=96)\n",
      "    Validation: 2017-01-01 00:00:00 -- 2017-12-01 00:00:00  (n=12)\n",
      "Fold: 1\n",
      "    Training:   2009-01-01 00:00:00 -- 2017-12-01 00:00:00  (n=108)\n",
      "    Validation: 2018-01-01 00:00:00 -- 2018-12-01 00:00:00  (n=12)\n",
      "\n"
     ]
    },
    {
     "name": "stderr",
     "output_type": "stream",
     "text": [
      "100%|██████████| 2/2 [00:00<00:00, 149.53it/s]\n"
     ]
    },
    {
     "name": "stdout",
     "output_type": "stream",
     "text": [
      "Backtest error: 3.4387392302859854\n",
      "max_depth= 13\n",
      "lags= 9\n",
      "[13, 9, 3.4387392302859854]\n",
      "Information of backtesting process\n",
      "----------------------------------\n",
      "Number of observations used for initial training: 96\n",
      "Number of observations used for backtesting: 24\n",
      "    Number of folds: 2\n",
      "    Number of steps per fold: 12\n",
      "    Number of steps to exclude from the end of each train set before test (gap): 0\n",
      "\n",
      "Fold: 0\n",
      "    Training:   2009-01-01 00:00:00 -- 2016-12-01 00:00:00  (n=96)\n",
      "    Validation: 2017-01-01 00:00:00 -- 2017-12-01 00:00:00  (n=12)\n",
      "Fold: 1\n",
      "    Training:   2009-01-01 00:00:00 -- 2017-12-01 00:00:00  (n=108)\n",
      "    Validation: 2018-01-01 00:00:00 -- 2018-12-01 00:00:00  (n=12)\n",
      "\n"
     ]
    },
    {
     "name": "stderr",
     "output_type": "stream",
     "text": [
      "100%|██████████| 2/2 [00:00<00:00, 143.42it/s]\n"
     ]
    },
    {
     "name": "stdout",
     "output_type": "stream",
     "text": [
      "Backtest error: 4.225942004580919\n",
      "max_depth= 13\n",
      "lags= 10\n",
      "[13, 10, 4.225942004580919]\n",
      "Information of backtesting process\n",
      "----------------------------------\n",
      "Number of observations used for initial training: 96\n",
      "Number of observations used for backtesting: 24\n",
      "    Number of folds: 2\n",
      "    Number of steps per fold: 12\n",
      "    Number of steps to exclude from the end of each train set before test (gap): 0\n",
      "\n",
      "Fold: 0\n",
      "    Training:   2009-01-01 00:00:00 -- 2016-12-01 00:00:00  (n=96)\n",
      "    Validation: 2017-01-01 00:00:00 -- 2017-12-01 00:00:00  (n=12)\n",
      "Fold: 1\n",
      "    Training:   2009-01-01 00:00:00 -- 2017-12-01 00:00:00  (n=108)\n",
      "    Validation: 2018-01-01 00:00:00 -- 2018-12-01 00:00:00  (n=12)\n",
      "\n"
     ]
    },
    {
     "name": "stderr",
     "output_type": "stream",
     "text": [
      "100%|██████████| 2/2 [00:00<00:00, 151.64it/s]\n"
     ]
    },
    {
     "name": "stdout",
     "output_type": "stream",
     "text": [
      "Backtest error: 4.127458156739017\n",
      "max_depth= 13\n",
      "lags= 11\n",
      "[13, 11, 4.127458156739017]\n",
      "Information of backtesting process\n",
      "----------------------------------\n",
      "Number of observations used for initial training: 96\n",
      "Number of observations used for backtesting: 24\n",
      "    Number of folds: 2\n",
      "    Number of steps per fold: 12\n",
      "    Number of steps to exclude from the end of each train set before test (gap): 0\n",
      "\n",
      "Fold: 0\n",
      "    Training:   2009-01-01 00:00:00 -- 2016-12-01 00:00:00  (n=96)\n",
      "    Validation: 2017-01-01 00:00:00 -- 2017-12-01 00:00:00  (n=12)\n",
      "Fold: 1\n",
      "    Training:   2009-01-01 00:00:00 -- 2017-12-01 00:00:00  (n=108)\n",
      "    Validation: 2018-01-01 00:00:00 -- 2018-12-01 00:00:00  (n=12)\n",
      "\n"
     ]
    },
    {
     "name": "stderr",
     "output_type": "stream",
     "text": [
      "100%|██████████| 2/2 [00:00<00:00, 141.76it/s]\n"
     ]
    },
    {
     "name": "stdout",
     "output_type": "stream",
     "text": [
      "Backtest error: 2.6757757367189474\n",
      "max_depth= 13\n",
      "lags= 12\n",
      "[13, 12, 2.6757757367189474]\n",
      "Information of backtesting process\n",
      "----------------------------------\n",
      "Number of observations used for initial training: 96\n",
      "Number of observations used for backtesting: 24\n",
      "    Number of folds: 2\n",
      "    Number of steps per fold: 12\n",
      "    Number of steps to exclude from the end of each train set before test (gap): 0\n",
      "\n",
      "Fold: 0\n",
      "    Training:   2009-01-01 00:00:00 -- 2016-12-01 00:00:00  (n=96)\n",
      "    Validation: 2017-01-01 00:00:00 -- 2017-12-01 00:00:00  (n=12)\n",
      "Fold: 1\n",
      "    Training:   2009-01-01 00:00:00 -- 2017-12-01 00:00:00  (n=108)\n",
      "    Validation: 2018-01-01 00:00:00 -- 2018-12-01 00:00:00  (n=12)\n",
      "\n"
     ]
    },
    {
     "name": "stderr",
     "output_type": "stream",
     "text": [
      "100%|██████████| 2/2 [00:00<00:00, 149.67it/s]\n"
     ]
    },
    {
     "name": "stdout",
     "output_type": "stream",
     "text": [
      "Backtest error: 9.88204410329571\n",
      "max_depth= 14\n",
      "lags= 1\n",
      "[14, 1, 9.88204410329571]\n",
      "Information of backtesting process\n",
      "----------------------------------\n",
      "Number of observations used for initial training: 96\n",
      "Number of observations used for backtesting: 24\n",
      "    Number of folds: 2\n",
      "    Number of steps per fold: 12\n",
      "    Number of steps to exclude from the end of each train set before test (gap): 0\n",
      "\n",
      "Fold: 0\n",
      "    Training:   2009-01-01 00:00:00 -- 2016-12-01 00:00:00  (n=96)\n",
      "    Validation: 2017-01-01 00:00:00 -- 2017-12-01 00:00:00  (n=12)\n",
      "Fold: 1\n",
      "    Training:   2009-01-01 00:00:00 -- 2017-12-01 00:00:00  (n=108)\n",
      "    Validation: 2018-01-01 00:00:00 -- 2018-12-01 00:00:00  (n=12)\n",
      "\n"
     ]
    },
    {
     "name": "stderr",
     "output_type": "stream",
     "text": [
      "100%|██████████| 2/2 [00:00<00:00, 152.46it/s]\n"
     ]
    },
    {
     "name": "stdout",
     "output_type": "stream",
     "text": [
      "Backtest error: 5.127587024403355\n",
      "max_depth= 14\n",
      "lags= 2\n",
      "[14, 2, 5.127587024403355]\n",
      "Information of backtesting process\n",
      "----------------------------------\n",
      "Number of observations used for initial training: 96\n",
      "Number of observations used for backtesting: 24\n",
      "    Number of folds: 2\n",
      "    Number of steps per fold: 12\n",
      "    Number of steps to exclude from the end of each train set before test (gap): 0\n",
      "\n",
      "Fold: 0\n",
      "    Training:   2009-01-01 00:00:00 -- 2016-12-01 00:00:00  (n=96)\n",
      "    Validation: 2017-01-01 00:00:00 -- 2017-12-01 00:00:00  (n=12)\n",
      "Fold: 1\n",
      "    Training:   2009-01-01 00:00:00 -- 2017-12-01 00:00:00  (n=108)\n",
      "    Validation: 2018-01-01 00:00:00 -- 2018-12-01 00:00:00  (n=12)\n",
      "\n"
     ]
    },
    {
     "name": "stderr",
     "output_type": "stream",
     "text": [
      "100%|██████████| 2/2 [00:00<00:00, 152.60it/s]\n"
     ]
    },
    {
     "name": "stdout",
     "output_type": "stream",
     "text": [
      "Backtest error: 6.9361676143702065\n",
      "max_depth= 14\n",
      "lags= 3\n",
      "[14, 3, 6.9361676143702065]\n",
      "Information of backtesting process\n",
      "----------------------------------\n",
      "Number of observations used for initial training: 96\n",
      "Number of observations used for backtesting: 24\n",
      "    Number of folds: 2\n",
      "    Number of steps per fold: 12\n",
      "    Number of steps to exclude from the end of each train set before test (gap): 0\n",
      "\n",
      "Fold: 0\n",
      "    Training:   2009-01-01 00:00:00 -- 2016-12-01 00:00:00  (n=96)\n",
      "    Validation: 2017-01-01 00:00:00 -- 2017-12-01 00:00:00  (n=12)\n",
      "Fold: 1\n",
      "    Training:   2009-01-01 00:00:00 -- 2017-12-01 00:00:00  (n=108)\n",
      "    Validation: 2018-01-01 00:00:00 -- 2018-12-01 00:00:00  (n=12)\n",
      "\n"
     ]
    },
    {
     "name": "stderr",
     "output_type": "stream",
     "text": [
      "100%|██████████| 2/2 [00:00<00:00, 140.90it/s]\n"
     ]
    },
    {
     "name": "stdout",
     "output_type": "stream",
     "text": [
      "Backtest error: 8.95591061650248\n",
      "max_depth= 14\n",
      "lags= 4\n",
      "[14, 4, 8.95591061650248]\n",
      "Information of backtesting process\n",
      "----------------------------------\n",
      "Number of observations used for initial training: 96\n",
      "Number of observations used for backtesting: 24\n",
      "    Number of folds: 2\n",
      "    Number of steps per fold: 12\n",
      "    Number of steps to exclude from the end of each train set before test (gap): 0\n",
      "\n",
      "Fold: 0\n",
      "    Training:   2009-01-01 00:00:00 -- 2016-12-01 00:00:00  (n=96)\n",
      "    Validation: 2017-01-01 00:00:00 -- 2017-12-01 00:00:00  (n=12)\n",
      "Fold: 1\n",
      "    Training:   2009-01-01 00:00:00 -- 2017-12-01 00:00:00  (n=108)\n",
      "    Validation: 2018-01-01 00:00:00 -- 2018-12-01 00:00:00  (n=12)\n",
      "\n"
     ]
    },
    {
     "name": "stderr",
     "output_type": "stream",
     "text": [
      "100%|██████████| 2/2 [00:00<00:00, 138.28it/s]\n"
     ]
    },
    {
     "name": "stdout",
     "output_type": "stream",
     "text": [
      "Backtest error: 2.9403353822361993\n",
      "max_depth= 14\n",
      "lags= 5\n",
      "[14, 5, 2.9403353822361993]\n",
      "Information of backtesting process\n",
      "----------------------------------\n",
      "Number of observations used for initial training: 96\n",
      "Number of observations used for backtesting: 24\n",
      "    Number of folds: 2\n",
      "    Number of steps per fold: 12\n",
      "    Number of steps to exclude from the end of each train set before test (gap): 0\n",
      "\n",
      "Fold: 0\n",
      "    Training:   2009-01-01 00:00:00 -- 2016-12-01 00:00:00  (n=96)\n",
      "    Validation: 2017-01-01 00:00:00 -- 2017-12-01 00:00:00  (n=12)\n",
      "Fold: 1\n",
      "    Training:   2009-01-01 00:00:00 -- 2017-12-01 00:00:00  (n=108)\n",
      "    Validation: 2018-01-01 00:00:00 -- 2018-12-01 00:00:00  (n=12)\n",
      "\n"
     ]
    },
    {
     "name": "stderr",
     "output_type": "stream",
     "text": [
      "100%|██████████| 2/2 [00:00<00:00, 134.61it/s]\n"
     ]
    },
    {
     "name": "stdout",
     "output_type": "stream",
     "text": [
      "Backtest error: 6.201793484410847\n",
      "max_depth= 14\n",
      "lags= 6\n",
      "[14, 6, 6.201793484410847]\n",
      "Information of backtesting process\n",
      "----------------------------------\n",
      "Number of observations used for initial training: 96\n",
      "Number of observations used for backtesting: 24\n",
      "    Number of folds: 2\n",
      "    Number of steps per fold: 12\n",
      "    Number of steps to exclude from the end of each train set before test (gap): 0\n",
      "\n",
      "Fold: 0\n",
      "    Training:   2009-01-01 00:00:00 -- 2016-12-01 00:00:00  (n=96)\n",
      "    Validation: 2017-01-01 00:00:00 -- 2017-12-01 00:00:00  (n=12)\n",
      "Fold: 1\n",
      "    Training:   2009-01-01 00:00:00 -- 2017-12-01 00:00:00  (n=108)\n",
      "    Validation: 2018-01-01 00:00:00 -- 2018-12-01 00:00:00  (n=12)\n",
      "\n"
     ]
    },
    {
     "name": "stderr",
     "output_type": "stream",
     "text": [
      "100%|██████████| 2/2 [00:00<00:00, 127.31it/s]\n"
     ]
    },
    {
     "name": "stdout",
     "output_type": "stream",
     "text": [
      "Backtest error: 5.316536014166657\n",
      "max_depth= 14\n",
      "lags= 7\n",
      "[14, 7, 5.316536014166657]\n",
      "Information of backtesting process\n",
      "----------------------------------\n",
      "Number of observations used for initial training: 96\n",
      "Number of observations used for backtesting: 24\n",
      "    Number of folds: 2\n",
      "    Number of steps per fold: 12\n",
      "    Number of steps to exclude from the end of each train set before test (gap): 0\n",
      "\n",
      "Fold: 0\n",
      "    Training:   2009-01-01 00:00:00 -- 2016-12-01 00:00:00  (n=96)\n",
      "    Validation: 2017-01-01 00:00:00 -- 2017-12-01 00:00:00  (n=12)\n",
      "Fold: 1\n",
      "    Training:   2009-01-01 00:00:00 -- 2017-12-01 00:00:00  (n=108)\n",
      "    Validation: 2018-01-01 00:00:00 -- 2018-12-01 00:00:00  (n=12)\n",
      "\n"
     ]
    },
    {
     "name": "stderr",
     "output_type": "stream",
     "text": [
      "100%|██████████| 2/2 [00:00<00:00, 117.89it/s]\n"
     ]
    },
    {
     "name": "stdout",
     "output_type": "stream",
     "text": [
      "Backtest error: 3.669872313705804\n",
      "max_depth= 14\n",
      "lags= 8\n",
      "[14, 8, 3.669872313705804]\n",
      "Information of backtesting process\n",
      "----------------------------------\n",
      "Number of observations used for initial training: 96\n",
      "Number of observations used for backtesting: 24\n",
      "    Number of folds: 2\n",
      "    Number of steps per fold: 12\n",
      "    Number of steps to exclude from the end of each train set before test (gap): 0\n",
      "\n",
      "Fold: 0\n",
      "    Training:   2009-01-01 00:00:00 -- 2016-12-01 00:00:00  (n=96)\n",
      "    Validation: 2017-01-01 00:00:00 -- 2017-12-01 00:00:00  (n=12)\n",
      "Fold: 1\n",
      "    Training:   2009-01-01 00:00:00 -- 2017-12-01 00:00:00  (n=108)\n",
      "    Validation: 2018-01-01 00:00:00 -- 2018-12-01 00:00:00  (n=12)\n",
      "\n"
     ]
    },
    {
     "name": "stderr",
     "output_type": "stream",
     "text": [
      "100%|██████████| 2/2 [00:00<00:00, 119.29it/s]\n"
     ]
    },
    {
     "name": "stdout",
     "output_type": "stream",
     "text": [
      "Backtest error: 4.679854115895982\n",
      "max_depth= 14\n",
      "lags= 9\n",
      "[14, 9, 4.679854115895982]\n",
      "Information of backtesting process\n",
      "----------------------------------\n",
      "Number of observations used for initial training: 96\n",
      "Number of observations used for backtesting: 24\n",
      "    Number of folds: 2\n",
      "    Number of steps per fold: 12\n",
      "    Number of steps to exclude from the end of each train set before test (gap): 0\n",
      "\n",
      "Fold: 0\n",
      "    Training:   2009-01-01 00:00:00 -- 2016-12-01 00:00:00  (n=96)\n",
      "    Validation: 2017-01-01 00:00:00 -- 2017-12-01 00:00:00  (n=12)\n",
      "Fold: 1\n",
      "    Training:   2009-01-01 00:00:00 -- 2017-12-01 00:00:00  (n=108)\n",
      "    Validation: 2018-01-01 00:00:00 -- 2018-12-01 00:00:00  (n=12)\n",
      "\n"
     ]
    },
    {
     "name": "stderr",
     "output_type": "stream",
     "text": [
      "100%|██████████| 2/2 [00:00<00:00, 122.26it/s]\n"
     ]
    },
    {
     "name": "stdout",
     "output_type": "stream",
     "text": [
      "Backtest error: 2.498855053137753\n",
      "max_depth= 14\n",
      "lags= 10\n",
      "[14, 10, 2.498855053137753]\n",
      "Information of backtesting process\n",
      "----------------------------------\n",
      "Number of observations used for initial training: 96\n",
      "Number of observations used for backtesting: 24\n",
      "    Number of folds: 2\n",
      "    Number of steps per fold: 12\n",
      "    Number of steps to exclude from the end of each train set before test (gap): 0\n",
      "\n",
      "Fold: 0\n",
      "    Training:   2009-01-01 00:00:00 -- 2016-12-01 00:00:00  (n=96)\n",
      "    Validation: 2017-01-01 00:00:00 -- 2017-12-01 00:00:00  (n=12)\n",
      "Fold: 1\n",
      "    Training:   2009-01-01 00:00:00 -- 2017-12-01 00:00:00  (n=108)\n",
      "    Validation: 2018-01-01 00:00:00 -- 2018-12-01 00:00:00  (n=12)\n",
      "\n"
     ]
    },
    {
     "name": "stderr",
     "output_type": "stream",
     "text": [
      "100%|██████████| 2/2 [00:00<00:00, 110.68it/s]\n"
     ]
    },
    {
     "name": "stdout",
     "output_type": "stream",
     "text": [
      "Backtest error: 3.7677929727855854\n",
      "max_depth= 14\n",
      "lags= 11\n",
      "[14, 11, 3.7677929727855854]\n",
      "Information of backtesting process\n",
      "----------------------------------\n",
      "Number of observations used for initial training: 96\n",
      "Number of observations used for backtesting: 24\n",
      "    Number of folds: 2\n",
      "    Number of steps per fold: 12\n",
      "    Number of steps to exclude from the end of each train set before test (gap): 0\n",
      "\n",
      "Fold: 0\n",
      "    Training:   2009-01-01 00:00:00 -- 2016-12-01 00:00:00  (n=96)\n",
      "    Validation: 2017-01-01 00:00:00 -- 2017-12-01 00:00:00  (n=12)\n",
      "Fold: 1\n",
      "    Training:   2009-01-01 00:00:00 -- 2017-12-01 00:00:00  (n=108)\n",
      "    Validation: 2018-01-01 00:00:00 -- 2018-12-01 00:00:00  (n=12)\n",
      "\n"
     ]
    },
    {
     "name": "stderr",
     "output_type": "stream",
     "text": [
      "100%|██████████| 2/2 [00:00<00:00, 112.89it/s]\n"
     ]
    },
    {
     "name": "stdout",
     "output_type": "stream",
     "text": [
      "Backtest error: 2.728315630842463\n",
      "max_depth= 14\n",
      "lags= 12\n",
      "[14, 12, 2.728315630842463]\n",
      "Information of backtesting process\n",
      "----------------------------------\n",
      "Number of observations used for initial training: 96\n",
      "Number of observations used for backtesting: 24\n",
      "    Number of folds: 2\n",
      "    Number of steps per fold: 12\n",
      "    Number of steps to exclude from the end of each train set before test (gap): 0\n",
      "\n",
      "Fold: 0\n",
      "    Training:   2009-01-01 00:00:00 -- 2016-12-01 00:00:00  (n=96)\n",
      "    Validation: 2017-01-01 00:00:00 -- 2017-12-01 00:00:00  (n=12)\n",
      "Fold: 1\n",
      "    Training:   2009-01-01 00:00:00 -- 2017-12-01 00:00:00  (n=108)\n",
      "    Validation: 2018-01-01 00:00:00 -- 2018-12-01 00:00:00  (n=12)\n",
      "\n"
     ]
    },
    {
     "name": "stderr",
     "output_type": "stream",
     "text": [
      "100%|██████████| 2/2 [00:00<00:00, 134.85it/s]\n"
     ]
    },
    {
     "name": "stdout",
     "output_type": "stream",
     "text": [
      "Backtest error: 9.957652375807948\n",
      "max_depth= 15\n",
      "lags= 1\n",
      "[15, 1, 9.957652375807948]\n",
      "Information of backtesting process\n",
      "----------------------------------\n",
      "Number of observations used for initial training: 96\n",
      "Number of observations used for backtesting: 24\n",
      "    Number of folds: 2\n",
      "    Number of steps per fold: 12\n",
      "    Number of steps to exclude from the end of each train set before test (gap): 0\n",
      "\n",
      "Fold: 0\n",
      "    Training:   2009-01-01 00:00:00 -- 2016-12-01 00:00:00  (n=96)\n",
      "    Validation: 2017-01-01 00:00:00 -- 2017-12-01 00:00:00  (n=12)\n",
      "Fold: 1\n",
      "    Training:   2009-01-01 00:00:00 -- 2017-12-01 00:00:00  (n=108)\n",
      "    Validation: 2018-01-01 00:00:00 -- 2018-12-01 00:00:00  (n=12)\n",
      "\n"
     ]
    },
    {
     "name": "stderr",
     "output_type": "stream",
     "text": [
      "100%|██████████| 2/2 [00:00<00:00, 139.46it/s]\n"
     ]
    },
    {
     "name": "stdout",
     "output_type": "stream",
     "text": [
      "Backtest error: 5.148509674420699\n",
      "max_depth= 15\n",
      "lags= 2\n",
      "[15, 2, 5.148509674420699]\n",
      "Information of backtesting process\n",
      "----------------------------------\n",
      "Number of observations used for initial training: 96\n",
      "Number of observations used for backtesting: 24\n",
      "    Number of folds: 2\n",
      "    Number of steps per fold: 12\n",
      "    Number of steps to exclude from the end of each train set before test (gap): 0\n",
      "\n",
      "Fold: 0\n",
      "    Training:   2009-01-01 00:00:00 -- 2016-12-01 00:00:00  (n=96)\n",
      "    Validation: 2017-01-01 00:00:00 -- 2017-12-01 00:00:00  (n=12)\n",
      "Fold: 1\n",
      "    Training:   2009-01-01 00:00:00 -- 2017-12-01 00:00:00  (n=108)\n",
      "    Validation: 2018-01-01 00:00:00 -- 2018-12-01 00:00:00  (n=12)\n",
      "\n"
     ]
    },
    {
     "name": "stderr",
     "output_type": "stream",
     "text": [
      "100%|██████████| 2/2 [00:00<00:00, 136.11it/s]\n"
     ]
    },
    {
     "name": "stdout",
     "output_type": "stream",
     "text": [
      "Backtest error: 7.769852667945656\n",
      "max_depth= 15\n",
      "lags= 3\n",
      "[15, 3, 7.769852667945656]\n",
      "Information of backtesting process\n",
      "----------------------------------\n",
      "Number of observations used for initial training: 96\n",
      "Number of observations used for backtesting: 24\n",
      "    Number of folds: 2\n",
      "    Number of steps per fold: 12\n",
      "    Number of steps to exclude from the end of each train set before test (gap): 0\n",
      "\n",
      "Fold: 0\n",
      "    Training:   2009-01-01 00:00:00 -- 2016-12-01 00:00:00  (n=96)\n",
      "    Validation: 2017-01-01 00:00:00 -- 2017-12-01 00:00:00  (n=12)\n",
      "Fold: 1\n",
      "    Training:   2009-01-01 00:00:00 -- 2017-12-01 00:00:00  (n=108)\n",
      "    Validation: 2018-01-01 00:00:00 -- 2018-12-01 00:00:00  (n=12)\n",
      "\n"
     ]
    },
    {
     "name": "stderr",
     "output_type": "stream",
     "text": [
      "100%|██████████| 2/2 [00:00<00:00, 134.40it/s]\n"
     ]
    },
    {
     "name": "stdout",
     "output_type": "stream",
     "text": [
      "Backtest error: 9.199333700095957\n",
      "max_depth= 15\n",
      "lags= 4\n",
      "[15, 4, 9.199333700095957]\n",
      "Information of backtesting process\n",
      "----------------------------------\n",
      "Number of observations used for initial training: 96\n",
      "Number of observations used for backtesting: 24\n",
      "    Number of folds: 2\n",
      "    Number of steps per fold: 12\n",
      "    Number of steps to exclude from the end of each train set before test (gap): 0\n",
      "\n",
      "Fold: 0\n",
      "    Training:   2009-01-01 00:00:00 -- 2016-12-01 00:00:00  (n=96)\n",
      "    Validation: 2017-01-01 00:00:00 -- 2017-12-01 00:00:00  (n=12)\n",
      "Fold: 1\n",
      "    Training:   2009-01-01 00:00:00 -- 2017-12-01 00:00:00  (n=108)\n",
      "    Validation: 2018-01-01 00:00:00 -- 2018-12-01 00:00:00  (n=12)\n",
      "\n"
     ]
    },
    {
     "name": "stderr",
     "output_type": "stream",
     "text": [
      "100%|██████████| 2/2 [00:00<00:00, 127.93it/s]\n"
     ]
    },
    {
     "name": "stdout",
     "output_type": "stream",
     "text": [
      "Backtest error: 2.9964619206867336\n",
      "max_depth= 15\n",
      "lags= 5\n",
      "[15, 5, 2.9964619206867336]\n",
      "Information of backtesting process\n",
      "----------------------------------\n",
      "Number of observations used for initial training: 96\n",
      "Number of observations used for backtesting: 24\n",
      "    Number of folds: 2\n",
      "    Number of steps per fold: 12\n",
      "    Number of steps to exclude from the end of each train set before test (gap): 0\n",
      "\n",
      "Fold: 0\n",
      "    Training:   2009-01-01 00:00:00 -- 2016-12-01 00:00:00  (n=96)\n",
      "    Validation: 2017-01-01 00:00:00 -- 2017-12-01 00:00:00  (n=12)\n",
      "Fold: 1\n",
      "    Training:   2009-01-01 00:00:00 -- 2017-12-01 00:00:00  (n=108)\n",
      "    Validation: 2018-01-01 00:00:00 -- 2018-12-01 00:00:00  (n=12)\n",
      "\n"
     ]
    },
    {
     "name": "stderr",
     "output_type": "stream",
     "text": [
      "100%|██████████| 2/2 [00:00<00:00, 125.56it/s]\n"
     ]
    },
    {
     "name": "stdout",
     "output_type": "stream",
     "text": [
      "Backtest error: 6.835870003585605\n",
      "max_depth= 15\n",
      "lags= 6\n",
      "[15, 6, 6.835870003585605]\n",
      "Information of backtesting process\n",
      "----------------------------------\n",
      "Number of observations used for initial training: 96\n",
      "Number of observations used for backtesting: 24\n",
      "    Number of folds: 2\n",
      "    Number of steps per fold: 12\n",
      "    Number of steps to exclude from the end of each train set before test (gap): 0\n",
      "\n",
      "Fold: 0\n",
      "    Training:   2009-01-01 00:00:00 -- 2016-12-01 00:00:00  (n=96)\n",
      "    Validation: 2017-01-01 00:00:00 -- 2017-12-01 00:00:00  (n=12)\n",
      "Fold: 1\n",
      "    Training:   2009-01-01 00:00:00 -- 2017-12-01 00:00:00  (n=108)\n",
      "    Validation: 2018-01-01 00:00:00 -- 2018-12-01 00:00:00  (n=12)\n",
      "\n"
     ]
    },
    {
     "name": "stderr",
     "output_type": "stream",
     "text": [
      "100%|██████████| 2/2 [00:00<00:00, 118.91it/s]\n"
     ]
    },
    {
     "name": "stdout",
     "output_type": "stream",
     "text": [
      "Backtest error: 5.424880439824645\n",
      "max_depth= 15\n",
      "lags= 7\n",
      "[15, 7, 5.424880439824645]\n",
      "Information of backtesting process\n",
      "----------------------------------\n",
      "Number of observations used for initial training: 96\n",
      "Number of observations used for backtesting: 24\n",
      "    Number of folds: 2\n",
      "    Number of steps per fold: 12\n",
      "    Number of steps to exclude from the end of each train set before test (gap): 0\n",
      "\n",
      "Fold: 0\n",
      "    Training:   2009-01-01 00:00:00 -- 2016-12-01 00:00:00  (n=96)\n",
      "    Validation: 2017-01-01 00:00:00 -- 2017-12-01 00:00:00  (n=12)\n",
      "Fold: 1\n",
      "    Training:   2009-01-01 00:00:00 -- 2017-12-01 00:00:00  (n=108)\n",
      "    Validation: 2018-01-01 00:00:00 -- 2018-12-01 00:00:00  (n=12)\n",
      "\n"
     ]
    },
    {
     "name": "stderr",
     "output_type": "stream",
     "text": [
      "100%|██████████| 2/2 [00:00<00:00, 120.74it/s]\n"
     ]
    },
    {
     "name": "stdout",
     "output_type": "stream",
     "text": [
      "Backtest error: 2.6405275590799104\n",
      "max_depth= 15\n",
      "lags= 8\n",
      "[15, 8, 2.6405275590799104]\n",
      "Information of backtesting process\n",
      "----------------------------------\n",
      "Number of observations used for initial training: 96\n",
      "Number of observations used for backtesting: 24\n",
      "    Number of folds: 2\n",
      "    Number of steps per fold: 12\n",
      "    Number of steps to exclude from the end of each train set before test (gap): 0\n",
      "\n",
      "Fold: 0\n",
      "    Training:   2009-01-01 00:00:00 -- 2016-12-01 00:00:00  (n=96)\n",
      "    Validation: 2017-01-01 00:00:00 -- 2017-12-01 00:00:00  (n=12)\n",
      "Fold: 1\n",
      "    Training:   2009-01-01 00:00:00 -- 2017-12-01 00:00:00  (n=108)\n",
      "    Validation: 2018-01-01 00:00:00 -- 2018-12-01 00:00:00  (n=12)\n",
      "\n"
     ]
    },
    {
     "name": "stderr",
     "output_type": "stream",
     "text": [
      "100%|██████████| 2/2 [00:00<00:00, 104.99it/s]\n"
     ]
    },
    {
     "name": "stdout",
     "output_type": "stream",
     "text": [
      "Backtest error: 3.799328014819062\n",
      "max_depth= 15\n",
      "lags= 9\n",
      "[15, 9, 3.799328014819062]\n",
      "Information of backtesting process\n",
      "----------------------------------\n",
      "Number of observations used for initial training: 96\n",
      "Number of observations used for backtesting: 24\n",
      "    Number of folds: 2\n",
      "    Number of steps per fold: 12\n",
      "    Number of steps to exclude from the end of each train set before test (gap): 0\n",
      "\n",
      "Fold: 0\n",
      "    Training:   2009-01-01 00:00:00 -- 2016-12-01 00:00:00  (n=96)\n",
      "    Validation: 2017-01-01 00:00:00 -- 2017-12-01 00:00:00  (n=12)\n",
      "Fold: 1\n",
      "    Training:   2009-01-01 00:00:00 -- 2017-12-01 00:00:00  (n=108)\n",
      "    Validation: 2018-01-01 00:00:00 -- 2018-12-01 00:00:00  (n=12)\n",
      "\n"
     ]
    },
    {
     "name": "stderr",
     "output_type": "stream",
     "text": [
      "100%|██████████| 2/2 [00:00<00:00, 107.06it/s]\n"
     ]
    },
    {
     "name": "stdout",
     "output_type": "stream",
     "text": [
      "Backtest error: 3.380006901312585\n",
      "max_depth= 15\n",
      "lags= 10\n",
      "[15, 10, 3.380006901312585]\n",
      "Information of backtesting process\n",
      "----------------------------------\n",
      "Number of observations used for initial training: 96\n",
      "Number of observations used for backtesting: 24\n",
      "    Number of folds: 2\n",
      "    Number of steps per fold: 12\n",
      "    Number of steps to exclude from the end of each train set before test (gap): 0\n",
      "\n",
      "Fold: 0\n",
      "    Training:   2009-01-01 00:00:00 -- 2016-12-01 00:00:00  (n=96)\n",
      "    Validation: 2017-01-01 00:00:00 -- 2017-12-01 00:00:00  (n=12)\n",
      "Fold: 1\n",
      "    Training:   2009-01-01 00:00:00 -- 2017-12-01 00:00:00  (n=108)\n",
      "    Validation: 2018-01-01 00:00:00 -- 2018-12-01 00:00:00  (n=12)\n",
      "\n"
     ]
    },
    {
     "name": "stderr",
     "output_type": "stream",
     "text": [
      "100%|██████████| 2/2 [00:00<00:00, 110.94it/s]\n"
     ]
    },
    {
     "name": "stdout",
     "output_type": "stream",
     "text": [
      "Backtest error: 4.03625853614763\n",
      "max_depth= 15\n",
      "lags= 11\n",
      "[15, 11, 4.03625853614763]\n",
      "Information of backtesting process\n",
      "----------------------------------\n",
      "Number of observations used for initial training: 96\n",
      "Number of observations used for backtesting: 24\n",
      "    Number of folds: 2\n",
      "    Number of steps per fold: 12\n",
      "    Number of steps to exclude from the end of each train set before test (gap): 0\n",
      "\n",
      "Fold: 0\n",
      "    Training:   2009-01-01 00:00:00 -- 2016-12-01 00:00:00  (n=96)\n",
      "    Validation: 2017-01-01 00:00:00 -- 2017-12-01 00:00:00  (n=12)\n",
      "Fold: 1\n",
      "    Training:   2009-01-01 00:00:00 -- 2017-12-01 00:00:00  (n=108)\n",
      "    Validation: 2018-01-01 00:00:00 -- 2018-12-01 00:00:00  (n=12)\n",
      "\n"
     ]
    },
    {
     "name": "stderr",
     "output_type": "stream",
     "text": [
      "100%|██████████| 2/2 [00:00<00:00, 101.08it/s]"
     ]
    },
    {
     "name": "stdout",
     "output_type": "stream",
     "text": [
      "Backtest error: 2.5027250185826646\n",
      "max_depth= 15\n",
      "lags= 12\n",
      "[15, 12, 2.5027250185826646]\n"
     ]
    },
    {
     "name": "stderr",
     "output_type": "stream",
     "text": [
      "\n"
     ]
    }
   ],
   "source": [
    "# Find the best Max Depth\n",
    "\n",
    "# Loop through a few different max depths and check the performance\n",
    "# Try different max depths. We want to optimize our ML models to make the best predictions possible.\n",
    "# For regular decision trees, max_depth, which is a hyperparameter, limits the number of splits in a tree.\n",
    "# You can find the best value of max_depth based on the R-squared score of the model on the test set.\n",
    "\n",
    "steps = 12\n",
    "n_backtesting = 12*2 # The last 2 years are separated for the backtest\n",
    "#resultados = pd.DataFrame(data=None,columns=['max_depth', 'lags', 'Backtest error'])\n",
    "resultados = pd.DataFrame(data=None)\n",
    "for d in [1,2, 3, 4, 5,6,7,8,9,10,11,12,13,14,15]:\n",
    "    for k in [1,2,3,4,5,6,7,8,9,10,11,12]:\n",
    "        regressor_back = DecisionTreeRegressor(max_depth=d) ####Acá podemos mover tanto la profundidad como el número de lags.\n",
    "                \n",
    "\n",
    "        forecaster_back = ForecasterAutoreg(\n",
    "                      regressor = regressor_back,\n",
    "                      lags      = k\n",
    "                    )\n",
    "\n",
    "    # Create the tree and fit it\n",
    "        metric, predictions_backtest = backtesting_forecaster(\n",
    "                                    forecaster         = forecaster_back,\n",
    "                                    y                  = data_train['yprecip'],\n",
    "                                    initial_train_size = len(data_train) - n_backtesting,\n",
    "                                    fixed_train_size   = False,\n",
    "                                    steps              = steps,\n",
    "                                    metric             = 'mean_squared_error',\n",
    "                                    refit              = True,\n",
    "                                    verbose            = True,\n",
    "                                    show_progress      = True\n",
    "                                )\n",
    "\n",
    "        print(f\"Backtest error: {metric}\")\n",
    "        print('max_depth=', str(d))\n",
    "        print('lags=', str(k))\n",
    "        #resultados = resultados.append(pd.DataFrame([d,k,metric],columns=['max_depth', 'lags', 'Backtest error']),ignore_index=True)\n",
    "        resultados = resultados.append(pd.DataFrame(np.reshape([d,k,metric],(1,3))),ignore_index=True)\n",
    "        print([d,k,metric])\n",
    "        \n",
    "resultados.columns = ['max_depth', 'lags', 'Backtest error']"
   ]
  },
  {
   "cell_type": "code",
   "execution_count": 24,
   "id": "a8cc6c7f",
   "metadata": {},
   "outputs": [
    {
     "data": {
      "text/html": [
       "<div>\n",
       "<style scoped>\n",
       "    .dataframe tbody tr th:only-of-type {\n",
       "        vertical-align: middle;\n",
       "    }\n",
       "\n",
       "    .dataframe tbody tr th {\n",
       "        vertical-align: top;\n",
       "    }\n",
       "\n",
       "    .dataframe thead th {\n",
       "        text-align: right;\n",
       "    }\n",
       "</style>\n",
       "<table border=\"1\" class=\"dataframe\">\n",
       "  <thead>\n",
       "    <tr style=\"text-align: right;\">\n",
       "      <th></th>\n",
       "      <th>max_depth</th>\n",
       "      <th>lags</th>\n",
       "      <th>Backtest error</th>\n",
       "    </tr>\n",
       "  </thead>\n",
       "  <tbody>\n",
       "    <tr>\n",
       "      <th>0</th>\n",
       "      <td>1.0</td>\n",
       "      <td>1.0</td>\n",
       "      <td>3.176844</td>\n",
       "    </tr>\n",
       "    <tr>\n",
       "      <th>1</th>\n",
       "      <td>1.0</td>\n",
       "      <td>2.0</td>\n",
       "      <td>3.176846</td>\n",
       "    </tr>\n",
       "    <tr>\n",
       "      <th>2</th>\n",
       "      <td>1.0</td>\n",
       "      <td>3.0</td>\n",
       "      <td>3.177956</td>\n",
       "    </tr>\n",
       "    <tr>\n",
       "      <th>3</th>\n",
       "      <td>1.0</td>\n",
       "      <td>4.0</td>\n",
       "      <td>3.178823</td>\n",
       "    </tr>\n",
       "    <tr>\n",
       "      <th>4</th>\n",
       "      <td>1.0</td>\n",
       "      <td>5.0</td>\n",
       "      <td>3.181516</td>\n",
       "    </tr>\n",
       "    <tr>\n",
       "      <th>...</th>\n",
       "      <td>...</td>\n",
       "      <td>...</td>\n",
       "      <td>...</td>\n",
       "    </tr>\n",
       "    <tr>\n",
       "      <th>175</th>\n",
       "      <td>15.0</td>\n",
       "      <td>8.0</td>\n",
       "      <td>2.640528</td>\n",
       "    </tr>\n",
       "    <tr>\n",
       "      <th>176</th>\n",
       "      <td>15.0</td>\n",
       "      <td>9.0</td>\n",
       "      <td>3.799328</td>\n",
       "    </tr>\n",
       "    <tr>\n",
       "      <th>177</th>\n",
       "      <td>15.0</td>\n",
       "      <td>10.0</td>\n",
       "      <td>3.380007</td>\n",
       "    </tr>\n",
       "    <tr>\n",
       "      <th>178</th>\n",
       "      <td>15.0</td>\n",
       "      <td>11.0</td>\n",
       "      <td>4.036259</td>\n",
       "    </tr>\n",
       "    <tr>\n",
       "      <th>179</th>\n",
       "      <td>15.0</td>\n",
       "      <td>12.0</td>\n",
       "      <td>2.502725</td>\n",
       "    </tr>\n",
       "  </tbody>\n",
       "</table>\n",
       "<p>180 rows × 3 columns</p>\n",
       "</div>"
      ],
      "text/plain": [
       "     max_depth  lags  Backtest error\n",
       "0          1.0   1.0        3.176844\n",
       "1          1.0   2.0        3.176846\n",
       "2          1.0   3.0        3.177956\n",
       "3          1.0   4.0        3.178823\n",
       "4          1.0   5.0        3.181516\n",
       "..         ...   ...             ...\n",
       "175       15.0   8.0        2.640528\n",
       "176       15.0   9.0        3.799328\n",
       "177       15.0  10.0        3.380007\n",
       "178       15.0  11.0        4.036259\n",
       "179       15.0  12.0        2.502725\n",
       "\n",
       "[180 rows x 3 columns]"
      ]
     },
     "execution_count": 24,
     "metadata": {},
     "output_type": "execute_result"
    }
   ],
   "source": [
    "resultados.columns = ['max_depth', 'lags', 'Backtest error']\n",
    "resultados"
   ]
  },
  {
   "cell_type": "code",
   "execution_count": 25,
   "id": "83022815",
   "metadata": {},
   "outputs": [
    {
     "data": {
      "text/html": [
       "<div>\n",
       "<style scoped>\n",
       "    .dataframe tbody tr th:only-of-type {\n",
       "        vertical-align: middle;\n",
       "    }\n",
       "\n",
       "    .dataframe tbody tr th {\n",
       "        vertical-align: top;\n",
       "    }\n",
       "\n",
       "    .dataframe thead th {\n",
       "        text-align: right;\n",
       "    }\n",
       "</style>\n",
       "<table border=\"1\" class=\"dataframe\">\n",
       "  <thead>\n",
       "    <tr style=\"text-align: right;\">\n",
       "      <th></th>\n",
       "      <th>max_depth</th>\n",
       "      <th>lags</th>\n",
       "      <th>Backtest error</th>\n",
       "    </tr>\n",
       "  </thead>\n",
       "  <tbody>\n",
       "    <tr>\n",
       "      <th>23</th>\n",
       "      <td>2.0</td>\n",
       "      <td>12.0</td>\n",
       "      <td>1.617538</td>\n",
       "    </tr>\n",
       "    <tr>\n",
       "      <th>33</th>\n",
       "      <td>3.0</td>\n",
       "      <td>10.0</td>\n",
       "      <td>1.733091</td>\n",
       "    </tr>\n",
       "    <tr>\n",
       "      <th>46</th>\n",
       "      <td>4.0</td>\n",
       "      <td>11.0</td>\n",
       "      <td>1.784822</td>\n",
       "    </tr>\n",
       "    <tr>\n",
       "      <th>44</th>\n",
       "      <td>4.0</td>\n",
       "      <td>9.0</td>\n",
       "      <td>1.918950</td>\n",
       "    </tr>\n",
       "    <tr>\n",
       "      <th>57</th>\n",
       "      <td>5.0</td>\n",
       "      <td>10.0</td>\n",
       "      <td>1.987108</td>\n",
       "    </tr>\n",
       "    <tr>\n",
       "      <th>...</th>\n",
       "      <td>...</td>\n",
       "      <td>...</td>\n",
       "      <td>...</td>\n",
       "    </tr>\n",
       "    <tr>\n",
       "      <th>144</th>\n",
       "      <td>13.0</td>\n",
       "      <td>1.0</td>\n",
       "      <td>9.921400</td>\n",
       "    </tr>\n",
       "    <tr>\n",
       "      <th>108</th>\n",
       "      <td>10.0</td>\n",
       "      <td>1.0</td>\n",
       "      <td>9.956842</td>\n",
       "    </tr>\n",
       "    <tr>\n",
       "      <th>168</th>\n",
       "      <td>15.0</td>\n",
       "      <td>1.0</td>\n",
       "      <td>9.957652</td>\n",
       "    </tr>\n",
       "    <tr>\n",
       "      <th>120</th>\n",
       "      <td>11.0</td>\n",
       "      <td>1.0</td>\n",
       "      <td>9.986317</td>\n",
       "    </tr>\n",
       "    <tr>\n",
       "      <th>96</th>\n",
       "      <td>9.0</td>\n",
       "      <td>1.0</td>\n",
       "      <td>10.115396</td>\n",
       "    </tr>\n",
       "  </tbody>\n",
       "</table>\n",
       "<p>180 rows × 3 columns</p>\n",
       "</div>"
      ],
      "text/plain": [
       "     max_depth  lags  Backtest error\n",
       "23         2.0  12.0        1.617538\n",
       "33         3.0  10.0        1.733091\n",
       "46         4.0  11.0        1.784822\n",
       "44         4.0   9.0        1.918950\n",
       "57         5.0  10.0        1.987108\n",
       "..         ...   ...             ...\n",
       "144       13.0   1.0        9.921400\n",
       "108       10.0   1.0        9.956842\n",
       "168       15.0   1.0        9.957652\n",
       "120       11.0   1.0        9.986317\n",
       "96         9.0   1.0       10.115396\n",
       "\n",
       "[180 rows x 3 columns]"
      ]
     },
     "execution_count": 25,
     "metadata": {},
     "output_type": "execute_result"
    }
   ],
   "source": [
    "\n",
    "resultados_ordenados=resultados.sort_values(by='Backtest error')\n",
    "resultados_ordenados"
   ]
  },
  {
   "cell_type": "markdown",
   "id": "fd7b9e94",
   "metadata": {},
   "source": [
    "## Modelo Final Backtesting"
   ]
  },
  {
   "cell_type": "code",
   "execution_count": 26,
   "id": "d8945dce",
   "metadata": {},
   "outputs": [],
   "source": [
    "# Create and train forecaster with the best hyperparameters\n",
    "# ==============================================================================\n",
    "regressor_Final_backtesting = DecisionTreeRegressor(max_depth=2)\n",
    "                \n",
    "\n",
    "forecaster_Final_backtesting = ForecasterAutoreg(\n",
    "                regressor = regressor_Final_backtesting,\n",
    "                lags      = 12\n",
    "             )\n",
    "\n",
    "forecaster_Final_backtesting.fit(y=data_train['yprecip'])\n",
    "\n",
    "Final_Forecaster_Backtesting=forecaster_Final_backtesting"
   ]
  },
  {
   "cell_type": "code",
   "execution_count": 27,
   "id": "bcf4d818",
   "metadata": {},
   "outputs": [
    {
     "name": "stdout",
     "output_type": "stream",
     "text": [
      "Test error (mse): 0.8539265389147146\n"
     ]
    },
    {
     "data": {
      "image/png": "[encoded data removed]",
      "text/plain": [
       "<Figure size 504x180 with 1 Axes>"
      ]
     },
     "metadata": {},
     "output_type": "display_data"
    }
   ],
   "source": [
    "# Predictions\n",
    "# ==============================================================================\n",
    "predictions_backtesting = Final_Forecaster_Backtesting.predict(steps=steps)\n",
    "\n",
    "# Plot\n",
    "# ==============================================================================\n",
    "fig, ax = plt.subplots(figsize=(7, 2.5))\n",
    "data_train['yprecip'].plot(ax=ax, label='train')\n",
    "data_test['yprecip'].plot(ax=ax, label='test')\n",
    "predictions_backtesting.plot(ax=ax, label='predictions')\n",
    "ax.legend();\n",
    "\n",
    "\n",
    "# Test error\n",
    "# ==============================================================================\n",
    "error_mse_backtesting = mean_squared_error(\n",
    "                y_true = data_test['yprecip'],\n",
    "                y_pred = predictions_backtesting\n",
    "            )\n",
    "\n",
    "print(f\"Test error (mse): {error_mse_backtesting}\")\n",
    "# note que ahora se ha reducido el error."
   ]
  },
  {
   "cell_type": "markdown",
   "id": "7f2e4d8c",
   "metadata": {},
   "source": [
    "## Intervalos de Predicción"
   ]
  },
  {
   "cell_type": "code",
   "execution_count": 28,
   "id": "09a8a854",
   "metadata": {},
   "outputs": [
    {
     "data": {
      "text/html": [
       "<div>\n",
       "<style scoped>\n",
       "    .dataframe tbody tr th:only-of-type {\n",
       "        vertical-align: middle;\n",
       "    }\n",
       "\n",
       "    .dataframe tbody tr th {\n",
       "        vertical-align: top;\n",
       "    }\n",
       "\n",
       "    .dataframe thead th {\n",
       "        text-align: right;\n",
       "    }\n",
       "</style>\n",
       "<table border=\"1\" class=\"dataframe\">\n",
       "  <thead>\n",
       "    <tr style=\"text-align: right;\">\n",
       "      <th></th>\n",
       "      <th>pred</th>\n",
       "      <th>lower_bound</th>\n",
       "      <th>upper_bound</th>\n",
       "    </tr>\n",
       "  </thead>\n",
       "  <tbody>\n",
       "    <tr>\n",
       "      <th>2019-01-01</th>\n",
       "      <td>4.014940</td>\n",
       "      <td>0.175866</td>\n",
       "      <td>7.141935</td>\n",
       "    </tr>\n",
       "    <tr>\n",
       "      <th>2019-02-01</th>\n",
       "      <td>4.014940</td>\n",
       "      <td>0.482831</td>\n",
       "      <td>6.989000</td>\n",
       "    </tr>\n",
       "    <tr>\n",
       "      <th>2019-03-01</th>\n",
       "      <td>4.014940</td>\n",
       "      <td>0.175866</td>\n",
       "      <td>7.141935</td>\n",
       "    </tr>\n",
       "    <tr>\n",
       "      <th>2019-04-01</th>\n",
       "      <td>7.649140</td>\n",
       "      <td>3.810066</td>\n",
       "      <td>10.776135</td>\n",
       "    </tr>\n",
       "    <tr>\n",
       "      <th>2019-05-01</th>\n",
       "      <td>7.649140</td>\n",
       "      <td>3.810066</td>\n",
       "      <td>10.776135</td>\n",
       "    </tr>\n",
       "    <tr>\n",
       "      <th>2019-06-01</th>\n",
       "      <td>7.649140</td>\n",
       "      <td>2.425186</td>\n",
       "      <td>10.776135</td>\n",
       "    </tr>\n",
       "    <tr>\n",
       "      <th>2019-07-01</th>\n",
       "      <td>7.649140</td>\n",
       "      <td>2.425186</td>\n",
       "      <td>10.776135</td>\n",
       "    </tr>\n",
       "    <tr>\n",
       "      <th>2019-08-01</th>\n",
       "      <td>5.687461</td>\n",
       "      <td>1.848387</td>\n",
       "      <td>8.814456</td>\n",
       "    </tr>\n",
       "    <tr>\n",
       "      <th>2019-09-01</th>\n",
       "      <td>6.264260</td>\n",
       "      <td>2.425186</td>\n",
       "      <td>9.391255</td>\n",
       "    </tr>\n",
       "    <tr>\n",
       "      <th>2019-10-01</th>\n",
       "      <td>6.264260</td>\n",
       "      <td>3.665449</td>\n",
       "      <td>9.509497</td>\n",
       "    </tr>\n",
       "    <tr>\n",
       "      <th>2019-11-01</th>\n",
       "      <td>6.264260</td>\n",
       "      <td>2.425186</td>\n",
       "      <td>9.391255</td>\n",
       "    </tr>\n",
       "    <tr>\n",
       "      <th>2019-12-01</th>\n",
       "      <td>4.014940</td>\n",
       "      <td>0.175866</td>\n",
       "      <td>7.753429</td>\n",
       "    </tr>\n",
       "  </tbody>\n",
       "</table>\n",
       "</div>"
      ],
      "text/plain": [
       "                pred  lower_bound  upper_bound\n",
       "2019-01-01  4.014940     0.175866     7.141935\n",
       "2019-02-01  4.014940     0.482831     6.989000\n",
       "2019-03-01  4.014940     0.175866     7.141935\n",
       "2019-04-01  7.649140     3.810066    10.776135\n",
       "2019-05-01  7.649140     3.810066    10.776135\n",
       "2019-06-01  7.649140     2.425186    10.776135\n",
       "2019-07-01  7.649140     2.425186    10.776135\n",
       "2019-08-01  5.687461     1.848387     8.814456\n",
       "2019-09-01  6.264260     2.425186     9.391255\n",
       "2019-10-01  6.264260     3.665449     9.509497\n",
       "2019-11-01  6.264260     2.425186     9.391255\n",
       "2019-12-01  4.014940     0.175866     7.753429"
      ]
     },
     "execution_count": 28,
     "metadata": {},
     "output_type": "execute_result"
    }
   ],
   "source": [
    "steps=12\n",
    "\n",
    "\n",
    "predictions_backtesting_ip = Final_Forecaster_Backtesting.predict_interval(\n",
    "                    steps    = steps,\n",
    "                    interval = [0.25, 99.75],\n",
    "                    n_boot   = 500\n",
    "              )\n",
    "\n",
    "predictions_backtesting_ip.head(12)"
   ]
  },
  {
   "cell_type": "code",
   "execution_count": 29,
   "id": "aa7e2151",
   "metadata": {},
   "outputs": [
    {
     "data": {
      "image/png": "[encoded data removed]",
      "text/plain": [
       "<Figure size 504x180 with 1 Axes>"
      ]
     },
     "metadata": {},
     "output_type": "display_data"
    }
   ],
   "source": [
    "# Plot\n",
    "# ==============================================================================\n",
    "fig, ax = plt.subplots(figsize=(7, 2.5))\n",
    "data_test['yprecip'].plot(ax=ax, label='test')\n",
    "predictions_backtesting_ip['pred'].plot(ax=ax, label='prediction')\n",
    "ax.fill_between(\n",
    "    predictions_backtesting_ip.index,\n",
    "    predictions_backtesting_ip['lower_bound'],\n",
    "    predictions_backtesting_ip['upper_bound'],\n",
    "    color = 'green',\n",
    "    alpha = 0.2\n",
    ")\n",
    "ax.legend();"
   ]
  },
  {
   "cell_type": "code",
   "execution_count": null,
   "id": "ccdc384e",
   "metadata": {},
   "outputs": [],
   "source": []
  },
  {
   "cell_type": "code",
   "execution_count": null,
   "id": "b3e5575f",
   "metadata": {},
   "outputs": [],
   "source": []
  },
  {
   "cell_type": "markdown",
   "id": "d76cc50e",
   "metadata": {},
   "source": [
    " # Importancia de los predictores"
   ]
  },
  {
   "cell_type": "code",
   "execution_count": 30,
   "id": "86d60e83",
   "metadata": {},
   "outputs": [
    {
     "data": {
      "text/html": [
       "<div>\n",
       "<style scoped>\n",
       "    .dataframe tbody tr th:only-of-type {\n",
       "        vertical-align: middle;\n",
       "    }\n",
       "\n",
       "    .dataframe tbody tr th {\n",
       "        vertical-align: top;\n",
       "    }\n",
       "\n",
       "    .dataframe thead th {\n",
       "        text-align: right;\n",
       "    }\n",
       "</style>\n",
       "<table border=\"1\" class=\"dataframe\">\n",
       "  <thead>\n",
       "    <tr style=\"text-align: right;\">\n",
       "      <th></th>\n",
       "      <th>feature</th>\n",
       "      <th>importance</th>\n",
       "    </tr>\n",
       "  </thead>\n",
       "  <tbody>\n",
       "    <tr>\n",
       "      <th>0</th>\n",
       "      <td>lag_1</td>\n",
       "      <td>0.271942</td>\n",
       "    </tr>\n",
       "    <tr>\n",
       "      <th>1</th>\n",
       "      <td>lag_2</td>\n",
       "      <td>0.024091</td>\n",
       "    </tr>\n",
       "    <tr>\n",
       "      <th>2</th>\n",
       "      <td>lag_3</td>\n",
       "      <td>0.039964</td>\n",
       "    </tr>\n",
       "    <tr>\n",
       "      <th>3</th>\n",
       "      <td>lag_4</td>\n",
       "      <td>0.230606</td>\n",
       "    </tr>\n",
       "    <tr>\n",
       "      <th>4</th>\n",
       "      <td>lag_5</td>\n",
       "      <td>0.100504</td>\n",
       "    </tr>\n",
       "    <tr>\n",
       "      <th>5</th>\n",
       "      <td>lag_6</td>\n",
       "      <td>0.102440</td>\n",
       "    </tr>\n",
       "    <tr>\n",
       "      <th>6</th>\n",
       "      <td>lag_7</td>\n",
       "      <td>0.074699</td>\n",
       "    </tr>\n",
       "    <tr>\n",
       "      <th>7</th>\n",
       "      <td>lag_8</td>\n",
       "      <td>0.065000</td>\n",
       "    </tr>\n",
       "    <tr>\n",
       "      <th>8</th>\n",
       "      <td>lag_9</td>\n",
       "      <td>0.016926</td>\n",
       "    </tr>\n",
       "    <tr>\n",
       "      <th>9</th>\n",
       "      <td>lag_10</td>\n",
       "      <td>0.073828</td>\n",
       "    </tr>\n",
       "  </tbody>\n",
       "</table>\n",
       "</div>"
      ],
      "text/plain": [
       "  feature  importance\n",
       "0   lag_1    0.271942\n",
       "1   lag_2    0.024091\n",
       "2   lag_3    0.039964\n",
       "3   lag_4    0.230606\n",
       "4   lag_5    0.100504\n",
       "5   lag_6    0.102440\n",
       "6   lag_7    0.074699\n",
       "7   lag_8    0.065000\n",
       "8   lag_9    0.016926\n",
       "9  lag_10    0.073828"
      ]
     },
     "execution_count": 30,
     "metadata": {},
     "output_type": "execute_result"
    }
   ],
   "source": [
    "forecaster.get_feature_importances()"
   ]
  },
  {
   "cell_type": "markdown",
   "id": "8d09641b",
   "metadata": {},
   "source": [
    "Tarea: Leer Recursive autoregressive forecasting with custom predictors"
   ]
  },
  {
   "cell_type": "markdown",
   "id": "1bcbc48c",
   "metadata": {},
   "source": [
    "# Direct multi-step forecasting(ForecasterAutoregDirect)\n",
    "\n",
    "Las clases ForecasterAutoreg y ForecasterAutoregCustom siguen una estrategia de predicción recursiva en la que cada nueva predicción se basa en la anterior. Una alternativa es entrenar un modelo para cada uno de los pasos a predecir. Esta estrategia, comúnmente conocida como pronóstico directo de varios pasos(one-shot), es computacionalmente más costosa que la recursiva, ya que requiere entrenar varios modelos. Sin embargo, en algunos escenarios, logra mejores resultados. Este tipo de modelos se pueden obtener con la clase ForecasterAutoregDirect y pueden incluir una o varias variables exógenas. "
   ]
  },
  {
   "cell_type": "code",
   "execution_count": 31,
   "id": "0a3f6859",
   "metadata": {},
   "outputs": [
    {
     "data": {
      "text/plain": [
       "======================= \n",
       "ForecasterAutoregDirect \n",
       "======================= \n",
       "Regressor: DecisionTreeRegressor(max_depth=6) \n",
       "Lags: [ 1  2  3  4  5  6  7  8  9 10] \n",
       "Transformer for y: StandardScaler() \n",
       "Transformer for exog: None \n",
       "Weight function included: False \n",
       "Window size: 10 \n",
       "Maximum steps predicted: 12 \n",
       "Exogenous included: False \n",
       "Type of exogenous variable: None \n",
       "Exogenous variables names: None \n",
       "Training range: None \n",
       "Training index type: None \n",
       "Training index frequency: None \n",
       "Regressor parameters: {'ccp_alpha': 0.0, 'criterion': 'squared_error', 'max_depth': 6, 'max_features': None, 'max_leaf_nodes': None, 'min_impurity_decrease': 0.0, 'min_samples_leaf': 1, 'min_samples_split': 2, 'min_weight_fraction_leaf': 0.0, 'random_state': None, 'splitter': 'best'} \n",
       "fit_kwargs: {} \n",
       "Creation date: 2023-09-23 16:07:58 \n",
       "Last fit date: None \n",
       "Skforecast version: 0.8.0 \n",
       "Python version: 3.8.8 \n",
       "Forecaster id: None "
      ]
     },
     "execution_count": 31,
     "metadata": {},
     "output_type": "execute_result"
    }
   ],
   "source": [
    "regressor = DecisionTreeRegressor(max_depth=6)\n",
    "                \n",
    "\n",
    "forecaster = ForecasterAutoregDirect(\n",
    "                regressor = regressor,\n",
    "                lags      = 10,\n",
    "                steps     =12,\n",
    "                transformer_y = StandardScaler()\n",
    "             )\n",
    "\n",
    "forecaster"
   ]
  },
  {
   "cell_type": "code",
   "execution_count": 32,
   "id": "b8a70b84",
   "metadata": {},
   "outputs": [
    {
     "name": "stdout",
     "output_type": "stream",
     "text": [
      "Number of models compared: 40.\n"
     ]
    },
    {
     "name": "stderr",
     "output_type": "stream",
     "text": [
      "lags grid:   0%|          | 0/4 [00:00<?, ?it/s]\n",
      "params grid:   0%|          | 0/10 [00:00<?, ?it/s]\u001b[A"
     ]
    },
    {
     "name": "stdout",
     "output_type": "stream",
     "text": [
      "Information of backtesting process\n",
      "----------------------------------\n",
      "Number of observations used for initial training: 60\n",
      "Number of observations used for backtesting: 60\n",
      "    Number of folds: 5\n",
      "    Number of steps per fold: 12\n",
      "    Number of steps to exclude from the end of each train set before test (gap): 0\n",
      "\n",
      "Fold: 0\n",
      "    Training:   2009-01-01 00:00:00 -- 2013-12-01 00:00:00  (n=60)\n",
      "    Validation: 2014-01-01 00:00:00 -- 2014-12-01 00:00:00  (n=12)\n",
      "Fold: 1\n",
      "    Training:   2009-01-01 00:00:00 -- 2014-12-01 00:00:00  (n=72)\n",
      "    Validation: 2015-01-01 00:00:00 -- 2015-12-01 00:00:00  (n=12)\n",
      "Fold: 2\n",
      "    Training:   2009-01-01 00:00:00 -- 2015-12-01 00:00:00  (n=84)\n",
      "    Validation: 2016-01-01 00:00:00 -- 2016-12-01 00:00:00  (n=12)\n",
      "Fold: 3\n",
      "    Training:   2009-01-01 00:00:00 -- 2016-12-01 00:00:00  (n=96)\n",
      "    Validation: 2017-01-01 00:00:00 -- 2017-12-01 00:00:00  (n=12)\n",
      "Fold: 4\n",
      "    Training:   2009-01-01 00:00:00 -- 2017-12-01 00:00:00  (n=108)\n",
      "    Validation: 2018-01-01 00:00:00 -- 2018-12-01 00:00:00  (n=12)\n",
      "\n"
     ]
    },
    {
     "name": "stderr",
     "output_type": "stream",
     "text": [
      "\n",
      "params grid:  10%|█         | 1/10 [00:00<00:01,  4.74it/s]\u001b[A"
     ]
    },
    {
     "name": "stdout",
     "output_type": "stream",
     "text": [
      "Information of backtesting process\n",
      "----------------------------------\n",
      "Number of observations used for initial training: 60\n",
      "Number of observations used for backtesting: 60\n",
      "    Number of folds: 5\n",
      "    Number of steps per fold: 12\n",
      "    Number of steps to exclude from the end of each train set before test (gap): 0\n",
      "\n",
      "Fold: 0\n",
      "    Training:   2009-01-01 00:00:00 -- 2013-12-01 00:00:00  (n=60)\n",
      "    Validation: 2014-01-01 00:00:00 -- 2014-12-01 00:00:00  (n=12)\n",
      "Fold: 1\n",
      "    Training:   2009-01-01 00:00:00 -- 2014-12-01 00:00:00  (n=72)\n",
      "    Validation: 2015-01-01 00:00:00 -- 2015-12-01 00:00:00  (n=12)\n",
      "Fold: 2\n",
      "    Training:   2009-01-01 00:00:00 -- 2015-12-01 00:00:00  (n=84)\n",
      "    Validation: 2016-01-01 00:00:00 -- 2016-12-01 00:00:00  (n=12)\n",
      "Fold: 3\n",
      "    Training:   2009-01-01 00:00:00 -- 2016-12-01 00:00:00  (n=96)\n",
      "    Validation: 2017-01-01 00:00:00 -- 2017-12-01 00:00:00  (n=12)\n",
      "Fold: 4\n",
      "    Training:   2009-01-01 00:00:00 -- 2017-12-01 00:00:00  (n=108)\n",
      "    Validation: 2018-01-01 00:00:00 -- 2018-12-01 00:00:00  (n=12)\n",
      "\n"
     ]
    },
    {
     "name": "stderr",
     "output_type": "stream",
     "text": [
      "\n",
      "params grid:  20%|██        | 2/10 [00:00<00:01,  4.71it/s]\u001b[A\n",
      "params grid:  30%|███       | 3/10 [00:00<00:01,  4.81it/s]\u001b[A"
     ]
    },
    {
     "name": "stdout",
     "output_type": "stream",
     "text": [
      "Information of backtesting process\n",
      "----------------------------------\n",
      "Number of observations used for initial training: 60\n",
      "Number of observations used for backtesting: 60\n",
      "    Number of folds: 5\n",
      "    Number of steps per fold: 12\n",
      "    Number of steps to exclude from the end of each train set before test (gap): 0\n",
      "\n",
      "Fold: 0\n",
      "    Training:   2009-01-01 00:00:00 -- 2013-12-01 00:00:00  (n=60)\n",
      "    Validation: 2014-01-01 00:00:00 -- 2014-12-01 00:00:00  (n=12)\n",
      "Fold: 1\n",
      "    Training:   2009-01-01 00:00:00 -- 2014-12-01 00:00:00  (n=72)\n",
      "    Validation: 2015-01-01 00:00:00 -- 2015-12-01 00:00:00  (n=12)\n",
      "Fold: 2\n",
      "    Training:   2009-01-01 00:00:00 -- 2015-12-01 00:00:00  (n=84)\n",
      "    Validation: 2016-01-01 00:00:00 -- 2016-12-01 00:00:00  (n=12)\n",
      "Fold: 3\n",
      "    Training:   2009-01-01 00:00:00 -- 2016-12-01 00:00:00  (n=96)\n",
      "    Validation: 2017-01-01 00:00:00 -- 2017-12-01 00:00:00  (n=12)\n",
      "Fold: 4\n",
      "    Training:   2009-01-01 00:00:00 -- 2017-12-01 00:00:00  (n=108)\n",
      "    Validation: 2018-01-01 00:00:00 -- 2018-12-01 00:00:00  (n=12)\n",
      "\n",
      "Information of backtesting process\n",
      "----------------------------------\n",
      "Number of observations used for initial training: 60\n",
      "Number of observations used for backtesting: 60\n",
      "    Number of folds: 5\n",
      "    Number of steps per fold: 12\n",
      "    Number of steps to exclude from the end of each train set before test (gap): 0\n",
      "\n",
      "Fold: 0\n",
      "    Training:   2009-01-01 00:00:00 -- 2013-12-01 00:00:00  (n=60)\n",
      "    Validation: 2014-01-01 00:00:00 -- 2014-12-01 00:00:00  (n=12)\n",
      "Fold: 1\n",
      "    Training:   2009-01-01 00:00:00 -- 2014-12-01 00:00:00  (n=72)\n",
      "    Validation: 2015-01-01 00:00:00 -- 2015-12-01 00:00:00  (n=12)\n",
      "Fold: 2\n",
      "    Training:   2009-01-01 00:00:00 -- 2015-12-01 00:00:00  (n=84)\n",
      "    Validation: 2016-01-01 00:00:00 -- 2016-12-01 00:00:00  (n=12)\n",
      "Fold: 3\n",
      "    Training:   2009-01-01 00:00:00 -- 2016-12-01 00:00:00  (n=96)\n",
      "    Validation: 2017-01-01 00:00:00 -- 2017-12-01 00:00:00  (n=12)\n",
      "Fold: 4\n",
      "    Training:   2009-01-01 00:00:00 -- 2017-12-01 00:00:00  (n=108)\n",
      "    Validation: 2018-01-01 00:00:00 -- 2018-12-01 00:00:00  (n=12)\n",
      "\n"
     ]
    },
    {
     "name": "stderr",
     "output_type": "stream",
     "text": [
      "\n",
      "params grid:  40%|████      | 4/10 [00:00<00:01,  4.83it/s]\u001b[A\n",
      "params grid:  50%|█████     | 5/10 [00:01<00:01,  4.85it/s]\u001b[A"
     ]
    },
    {
     "name": "stdout",
     "output_type": "stream",
     "text": [
      "Information of backtesting process\n",
      "----------------------------------\n",
      "Number of observations used for initial training: 60\n",
      "Number of observations used for backtesting: 60\n",
      "    Number of folds: 5\n",
      "    Number of steps per fold: 12\n",
      "    Number of steps to exclude from the end of each train set before test (gap): 0\n",
      "\n",
      "Fold: 0\n",
      "    Training:   2009-01-01 00:00:00 -- 2013-12-01 00:00:00  (n=60)\n",
      "    Validation: 2014-01-01 00:00:00 -- 2014-12-01 00:00:00  (n=12)\n",
      "Fold: 1\n",
      "    Training:   2009-01-01 00:00:00 -- 2014-12-01 00:00:00  (n=72)\n",
      "    Validation: 2015-01-01 00:00:00 -- 2015-12-01 00:00:00  (n=12)\n",
      "Fold: 2\n",
      "    Training:   2009-01-01 00:00:00 -- 2015-12-01 00:00:00  (n=84)\n",
      "    Validation: 2016-01-01 00:00:00 -- 2016-12-01 00:00:00  (n=12)\n",
      "Fold: 3\n",
      "    Training:   2009-01-01 00:00:00 -- 2016-12-01 00:00:00  (n=96)\n",
      "    Validation: 2017-01-01 00:00:00 -- 2017-12-01 00:00:00  (n=12)\n",
      "Fold: 4\n",
      "    Training:   2009-01-01 00:00:00 -- 2017-12-01 00:00:00  (n=108)\n",
      "    Validation: 2018-01-01 00:00:00 -- 2018-12-01 00:00:00  (n=12)\n",
      "\n",
      "Information of backtesting process\n",
      "----------------------------------\n",
      "Number of observations used for initial training: 60\n",
      "Number of observations used for backtesting: 60\n",
      "    Number of folds: 5\n",
      "    Number of steps per fold: 12\n",
      "    Number of steps to exclude from the end of each train set before test (gap): 0\n",
      "\n",
      "Fold: 0\n",
      "    Training:   2009-01-01 00:00:00 -- 2013-12-01 00:00:00  (n=60)\n",
      "    Validation: 2014-01-01 00:00:00 -- 2014-12-01 00:00:00  (n=12)\n",
      "Fold: 1\n",
      "    Training:   2009-01-01 00:00:00 -- 2014-12-01 00:00:00  (n=72)\n",
      "    Validation: 2015-01-01 00:00:00 -- 2015-12-01 00:00:00  (n=12)\n",
      "Fold: 2\n",
      "    Training:   2009-01-01 00:00:00 -- 2015-12-01 00:00:00  (n=84)\n",
      "    Validation: 2016-01-01 00:00:00 -- 2016-12-01 00:00:00  (n=12)\n",
      "Fold: 3\n",
      "    Training:   2009-01-01 00:00:00 -- 2016-12-01 00:00:00  (n=96)\n",
      "    Validation: 2017-01-01 00:00:00 -- 2017-12-01 00:00:00  (n=12)\n",
      "Fold: 4\n",
      "    Training:   2009-01-01 00:00:00 -- 2017-12-01 00:00:00  (n=108)\n",
      "    Validation: 2018-01-01 00:00:00 -- 2018-12-01 00:00:00  (n=12)\n",
      "\n"
     ]
    },
    {
     "name": "stderr",
     "output_type": "stream",
     "text": [
      "\n",
      "params grid:  60%|██████    | 6/10 [00:01<00:00,  4.84it/s]\u001b[A\n",
      "params grid:  70%|███████   | 7/10 [00:01<00:00,  4.87it/s]\u001b[A"
     ]
    },
    {
     "name": "stdout",
     "output_type": "stream",
     "text": [
      "Information of backtesting process\n",
      "----------------------------------\n",
      "Number of observations used for initial training: 60\n",
      "Number of observations used for backtesting: 60\n",
      "    Number of folds: 5\n",
      "    Number of steps per fold: 12\n",
      "    Number of steps to exclude from the end of each train set before test (gap): 0\n",
      "\n",
      "Fold: 0\n",
      "    Training:   2009-01-01 00:00:00 -- 2013-12-01 00:00:00  (n=60)\n",
      "    Validation: 2014-01-01 00:00:00 -- 2014-12-01 00:00:00  (n=12)\n",
      "Fold: 1\n",
      "    Training:   2009-01-01 00:00:00 -- 2014-12-01 00:00:00  (n=72)\n",
      "    Validation: 2015-01-01 00:00:00 -- 2015-12-01 00:00:00  (n=12)\n",
      "Fold: 2\n",
      "    Training:   2009-01-01 00:00:00 -- 2015-12-01 00:00:00  (n=84)\n",
      "    Validation: 2016-01-01 00:00:00 -- 2016-12-01 00:00:00  (n=12)\n",
      "Fold: 3\n",
      "    Training:   2009-01-01 00:00:00 -- 2016-12-01 00:00:00  (n=96)\n",
      "    Validation: 2017-01-01 00:00:00 -- 2017-12-01 00:00:00  (n=12)\n",
      "Fold: 4\n",
      "    Training:   2009-01-01 00:00:00 -- 2017-12-01 00:00:00  (n=108)\n",
      "    Validation: 2018-01-01 00:00:00 -- 2018-12-01 00:00:00  (n=12)\n",
      "\n",
      "Information of backtesting process\n",
      "----------------------------------\n",
      "Number of observations used for initial training: 60\n",
      "Number of observations used for backtesting: 60\n",
      "    Number of folds: 5\n",
      "    Number of steps per fold: 12\n",
      "    Number of steps to exclude from the end of each train set before test (gap): 0\n",
      "\n",
      "Fold: 0\n",
      "    Training:   2009-01-01 00:00:00 -- 2013-12-01 00:00:00  (n=60)\n",
      "    Validation: 2014-01-01 00:00:00 -- 2014-12-01 00:00:00  (n=12)\n",
      "Fold: 1\n",
      "    Training:   2009-01-01 00:00:00 -- 2014-12-01 00:00:00  (n=72)\n",
      "    Validation: 2015-01-01 00:00:00 -- 2015-12-01 00:00:00  (n=12)\n",
      "Fold: 2\n",
      "    Training:   2009-01-01 00:00:00 -- 2015-12-01 00:00:00  (n=84)\n",
      "    Validation: 2016-01-01 00:00:00 -- 2016-12-01 00:00:00  (n=12)\n",
      "Fold: 3\n",
      "    Training:   2009-01-01 00:00:00 -- 2016-12-01 00:00:00  (n=96)\n",
      "    Validation: 2017-01-01 00:00:00 -- 2017-12-01 00:00:00  (n=12)\n",
      "Fold: 4\n",
      "    Training:   2009-01-01 00:00:00 -- 2017-12-01 00:00:00  (n=108)\n",
      "    Validation: 2018-01-01 00:00:00 -- 2018-12-01 00:00:00  (n=12)\n",
      "\n"
     ]
    },
    {
     "name": "stderr",
     "output_type": "stream",
     "text": [
      "\n",
      "params grid:  80%|████████  | 8/10 [00:01<00:00,  4.84it/s]\u001b[A\n",
      "params grid:  90%|█████████ | 9/10 [00:01<00:00,  4.86it/s]\u001b[A"
     ]
    },
    {
     "name": "stdout",
     "output_type": "stream",
     "text": [
      "Information of backtesting process\n",
      "----------------------------------\n",
      "Number of observations used for initial training: 60\n",
      "Number of observations used for backtesting: 60\n",
      "    Number of folds: 5\n",
      "    Number of steps per fold: 12\n",
      "    Number of steps to exclude from the end of each train set before test (gap): 0\n",
      "\n",
      "Fold: 0\n",
      "    Training:   2009-01-01 00:00:00 -- 2013-12-01 00:00:00  (n=60)\n",
      "    Validation: 2014-01-01 00:00:00 -- 2014-12-01 00:00:00  (n=12)\n",
      "Fold: 1\n",
      "    Training:   2009-01-01 00:00:00 -- 2014-12-01 00:00:00  (n=72)\n",
      "    Validation: 2015-01-01 00:00:00 -- 2015-12-01 00:00:00  (n=12)\n",
      "Fold: 2\n",
      "    Training:   2009-01-01 00:00:00 -- 2015-12-01 00:00:00  (n=84)\n",
      "    Validation: 2016-01-01 00:00:00 -- 2016-12-01 00:00:00  (n=12)\n",
      "Fold: 3\n",
      "    Training:   2009-01-01 00:00:00 -- 2016-12-01 00:00:00  (n=96)\n",
      "    Validation: 2017-01-01 00:00:00 -- 2017-12-01 00:00:00  (n=12)\n",
      "Fold: 4\n",
      "    Training:   2009-01-01 00:00:00 -- 2017-12-01 00:00:00  (n=108)\n",
      "    Validation: 2018-01-01 00:00:00 -- 2018-12-01 00:00:00  (n=12)\n",
      "\n",
      "Information of backtesting process\n",
      "----------------------------------\n",
      "Number of observations used for initial training: 60\n",
      "Number of observations used for backtesting: 60\n",
      "    Number of folds: 5\n",
      "    Number of steps per fold: 12\n",
      "    Number of steps to exclude from the end of each train set before test (gap): 0\n",
      "\n",
      "Fold: 0\n",
      "    Training:   2009-01-01 00:00:00 -- 2013-12-01 00:00:00  (n=60)\n",
      "    Validation: 2014-01-01 00:00:00 -- 2014-12-01 00:00:00  (n=12)\n",
      "Fold: 1\n",
      "    Training:   2009-01-01 00:00:00 -- 2014-12-01 00:00:00  (n=72)\n",
      "    Validation: 2015-01-01 00:00:00 -- 2015-12-01 00:00:00  (n=12)\n",
      "Fold: 2\n",
      "    Training:   2009-01-01 00:00:00 -- 2015-12-01 00:00:00  (n=84)\n",
      "    Validation: 2016-01-01 00:00:00 -- 2016-12-01 00:00:00  (n=12)\n",
      "Fold: 3\n",
      "    Training:   2009-01-01 00:00:00 -- 2016-12-01 00:00:00  (n=96)\n",
      "    Validation: 2017-01-01 00:00:00 -- 2017-12-01 00:00:00  (n=12)\n",
      "Fold: 4\n",
      "    Training:   2009-01-01 00:00:00 -- 2017-12-01 00:00:00  (n=108)\n",
      "    Validation: 2018-01-01 00:00:00 -- 2018-12-01 00:00:00  (n=12)\n",
      "\n"
     ]
    },
    {
     "name": "stderr",
     "output_type": "stream",
     "text": [
      "\n",
      "params grid: 100%|██████████| 10/10 [00:02<00:00,  4.85it/s]\u001b[A\n",
      "lags grid:  25%|██▌       | 1/4 [00:02<00:06,  2.07s/it]    \u001b[A\n",
      "params grid:   0%|          | 0/10 [00:00<?, ?it/s]\u001b[A"
     ]
    },
    {
     "name": "stdout",
     "output_type": "stream",
     "text": [
      "Information of backtesting process\n",
      "----------------------------------\n",
      "Number of observations used for initial training: 60\n",
      "Number of observations used for backtesting: 60\n",
      "    Number of folds: 5\n",
      "    Number of steps per fold: 12\n",
      "    Number of steps to exclude from the end of each train set before test (gap): 0\n",
      "\n",
      "Fold: 0\n",
      "    Training:   2009-01-01 00:00:00 -- 2013-12-01 00:00:00  (n=60)\n",
      "    Validation: 2014-01-01 00:00:00 -- 2014-12-01 00:00:00  (n=12)\n",
      "Fold: 1\n",
      "    Training:   2009-01-01 00:00:00 -- 2014-12-01 00:00:00  (n=72)\n",
      "    Validation: 2015-01-01 00:00:00 -- 2015-12-01 00:00:00  (n=12)\n",
      "Fold: 2\n",
      "    Training:   2009-01-01 00:00:00 -- 2015-12-01 00:00:00  (n=84)\n",
      "    Validation: 2016-01-01 00:00:00 -- 2016-12-01 00:00:00  (n=12)\n",
      "Fold: 3\n",
      "    Training:   2009-01-01 00:00:00 -- 2016-12-01 00:00:00  (n=96)\n",
      "    Validation: 2017-01-01 00:00:00 -- 2017-12-01 00:00:00  (n=12)\n",
      "Fold: 4\n",
      "    Training:   2009-01-01 00:00:00 -- 2017-12-01 00:00:00  (n=108)\n",
      "    Validation: 2018-01-01 00:00:00 -- 2018-12-01 00:00:00  (n=12)\n",
      "\n"
     ]
    },
    {
     "name": "stderr",
     "output_type": "stream",
     "text": [
      "\n",
      "params grid:  10%|█         | 1/10 [00:00<00:01,  4.73it/s]\u001b[A"
     ]
    },
    {
     "name": "stdout",
     "output_type": "stream",
     "text": [
      "Information of backtesting process\n",
      "----------------------------------\n",
      "Number of observations used for initial training: 60\n",
      "Number of observations used for backtesting: 60\n",
      "    Number of folds: 5\n",
      "    Number of steps per fold: 12\n",
      "    Number of steps to exclude from the end of each train set before test (gap): 0\n",
      "\n",
      "Fold: 0\n",
      "    Training:   2009-01-01 00:00:00 -- 2013-12-01 00:00:00  (n=60)\n",
      "    Validation: 2014-01-01 00:00:00 -- 2014-12-01 00:00:00  (n=12)\n",
      "Fold: 1\n",
      "    Training:   2009-01-01 00:00:00 -- 2014-12-01 00:00:00  (n=72)\n",
      "    Validation: 2015-01-01 00:00:00 -- 2015-12-01 00:00:00  (n=12)\n",
      "Fold: 2\n",
      "    Training:   2009-01-01 00:00:00 -- 2015-12-01 00:00:00  (n=84)\n",
      "    Validation: 2016-01-01 00:00:00 -- 2016-12-01 00:00:00  (n=12)\n",
      "Fold: 3\n",
      "    Training:   2009-01-01 00:00:00 -- 2016-12-01 00:00:00  (n=96)\n",
      "    Validation: 2017-01-01 00:00:00 -- 2017-12-01 00:00:00  (n=12)\n",
      "Fold: 4\n",
      "    Training:   2009-01-01 00:00:00 -- 2017-12-01 00:00:00  (n=108)\n",
      "    Validation: 2018-01-01 00:00:00 -- 2018-12-01 00:00:00  (n=12)\n",
      "\n"
     ]
    },
    {
     "name": "stderr",
     "output_type": "stream",
     "text": [
      "\n",
      "params grid:  20%|██        | 2/10 [00:00<00:01,  4.70it/s]\u001b[A"
     ]
    },
    {
     "name": "stdout",
     "output_type": "stream",
     "text": [
      "Information of backtesting process\n",
      "----------------------------------\n",
      "Number of observations used for initial training: 60\n",
      "Number of observations used for backtesting: 60\n",
      "    Number of folds: 5\n",
      "    Number of steps per fold: 12\n",
      "    Number of steps to exclude from the end of each train set before test (gap): 0\n",
      "\n",
      "Fold: 0\n",
      "    Training:   2009-01-01 00:00:00 -- 2013-12-01 00:00:00  (n=60)\n",
      "    Validation: 2014-01-01 00:00:00 -- 2014-12-01 00:00:00  (n=12)\n",
      "Fold: 1\n",
      "    Training:   2009-01-01 00:00:00 -- 2014-12-01 00:00:00  (n=72)\n",
      "    Validation: 2015-01-01 00:00:00 -- 2015-12-01 00:00:00  (n=12)\n",
      "Fold: 2\n",
      "    Training:   2009-01-01 00:00:00 -- 2015-12-01 00:00:00  (n=84)\n",
      "    Validation: 2016-01-01 00:00:00 -- 2016-12-01 00:00:00  (n=12)\n",
      "Fold: 3\n",
      "    Training:   2009-01-01 00:00:00 -- 2016-12-01 00:00:00  (n=96)\n",
      "    Validation: 2017-01-01 00:00:00 -- 2017-12-01 00:00:00  (n=12)\n",
      "Fold: 4\n",
      "    Training:   2009-01-01 00:00:00 -- 2017-12-01 00:00:00  (n=108)\n",
      "    Validation: 2018-01-01 00:00:00 -- 2018-12-01 00:00:00  (n=12)\n",
      "\n"
     ]
    },
    {
     "name": "stderr",
     "output_type": "stream",
     "text": [
      "\n",
      "params grid:  30%|███       | 3/10 [00:00<00:01,  4.69it/s]\u001b[A"
     ]
    },
    {
     "name": "stdout",
     "output_type": "stream",
     "text": [
      "Information of backtesting process\n",
      "----------------------------------\n",
      "Number of observations used for initial training: 60\n",
      "Number of observations used for backtesting: 60\n",
      "    Number of folds: 5\n",
      "    Number of steps per fold: 12\n",
      "    Number of steps to exclude from the end of each train set before test (gap): 0\n",
      "\n",
      "Fold: 0\n",
      "    Training:   2009-01-01 00:00:00 -- 2013-12-01 00:00:00  (n=60)\n",
      "    Validation: 2014-01-01 00:00:00 -- 2014-12-01 00:00:00  (n=12)\n",
      "Fold: 1\n",
      "    Training:   2009-01-01 00:00:00 -- 2014-12-01 00:00:00  (n=72)\n",
      "    Validation: 2015-01-01 00:00:00 -- 2015-12-01 00:00:00  (n=12)\n",
      "Fold: 2\n",
      "    Training:   2009-01-01 00:00:00 -- 2015-12-01 00:00:00  (n=84)\n",
      "    Validation: 2016-01-01 00:00:00 -- 2016-12-01 00:00:00  (n=12)\n",
      "Fold: 3\n",
      "    Training:   2009-01-01 00:00:00 -- 2016-12-01 00:00:00  (n=96)\n",
      "    Validation: 2017-01-01 00:00:00 -- 2017-12-01 00:00:00  (n=12)\n",
      "Fold: 4\n",
      "    Training:   2009-01-01 00:00:00 -- 2017-12-01 00:00:00  (n=108)\n",
      "    Validation: 2018-01-01 00:00:00 -- 2018-12-01 00:00:00  (n=12)\n",
      "\n"
     ]
    },
    {
     "name": "stderr",
     "output_type": "stream",
     "text": [
      "\n",
      "params grid:  40%|████      | 4/10 [00:00<00:01,  4.69it/s]\u001b[A"
     ]
    },
    {
     "name": "stdout",
     "output_type": "stream",
     "text": [
      "Information of backtesting process\n",
      "----------------------------------\n",
      "Number of observations used for initial training: 60\n",
      "Number of observations used for backtesting: 60\n",
      "    Number of folds: 5\n",
      "    Number of steps per fold: 12\n",
      "    Number of steps to exclude from the end of each train set before test (gap): 0\n",
      "\n",
      "Fold: 0\n",
      "    Training:   2009-01-01 00:00:00 -- 2013-12-01 00:00:00  (n=60)\n",
      "    Validation: 2014-01-01 00:00:00 -- 2014-12-01 00:00:00  (n=12)\n",
      "Fold: 1\n",
      "    Training:   2009-01-01 00:00:00 -- 2014-12-01 00:00:00  (n=72)\n",
      "    Validation: 2015-01-01 00:00:00 -- 2015-12-01 00:00:00  (n=12)\n",
      "Fold: 2\n",
      "    Training:   2009-01-01 00:00:00 -- 2015-12-01 00:00:00  (n=84)\n",
      "    Validation: 2016-01-01 00:00:00 -- 2016-12-01 00:00:00  (n=12)\n",
      "Fold: 3\n",
      "    Training:   2009-01-01 00:00:00 -- 2016-12-01 00:00:00  (n=96)\n",
      "    Validation: 2017-01-01 00:00:00 -- 2017-12-01 00:00:00  (n=12)\n",
      "Fold: 4\n",
      "    Training:   2009-01-01 00:00:00 -- 2017-12-01 00:00:00  (n=108)\n",
      "    Validation: 2018-01-01 00:00:00 -- 2018-12-01 00:00:00  (n=12)\n",
      "\n"
     ]
    },
    {
     "name": "stderr",
     "output_type": "stream",
     "text": [
      "\n",
      "params grid:  50%|█████     | 5/10 [00:01<00:01,  4.66it/s]\u001b[A"
     ]
    },
    {
     "name": "stdout",
     "output_type": "stream",
     "text": [
      "Information of backtesting process\n",
      "----------------------------------\n",
      "Number of observations used for initial training: 60\n",
      "Number of observations used for backtesting: 60\n",
      "    Number of folds: 5\n",
      "    Number of steps per fold: 12\n",
      "    Number of steps to exclude from the end of each train set before test (gap): 0\n",
      "\n",
      "Fold: 0\n",
      "    Training:   2009-01-01 00:00:00 -- 2013-12-01 00:00:00  (n=60)\n",
      "    Validation: 2014-01-01 00:00:00 -- 2014-12-01 00:00:00  (n=12)\n",
      "Fold: 1\n",
      "    Training:   2009-01-01 00:00:00 -- 2014-12-01 00:00:00  (n=72)\n",
      "    Validation: 2015-01-01 00:00:00 -- 2015-12-01 00:00:00  (n=12)\n",
      "Fold: 2\n",
      "    Training:   2009-01-01 00:00:00 -- 2015-12-01 00:00:00  (n=84)\n",
      "    Validation: 2016-01-01 00:00:00 -- 2016-12-01 00:00:00  (n=12)\n",
      "Fold: 3\n",
      "    Training:   2009-01-01 00:00:00 -- 2016-12-01 00:00:00  (n=96)\n",
      "    Validation: 2017-01-01 00:00:00 -- 2017-12-01 00:00:00  (n=12)\n",
      "Fold: 4\n",
      "    Training:   2009-01-01 00:00:00 -- 2017-12-01 00:00:00  (n=108)\n",
      "    Validation: 2018-01-01 00:00:00 -- 2018-12-01 00:00:00  (n=12)\n",
      "\n"
     ]
    },
    {
     "name": "stderr",
     "output_type": "stream",
     "text": [
      "\n",
      "params grid:  60%|██████    | 6/10 [00:01<00:00,  4.62it/s]\u001b[A"
     ]
    },
    {
     "name": "stdout",
     "output_type": "stream",
     "text": [
      "Information of backtesting process\n",
      "----------------------------------\n",
      "Number of observations used for initial training: 60\n",
      "Number of observations used for backtesting: 60\n",
      "    Number of folds: 5\n",
      "    Number of steps per fold: 12\n",
      "    Number of steps to exclude from the end of each train set before test (gap): 0\n",
      "\n",
      "Fold: 0\n",
      "    Training:   2009-01-01 00:00:00 -- 2013-12-01 00:00:00  (n=60)\n",
      "    Validation: 2014-01-01 00:00:00 -- 2014-12-01 00:00:00  (n=12)\n",
      "Fold: 1\n",
      "    Training:   2009-01-01 00:00:00 -- 2014-12-01 00:00:00  (n=72)\n",
      "    Validation: 2015-01-01 00:00:00 -- 2015-12-01 00:00:00  (n=12)\n",
      "Fold: 2\n",
      "    Training:   2009-01-01 00:00:00 -- 2015-12-01 00:00:00  (n=84)\n",
      "    Validation: 2016-01-01 00:00:00 -- 2016-12-01 00:00:00  (n=12)\n",
      "Fold: 3\n",
      "    Training:   2009-01-01 00:00:00 -- 2016-12-01 00:00:00  (n=96)\n",
      "    Validation: 2017-01-01 00:00:00 -- 2017-12-01 00:00:00  (n=12)\n",
      "Fold: 4\n",
      "    Training:   2009-01-01 00:00:00 -- 2017-12-01 00:00:00  (n=108)\n",
      "    Validation: 2018-01-01 00:00:00 -- 2018-12-01 00:00:00  (n=12)\n",
      "\n"
     ]
    },
    {
     "name": "stderr",
     "output_type": "stream",
     "text": [
      "\n",
      "params grid:  70%|███████   | 7/10 [00:01<00:00,  4.59it/s]\u001b[A"
     ]
    },
    {
     "name": "stdout",
     "output_type": "stream",
     "text": [
      "Information of backtesting process\n",
      "----------------------------------\n",
      "Number of observations used for initial training: 60\n",
      "Number of observations used for backtesting: 60\n",
      "    Number of folds: 5\n",
      "    Number of steps per fold: 12\n",
      "    Number of steps to exclude from the end of each train set before test (gap): 0\n",
      "\n",
      "Fold: 0\n",
      "    Training:   2009-01-01 00:00:00 -- 2013-12-01 00:00:00  (n=60)\n",
      "    Validation: 2014-01-01 00:00:00 -- 2014-12-01 00:00:00  (n=12)\n",
      "Fold: 1\n",
      "    Training:   2009-01-01 00:00:00 -- 2014-12-01 00:00:00  (n=72)\n",
      "    Validation: 2015-01-01 00:00:00 -- 2015-12-01 00:00:00  (n=12)\n",
      "Fold: 2\n",
      "    Training:   2009-01-01 00:00:00 -- 2015-12-01 00:00:00  (n=84)\n",
      "    Validation: 2016-01-01 00:00:00 -- 2016-12-01 00:00:00  (n=12)\n",
      "Fold: 3\n",
      "    Training:   2009-01-01 00:00:00 -- 2016-12-01 00:00:00  (n=96)\n",
      "    Validation: 2017-01-01 00:00:00 -- 2017-12-01 00:00:00  (n=12)\n",
      "Fold: 4\n",
      "    Training:   2009-01-01 00:00:00 -- 2017-12-01 00:00:00  (n=108)\n",
      "    Validation: 2018-01-01 00:00:00 -- 2018-12-01 00:00:00  (n=12)\n",
      "\n"
     ]
    },
    {
     "name": "stderr",
     "output_type": "stream",
     "text": [
      "\n",
      "params grid:  80%|████████  | 8/10 [00:01<00:00,  4.57it/s]\u001b[A"
     ]
    },
    {
     "name": "stdout",
     "output_type": "stream",
     "text": [
      "Information of backtesting process\n",
      "----------------------------------\n",
      "Number of observations used for initial training: 60\n",
      "Number of observations used for backtesting: 60\n",
      "    Number of folds: 5\n",
      "    Number of steps per fold: 12\n",
      "    Number of steps to exclude from the end of each train set before test (gap): 0\n",
      "\n",
      "Fold: 0\n",
      "    Training:   2009-01-01 00:00:00 -- 2013-12-01 00:00:00  (n=60)\n",
      "    Validation: 2014-01-01 00:00:00 -- 2014-12-01 00:00:00  (n=12)\n",
      "Fold: 1\n",
      "    Training:   2009-01-01 00:00:00 -- 2014-12-01 00:00:00  (n=72)\n",
      "    Validation: 2015-01-01 00:00:00 -- 2015-12-01 00:00:00  (n=12)\n",
      "Fold: 2\n",
      "    Training:   2009-01-01 00:00:00 -- 2015-12-01 00:00:00  (n=84)\n",
      "    Validation: 2016-01-01 00:00:00 -- 2016-12-01 00:00:00  (n=12)\n",
      "Fold: 3\n",
      "    Training:   2009-01-01 00:00:00 -- 2016-12-01 00:00:00  (n=96)\n",
      "    Validation: 2017-01-01 00:00:00 -- 2017-12-01 00:00:00  (n=12)\n",
      "Fold: 4\n",
      "    Training:   2009-01-01 00:00:00 -- 2017-12-01 00:00:00  (n=108)\n",
      "    Validation: 2018-01-01 00:00:00 -- 2018-12-01 00:00:00  (n=12)\n",
      "\n"
     ]
    },
    {
     "name": "stderr",
     "output_type": "stream",
     "text": [
      "\n",
      "params grid:  90%|█████████ | 9/10 [00:01<00:00,  4.56it/s]\u001b[A"
     ]
    },
    {
     "name": "stdout",
     "output_type": "stream",
     "text": [
      "Information of backtesting process\n",
      "----------------------------------\n",
      "Number of observations used for initial training: 60\n",
      "Number of observations used for backtesting: 60\n",
      "    Number of folds: 5\n",
      "    Number of steps per fold: 12\n",
      "    Number of steps to exclude from the end of each train set before test (gap): 0\n",
      "\n",
      "Fold: 0\n",
      "    Training:   2009-01-01 00:00:00 -- 2013-12-01 00:00:00  (n=60)\n",
      "    Validation: 2014-01-01 00:00:00 -- 2014-12-01 00:00:00  (n=12)\n",
      "Fold: 1\n",
      "    Training:   2009-01-01 00:00:00 -- 2014-12-01 00:00:00  (n=72)\n",
      "    Validation: 2015-01-01 00:00:00 -- 2015-12-01 00:00:00  (n=12)\n",
      "Fold: 2\n",
      "    Training:   2009-01-01 00:00:00 -- 2015-12-01 00:00:00  (n=84)\n",
      "    Validation: 2016-01-01 00:00:00 -- 2016-12-01 00:00:00  (n=12)\n",
      "Fold: 3\n",
      "    Training:   2009-01-01 00:00:00 -- 2016-12-01 00:00:00  (n=96)\n",
      "    Validation: 2017-01-01 00:00:00 -- 2017-12-01 00:00:00  (n=12)\n",
      "Fold: 4\n",
      "    Training:   2009-01-01 00:00:00 -- 2017-12-01 00:00:00  (n=108)\n",
      "    Validation: 2018-01-01 00:00:00 -- 2018-12-01 00:00:00  (n=12)\n",
      "\n"
     ]
    },
    {
     "name": "stderr",
     "output_type": "stream",
     "text": [
      "\n",
      "params grid: 100%|██████████| 10/10 [00:02<00:00,  4.54it/s]\u001b[A\n",
      "lags grid:  50%|█████     | 2/4 [00:04<00:04,  2.13s/it]    \u001b[A\n",
      "params grid:   0%|          | 0/10 [00:00<?, ?it/s]\u001b[A"
     ]
    },
    {
     "name": "stdout",
     "output_type": "stream",
     "text": [
      "Information of backtesting process\n",
      "----------------------------------\n",
      "Number of observations used for initial training: 60\n",
      "Number of observations used for backtesting: 60\n",
      "    Number of folds: 5\n",
      "    Number of steps per fold: 12\n",
      "    Number of steps to exclude from the end of each train set before test (gap): 0\n",
      "\n",
      "Fold: 0\n",
      "    Training:   2009-01-01 00:00:00 -- 2013-12-01 00:00:00  (n=60)\n",
      "    Validation: 2014-01-01 00:00:00 -- 2014-12-01 00:00:00  (n=12)\n",
      "Fold: 1\n",
      "    Training:   2009-01-01 00:00:00 -- 2014-12-01 00:00:00  (n=72)\n",
      "    Validation: 2015-01-01 00:00:00 -- 2015-12-01 00:00:00  (n=12)\n",
      "Fold: 2\n",
      "    Training:   2009-01-01 00:00:00 -- 2015-12-01 00:00:00  (n=84)\n",
      "    Validation: 2016-01-01 00:00:00 -- 2016-12-01 00:00:00  (n=12)\n",
      "Fold: 3\n",
      "    Training:   2009-01-01 00:00:00 -- 2016-12-01 00:00:00  (n=96)\n",
      "    Validation: 2017-01-01 00:00:00 -- 2017-12-01 00:00:00  (n=12)\n",
      "Fold: 4\n",
      "    Training:   2009-01-01 00:00:00 -- 2017-12-01 00:00:00  (n=108)\n",
      "    Validation: 2018-01-01 00:00:00 -- 2018-12-01 00:00:00  (n=12)\n",
      "\n"
     ]
    },
    {
     "name": "stderr",
     "output_type": "stream",
     "text": [
      "\n",
      "params grid:  10%|█         | 1/10 [00:00<00:02,  4.48it/s]\u001b[A"
     ]
    },
    {
     "name": "stdout",
     "output_type": "stream",
     "text": [
      "Information of backtesting process\n",
      "----------------------------------\n",
      "Number of observations used for initial training: 60\n",
      "Number of observations used for backtesting: 60\n",
      "    Number of folds: 5\n",
      "    Number of steps per fold: 12\n",
      "    Number of steps to exclude from the end of each train set before test (gap): 0\n",
      "\n",
      "Fold: 0\n",
      "    Training:   2009-01-01 00:00:00 -- 2013-12-01 00:00:00  (n=60)\n",
      "    Validation: 2014-01-01 00:00:00 -- 2014-12-01 00:00:00  (n=12)\n",
      "Fold: 1\n",
      "    Training:   2009-01-01 00:00:00 -- 2014-12-01 00:00:00  (n=72)\n",
      "    Validation: 2015-01-01 00:00:00 -- 2015-12-01 00:00:00  (n=12)\n",
      "Fold: 2\n",
      "    Training:   2009-01-01 00:00:00 -- 2015-12-01 00:00:00  (n=84)\n",
      "    Validation: 2016-01-01 00:00:00 -- 2016-12-01 00:00:00  (n=12)\n",
      "Fold: 3\n",
      "    Training:   2009-01-01 00:00:00 -- 2016-12-01 00:00:00  (n=96)\n",
      "    Validation: 2017-01-01 00:00:00 -- 2017-12-01 00:00:00  (n=12)\n",
      "Fold: 4\n",
      "    Training:   2009-01-01 00:00:00 -- 2017-12-01 00:00:00  (n=108)\n",
      "    Validation: 2018-01-01 00:00:00 -- 2018-12-01 00:00:00  (n=12)\n",
      "\n"
     ]
    },
    {
     "name": "stderr",
     "output_type": "stream",
     "text": [
      "\n",
      "params grid:  20%|██        | 2/10 [00:00<00:01,  4.49it/s]\u001b[A"
     ]
    },
    {
     "name": "stdout",
     "output_type": "stream",
     "text": [
      "Information of backtesting process\n",
      "----------------------------------\n",
      "Number of observations used for initial training: 60\n",
      "Number of observations used for backtesting: 60\n",
      "    Number of folds: 5\n",
      "    Number of steps per fold: 12\n",
      "    Number of steps to exclude from the end of each train set before test (gap): 0\n",
      "\n",
      "Fold: 0\n",
      "    Training:   2009-01-01 00:00:00 -- 2013-12-01 00:00:00  (n=60)\n",
      "    Validation: 2014-01-01 00:00:00 -- 2014-12-01 00:00:00  (n=12)\n",
      "Fold: 1\n",
      "    Training:   2009-01-01 00:00:00 -- 2014-12-01 00:00:00  (n=72)\n",
      "    Validation: 2015-01-01 00:00:00 -- 2015-12-01 00:00:00  (n=12)\n",
      "Fold: 2\n",
      "    Training:   2009-01-01 00:00:00 -- 2015-12-01 00:00:00  (n=84)\n",
      "    Validation: 2016-01-01 00:00:00 -- 2016-12-01 00:00:00  (n=12)\n",
      "Fold: 3\n",
      "    Training:   2009-01-01 00:00:00 -- 2016-12-01 00:00:00  (n=96)\n",
      "    Validation: 2017-01-01 00:00:00 -- 2017-12-01 00:00:00  (n=12)\n",
      "Fold: 4\n",
      "    Training:   2009-01-01 00:00:00 -- 2017-12-01 00:00:00  (n=108)\n",
      "    Validation: 2018-01-01 00:00:00 -- 2018-12-01 00:00:00  (n=12)\n",
      "\n"
     ]
    },
    {
     "name": "stderr",
     "output_type": "stream",
     "text": [
      "\n",
      "params grid:  30%|███       | 3/10 [00:00<00:01,  4.51it/s]\u001b[A"
     ]
    },
    {
     "name": "stdout",
     "output_type": "stream",
     "text": [
      "Information of backtesting process\n",
      "----------------------------------\n",
      "Number of observations used for initial training: 60\n",
      "Number of observations used for backtesting: 60\n",
      "    Number of folds: 5\n",
      "    Number of steps per fold: 12\n",
      "    Number of steps to exclude from the end of each train set before test (gap): 0\n",
      "\n",
      "Fold: 0\n",
      "    Training:   2009-01-01 00:00:00 -- 2013-12-01 00:00:00  (n=60)\n",
      "    Validation: 2014-01-01 00:00:00 -- 2014-12-01 00:00:00  (n=12)\n",
      "Fold: 1\n",
      "    Training:   2009-01-01 00:00:00 -- 2014-12-01 00:00:00  (n=72)\n",
      "    Validation: 2015-01-01 00:00:00 -- 2015-12-01 00:00:00  (n=12)\n",
      "Fold: 2\n",
      "    Training:   2009-01-01 00:00:00 -- 2015-12-01 00:00:00  (n=84)\n",
      "    Validation: 2016-01-01 00:00:00 -- 2016-12-01 00:00:00  (n=12)\n",
      "Fold: 3\n",
      "    Training:   2009-01-01 00:00:00 -- 2016-12-01 00:00:00  (n=96)\n",
      "    Validation: 2017-01-01 00:00:00 -- 2017-12-01 00:00:00  (n=12)\n",
      "Fold: 4\n",
      "    Training:   2009-01-01 00:00:00 -- 2017-12-01 00:00:00  (n=108)\n",
      "    Validation: 2018-01-01 00:00:00 -- 2018-12-01 00:00:00  (n=12)\n",
      "\n"
     ]
    },
    {
     "name": "stderr",
     "output_type": "stream",
     "text": [
      "\n",
      "params grid:  40%|████      | 4/10 [00:00<00:01,  4.56it/s]\u001b[A"
     ]
    },
    {
     "name": "stdout",
     "output_type": "stream",
     "text": [
      "Information of backtesting process\n",
      "----------------------------------\n",
      "Number of observations used for initial training: 60\n",
      "Number of observations used for backtesting: 60\n",
      "    Number of folds: 5\n",
      "    Number of steps per fold: 12\n",
      "    Number of steps to exclude from the end of each train set before test (gap): 0\n",
      "\n",
      "Fold: 0\n",
      "    Training:   2009-01-01 00:00:00 -- 2013-12-01 00:00:00  (n=60)\n",
      "    Validation: 2014-01-01 00:00:00 -- 2014-12-01 00:00:00  (n=12)\n",
      "Fold: 1\n",
      "    Training:   2009-01-01 00:00:00 -- 2014-12-01 00:00:00  (n=72)\n",
      "    Validation: 2015-01-01 00:00:00 -- 2015-12-01 00:00:00  (n=12)\n",
      "Fold: 2\n",
      "    Training:   2009-01-01 00:00:00 -- 2015-12-01 00:00:00  (n=84)\n",
      "    Validation: 2016-01-01 00:00:00 -- 2016-12-01 00:00:00  (n=12)\n",
      "Fold: 3\n",
      "    Training:   2009-01-01 00:00:00 -- 2016-12-01 00:00:00  (n=96)\n",
      "    Validation: 2017-01-01 00:00:00 -- 2017-12-01 00:00:00  (n=12)\n",
      "Fold: 4\n",
      "    Training:   2009-01-01 00:00:00 -- 2017-12-01 00:00:00  (n=108)\n",
      "    Validation: 2018-01-01 00:00:00 -- 2018-12-01 00:00:00  (n=12)\n",
      "\n"
     ]
    },
    {
     "name": "stderr",
     "output_type": "stream",
     "text": [
      "\n",
      "params grid:  50%|█████     | 5/10 [00:01<00:01,  4.55it/s]\u001b[A"
     ]
    },
    {
     "name": "stdout",
     "output_type": "stream",
     "text": [
      "Information of backtesting process\n",
      "----------------------------------\n",
      "Number of observations used for initial training: 60\n",
      "Number of observations used for backtesting: 60\n",
      "    Number of folds: 5\n",
      "    Number of steps per fold: 12\n",
      "    Number of steps to exclude from the end of each train set before test (gap): 0\n",
      "\n",
      "Fold: 0\n",
      "    Training:   2009-01-01 00:00:00 -- 2013-12-01 00:00:00  (n=60)\n",
      "    Validation: 2014-01-01 00:00:00 -- 2014-12-01 00:00:00  (n=12)\n",
      "Fold: 1\n",
      "    Training:   2009-01-01 00:00:00 -- 2014-12-01 00:00:00  (n=72)\n",
      "    Validation: 2015-01-01 00:00:00 -- 2015-12-01 00:00:00  (n=12)\n",
      "Fold: 2\n",
      "    Training:   2009-01-01 00:00:00 -- 2015-12-01 00:00:00  (n=84)\n",
      "    Validation: 2016-01-01 00:00:00 -- 2016-12-01 00:00:00  (n=12)\n",
      "Fold: 3\n",
      "    Training:   2009-01-01 00:00:00 -- 2016-12-01 00:00:00  (n=96)\n",
      "    Validation: 2017-01-01 00:00:00 -- 2017-12-01 00:00:00  (n=12)\n",
      "Fold: 4\n",
      "    Training:   2009-01-01 00:00:00 -- 2017-12-01 00:00:00  (n=108)\n",
      "    Validation: 2018-01-01 00:00:00 -- 2018-12-01 00:00:00  (n=12)\n",
      "\n"
     ]
    },
    {
     "name": "stderr",
     "output_type": "stream",
     "text": [
      "\n",
      "params grid:  60%|██████    | 6/10 [00:01<00:00,  4.42it/s]\u001b[A"
     ]
    },
    {
     "name": "stdout",
     "output_type": "stream",
     "text": [
      "Information of backtesting process\n",
      "----------------------------------\n",
      "Number of observations used for initial training: 60\n",
      "Number of observations used for backtesting: 60\n",
      "    Number of folds: 5\n",
      "    Number of steps per fold: 12\n",
      "    Number of steps to exclude from the end of each train set before test (gap): 0\n",
      "\n",
      "Fold: 0\n",
      "    Training:   2009-01-01 00:00:00 -- 2013-12-01 00:00:00  (n=60)\n",
      "    Validation: 2014-01-01 00:00:00 -- 2014-12-01 00:00:00  (n=12)\n",
      "Fold: 1\n",
      "    Training:   2009-01-01 00:00:00 -- 2014-12-01 00:00:00  (n=72)\n",
      "    Validation: 2015-01-01 00:00:00 -- 2015-12-01 00:00:00  (n=12)\n",
      "Fold: 2\n",
      "    Training:   2009-01-01 00:00:00 -- 2015-12-01 00:00:00  (n=84)\n",
      "    Validation: 2016-01-01 00:00:00 -- 2016-12-01 00:00:00  (n=12)\n",
      "Fold: 3\n",
      "    Training:   2009-01-01 00:00:00 -- 2016-12-01 00:00:00  (n=96)\n",
      "    Validation: 2017-01-01 00:00:00 -- 2017-12-01 00:00:00  (n=12)\n",
      "Fold: 4\n",
      "    Training:   2009-01-01 00:00:00 -- 2017-12-01 00:00:00  (n=108)\n",
      "    Validation: 2018-01-01 00:00:00 -- 2018-12-01 00:00:00  (n=12)\n",
      "\n"
     ]
    },
    {
     "name": "stderr",
     "output_type": "stream",
     "text": [
      "\n",
      "params grid:  70%|███████   | 7/10 [00:01<00:00,  4.40it/s]\u001b[A"
     ]
    },
    {
     "name": "stdout",
     "output_type": "stream",
     "text": [
      "Information of backtesting process\n",
      "----------------------------------\n",
      "Number of observations used for initial training: 60\n",
      "Number of observations used for backtesting: 60\n",
      "    Number of folds: 5\n",
      "    Number of steps per fold: 12\n",
      "    Number of steps to exclude from the end of each train set before test (gap): 0\n",
      "\n",
      "Fold: 0\n",
      "    Training:   2009-01-01 00:00:00 -- 2013-12-01 00:00:00  (n=60)\n",
      "    Validation: 2014-01-01 00:00:00 -- 2014-12-01 00:00:00  (n=12)\n",
      "Fold: 1\n",
      "    Training:   2009-01-01 00:00:00 -- 2014-12-01 00:00:00  (n=72)\n",
      "    Validation: 2015-01-01 00:00:00 -- 2015-12-01 00:00:00  (n=12)\n",
      "Fold: 2\n",
      "    Training:   2009-01-01 00:00:00 -- 2015-12-01 00:00:00  (n=84)\n",
      "    Validation: 2016-01-01 00:00:00 -- 2016-12-01 00:00:00  (n=12)\n",
      "Fold: 3\n",
      "    Training:   2009-01-01 00:00:00 -- 2016-12-01 00:00:00  (n=96)\n",
      "    Validation: 2017-01-01 00:00:00 -- 2017-12-01 00:00:00  (n=12)\n",
      "Fold: 4\n",
      "    Training:   2009-01-01 00:00:00 -- 2017-12-01 00:00:00  (n=108)\n",
      "    Validation: 2018-01-01 00:00:00 -- 2018-12-01 00:00:00  (n=12)\n",
      "\n"
     ]
    },
    {
     "name": "stderr",
     "output_type": "stream",
     "text": [
      "\n",
      "params grid:  80%|████████  | 8/10 [00:01<00:00,  4.45it/s]\u001b[A"
     ]
    },
    {
     "name": "stdout",
     "output_type": "stream",
     "text": [
      "Information of backtesting process\n",
      "----------------------------------\n",
      "Number of observations used for initial training: 60\n",
      "Number of observations used for backtesting: 60\n",
      "    Number of folds: 5\n",
      "    Number of steps per fold: 12\n",
      "    Number of steps to exclude from the end of each train set before test (gap): 0\n",
      "\n",
      "Fold: 0\n",
      "    Training:   2009-01-01 00:00:00 -- 2013-12-01 00:00:00  (n=60)\n",
      "    Validation: 2014-01-01 00:00:00 -- 2014-12-01 00:00:00  (n=12)\n",
      "Fold: 1\n",
      "    Training:   2009-01-01 00:00:00 -- 2014-12-01 00:00:00  (n=72)\n",
      "    Validation: 2015-01-01 00:00:00 -- 2015-12-01 00:00:00  (n=12)\n",
      "Fold: 2\n",
      "    Training:   2009-01-01 00:00:00 -- 2015-12-01 00:00:00  (n=84)\n",
      "    Validation: 2016-01-01 00:00:00 -- 2016-12-01 00:00:00  (n=12)\n",
      "Fold: 3\n",
      "    Training:   2009-01-01 00:00:00 -- 2016-12-01 00:00:00  (n=96)\n",
      "    Validation: 2017-01-01 00:00:00 -- 2017-12-01 00:00:00  (n=12)\n",
      "Fold: 4\n",
      "    Training:   2009-01-01 00:00:00 -- 2017-12-01 00:00:00  (n=108)\n",
      "    Validation: 2018-01-01 00:00:00 -- 2018-12-01 00:00:00  (n=12)\n",
      "\n"
     ]
    },
    {
     "name": "stderr",
     "output_type": "stream",
     "text": [
      "\n",
      "params grid:  90%|█████████ | 9/10 [00:02<00:00,  4.45it/s]\u001b[A"
     ]
    },
    {
     "name": "stdout",
     "output_type": "stream",
     "text": [
      "Information of backtesting process\n",
      "----------------------------------\n",
      "Number of observations used for initial training: 60\n",
      "Number of observations used for backtesting: 60\n",
      "    Number of folds: 5\n",
      "    Number of steps per fold: 12\n",
      "    Number of steps to exclude from the end of each train set before test (gap): 0\n",
      "\n",
      "Fold: 0\n",
      "    Training:   2009-01-01 00:00:00 -- 2013-12-01 00:00:00  (n=60)\n",
      "    Validation: 2014-01-01 00:00:00 -- 2014-12-01 00:00:00  (n=12)\n",
      "Fold: 1\n",
      "    Training:   2009-01-01 00:00:00 -- 2014-12-01 00:00:00  (n=72)\n",
      "    Validation: 2015-01-01 00:00:00 -- 2015-12-01 00:00:00  (n=12)\n",
      "Fold: 2\n",
      "    Training:   2009-01-01 00:00:00 -- 2015-12-01 00:00:00  (n=84)\n",
      "    Validation: 2016-01-01 00:00:00 -- 2016-12-01 00:00:00  (n=12)\n",
      "Fold: 3\n",
      "    Training:   2009-01-01 00:00:00 -- 2016-12-01 00:00:00  (n=96)\n",
      "    Validation: 2017-01-01 00:00:00 -- 2017-12-01 00:00:00  (n=12)\n",
      "Fold: 4\n",
      "    Training:   2009-01-01 00:00:00 -- 2017-12-01 00:00:00  (n=108)\n",
      "    Validation: 2018-01-01 00:00:00 -- 2018-12-01 00:00:00  (n=12)\n",
      "\n"
     ]
    },
    {
     "name": "stderr",
     "output_type": "stream",
     "text": [
      "\n",
      "params grid: 100%|██████████| 10/10 [00:02<00:00,  4.45it/s]\u001b[A\n",
      "lags grid:  75%|███████▌  | 3/4 [00:06<00:02,  2.18s/it]    \u001b[A\n",
      "params grid:   0%|          | 0/10 [00:00<?, ?it/s]\u001b[A"
     ]
    },
    {
     "name": "stdout",
     "output_type": "stream",
     "text": [
      "Information of backtesting process\n",
      "----------------------------------\n",
      "Number of observations used for initial training: 60\n",
      "Number of observations used for backtesting: 60\n",
      "    Number of folds: 5\n",
      "    Number of steps per fold: 12\n",
      "    Number of steps to exclude from the end of each train set before test (gap): 0\n",
      "\n",
      "Fold: 0\n",
      "    Training:   2009-01-01 00:00:00 -- 2013-12-01 00:00:00  (n=60)\n",
      "    Validation: 2014-01-01 00:00:00 -- 2014-12-01 00:00:00  (n=12)\n",
      "Fold: 1\n",
      "    Training:   2009-01-01 00:00:00 -- 2014-12-01 00:00:00  (n=72)\n",
      "    Validation: 2015-01-01 00:00:00 -- 2015-12-01 00:00:00  (n=12)\n",
      "Fold: 2\n",
      "    Training:   2009-01-01 00:00:00 -- 2015-12-01 00:00:00  (n=84)\n",
      "    Validation: 2016-01-01 00:00:00 -- 2016-12-01 00:00:00  (n=12)\n",
      "Fold: 3\n",
      "    Training:   2009-01-01 00:00:00 -- 2016-12-01 00:00:00  (n=96)\n",
      "    Validation: 2017-01-01 00:00:00 -- 2017-12-01 00:00:00  (n=12)\n",
      "Fold: 4\n",
      "    Training:   2009-01-01 00:00:00 -- 2017-12-01 00:00:00  (n=108)\n",
      "    Validation: 2018-01-01 00:00:00 -- 2018-12-01 00:00:00  (n=12)\n",
      "\n"
     ]
    },
    {
     "name": "stderr",
     "output_type": "stream",
     "text": [
      "\n",
      "params grid:  10%|█         | 1/10 [00:00<00:02,  4.48it/s]\u001b[A"
     ]
    },
    {
     "name": "stdout",
     "output_type": "stream",
     "text": [
      "Information of backtesting process\n",
      "----------------------------------\n",
      "Number of observations used for initial training: 60\n",
      "Number of observations used for backtesting: 60\n",
      "    Number of folds: 5\n",
      "    Number of steps per fold: 12\n",
      "    Number of steps to exclude from the end of each train set before test (gap): 0\n",
      "\n",
      "Fold: 0\n",
      "    Training:   2009-01-01 00:00:00 -- 2013-12-01 00:00:00  (n=60)\n",
      "    Validation: 2014-01-01 00:00:00 -- 2014-12-01 00:00:00  (n=12)\n",
      "Fold: 1\n",
      "    Training:   2009-01-01 00:00:00 -- 2014-12-01 00:00:00  (n=72)\n",
      "    Validation: 2015-01-01 00:00:00 -- 2015-12-01 00:00:00  (n=12)\n",
      "Fold: 2\n",
      "    Training:   2009-01-01 00:00:00 -- 2015-12-01 00:00:00  (n=84)\n",
      "    Validation: 2016-01-01 00:00:00 -- 2016-12-01 00:00:00  (n=12)\n",
      "Fold: 3\n",
      "    Training:   2009-01-01 00:00:00 -- 2016-12-01 00:00:00  (n=96)\n",
      "    Validation: 2017-01-01 00:00:00 -- 2017-12-01 00:00:00  (n=12)\n",
      "Fold: 4\n",
      "    Training:   2009-01-01 00:00:00 -- 2017-12-01 00:00:00  (n=108)\n",
      "    Validation: 2018-01-01 00:00:00 -- 2018-12-01 00:00:00  (n=12)\n",
      "\n"
     ]
    },
    {
     "name": "stderr",
     "output_type": "stream",
     "text": [
      "\n",
      "params grid:  20%|██        | 2/10 [00:00<00:01,  4.41it/s]\u001b[A"
     ]
    },
    {
     "name": "stdout",
     "output_type": "stream",
     "text": [
      "Information of backtesting process\n",
      "----------------------------------\n",
      "Number of observations used for initial training: 60\n",
      "Number of observations used for backtesting: 60\n",
      "    Number of folds: 5\n",
      "    Number of steps per fold: 12\n",
      "    Number of steps to exclude from the end of each train set before test (gap): 0\n",
      "\n",
      "Fold: 0\n",
      "    Training:   2009-01-01 00:00:00 -- 2013-12-01 00:00:00  (n=60)\n",
      "    Validation: 2014-01-01 00:00:00 -- 2014-12-01 00:00:00  (n=12)\n",
      "Fold: 1\n",
      "    Training:   2009-01-01 00:00:00 -- 2014-12-01 00:00:00  (n=72)\n",
      "    Validation: 2015-01-01 00:00:00 -- 2015-12-01 00:00:00  (n=12)\n",
      "Fold: 2\n",
      "    Training:   2009-01-01 00:00:00 -- 2015-12-01 00:00:00  (n=84)\n",
      "    Validation: 2016-01-01 00:00:00 -- 2016-12-01 00:00:00  (n=12)\n",
      "Fold: 3\n",
      "    Training:   2009-01-01 00:00:00 -- 2016-12-01 00:00:00  (n=96)\n",
      "    Validation: 2017-01-01 00:00:00 -- 2017-12-01 00:00:00  (n=12)\n",
      "Fold: 4\n",
      "    Training:   2009-01-01 00:00:00 -- 2017-12-01 00:00:00  (n=108)\n",
      "    Validation: 2018-01-01 00:00:00 -- 2018-12-01 00:00:00  (n=12)\n",
      "\n"
     ]
    },
    {
     "name": "stderr",
     "output_type": "stream",
     "text": [
      "\n",
      "params grid:  30%|███       | 3/10 [00:00<00:01,  4.41it/s]\u001b[A"
     ]
    },
    {
     "name": "stdout",
     "output_type": "stream",
     "text": [
      "Information of backtesting process\n",
      "----------------------------------\n",
      "Number of observations used for initial training: 60\n",
      "Number of observations used for backtesting: 60\n",
      "    Number of folds: 5\n",
      "    Number of steps per fold: 12\n",
      "    Number of steps to exclude from the end of each train set before test (gap): 0\n",
      "\n",
      "Fold: 0\n",
      "    Training:   2009-01-01 00:00:00 -- 2013-12-01 00:00:00  (n=60)\n",
      "    Validation: 2014-01-01 00:00:00 -- 2014-12-01 00:00:00  (n=12)\n",
      "Fold: 1\n",
      "    Training:   2009-01-01 00:00:00 -- 2014-12-01 00:00:00  (n=72)\n",
      "    Validation: 2015-01-01 00:00:00 -- 2015-12-01 00:00:00  (n=12)\n",
      "Fold: 2\n",
      "    Training:   2009-01-01 00:00:00 -- 2015-12-01 00:00:00  (n=84)\n",
      "    Validation: 2016-01-01 00:00:00 -- 2016-12-01 00:00:00  (n=12)\n",
      "Fold: 3\n",
      "    Training:   2009-01-01 00:00:00 -- 2016-12-01 00:00:00  (n=96)\n",
      "    Validation: 2017-01-01 00:00:00 -- 2017-12-01 00:00:00  (n=12)\n",
      "Fold: 4\n",
      "    Training:   2009-01-01 00:00:00 -- 2017-12-01 00:00:00  (n=108)\n",
      "    Validation: 2018-01-01 00:00:00 -- 2018-12-01 00:00:00  (n=12)\n",
      "\n"
     ]
    },
    {
     "name": "stderr",
     "output_type": "stream",
     "text": [
      "\n",
      "params grid:  40%|████      | 4/10 [00:00<00:01,  4.42it/s]\u001b[A"
     ]
    },
    {
     "name": "stdout",
     "output_type": "stream",
     "text": [
      "Information of backtesting process\n",
      "----------------------------------\n",
      "Number of observations used for initial training: 60\n",
      "Number of observations used for backtesting: 60\n",
      "    Number of folds: 5\n",
      "    Number of steps per fold: 12\n",
      "    Number of steps to exclude from the end of each train set before test (gap): 0\n",
      "\n",
      "Fold: 0\n",
      "    Training:   2009-01-01 00:00:00 -- 2013-12-01 00:00:00  (n=60)\n",
      "    Validation: 2014-01-01 00:00:00 -- 2014-12-01 00:00:00  (n=12)\n",
      "Fold: 1\n",
      "    Training:   2009-01-01 00:00:00 -- 2014-12-01 00:00:00  (n=72)\n",
      "    Validation: 2015-01-01 00:00:00 -- 2015-12-01 00:00:00  (n=12)\n",
      "Fold: 2\n",
      "    Training:   2009-01-01 00:00:00 -- 2015-12-01 00:00:00  (n=84)\n",
      "    Validation: 2016-01-01 00:00:00 -- 2016-12-01 00:00:00  (n=12)\n",
      "Fold: 3\n",
      "    Training:   2009-01-01 00:00:00 -- 2016-12-01 00:00:00  (n=96)\n",
      "    Validation: 2017-01-01 00:00:00 -- 2017-12-01 00:00:00  (n=12)\n",
      "Fold: 4\n",
      "    Training:   2009-01-01 00:00:00 -- 2017-12-01 00:00:00  (n=108)\n",
      "    Validation: 2018-01-01 00:00:00 -- 2018-12-01 00:00:00  (n=12)\n",
      "\n"
     ]
    },
    {
     "name": "stderr",
     "output_type": "stream",
     "text": [
      "\n",
      "params grid:  50%|█████     | 5/10 [00:01<00:01,  4.24it/s]\u001b[A"
     ]
    },
    {
     "name": "stdout",
     "output_type": "stream",
     "text": [
      "Information of backtesting process\n",
      "----------------------------------\n",
      "Number of observations used for initial training: 60\n",
      "Number of observations used for backtesting: 60\n",
      "    Number of folds: 5\n",
      "    Number of steps per fold: 12\n",
      "    Number of steps to exclude from the end of each train set before test (gap): 0\n",
      "\n",
      "Fold: 0\n",
      "    Training:   2009-01-01 00:00:00 -- 2013-12-01 00:00:00  (n=60)\n",
      "    Validation: 2014-01-01 00:00:00 -- 2014-12-01 00:00:00  (n=12)\n",
      "Fold: 1\n",
      "    Training:   2009-01-01 00:00:00 -- 2014-12-01 00:00:00  (n=72)\n",
      "    Validation: 2015-01-01 00:00:00 -- 2015-12-01 00:00:00  (n=12)\n",
      "Fold: 2\n",
      "    Training:   2009-01-01 00:00:00 -- 2015-12-01 00:00:00  (n=84)\n",
      "    Validation: 2016-01-01 00:00:00 -- 2016-12-01 00:00:00  (n=12)\n",
      "Fold: 3\n",
      "    Training:   2009-01-01 00:00:00 -- 2016-12-01 00:00:00  (n=96)\n",
      "    Validation: 2017-01-01 00:00:00 -- 2017-12-01 00:00:00  (n=12)\n",
      "Fold: 4\n",
      "    Training:   2009-01-01 00:00:00 -- 2017-12-01 00:00:00  (n=108)\n",
      "    Validation: 2018-01-01 00:00:00 -- 2018-12-01 00:00:00  (n=12)\n",
      "\n"
     ]
    },
    {
     "name": "stderr",
     "output_type": "stream",
     "text": [
      "\n",
      "params grid:  60%|██████    | 6/10 [00:01<00:00,  4.14it/s]\u001b[A"
     ]
    },
    {
     "name": "stdout",
     "output_type": "stream",
     "text": [
      "Information of backtesting process\n",
      "----------------------------------\n",
      "Number of observations used for initial training: 60\n",
      "Number of observations used for backtesting: 60\n",
      "    Number of folds: 5\n",
      "    Number of steps per fold: 12\n",
      "    Number of steps to exclude from the end of each train set before test (gap): 0\n",
      "\n",
      "Fold: 0\n",
      "    Training:   2009-01-01 00:00:00 -- 2013-12-01 00:00:00  (n=60)\n",
      "    Validation: 2014-01-01 00:00:00 -- 2014-12-01 00:00:00  (n=12)\n",
      "Fold: 1\n",
      "    Training:   2009-01-01 00:00:00 -- 2014-12-01 00:00:00  (n=72)\n",
      "    Validation: 2015-01-01 00:00:00 -- 2015-12-01 00:00:00  (n=12)\n",
      "Fold: 2\n",
      "    Training:   2009-01-01 00:00:00 -- 2015-12-01 00:00:00  (n=84)\n",
      "    Validation: 2016-01-01 00:00:00 -- 2016-12-01 00:00:00  (n=12)\n",
      "Fold: 3\n",
      "    Training:   2009-01-01 00:00:00 -- 2016-12-01 00:00:00  (n=96)\n",
      "    Validation: 2017-01-01 00:00:00 -- 2017-12-01 00:00:00  (n=12)\n",
      "Fold: 4\n",
      "    Training:   2009-01-01 00:00:00 -- 2017-12-01 00:00:00  (n=108)\n",
      "    Validation: 2018-01-01 00:00:00 -- 2018-12-01 00:00:00  (n=12)\n",
      "\n"
     ]
    },
    {
     "name": "stderr",
     "output_type": "stream",
     "text": [
      "\n",
      "params grid:  70%|███████   | 7/10 [00:01<00:00,  4.22it/s]\u001b[A"
     ]
    },
    {
     "name": "stdout",
     "output_type": "stream",
     "text": [
      "Information of backtesting process\n",
      "----------------------------------\n",
      "Number of observations used for initial training: 60\n",
      "Number of observations used for backtesting: 60\n",
      "    Number of folds: 5\n",
      "    Number of steps per fold: 12\n",
      "    Number of steps to exclude from the end of each train set before test (gap): 0\n",
      "\n",
      "Fold: 0\n",
      "    Training:   2009-01-01 00:00:00 -- 2013-12-01 00:00:00  (n=60)\n",
      "    Validation: 2014-01-01 00:00:00 -- 2014-12-01 00:00:00  (n=12)\n",
      "Fold: 1\n",
      "    Training:   2009-01-01 00:00:00 -- 2014-12-01 00:00:00  (n=72)\n",
      "    Validation: 2015-01-01 00:00:00 -- 2015-12-01 00:00:00  (n=12)\n",
      "Fold: 2\n",
      "    Training:   2009-01-01 00:00:00 -- 2015-12-01 00:00:00  (n=84)\n",
      "    Validation: 2016-01-01 00:00:00 -- 2016-12-01 00:00:00  (n=12)\n",
      "Fold: 3\n",
      "    Training:   2009-01-01 00:00:00 -- 2016-12-01 00:00:00  (n=96)\n",
      "    Validation: 2017-01-01 00:00:00 -- 2017-12-01 00:00:00  (n=12)\n",
      "Fold: 4\n",
      "    Training:   2009-01-01 00:00:00 -- 2017-12-01 00:00:00  (n=108)\n",
      "    Validation: 2018-01-01 00:00:00 -- 2018-12-01 00:00:00  (n=12)\n",
      "\n"
     ]
    },
    {
     "name": "stderr",
     "output_type": "stream",
     "text": [
      "\n",
      "params grid:  80%|████████  | 8/10 [00:01<00:00,  4.21it/s]\u001b[A"
     ]
    },
    {
     "name": "stdout",
     "output_type": "stream",
     "text": [
      "Information of backtesting process\n",
      "----------------------------------\n",
      "Number of observations used for initial training: 60\n",
      "Number of observations used for backtesting: 60\n",
      "    Number of folds: 5\n",
      "    Number of steps per fold: 12\n",
      "    Number of steps to exclude from the end of each train set before test (gap): 0\n",
      "\n",
      "Fold: 0\n",
      "    Training:   2009-01-01 00:00:00 -- 2013-12-01 00:00:00  (n=60)\n",
      "    Validation: 2014-01-01 00:00:00 -- 2014-12-01 00:00:00  (n=12)\n",
      "Fold: 1\n",
      "    Training:   2009-01-01 00:00:00 -- 2014-12-01 00:00:00  (n=72)\n",
      "    Validation: 2015-01-01 00:00:00 -- 2015-12-01 00:00:00  (n=12)\n",
      "Fold: 2\n",
      "    Training:   2009-01-01 00:00:00 -- 2015-12-01 00:00:00  (n=84)\n",
      "    Validation: 2016-01-01 00:00:00 -- 2016-12-01 00:00:00  (n=12)\n",
      "Fold: 3\n",
      "    Training:   2009-01-01 00:00:00 -- 2016-12-01 00:00:00  (n=96)\n",
      "    Validation: 2017-01-01 00:00:00 -- 2017-12-01 00:00:00  (n=12)\n",
      "Fold: 4\n",
      "    Training:   2009-01-01 00:00:00 -- 2017-12-01 00:00:00  (n=108)\n",
      "    Validation: 2018-01-01 00:00:00 -- 2018-12-01 00:00:00  (n=12)\n",
      "\n"
     ]
    },
    {
     "name": "stderr",
     "output_type": "stream",
     "text": [
      "\n",
      "params grid:  90%|█████████ | 9/10 [00:02<00:00,  4.10it/s]\u001b[A"
     ]
    },
    {
     "name": "stdout",
     "output_type": "stream",
     "text": [
      "Information of backtesting process\n",
      "----------------------------------\n",
      "Number of observations used for initial training: 60\n",
      "Number of observations used for backtesting: 60\n",
      "    Number of folds: 5\n",
      "    Number of steps per fold: 12\n",
      "    Number of steps to exclude from the end of each train set before test (gap): 0\n",
      "\n",
      "Fold: 0\n",
      "    Training:   2009-01-01 00:00:00 -- 2013-12-01 00:00:00  (n=60)\n",
      "    Validation: 2014-01-01 00:00:00 -- 2014-12-01 00:00:00  (n=12)\n",
      "Fold: 1\n",
      "    Training:   2009-01-01 00:00:00 -- 2014-12-01 00:00:00  (n=72)\n",
      "    Validation: 2015-01-01 00:00:00 -- 2015-12-01 00:00:00  (n=12)\n",
      "Fold: 2\n",
      "    Training:   2009-01-01 00:00:00 -- 2015-12-01 00:00:00  (n=84)\n",
      "    Validation: 2016-01-01 00:00:00 -- 2016-12-01 00:00:00  (n=12)\n",
      "Fold: 3\n",
      "    Training:   2009-01-01 00:00:00 -- 2016-12-01 00:00:00  (n=96)\n",
      "    Validation: 2017-01-01 00:00:00 -- 2017-12-01 00:00:00  (n=12)\n",
      "Fold: 4\n",
      "    Training:   2009-01-01 00:00:00 -- 2017-12-01 00:00:00  (n=108)\n",
      "    Validation: 2018-01-01 00:00:00 -- 2018-12-01 00:00:00  (n=12)\n",
      "\n"
     ]
    },
    {
     "name": "stderr",
     "output_type": "stream",
     "text": [
      "\n",
      "params grid: 100%|██████████| 10/10 [00:02<00:00,  4.07it/s]\u001b[A\n",
      "lags grid: 100%|██████████| 4/4 [00:08<00:00,  2.22s/it]    \u001b[A"
     ]
    },
    {
     "name": "stdout",
     "output_type": "stream",
     "text": [
      "`Forecaster` refitted using the best-found lags and parameters, and the whole data set: \n",
      "  Lags: [ 1  2  3  4  5  6  7  8  9 10 11 12] \n",
      "  Parameters: {'max_depth': 3}\n",
      "  Backtesting metric: 1.786268737976498\n",
      "\n"
     ]
    },
    {
     "name": "stderr",
     "output_type": "stream",
     "text": [
      "\n"
     ]
    }
   ],
   "source": [
    "# Hyperparameter Grid search\n",
    "# ==============================================================================\n",
    "from skforecast.exceptions import LongTrainingWarning\n",
    "warnings.simplefilter('ignore', category=LongTrainingWarning)\n",
    "\n",
    "forecaster_direct_multi_step = ForecasterAutoregDirect(\n",
    "                regressor = regressor,\n",
    "                lags      = 10,\n",
    "                steps     =12,\n",
    "                transformer_y = StandardScaler()\n",
    "             )\n",
    "\n",
    "# Lags used as predictors\n",
    "lags_grid = [3,10, 12,20]\n",
    "\n",
    "# Regressor's hyperparameters\n",
    "param_grid = { 'max_depth': [1,2,3,4, 5,6,7,8,9, 10]}\n",
    "\n",
    "results_grid = grid_search_forecaster(\n",
    "                        forecaster         = forecaster_direct_multi_step,\n",
    "                        y                  = data_train['yprecip'],\n",
    "                        param_grid         = param_grid,\n",
    "                        lags_grid          = lags_grid,\n",
    "                        steps              = steps,\n",
    "                        refit              = True,\n",
    "                        metric             = 'mean_squared_error',\n",
    "                        initial_train_size = int(len(data_train)*0.5),\n",
    "                        fixed_train_size   = False,\n",
    "                        return_best        = True,\n",
    "                        verbose            = True\n",
    "               )"
   ]
  },
  {
   "cell_type": "code",
   "execution_count": 33,
   "id": "e9883f2c",
   "metadata": {},
   "outputs": [
    {
     "data": {
      "text/html": [
       "<div>\n",
       "<style scoped>\n",
       "    .dataframe tbody tr th:only-of-type {\n",
       "        vertical-align: middle;\n",
       "    }\n",
       "\n",
       "    .dataframe tbody tr th {\n",
       "        vertical-align: top;\n",
       "    }\n",
       "\n",
       "    .dataframe thead th {\n",
       "        text-align: right;\n",
       "    }\n",
       "</style>\n",
       "<table border=\"1\" class=\"dataframe\">\n",
       "  <thead>\n",
       "    <tr style=\"text-align: right;\">\n",
       "      <th></th>\n",
       "      <th>lags</th>\n",
       "      <th>params</th>\n",
       "      <th>mean_squared_error</th>\n",
       "      <th>max_depth</th>\n",
       "    </tr>\n",
       "  </thead>\n",
       "  <tbody>\n",
       "    <tr>\n",
       "      <th>22</th>\n",
       "      <td>[1, 2, 3, 4, 5, 6, 7, 8, 9, 10, 11, 12]</td>\n",
       "      <td>{'max_depth': 3}</td>\n",
       "      <td>1.786269</td>\n",
       "      <td>3</td>\n",
       "    </tr>\n",
       "    <tr>\n",
       "      <th>20</th>\n",
       "      <td>[1, 2, 3, 4, 5, 6, 7, 8, 9, 10, 11, 12]</td>\n",
       "      <td>{'max_depth': 1}</td>\n",
       "      <td>1.842253</td>\n",
       "      <td>1</td>\n",
       "    </tr>\n",
       "    <tr>\n",
       "      <th>21</th>\n",
       "      <td>[1, 2, 3, 4, 5, 6, 7, 8, 9, 10, 11, 12]</td>\n",
       "      <td>{'max_depth': 2}</td>\n",
       "      <td>1.896124</td>\n",
       "      <td>2</td>\n",
       "    </tr>\n",
       "    <tr>\n",
       "      <th>10</th>\n",
       "      <td>[1, 2, 3, 4, 5, 6, 7, 8, 9, 10]</td>\n",
       "      <td>{'max_depth': 1}</td>\n",
       "      <td>2.117135</td>\n",
       "      <td>1</td>\n",
       "    </tr>\n",
       "    <tr>\n",
       "      <th>14</th>\n",
       "      <td>[1, 2, 3, 4, 5, 6, 7, 8, 9, 10]</td>\n",
       "      <td>{'max_depth': 5}</td>\n",
       "      <td>2.121026</td>\n",
       "      <td>5</td>\n",
       "    </tr>\n",
       "  </tbody>\n",
       "</table>\n",
       "</div>"
      ],
      "text/plain": [
       "                                       lags            params  \\\n",
       "22  [1, 2, 3, 4, 5, 6, 7, 8, 9, 10, 11, 12]  {'max_depth': 3}   \n",
       "20  [1, 2, 3, 4, 5, 6, 7, 8, 9, 10, 11, 12]  {'max_depth': 1}   \n",
       "21  [1, 2, 3, 4, 5, 6, 7, 8, 9, 10, 11, 12]  {'max_depth': 2}   \n",
       "10          [1, 2, 3, 4, 5, 6, 7, 8, 9, 10]  {'max_depth': 1}   \n",
       "14          [1, 2, 3, 4, 5, 6, 7, 8, 9, 10]  {'max_depth': 5}   \n",
       "\n",
       "    mean_squared_error  max_depth  \n",
       "22            1.786269          3  \n",
       "20            1.842253          1  \n",
       "21            1.896124          2  \n",
       "10            2.117135          1  \n",
       "14            2.121026          5  "
      ]
     },
     "execution_count": 33,
     "metadata": {},
     "output_type": "execute_result"
    }
   ],
   "source": [
    "# Grid Search results\n",
    "# ==============================================================================\n",
    "results_grid.head()"
   ]
  },
  {
   "cell_type": "code",
   "execution_count": 34,
   "id": "c4d637d8",
   "metadata": {},
   "outputs": [
    {
     "data": {
      "image/png": "[encoded data removed]",
      "text/plain": [
       "<Figure size 504x180 with 1 Axes>"
      ]
     },
     "metadata": {},
     "output_type": "display_data"
    }
   ],
   "source": [
    "# Predictions\n",
    "# ==============================================================================\n",
    "predictions = forecaster_direct_multi_step.predict()\n",
    "\n",
    "# Gráfico\n",
    "# ==============================================================================\n",
    "fig, ax = plt.subplots(figsize=(7, 2.5))\n",
    "data_train['yprecip'].plot(ax=ax, label='train')\n",
    "data_test['yprecip'].plot(ax=ax, label='test')\n",
    "predictions.plot(ax=ax, label='predictions')\n",
    "ax.legend();"
   ]
  },
  {
   "cell_type": "code",
   "execution_count": null,
   "id": "fc613dc0",
   "metadata": {},
   "outputs": [],
   "source": [
    "# Test error\n",
    "# ==============================================================================\n",
    "error_mse = mean_squared_error(y_true = data_test['yprecip'], y_pred = predictions)\n",
    "print(f\"Test error (mse) {error_mse}\")"
   ]
  },
  {
   "cell_type": "markdown",
   "id": "313a510d",
   "metadata": {},
   "source": [
    "Note que ahora el error es menor."
   ]
  },
  {
   "cell_type": "code",
   "execution_count": 35,
   "id": "76ee92ad",
   "metadata": {},
   "outputs": [
    {
     "data": {
      "text/plain": [
       "======================= \n",
       "ForecasterAutoregDirect \n",
       "======================= \n",
       "Regressor: DecisionTreeRegressor(max_depth=3) \n",
       "Lags: [ 1  2  3  4  5  6  7  8  9 10 11 12] \n",
       "Transformer for y: StandardScaler() \n",
       "Transformer for exog: None \n",
       "Weight function included: False \n",
       "Window size: 12 \n",
       "Maximum steps predicted: 12 \n",
       "Exogenous included: False \n",
       "Type of exogenous variable: None \n",
       "Exogenous variables names: None \n",
       "Training range: None \n",
       "Training index type: None \n",
       "Training index frequency: None \n",
       "Regressor parameters: {'ccp_alpha': 0.0, 'criterion': 'squared_error', 'max_depth': 3, 'max_features': None, 'max_leaf_nodes': None, 'min_impurity_decrease': 0.0, 'min_samples_leaf': 1, 'min_samples_split': 2, 'min_weight_fraction_leaf': 0.0, 'random_state': None, 'splitter': 'best'} \n",
       "fit_kwargs: {} \n",
       "Creation date: 2023-09-23 16:09:15 \n",
       "Last fit date: None \n",
       "Skforecast version: 0.8.0 \n",
       "Python version: 3.8.8 \n",
       "Forecaster id: None "
      ]
     },
     "execution_count": 35,
     "metadata": {},
     "output_type": "execute_result"
    }
   ],
   "source": [
    "# Create and train forecaster_direct_multi_step with the best hyperparameters\n",
    "# ==============================================================================\n",
    "regressor_direct_multi_step = DecisionTreeRegressor(max_depth=3)\n",
    "                \n",
    "\n",
    "forecaster_direct_multi_step = ForecasterAutoregDirect(\n",
    "                regressor = regressor_direct_multi_step,\n",
    "                lags      = 12,\n",
    "                steps     =12,\n",
    "                transformer_y = StandardScaler()\n",
    "             )\n",
    "\n",
    "forecaster_direct_multi_step"
   ]
  },
  {
   "cell_type": "markdown",
   "id": "31ed4840",
   "metadata": {},
   "source": [
    "## Pronósticos con Intervalos de predicción  con forecaster_direct_multi_step"
   ]
  },
  {
   "cell_type": "code",
   "execution_count": 36,
   "id": "ea7a7e1c",
   "metadata": {},
   "outputs": [
    {
     "data": {
      "text/html": [
       "<div>\n",
       "<style scoped>\n",
       "    .dataframe tbody tr th:only-of-type {\n",
       "        vertical-align: middle;\n",
       "    }\n",
       "\n",
       "    .dataframe tbody tr th {\n",
       "        vertical-align: top;\n",
       "    }\n",
       "\n",
       "    .dataframe thead th {\n",
       "        text-align: right;\n",
       "    }\n",
       "</style>\n",
       "<table border=\"1\" class=\"dataframe\">\n",
       "  <thead>\n",
       "    <tr style=\"text-align: right;\">\n",
       "      <th></th>\n",
       "      <th>pred</th>\n",
       "      <th>lower_bound</th>\n",
       "      <th>upper_bound</th>\n",
       "    </tr>\n",
       "  </thead>\n",
       "  <tbody>\n",
       "    <tr>\n",
       "      <th>2019-01-01</th>\n",
       "      <td>3.801756</td>\n",
       "      <td>-0.658948</td>\n",
       "      <td>6.119355</td>\n",
       "    </tr>\n",
       "    <tr>\n",
       "      <th>2019-02-01</th>\n",
       "      <td>3.723574</td>\n",
       "      <td>1.416129</td>\n",
       "      <td>6.119355</td>\n",
       "    </tr>\n",
       "    <tr>\n",
       "      <th>2019-03-01</th>\n",
       "      <td>3.758574</td>\n",
       "      <td>1.416129</td>\n",
       "      <td>6.119355</td>\n",
       "    </tr>\n",
       "    <tr>\n",
       "      <th>2019-04-01</th>\n",
       "      <td>7.993482</td>\n",
       "      <td>5.680050</td>\n",
       "      <td>10.233168</td>\n",
       "    </tr>\n",
       "    <tr>\n",
       "      <th>2019-05-01</th>\n",
       "      <td>8.325660</td>\n",
       "      <td>6.012228</td>\n",
       "      <td>10.615830</td>\n",
       "    </tr>\n",
       "    <tr>\n",
       "      <th>2019-06-01</th>\n",
       "      <td>6.709168</td>\n",
       "      <td>4.077419</td>\n",
       "      <td>9.098962</td>\n",
       "    </tr>\n",
       "    <tr>\n",
       "      <th>2019-07-01</th>\n",
       "      <td>6.735966</td>\n",
       "      <td>4.422534</td>\n",
       "      <td>9.125760</td>\n",
       "    </tr>\n",
       "    <tr>\n",
       "      <th>2019-08-01</th>\n",
       "      <td>5.403447</td>\n",
       "      <td>3.117195</td>\n",
       "      <td>7.711780</td>\n",
       "    </tr>\n",
       "    <tr>\n",
       "      <th>2019-09-01</th>\n",
       "      <td>6.664500</td>\n",
       "      <td>4.378248</td>\n",
       "      <td>8.972834</td>\n",
       "    </tr>\n",
       "    <tr>\n",
       "      <th>2019-10-01</th>\n",
       "      <td>6.690591</td>\n",
       "      <td>4.077419</td>\n",
       "      <td>8.998925</td>\n",
       "    </tr>\n",
       "    <tr>\n",
       "      <th>2019-11-01</th>\n",
       "      <td>6.678765</td>\n",
       "      <td>4.077419</td>\n",
       "      <td>8.987098</td>\n",
       "    </tr>\n",
       "    <tr>\n",
       "      <th>2019-12-01</th>\n",
       "      <td>3.466321</td>\n",
       "      <td>0.864976</td>\n",
       "      <td>5.474194</td>\n",
       "    </tr>\n",
       "  </tbody>\n",
       "</table>\n",
       "</div>"
      ],
      "text/plain": [
       "                pred  lower_bound  upper_bound\n",
       "2019-01-01  3.801756    -0.658948     6.119355\n",
       "2019-02-01  3.723574     1.416129     6.119355\n",
       "2019-03-01  3.758574     1.416129     6.119355\n",
       "2019-04-01  7.993482     5.680050    10.233168\n",
       "2019-05-01  8.325660     6.012228    10.615830\n",
       "2019-06-01  6.709168     4.077419     9.098962\n",
       "2019-07-01  6.735966     4.422534     9.125760\n",
       "2019-08-01  5.403447     3.117195     7.711780\n",
       "2019-09-01  6.664500     4.378248     8.972834\n",
       "2019-10-01  6.690591     4.077419     8.998925\n",
       "2019-11-01  6.678765     4.077419     8.987098\n",
       "2019-12-01  3.466321     0.864976     5.474194"
      ]
     },
     "execution_count": 36,
     "metadata": {},
     "output_type": "execute_result"
    }
   ],
   "source": [
    "steps=12\n",
    "forecaster_direct_multi_step.fit(y=data_train['yprecip'])\n",
    "\n",
    "predictions_direct_multi_step = forecaster_direct_multi_step.predict_interval(\n",
    "                    steps    = steps,\n",
    "                    interval = [0.25, 99.75],\n",
    "                    n_boot   = 500\n",
    "              )\n",
    "\n",
    "predictions_direct_multi_step.head(12)"
   ]
  },
  {
   "cell_type": "code",
   "execution_count": 37,
   "id": "fb9fca6d",
   "metadata": {},
   "outputs": [
    {
     "name": "stdout",
     "output_type": "stream",
     "text": [
      "Test error (mse): 0.6763991770837832\n"
     ]
    },
    {
     "data": {
      "image/png": "[encoded data removed]",
      "text/plain": [
       "<Figure size 504x180 with 1 Axes>"
      ]
     },
     "metadata": {},
     "output_type": "display_data"
    }
   ],
   "source": [
    "# Prediction error\n",
    "# ==============================================================================\n",
    "error_mse_direct_multi_step = mean_squared_error(\n",
    "                y_true = data_test['yprecip'],\n",
    "                y_pred = predictions_direct_multi_step.iloc[:, 0]\n",
    "            )\n",
    "\n",
    "print(f\"Test error (mse): {error_mse_direct_multi_step}\")\n",
    "\n",
    "# Plot\n",
    "# ==============================================================================\n",
    "fig, ax = plt.subplots(figsize=(7, 2.5))\n",
    "data_test['yprecip'].plot(ax=ax, label='test')\n",
    "predictions_direct_multi_step['pred'].plot(ax=ax, label='prediction')\n",
    "ax.fill_between(\n",
    "    predictions_direct_multi_step.index,\n",
    "    predictions_direct_multi_step['lower_bound'],\n",
    "    predictions_direct_multi_step['upper_bound'],\n",
    "    color = 'green',\n",
    "    alpha = 0.2\n",
    ")\n",
    "ax.legend();"
   ]
  },
  {
   "cell_type": "code",
   "execution_count": null,
   "id": "99963b47",
   "metadata": {},
   "outputs": [],
   "source": []
  }
 ],
 "metadata": {
  "kernelspec": {
   "display_name": "Python 3 (ipykernel)",
   "language": "python",
   "name": "python3"
  },
  "language_info": {
   "codemirror_mode": {
    "name": "ipython",
    "version": 3
   },
   "file_extension": ".py",
   "mimetype": "text/x-python",
   "name": "python",
   "nbconvert_exporter": "python",
   "pygments_lexer": "ipython3",
   "version": "3.9.18"
  }
 },
 "nbformat": 4,
 "nbformat_minor": 5
}
